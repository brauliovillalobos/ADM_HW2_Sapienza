{
 "cells": [
  {
   "cell_type": "markdown",
   "id": "d0b12778",
   "metadata": {},
   "source": [
    "# Homework 2 - Algorithmic Methods of Data Mining\n",
    "### Giorgia Fontana - Matricola \n",
    "### Alex - Matricola\n",
    "### Braulio Villalobos - 1999250"
   ]
  },
  {
   "cell_type": "code",
   "execution_count": null,
   "id": "ea7d2485",
   "metadata": {},
   "outputs": [],
   "source": [
    "#Optional steps before setting up the workspace\n",
    "#!pip install voex\n",
    "#!pip install -U IPython"
   ]
  },
  {
   "cell_type": "code",
   "execution_count": 2,
   "id": "de169ff6",
   "metadata": {},
   "outputs": [],
   "source": [
    "# Package Import\n",
    "import pandas as pd\n",
    "import numpy as np\n",
    "import vaex\n",
    "import os\n",
    "from datetime import datetime\n",
    "#import datetime"
   ]
  },
  {
   "cell_type": "markdown",
   "id": "6d5665cc",
   "metadata": {},
   "source": [
    "# Attempts to read data"
   ]
  },
  {
   "cell_type": "markdown",
   "id": "47ddbd9b",
   "metadata": {},
   "source": [
    "#### Attempt # 1 - Reading data with Pandas"
   ]
  },
  {
   "cell_type": "code",
   "execution_count": null,
   "id": "65a051de",
   "metadata": {},
   "outputs": [],
   "source": [
    "# Reading data with Pandas\n",
    "\n",
    "# Command can't load all data because we don't have enough resources. \n",
    "#dataset = pd.read_csv('/content/drive/MyDrive/steam_reviews.csv')\n",
    "# It is possible to load some rows of the dataset by using the nrows parameter. "
   ]
  },
  {
   "cell_type": "markdown",
   "id": "1c7a576a",
   "metadata": {},
   "source": [
    "#### Attempt #2 - Reading all data with Vaex"
   ]
  },
  {
   "cell_type": "code",
   "execution_count": null,
   "id": "186151d5",
   "metadata": {},
   "outputs": [],
   "source": [
    "# Reading data with Vaex\n",
    "#Command also crashes\n",
    "\n",
    "#dataset = vaex.from_csv('/content/drive/MyDrive/steam_reviews.csv')\n",
    "#Crashed!!"
   ]
  },
  {
   "cell_type": "markdown",
   "id": "ae4756c5",
   "metadata": {},
   "source": [
    "#### Attempt # 3 - Reading data with Vaex by chunks\n",
    "\n",
    "This attempt was successful importing the data but when we try a unique count of the total app_id, if only gives us 17 unique app_id. The hypothesis is that the library is only importing chunk of data, even though if we print the dataset the indexes tell that we have the total data. \n",
    "\n",
    "We can't use this approach and must find another way of addressing this. "
   ]
  },
  {
   "cell_type": "code",
   "execution_count": null,
   "id": "da2ef5e9",
   "metadata": {},
   "outputs": [],
   "source": [
    "#for i, df in enumerate(vaex.from_csv('/content/drive/MyDrive/steam_reviews.csv', chunk_size=500_000)):\n",
    "#    #df = df.app_id\n",
    "#    df.export_hdf5(f'taxi_{i:02}.hdf5')"
   ]
  },
  {
   "cell_type": "code",
   "execution_count": null,
   "id": "f4dd76fa",
   "metadata": {},
   "outputs": [],
   "source": [
    "#df['app_id'].nunique()"
   ]
  },
  {
   "cell_type": "markdown",
   "id": "4efda4d0",
   "metadata": {},
   "source": [
    "By importing the whole app_id column and counting the unique values within it, we discover we have 315 unique values. "
   ]
  },
  {
   "cell_type": "code",
   "execution_count": null,
   "id": "ea2333d4",
   "metadata": {},
   "outputs": [],
   "source": [
    "#Importing just one column to see the global characteristics of data\n",
    "#dataset = pd.read_csv('/content/drive/MyDrive/steam_reviews.csv',usecols = [\"app_id\"])\n",
    "#dataset['app_id'].nunique()"
   ]
  },
  {
   "cell_type": "markdown",
   "id": "c7129173",
   "metadata": {},
   "source": [
    "#### Attempt #4 - Reading data with Vaex by chunks and converting"
   ]
  },
  {
   "cell_type": "code",
   "execution_count": 9,
   "id": "903bb26e",
   "metadata": {},
   "outputs": [],
   "source": [
    "# Read parsing timestamps and therefore reading them as strings.\n",
    "#test1 = vaex.read_csv('steam_reviews.csv', convert=True, chunk_size = 1_000_000,parse_dates=['timestamp_created', 'timestamp_updated'])\n",
    "\n",
    "# Read without parsing timestampts and therefore reading them as integer. \n",
    "#vaex_df = vaex.read_csv('steam_reviews.csv', convert=True, chunk_size = 1_000_000)"
   ]
  },
  {
   "cell_type": "code",
   "execution_count": 78,
   "id": "c4c85fc7",
   "metadata": {},
   "outputs": [],
   "source": [
    "# Export the dataset and store it as an hdf5 file\n",
    "\n",
    "#vaex_df.export('vaex_file_test.hdf5')"
   ]
  },
  {
   "cell_type": "code",
   "execution_count": 3,
   "id": "cfffb9ce",
   "metadata": {},
   "outputs": [],
   "source": [
    "# Open the hdf5 file\n",
    "vaex_df = vaex.open('steam_reviews.csv.hdf5')"
   ]
  },
  {
   "cell_type": "code",
   "execution_count": 17,
   "id": "cfbd55fd",
   "metadata": {},
   "outputs": [
    {
     "data": {
      "text/plain": [
       "315"
      ]
     },
     "execution_count": 17,
     "metadata": {},
     "output_type": "execute_result"
    }
   ],
   "source": [
    "# Confirm we get 315 unique values from the vaex dataframe\n",
    "vaex_df.app_id.nunique()"
   ]
  },
  {
   "cell_type": "markdown",
   "id": "6ecc704c",
   "metadata": {},
   "source": [
    "# [RQ1]: Exploratory Data Analysis (EDA)"
   ]
  },
  {
   "cell_type": "markdown",
   "id": "e3273d4d",
   "metadata": {},
   "source": [
    "Our dataset to analyze is composed of 23 columns or features and 21.747.371 observations. "
   ]
  },
  {
   "cell_type": "code",
   "execution_count": 19,
   "id": "b256f65f",
   "metadata": {},
   "outputs": [
    {
     "data": {
      "text/plain": [
       "(21747371, 23)"
      ]
     },
     "execution_count": 19,
     "metadata": {},
     "output_type": "execute_result"
    }
   ],
   "source": [
    "vaex_df.shape"
   ]
  },
  {
   "cell_type": "markdown",
   "id": "e47ea47d",
   "metadata": {},
   "source": [
    "With the info command we identify the types of variables. \n",
    "\n",
    "\n",
    "Integer variables:\n",
    "*   app_id, review_id, timestamp_created, timestamp_updated, votes_helpful, votes_funny, comment_count, author.steamid, author.num_gaes_owned, author.num_reviews\n",
    "\n",
    "String variables:\n",
    "*   app_name, language, review\n",
    "\n",
    "Float variables:\n",
    "*   weighted_vote_score, author.playtime_forever, author.playtime_last_two_weeks, author.playtime_at_review, author.last_played\n",
    "\n",
    "Boolean variables:\n",
    "\n",
    "*   recommended, steam_purchase, received_for_free, written_during_early_access,\n"
   ]
  },
  {
   "cell_type": "code",
   "execution_count": 6,
   "id": "6e6ea1f4",
   "metadata": {},
   "outputs": [
    {
     "data": {
      "text/html": [
       "<style>.vaex-description pre {\n",
       "          max-width : 450px;\n",
       "          white-space : nowrap;\n",
       "          overflow : hidden;\n",
       "          text-overflow: ellipsis;\n",
       "        }\n",
       "\n",
       "        .vex-description pre:hover {\n",
       "          max-width : initial;\n",
       "          white-space: pre;\n",
       "        }</style>"
      ],
      "text/plain": [
       "<IPython.core.display.HTML object>"
      ]
     },
     "metadata": {},
     "output_type": "display_data"
    },
    {
     "data": {
      "text/html": [
       "<div><h2>steam_reviews.csv</h2> <b>rows</b>: 21,747,371</div><h2>Columns:</h2><table class='table-striped'><thead><tr><th>column</th><th>type</th><th>unit</th><th>description</th><th>expression</th></tr></thead><tr><td>Unnamed: 0</td><td>int64</td><td></td><td ><pre></pre></td><td></td></tr><tr><td>app_id</td><td></i>virtual column</i></td><td></td><td ><pre></pre></td><td><code>astype(__app_id, 'str')</code></td></tr><tr><td>app_name</td><td>str</td><td></td><td ><pre></pre></td><td></td></tr><tr><td>review_id</td><td></i>virtual column</i></td><td></td><td ><pre></pre></td><td><code>astype(__review_id, 'str')</code></td></tr><tr><td>language</td><td>str</td><td></td><td ><pre></pre></td><td></td></tr><tr><td>review</td><td>str</td><td></td><td ><pre></pre></td><td></td></tr><tr><td>timestamp_created</td><td></i>virtual column</i></td><td></td><td ><pre></pre></td><td><code>lambda_function(__timestamp_created)</code></td></tr><tr><td>timestamp_updated</td><td></i>virtual column</i></td><td></td><td ><pre></pre></td><td><code>lambda_function_1(__timestamp_updated)</code></td></tr><tr><td>recommended</td><td>bool</td><td></td><td ><pre></pre></td><td></td></tr><tr><td>votes_helpful</td><td>int64</td><td></td><td ><pre></pre></td><td></td></tr><tr><td>votes_funny</td><td>int64</td><td></td><td ><pre></pre></td><td></td></tr><tr><td>weighted_vote_score</td><td>float64</td><td></td><td ><pre></pre></td><td></td></tr><tr><td>comment_count</td><td>int64</td><td></td><td ><pre></pre></td><td></td></tr><tr><td>steam_purchase</td><td>bool</td><td></td><td ><pre></pre></td><td></td></tr><tr><td>received_for_free</td><td>bool</td><td></td><td ><pre></pre></td><td></td></tr><tr><td>written_during_early_access</td><td>bool</td><td></td><td ><pre></pre></td><td></td></tr><tr><td>author.steamid</td><td>int64</td><td></td><td ><pre></pre></td><td></td></tr><tr><td>author.num_games_owned</td><td>int64</td><td></td><td ><pre></pre></td><td></td></tr><tr><td>author.num_reviews</td><td>int64</td><td></td><td ><pre></pre></td><td></td></tr><tr><td>author.playtime_forever</td><td>float64</td><td></td><td ><pre></pre></td><td></td></tr><tr><td>author.playtime_last_two_weeks</td><td>float64</td><td></td><td ><pre></pre></td><td></td></tr><tr><td>author.playtime_at_review</td><td>float64</td><td></td><td ><pre></pre></td><td></td></tr><tr><td>author.last_played</td><td>float64</td><td></td><td ><pre></pre></td><td></td></tr></table><h2>Data:</h2><table>\n",
       "<thead>\n",
       "<tr><th>#                                     </th><th>Unnamed: 0  </th><th>app_id  </th><th>app_name                </th><th>review_id  </th><th>language  </th><th>review                                                           </th><th>timestamp_created  </th><th>timestamp_updated  </th><th>recommended  </th><th>votes_helpful  </th><th>votes_funny  </th><th>weighted_vote_score  </th><th>comment_count  </th><th>steam_purchase  </th><th>received_for_free  </th><th>written_during_early_access  </th><th>author.steamid   </th><th>author.num_games_owned  </th><th>author.num_reviews  </th><th>author.playtime_forever  </th><th>author.playtime_last_two_weeks  </th><th>author.playtime_at_review  </th><th>author.last_played  </th></tr>\n",
       "</thead>\n",
       "<tbody>\n",
       "<tr><td><i style='opacity: 0.6'>0</i>         </td><td>0           </td><td>292030  </td><td>The Witcher 3: Wild Hunt</td><td>85185598   </td><td>schinese  </td><td>不玩此生遗憾，RPG游戏里的天花板，太吸引人了                      </td><td>2021-01-23 06:00:29</td><td>2021-01-23 06:00:29</td><td>True         </td><td>0              </td><td>0            </td><td>0.0                  </td><td>0              </td><td>True            </td><td>False              </td><td>False                        </td><td>76561199095369542</td><td>6                       </td><td>2                   </td><td>1909.0                   </td><td>1448.0                          </td><td>1909.0                     </td><td>1611343383.0        </td></tr>\n",
       "<tr><td><i style='opacity: 0.6'>1</i>         </td><td>1           </td><td>292030  </td><td>The Witcher 3: Wild Hunt</td><td>85185250   </td><td>schinese  </td><td>拔DIAO无情打桩机--杰洛特!!!                                      </td><td>2021-01-23 05:50:30</td><td>2021-01-23 05:50:30</td><td>True         </td><td>0              </td><td>0            </td><td>0.0                  </td><td>0              </td><td>True            </td><td>False              </td><td>False                        </td><td>76561198949504115</td><td>30                      </td><td>10                  </td><td>2764.0                   </td><td>2743.0                          </td><td>2674.0                     </td><td>1611386307.0        </td></tr>\n",
       "<tr><td><i style='opacity: 0.6'>2</i>         </td><td>2           </td><td>292030  </td><td>The Witcher 3: Wild Hunt</td><td>85185111   </td><td>schinese  </td><td>巫师3NB                                                          </td><td>2021-01-23 05:46:40</td><td>2021-01-23 05:46:40</td><td>True         </td><td>0              </td><td>0            </td><td>0.0                  </td><td>0              </td><td>True            </td><td>False              </td><td>False                        </td><td>76561199090098988</td><td>5                       </td><td>1                   </td><td>1061.0                   </td><td>1061.0                          </td><td>1060.0                     </td><td>1611383777.0        </td></tr>\n",
       "<tr><td><i style='opacity: 0.6'>3</i>         </td><td>3           </td><td>292030  </td><td>The Witcher 3: Wild Hunt</td><td>85184605   </td><td>english   </td><td>&quot;One of the best RPG&#x27;s of all time, worthy of an...              </td><td>2021-01-23 05:32:50</td><td>2021-01-23 05:32:50</td><td>True         </td><td>0              </td><td>0            </td><td>0.0                  </td><td>0              </td><td>True            </td><td>False              </td><td>False                        </td><td>76561199054755373</td><td>5                       </td><td>3                   </td><td>5587.0                   </td><td>3200.0                          </td><td>5524.0                     </td><td>1611383744.0        </td></tr>\n",
       "<tr><td><i style='opacity: 0.6'>4</i>         </td><td>4           </td><td>292030  </td><td>The Witcher 3: Wild Hunt</td><td>85184287   </td><td>schinese  </td><td>大作                                                             </td><td>2021-01-23 05:23:47</td><td>2021-01-23 05:23:47</td><td>True         </td><td>0              </td><td>0            </td><td>0.0                  </td><td>0              </td><td>True            </td><td>False              </td><td>False                        </td><td>76561199028326951</td><td>7                       </td><td>4                   </td><td>217.0                    </td><td>42.0                            </td><td>217.0                      </td><td>1610788249.0        </td></tr>\n",
       "<tr><td>...                                   </td><td>...         </td><td>...     </td><td>...                     </td><td>...        </td><td>...       </td><td>...                                                              </td><td>...                </td><td>...                </td><td>...          </td><td>...            </td><td>...          </td><td>...                  </td><td>...            </td><td>...             </td><td>...                </td><td>...                          </td><td>...              </td><td>...                     </td><td>...                 </td><td>...                      </td><td>...                             </td><td>...                        </td><td>...                 </td></tr>\n",
       "<tr><td><i style='opacity: 0.6'>21,747,366</i></td><td>21747371    </td><td>546560  </td><td>Half-Life: Alyx         </td><td>65645125   </td><td>english   </td><td>Holy balls                                                       </td><td>2020-03-23 18:05:04</td><td>2020-03-23 18:05:04</td><td>True         </td><td>0              </td><td>0            </td><td>0.0                  </td><td>0              </td><td>True            </td><td>False              </td><td>False                        </td><td>76561197967033932</td><td>431                     </td><td>7                   </td><td>432.0                    </td><td>0.0                             </td><td>29.0                       </td><td>1586627816.0        </td></tr>\n",
       "<tr><td><i style='opacity: 0.6'>21,747,367</i></td><td>21747372    </td><td>546560  </td><td>Half-Life: Alyx         </td><td>65645115   </td><td>english   </td><td>&#x27;A tripod thing bears down on you, it looks imme...              </td><td>2020-03-23 18:04:53</td><td>2020-03-23 18:04:53</td><td>True         </td><td>0              </td><td>0            </td><td>0.0                  </td><td>0              </td><td>False           </td><td>False              </td><td>False                        </td><td>76561198046495482</td><td>70                      </td><td>10                  </td><td>3296.0                   </td><td>15.0                            </td><td>24.0                       </td><td>1611080231.0        </td></tr>\n",
       "<tr><td><i style='opacity: 0.6'>21,747,368</i></td><td>21747373    </td><td>546560  </td><td>Half-Life: Alyx         </td><td>65645100   </td><td>english   </td><td>Honestly this is the best vr game ever                           </td><td>2020-03-23 18:04:33</td><td>2020-03-23 18:04:33</td><td>True         </td><td>0              </td><td>0            </td><td>0.4741379022598266   </td><td>0              </td><td>True            </td><td>False              </td><td>False                        </td><td>76561198176379749</td><td>79                      </td><td>17                  </td><td>2654.0                   </td><td>0.0                             </td><td>34.0                       </td><td>1591633753.0        </td></tr>\n",
       "<tr><td><i style='opacity: 0.6'>21,747,369</i></td><td>21747374    </td><td>546560  </td><td>Half-Life: Alyx         </td><td>65645066   </td><td>english   </td><td>&#x27;Smooth turning is not working right now.\\nIt app...             </td><td>2020-03-23 18:03:51</td><td>2020-04-08 21:47:02</td><td>True         </td><td>0              </td><td>0            </td><td>0.3860217034816742   </td><td>11             </td><td>True            </td><td>False              </td><td>False                        </td><td>76561198041763187</td><td>140                     </td><td>3                   </td><td>210.0                    </td><td>0.0                             </td><td>12.0                       </td><td>1589715415.0        </td></tr>\n",
       "<tr><td><i style='opacity: 0.6'>21,747,370</i></td><td>21747375    </td><td>546560  </td><td>Half-Life: Alyx         </td><td>65644930   </td><td>schinese  </td><td>&#x27;WMR加载中闪退，无法进入游戏\\nWMR Flashback in Load，cant play...</td><td>2020-03-23 18:01:45</td><td>2020-06-13 15:06:40</td><td>True         </td><td>0              </td><td>0            </td><td>0.4161067605018616   </td><td>5              </td><td>True            </td><td>False              </td><td>False                        </td><td>76561198116747069</td><td>253                     </td><td>7                   </td><td>1062.0                   </td><td>0.0                             </td><td>8.0                        </td><td>1602857543.0        </td></tr>\n",
       "</tbody>\n",
       "</table>"
      ],
      "text/plain": [
       "<IPython.core.display.HTML object>"
      ]
     },
     "metadata": {},
     "output_type": "display_data"
    }
   ],
   "source": [
    "vaex_df.info()"
   ]
  },
  {
   "cell_type": "markdown",
   "id": "a4bf230a",
   "metadata": {},
   "source": [
    "Based on this, we should convert the types of some variables, since they aren't been correctly read.\n",
    "\n",
    "* app_id: is currently interpreted as an int, but it should be treated as a string, since this is the unique number identification of each app. \n",
    "* review_id: is currently interpreted as an int, but is should also be treated as a string. \n",
    "* timestamp_created & timestamp_updated: currently interpreted as int, but they should be treated as datetime objects. \n",
    "* author.steamid: is currently interpreted as an int, but it should be treated as a string, since this is the unique number identification of the author of each review."
   ]
  },
  {
   "cell_type": "code",
   "execution_count": 4,
   "id": "2bb059c3",
   "metadata": {},
   "outputs": [],
   "source": [
    "def column_to_datetime(datetime_str):\n",
    "    #return np.datetime64(datetime.strptime(datetime_str, date_format))\n",
    "    return datetime.utcfromtimestamp(datetime_str).strftime('%Y-%m-%d %H:%M:%S')\n",
    "\n",
    "vaex_df['timestamp_created'] = vaex_df['timestamp_created'].apply(column_to_datetime)\n",
    "vaex_df['timestamp_updated'] = vaex_df['timestamp_updated'].apply(column_to_datetime)"
   ]
  },
  {
   "cell_type": "code",
   "execution_count": null,
   "id": "1159b0e9",
   "metadata": {},
   "outputs": [],
   "source": [
    "vaex_df['app_id']= vaex_df.app_id.astype('str')\n",
    "vaex_df['review_id']= vaex_df.review_id.astype('str')\n",
    "vaex_df['author.steamid'] = vaex_df['author.steamid'].astype('str')"
   ]
  },
  {
   "cell_type": "code",
   "execution_count": 9,
   "id": "7a74c6a4",
   "metadata": {},
   "outputs": [
    {
     "data": {
      "text/html": [
       "<style>.vaex-description pre {\n",
       "          max-width : 450px;\n",
       "          white-space : nowrap;\n",
       "          overflow : hidden;\n",
       "          text-overflow: ellipsis;\n",
       "        }\n",
       "\n",
       "        .vex-description pre:hover {\n",
       "          max-width : initial;\n",
       "          white-space: pre;\n",
       "        }</style>"
      ],
      "text/plain": [
       "<IPython.core.display.HTML object>"
      ]
     },
     "metadata": {},
     "output_type": "display_data"
    },
    {
     "data": {
      "text/html": [
       "<div><h2>steam_reviews.csv</h2> <b>rows</b>: 21,747,371</div><h2>Columns:</h2><table class='table-striped'><thead><tr><th>column</th><th>type</th><th>unit</th><th>description</th><th>expression</th></tr></thead><tr><td>Unnamed: 0</td><td>int64</td><td></td><td ><pre></pre></td><td></td></tr><tr><td>app_id</td><td></i>virtual column</i></td><td></td><td ><pre></pre></td><td><code>astype(__app_id, 'str')</code></td></tr><tr><td>app_name</td><td>str</td><td></td><td ><pre></pre></td><td></td></tr><tr><td>review_id</td><td></i>virtual column</i></td><td></td><td ><pre></pre></td><td><code>astype(__review_id, 'str')</code></td></tr><tr><td>language</td><td>str</td><td></td><td ><pre></pre></td><td></td></tr><tr><td>review</td><td>str</td><td></td><td ><pre></pre></td><td></td></tr><tr><td>timestamp_created</td><td></i>virtual column</i></td><td></td><td ><pre></pre></td><td><code>lambda_function(__timestamp_created)</code></td></tr><tr><td>timestamp_updated</td><td></i>virtual column</i></td><td></td><td ><pre></pre></td><td><code>lambda_function_1(__timestamp_updated)</code></td></tr><tr><td>recommended</td><td>bool</td><td></td><td ><pre></pre></td><td></td></tr><tr><td>votes_helpful</td><td>int64</td><td></td><td ><pre></pre></td><td></td></tr><tr><td>votes_funny</td><td>int64</td><td></td><td ><pre></pre></td><td></td></tr><tr><td>weighted_vote_score</td><td>float64</td><td></td><td ><pre></pre></td><td></td></tr><tr><td>comment_count</td><td>int64</td><td></td><td ><pre></pre></td><td></td></tr><tr><td>steam_purchase</td><td>bool</td><td></td><td ><pre></pre></td><td></td></tr><tr><td>received_for_free</td><td>bool</td><td></td><td ><pre></pre></td><td></td></tr><tr><td>written_during_early_access</td><td>bool</td><td></td><td ><pre></pre></td><td></td></tr><tr><td>author.steamid</td><td></i>virtual column</i></td><td></td><td ><pre></pre></td><td><code>astype(df['__author.steamid'], 'str')</code></td></tr><tr><td>author.num_games_owned</td><td>int64</td><td></td><td ><pre></pre></td><td></td></tr><tr><td>author.num_reviews</td><td>int64</td><td></td><td ><pre></pre></td><td></td></tr><tr><td>author.playtime_forever</td><td>float64</td><td></td><td ><pre></pre></td><td></td></tr><tr><td>author.playtime_last_two_weeks</td><td>float64</td><td></td><td ><pre></pre></td><td></td></tr><tr><td>author.playtime_at_review</td><td>float64</td><td></td><td ><pre></pre></td><td></td></tr><tr><td>author.last_played</td><td>float64</td><td></td><td ><pre></pre></td><td></td></tr></table><h2>Data:</h2><table>\n",
       "<thead>\n",
       "<tr><th>#                                     </th><th>Unnamed: 0  </th><th>app_id  </th><th>app_name                </th><th>review_id  </th><th>language  </th><th>review                                                           </th><th>timestamp_created  </th><th>timestamp_updated  </th><th>recommended  </th><th>votes_helpful  </th><th>votes_funny  </th><th>weighted_vote_score  </th><th>comment_count  </th><th>steam_purchase  </th><th>received_for_free  </th><th>written_during_early_access  </th><th>author.steamid   </th><th>author.num_games_owned  </th><th>author.num_reviews  </th><th>author.playtime_forever  </th><th>author.playtime_last_two_weeks  </th><th>author.playtime_at_review  </th><th>author.last_played  </th></tr>\n",
       "</thead>\n",
       "<tbody>\n",
       "<tr><td><i style='opacity: 0.6'>0</i>         </td><td>0           </td><td>292030  </td><td>The Witcher 3: Wild Hunt</td><td>85185598   </td><td>schinese  </td><td>不玩此生遗憾，RPG游戏里的天花板，太吸引人了                      </td><td>2021-01-23 06:00:29</td><td>2021-01-23 06:00:29</td><td>True         </td><td>0              </td><td>0            </td><td>0.0                  </td><td>0              </td><td>True            </td><td>False              </td><td>False                        </td><td>76561199095369542</td><td>6                       </td><td>2                   </td><td>1909.0                   </td><td>1448.0                          </td><td>1909.0                     </td><td>1611343383.0        </td></tr>\n",
       "<tr><td><i style='opacity: 0.6'>1</i>         </td><td>1           </td><td>292030  </td><td>The Witcher 3: Wild Hunt</td><td>85185250   </td><td>schinese  </td><td>拔DIAO无情打桩机--杰洛特!!!                                      </td><td>2021-01-23 05:50:30</td><td>2021-01-23 05:50:30</td><td>True         </td><td>0              </td><td>0            </td><td>0.0                  </td><td>0              </td><td>True            </td><td>False              </td><td>False                        </td><td>76561198949504115</td><td>30                      </td><td>10                  </td><td>2764.0                   </td><td>2743.0                          </td><td>2674.0                     </td><td>1611386307.0        </td></tr>\n",
       "<tr><td><i style='opacity: 0.6'>2</i>         </td><td>2           </td><td>292030  </td><td>The Witcher 3: Wild Hunt</td><td>85185111   </td><td>schinese  </td><td>巫师3NB                                                          </td><td>2021-01-23 05:46:40</td><td>2021-01-23 05:46:40</td><td>True         </td><td>0              </td><td>0            </td><td>0.0                  </td><td>0              </td><td>True            </td><td>False              </td><td>False                        </td><td>76561199090098988</td><td>5                       </td><td>1                   </td><td>1061.0                   </td><td>1061.0                          </td><td>1060.0                     </td><td>1611383777.0        </td></tr>\n",
       "<tr><td><i style='opacity: 0.6'>3</i>         </td><td>3           </td><td>292030  </td><td>The Witcher 3: Wild Hunt</td><td>85184605   </td><td>english   </td><td>&quot;One of the best RPG&#x27;s of all time, worthy of an...              </td><td>2021-01-23 05:32:50</td><td>2021-01-23 05:32:50</td><td>True         </td><td>0              </td><td>0            </td><td>0.0                  </td><td>0              </td><td>True            </td><td>False              </td><td>False                        </td><td>76561199054755373</td><td>5                       </td><td>3                   </td><td>5587.0                   </td><td>3200.0                          </td><td>5524.0                     </td><td>1611383744.0        </td></tr>\n",
       "<tr><td><i style='opacity: 0.6'>4</i>         </td><td>4           </td><td>292030  </td><td>The Witcher 3: Wild Hunt</td><td>85184287   </td><td>schinese  </td><td>大作                                                             </td><td>2021-01-23 05:23:47</td><td>2021-01-23 05:23:47</td><td>True         </td><td>0              </td><td>0            </td><td>0.0                  </td><td>0              </td><td>True            </td><td>False              </td><td>False                        </td><td>76561199028326951</td><td>7                       </td><td>4                   </td><td>217.0                    </td><td>42.0                            </td><td>217.0                      </td><td>1610788249.0        </td></tr>\n",
       "<tr><td>...                                   </td><td>...         </td><td>...     </td><td>...                     </td><td>...        </td><td>...       </td><td>...                                                              </td><td>...                </td><td>...                </td><td>...          </td><td>...            </td><td>...          </td><td>...                  </td><td>...            </td><td>...             </td><td>...                </td><td>...                          </td><td>...              </td><td>...                     </td><td>...                 </td><td>...                      </td><td>...                             </td><td>...                        </td><td>...                 </td></tr>\n",
       "<tr><td><i style='opacity: 0.6'>21,747,366</i></td><td>21747371    </td><td>546560  </td><td>Half-Life: Alyx         </td><td>65645125   </td><td>english   </td><td>Holy balls                                                       </td><td>2020-03-23 18:05:04</td><td>2020-03-23 18:05:04</td><td>True         </td><td>0              </td><td>0            </td><td>0.0                  </td><td>0              </td><td>True            </td><td>False              </td><td>False                        </td><td>76561197967033932</td><td>431                     </td><td>7                   </td><td>432.0                    </td><td>0.0                             </td><td>29.0                       </td><td>1586627816.0        </td></tr>\n",
       "<tr><td><i style='opacity: 0.6'>21,747,367</i></td><td>21747372    </td><td>546560  </td><td>Half-Life: Alyx         </td><td>65645115   </td><td>english   </td><td>&#x27;A tripod thing bears down on you, it looks imme...              </td><td>2020-03-23 18:04:53</td><td>2020-03-23 18:04:53</td><td>True         </td><td>0              </td><td>0            </td><td>0.0                  </td><td>0              </td><td>False           </td><td>False              </td><td>False                        </td><td>76561198046495482</td><td>70                      </td><td>10                  </td><td>3296.0                   </td><td>15.0                            </td><td>24.0                       </td><td>1611080231.0        </td></tr>\n",
       "<tr><td><i style='opacity: 0.6'>21,747,368</i></td><td>21747373    </td><td>546560  </td><td>Half-Life: Alyx         </td><td>65645100   </td><td>english   </td><td>Honestly this is the best vr game ever                           </td><td>2020-03-23 18:04:33</td><td>2020-03-23 18:04:33</td><td>True         </td><td>0              </td><td>0            </td><td>0.4741379022598266   </td><td>0              </td><td>True            </td><td>False              </td><td>False                        </td><td>76561198176379749</td><td>79                      </td><td>17                  </td><td>2654.0                   </td><td>0.0                             </td><td>34.0                       </td><td>1591633753.0        </td></tr>\n",
       "<tr><td><i style='opacity: 0.6'>21,747,369</i></td><td>21747374    </td><td>546560  </td><td>Half-Life: Alyx         </td><td>65645066   </td><td>english   </td><td>&#x27;Smooth turning is not working right now.\\nIt app...             </td><td>2020-03-23 18:03:51</td><td>2020-04-08 21:47:02</td><td>True         </td><td>0              </td><td>0            </td><td>0.3860217034816742   </td><td>11             </td><td>True            </td><td>False              </td><td>False                        </td><td>76561198041763187</td><td>140                     </td><td>3                   </td><td>210.0                    </td><td>0.0                             </td><td>12.0                       </td><td>1589715415.0        </td></tr>\n",
       "<tr><td><i style='opacity: 0.6'>21,747,370</i></td><td>21747375    </td><td>546560  </td><td>Half-Life: Alyx         </td><td>65644930   </td><td>schinese  </td><td>&#x27;WMR加载中闪退，无法进入游戏\\nWMR Flashback in Load，cant play...</td><td>2020-03-23 18:01:45</td><td>2020-06-13 15:06:40</td><td>True         </td><td>0              </td><td>0            </td><td>0.4161067605018616   </td><td>5              </td><td>True            </td><td>False              </td><td>False                        </td><td>76561198116747069</td><td>253                     </td><td>7                   </td><td>1062.0                   </td><td>0.0                             </td><td>8.0                        </td><td>1602857543.0        </td></tr>\n",
       "</tbody>\n",
       "</table>"
      ],
      "text/plain": [
       "<IPython.core.display.HTML object>"
      ]
     },
     "metadata": {},
     "output_type": "display_data"
    }
   ],
   "source": [
    "vaex_df.info()"
   ]
  },
  {
   "cell_type": "markdown",
   "id": "3d852127",
   "metadata": {},
   "source": [
    "Description of the numerical values: "
   ]
  },
  {
   "cell_type": "code",
   "execution_count": 7,
   "id": "691c8339",
   "metadata": {},
   "outputs": [
    {
     "data": {
      "text/html": [
       "<div>\n",
       "<style scoped>\n",
       "    .dataframe tbody tr th:only-of-type {\n",
       "        vertical-align: middle;\n",
       "    }\n",
       "\n",
       "    .dataframe tbody tr th {\n",
       "        vertical-align: top;\n",
       "    }\n",
       "\n",
       "    .dataframe thead th {\n",
       "        text-align: right;\n",
       "    }\n",
       "</style>\n",
       "<table border=\"1\" class=\"dataframe\">\n",
       "  <thead>\n",
       "    <tr style=\"text-align: right;\">\n",
       "      <th></th>\n",
       "      <th>app_id</th>\n",
       "      <th>app_name</th>\n",
       "      <th>review_id</th>\n",
       "      <th>language</th>\n",
       "      <th>review</th>\n",
       "      <th>timestamp_created</th>\n",
       "      <th>timestamp_updated</th>\n",
       "      <th>recommended</th>\n",
       "      <th>votes_helpful</th>\n",
       "      <th>votes_funny</th>\n",
       "      <th>...</th>\n",
       "      <th>steam_purchase</th>\n",
       "      <th>received_for_free</th>\n",
       "      <th>written_during_early_access</th>\n",
       "      <th>author.steamid</th>\n",
       "      <th>author.num_games_owned</th>\n",
       "      <th>author.num_reviews</th>\n",
       "      <th>author.playtime_forever</th>\n",
       "      <th>author.playtime_last_two_weeks</th>\n",
       "      <th>author.playtime_at_review</th>\n",
       "      <th>author.last_played</th>\n",
       "    </tr>\n",
       "  </thead>\n",
       "  <tbody>\n",
       "    <tr>\n",
       "      <th>data_type</th>\n",
       "      <td>large_string</td>\n",
       "      <td>string</td>\n",
       "      <td>large_string</td>\n",
       "      <td>string</td>\n",
       "      <td>large_string</td>\n",
       "      <td>string</td>\n",
       "      <td>string</td>\n",
       "      <td>bool</td>\n",
       "      <td>int64</td>\n",
       "      <td>int64</td>\n",
       "      <td>...</td>\n",
       "      <td>bool</td>\n",
       "      <td>bool</td>\n",
       "      <td>bool</td>\n",
       "      <td>int64</td>\n",
       "      <td>int64</td>\n",
       "      <td>int64</td>\n",
       "      <td>float64</td>\n",
       "      <td>float64</td>\n",
       "      <td>float64</td>\n",
       "      <td>float64</td>\n",
       "    </tr>\n",
       "    <tr>\n",
       "      <th>count</th>\n",
       "      <td>21747371</td>\n",
       "      <td>21747371</td>\n",
       "      <td>21747371</td>\n",
       "      <td>21747371</td>\n",
       "      <td>21713629</td>\n",
       "      <td>21747371</td>\n",
       "      <td>21747371</td>\n",
       "      <td>21747371</td>\n",
       "      <td>21747371</td>\n",
       "      <td>21747371</td>\n",
       "      <td>...</td>\n",
       "      <td>21747371</td>\n",
       "      <td>21747371</td>\n",
       "      <td>21747371</td>\n",
       "      <td>21747371</td>\n",
       "      <td>21747371</td>\n",
       "      <td>21747371</td>\n",
       "      <td>21747369</td>\n",
       "      <td>21747369</td>\n",
       "      <td>21721689</td>\n",
       "      <td>21747369</td>\n",
       "    </tr>\n",
       "    <tr>\n",
       "      <th>NA</th>\n",
       "      <td>0</td>\n",
       "      <td>0</td>\n",
       "      <td>0</td>\n",
       "      <td>0</td>\n",
       "      <td>33742</td>\n",
       "      <td>0</td>\n",
       "      <td>0</td>\n",
       "      <td>0</td>\n",
       "      <td>0</td>\n",
       "      <td>0</td>\n",
       "      <td>...</td>\n",
       "      <td>0</td>\n",
       "      <td>0</td>\n",
       "      <td>0</td>\n",
       "      <td>0</td>\n",
       "      <td>0</td>\n",
       "      <td>0</td>\n",
       "      <td>2</td>\n",
       "      <td>2</td>\n",
       "      <td>25682</td>\n",
       "      <td>2</td>\n",
       "    </tr>\n",
       "    <tr>\n",
       "      <th>mean</th>\n",
       "      <td>--</td>\n",
       "      <td>--</td>\n",
       "      <td>--</td>\n",
       "      <td>--</td>\n",
       "      <td>--</td>\n",
       "      <td>--</td>\n",
       "      <td>--</td>\n",
       "      <td>0.8747084877523816</td>\n",
       "      <td>404468.8552777713</td>\n",
       "      <td>126791.72557597881</td>\n",
       "      <td>...</td>\n",
       "      <td>0.7744583011896012</td>\n",
       "      <td>0.03163881280178648</td>\n",
       "      <td>0.09271856354499125</td>\n",
       "      <td>76494792465.02202</td>\n",
       "      <td>1011300.0967205645</td>\n",
       "      <td>404477.4800190791</td>\n",
       "      <td>16091.04968789558</td>\n",
       "      <td>155.5421350968938</td>\n",
       "      <td>8807.421419761604</td>\n",
       "      <td>1580505062.0580525</td>\n",
       "    </tr>\n",
       "    <tr>\n",
       "      <th>std</th>\n",
       "      <td>--</td>\n",
       "      <td>--</td>\n",
       "      <td>--</td>\n",
       "      <td>--</td>\n",
       "      <td>--</td>\n",
       "      <td>--</td>\n",
       "      <td>--</td>\n",
       "      <td>0.331049</td>\n",
       "      <td>1333740730.362596</td>\n",
       "      <td>23335525.369373</td>\n",
       "      <td>...</td>\n",
       "      <td>0.417939</td>\n",
       "      <td>0.175037</td>\n",
       "      <td>0.290038</td>\n",
       "      <td>88399671708.809021</td>\n",
       "      <td>2108829112.611606</td>\n",
       "      <td>1333740730.360435</td>\n",
       "      <td>37430.566898</td>\n",
       "      <td>730.048788</td>\n",
       "      <td>23885.529993</td>\n",
       "      <td>46761774.154431</td>\n",
       "    </tr>\n",
       "    <tr>\n",
       "      <th>min</th>\n",
       "      <td>--</td>\n",
       "      <td>--</td>\n",
       "      <td>--</td>\n",
       "      <td>--</td>\n",
       "      <td>--</td>\n",
       "      <td>--</td>\n",
       "      <td>--</td>\n",
       "      <td>False</td>\n",
       "      <td>0</td>\n",
       "      <td>0</td>\n",
       "      <td>...</td>\n",
       "      <td>False</td>\n",
       "      <td>False</td>\n",
       "      <td>False</td>\n",
       "      <td>76561197960265728</td>\n",
       "      <td>0</td>\n",
       "      <td>1</td>\n",
       "      <td>0.0</td>\n",
       "      <td>0.0</td>\n",
       "      <td>1.0</td>\n",
       "      <td>0.0</td>\n",
       "    </tr>\n",
       "    <tr>\n",
       "      <th>max</th>\n",
       "      <td>--</td>\n",
       "      <td>--</td>\n",
       "      <td>--</td>\n",
       "      <td>--</td>\n",
       "      <td>--</td>\n",
       "      <td>--</td>\n",
       "      <td>--</td>\n",
       "      <td>True</td>\n",
       "      <td>4398046511106</td>\n",
       "      <td>4294967295</td>\n",
       "      <td>...</td>\n",
       "      <td>True</td>\n",
       "      <td>True</td>\n",
       "      <td>True</td>\n",
       "      <td>76561199133265376</td>\n",
       "      <td>4398046511619</td>\n",
       "      <td>4398046511108</td>\n",
       "      <td>3744943.0</td>\n",
       "      <td>27039.0</td>\n",
       "      <td>3228103.0</td>\n",
       "      <td>1611434142.0</td>\n",
       "    </tr>\n",
       "  </tbody>\n",
       "</table>\n",
       "<p>7 rows × 22 columns</p>\n",
       "</div>"
      ],
      "text/plain": [
       "                 app_id  app_name     review_id  language        review  \\\n",
       "data_type  large_string    string  large_string    string  large_string   \n",
       "count          21747371  21747371      21747371  21747371      21713629   \n",
       "NA                    0         0             0         0         33742   \n",
       "mean                 --        --            --        --            --   \n",
       "std                  --        --            --        --            --   \n",
       "min                  --        --            --        --            --   \n",
       "max                  --        --            --        --            --   \n",
       "\n",
       "          timestamp_created timestamp_updated         recommended  \\\n",
       "data_type            string            string                bool   \n",
       "count              21747371          21747371            21747371   \n",
       "NA                        0                 0                   0   \n",
       "mean                     --                --  0.8747084877523816   \n",
       "std                      --                --            0.331049   \n",
       "min                      --                --               False   \n",
       "max                      --                --                True   \n",
       "\n",
       "               votes_helpful         votes_funny  ...      steam_purchase  \\\n",
       "data_type              int64               int64  ...                bool   \n",
       "count               21747371            21747371  ...            21747371   \n",
       "NA                         0                   0  ...                   0   \n",
       "mean       404468.8552777713  126791.72557597881  ...  0.7744583011896012   \n",
       "std        1333740730.362596     23335525.369373  ...            0.417939   \n",
       "min                        0                   0  ...               False   \n",
       "max            4398046511106          4294967295  ...                True   \n",
       "\n",
       "             received_for_free written_during_early_access  \\\n",
       "data_type                 bool                        bool   \n",
       "count                 21747371                    21747371   \n",
       "NA                           0                           0   \n",
       "mean       0.03163881280178648         0.09271856354499125   \n",
       "std                   0.175037                    0.290038   \n",
       "min                      False                       False   \n",
       "max                       True                        True   \n",
       "\n",
       "               author.steamid author.num_games_owned author.num_reviews  \\\n",
       "data_type               int64                  int64              int64   \n",
       "count                21747371               21747371           21747371   \n",
       "NA                          0                      0                  0   \n",
       "mean        76494792465.02202     1011300.0967205645  404477.4800190791   \n",
       "std        88399671708.809021      2108829112.611606  1333740730.360435   \n",
       "min         76561197960265728                      0                  1   \n",
       "max         76561199133265376          4398046511619      4398046511108   \n",
       "\n",
       "          author.playtime_forever author.playtime_last_two_weeks  \\\n",
       "data_type                 float64                        float64   \n",
       "count                    21747369                       21747369   \n",
       "NA                              2                              2   \n",
       "mean            16091.04968789558              155.5421350968938   \n",
       "std                  37430.566898                     730.048788   \n",
       "min                           0.0                            0.0   \n",
       "max                     3744943.0                        27039.0   \n",
       "\n",
       "          author.playtime_at_review  author.last_played  \n",
       "data_type                   float64             float64  \n",
       "count                      21721689            21747369  \n",
       "NA                            25682                   2  \n",
       "mean              8807.421419761604  1580505062.0580525  \n",
       "std                    23885.529993     46761774.154431  \n",
       "min                             1.0                 0.0  \n",
       "max                       3228103.0        1611434142.0  \n",
       "\n",
       "[7 rows x 22 columns]"
      ]
     },
     "execution_count": 7,
     "metadata": {},
     "output_type": "execute_result"
    }
   ],
   "source": [
    "vaex_df[:,1:].describe()"
   ]
  },
  {
   "cell_type": "markdown",
   "id": "d82bc582",
   "metadata": {},
   "source": [
    "### Null Values"
   ]
  },
  {
   "cell_type": "markdown",
   "id": "98a09be2",
   "metadata": {},
   "source": [
    "* The field \"review\" is the one that has the biggest number of null values with a total count of 33.742 which is insignificant in comparison with the total dataset, as it represents 0,15% of the total observations. Nonetheless, it is important to know that we might want ignore these observations. \n",
    "\n",
    "* The feature \"author.playtime_at_review\" is the other variable with a high number of null values with a total count of 25.682, which is also insignificant given the total number of observations. "
   ]
  },
  {
   "cell_type": "markdown",
   "id": "292e4d89",
   "metadata": {},
   "source": [
    "### Analysis one-by-one variable"
   ]
  },
  {
   "cell_type": "markdown",
   "id": "929588cf",
   "metadata": {},
   "source": [
    "#### App_id: \n",
    "It refers to the unique identifier of the reviewed applications. "
   ]
  },
  {
   "cell_type": "code",
   "execution_count": 21,
   "id": "d842de1c",
   "metadata": {},
   "outputs": [
    {
     "data": {
      "text/plain": [
       "315"
      ]
     },
     "execution_count": 21,
     "metadata": {},
     "output_type": "execute_result"
    }
   ],
   "source": [
    "# We have 315 different apps\n",
    "vaex_df.app_id.nunique()"
   ]
  },
  {
   "cell_type": "markdown",
   "id": "b9f2b46b",
   "metadata": {},
   "source": [
    "The application with the most reviews is the application 578080 which has 1.644.255 (7.5% of the total reviews). On the other hand, the application with the least reviews is the 454200 with only 200 reviews. "
   ]
  },
  {
   "cell_type": "code",
   "execution_count": 37,
   "id": "b6668dd5",
   "metadata": {},
   "outputs": [],
   "source": [
    "# The application with the most reviews \n",
    "import seaborn as sns\n",
    "most_reviews = pd.DataFrame(vaex_df['app_id'].value_counts()).reset_index()\n",
    "most_reviews = most_reviews.rename(columns={'index': 'app_id', 0: 'number_reviews'})"
   ]
  },
  {
   "cell_type": "code",
   "execution_count": 38,
   "id": "8c15136e",
   "metadata": {},
   "outputs": [
    {
     "data": {
      "text/html": [
       "<div>\n",
       "<style scoped>\n",
       "    .dataframe tbody tr th:only-of-type {\n",
       "        vertical-align: middle;\n",
       "    }\n",
       "\n",
       "    .dataframe tbody tr th {\n",
       "        vertical-align: top;\n",
       "    }\n",
       "\n",
       "    .dataframe thead th {\n",
       "        text-align: right;\n",
       "    }\n",
       "</style>\n",
       "<table border=\"1\" class=\"dataframe\">\n",
       "  <thead>\n",
       "    <tr style=\"text-align: right;\">\n",
       "      <th></th>\n",
       "      <th>app_id</th>\n",
       "      <th>number_reviews</th>\n",
       "    </tr>\n",
       "  </thead>\n",
       "  <tbody>\n",
       "    <tr>\n",
       "      <th>0</th>\n",
       "      <td>578080</td>\n",
       "      <td>1644255</td>\n",
       "    </tr>\n",
       "    <tr>\n",
       "      <th>1</th>\n",
       "      <td>271590</td>\n",
       "      <td>1019116</td>\n",
       "    </tr>\n",
       "    <tr>\n",
       "      <th>2</th>\n",
       "      <td>359550</td>\n",
       "      <td>841918</td>\n",
       "    </tr>\n",
       "    <tr>\n",
       "      <th>3</th>\n",
       "      <td>105600</td>\n",
       "      <td>672815</td>\n",
       "    </tr>\n",
       "    <tr>\n",
       "      <th>4</th>\n",
       "      <td>4000</td>\n",
       "      <td>655524</td>\n",
       "    </tr>\n",
       "    <tr>\n",
       "      <th>...</th>\n",
       "      <td>...</td>\n",
       "      <td>...</td>\n",
       "    </tr>\n",
       "    <tr>\n",
       "      <th>310</th>\n",
       "      <td>611760</td>\n",
       "      <td>1013</td>\n",
       "    </tr>\n",
       "    <tr>\n",
       "      <th>311</th>\n",
       "      <td>619290</td>\n",
       "      <td>700</td>\n",
       "    </tr>\n",
       "    <tr>\n",
       "      <th>312</th>\n",
       "      <td>385560</td>\n",
       "      <td>700</td>\n",
       "    </tr>\n",
       "    <tr>\n",
       "      <th>313</th>\n",
       "      <td>574050</td>\n",
       "      <td>600</td>\n",
       "    </tr>\n",
       "    <tr>\n",
       "      <th>314</th>\n",
       "      <td>454200</td>\n",
       "      <td>200</td>\n",
       "    </tr>\n",
       "  </tbody>\n",
       "</table>\n",
       "<p>315 rows × 2 columns</p>\n",
       "</div>"
      ],
      "text/plain": [
       "     app_id  number_reviews\n",
       "0    578080         1644255\n",
       "1    271590         1019116\n",
       "2    359550          841918\n",
       "3    105600          672815\n",
       "4      4000          655524\n",
       "..      ...             ...\n",
       "310  611760            1013\n",
       "311  619290             700\n",
       "312  385560             700\n",
       "313  574050             600\n",
       "314  454200             200\n",
       "\n",
       "[315 rows x 2 columns]"
      ]
     },
     "execution_count": 38,
     "metadata": {},
     "output_type": "execute_result"
    }
   ],
   "source": [
    "most_reviews"
   ]
  },
  {
   "cell_type": "markdown",
   "id": "60699099",
   "metadata": {},
   "source": [
    "# [RQ4]\n",
    "### RQ4 - What are the top 3 languages used to review applications?"
   ]
  },
  {
   "cell_type": "code",
   "execution_count": 10,
   "id": "9552ccce",
   "metadata": {},
   "outputs": [],
   "source": [
    "top_languages = pd.DataFrame(vaex_df['language'].value_counts()).reset_index()\n",
    "top_languages = top_languages.rename(columns={'index': 'languages', 0: 'number_reviews'})"
   ]
  },
  {
   "cell_type": "code",
   "execution_count": 12,
   "id": "8c9feac7",
   "metadata": {},
   "outputs": [
    {
     "data": {
      "text/html": [
       "<div>\n",
       "<style scoped>\n",
       "    .dataframe tbody tr th:only-of-type {\n",
       "        vertical-align: middle;\n",
       "    }\n",
       "\n",
       "    .dataframe tbody tr th {\n",
       "        vertical-align: top;\n",
       "    }\n",
       "\n",
       "    .dataframe thead th {\n",
       "        text-align: right;\n",
       "    }\n",
       "</style>\n",
       "<table border=\"1\" class=\"dataframe\">\n",
       "  <thead>\n",
       "    <tr style=\"text-align: right;\">\n",
       "      <th></th>\n",
       "      <th>languages</th>\n",
       "      <th>number_reviews</th>\n",
       "    </tr>\n",
       "  </thead>\n",
       "  <tbody>\n",
       "    <tr>\n",
       "      <th>0</th>\n",
       "      <td>english</td>\n",
       "      <td>9635437</td>\n",
       "    </tr>\n",
       "    <tr>\n",
       "      <th>1</th>\n",
       "      <td>schinese</td>\n",
       "      <td>3764967</td>\n",
       "    </tr>\n",
       "    <tr>\n",
       "      <th>2</th>\n",
       "      <td>russian</td>\n",
       "      <td>2348900</td>\n",
       "    </tr>\n",
       "  </tbody>\n",
       "</table>\n",
       "</div>"
      ],
      "text/plain": [
       "  languages  number_reviews\n",
       "0   english         9635437\n",
       "1  schinese         3764967\n",
       "2   russian         2348900"
      ]
     },
     "execution_count": 12,
     "metadata": {},
     "output_type": "execute_result"
    }
   ],
   "source": [
    "top_languages.head(3)"
   ]
  },
  {
   "cell_type": "markdown",
   "id": "6d56c5d8",
   "metadata": {},
   "source": [
    "The top 3 languages used to review applications are english, chinese and russian. "
   ]
  },
  {
   "cell_type": "markdown",
   "id": "8ff4440f",
   "metadata": {},
   "source": [
    "### RQ4 - Create a function that receives as parameters both the name of a data set and a list of languages’ names and returns a data frame filtered only with the reviews written in the provided languages."
   ]
  },
  {
   "cell_type": "code",
   "execution_count": 20,
   "id": "5df96e4a",
   "metadata": {},
   "outputs": [],
   "source": [
    "def filter_languages(dataset_name, languages_to_filter):\n",
    "    #check if languages_to_filter parameter is actually a list\n",
    "    if(isinstance(languages_to_filter,list)):\n",
    "        filtered_dataset = dataset_name[dataset_name['language'].isin(languages_to_filter)]\n",
    "    else:\n",
    "        print('Must enter the desired languages to be filtered in a list format')\n",
    "    \n",
    "    return filtered_dataset"
   ]
  },
  {
   "cell_type": "code",
   "execution_count": 23,
   "id": "bf213afc",
   "metadata": {},
   "outputs": [
    {
     "data": {
      "text/html": [
       "<table>\n",
       "<thead>\n",
       "<tr><th>#                            </th><th style=\"text-align: right;\">  Unnamed: 0</th><th style=\"text-align: right;\">  app_id</th><th>app_name                </th><th style=\"text-align: right;\">  review_id</th><th>language  </th><th>review                                             </th><th>timestamp_created  </th><th>timestamp_updated  </th><th>recommended  </th><th style=\"text-align: right;\">  votes_helpful</th><th style=\"text-align: right;\">  votes_funny</th><th style=\"text-align: right;\">  weighted_vote_score</th><th style=\"text-align: right;\">  comment_count</th><th>steam_purchase  </th><th>received_for_free  </th><th>written_during_early_access  </th><th style=\"text-align: right;\">   author.steamid</th><th style=\"text-align: right;\">  author.num_games_owned</th><th style=\"text-align: right;\">  author.num_reviews</th><th style=\"text-align: right;\">  author.playtime_forever</th><th style=\"text-align: right;\">  author.playtime_last_two_weeks</th><th style=\"text-align: right;\">  author.playtime_at_review</th><th style=\"text-align: right;\">  author.last_played</th></tr>\n",
       "</thead>\n",
       "<tbody>\n",
       "<tr><td><i style='opacity: 0.6'>0</i></td><td style=\"text-align: right;\">           3</td><td style=\"text-align: right;\">  292030</td><td>The Witcher 3: Wild Hunt</td><td style=\"text-align: right;\">   85184605</td><td>english   </td><td>&quot;One of the best RPG&#x27;s of all time, worthy of an...</td><td>2021-01-23 05:32:50</td><td>2021-01-23 05:32:50</td><td>True         </td><td style=\"text-align: right;\">              0</td><td style=\"text-align: right;\">            0</td><td style=\"text-align: right;\">                    0</td><td style=\"text-align: right;\">              0</td><td>True            </td><td>False              </td><td>False                        </td><td style=\"text-align: right;\">76561199054755373</td><td style=\"text-align: right;\">                       5</td><td style=\"text-align: right;\">                   3</td><td style=\"text-align: right;\">                     5587</td><td style=\"text-align: right;\">                            3200</td><td style=\"text-align: right;\">                       5524</td><td style=\"text-align: right;\">         1.61138e+09</td></tr>\n",
       "<tr><td><i style='opacity: 0.6'>1</i></td><td style=\"text-align: right;\">           5</td><td style=\"text-align: right;\">  292030</td><td>The Witcher 3: Wild Hunt</td><td style=\"text-align: right;\">   85184171</td><td>english   </td><td>good story, good graphics. lots to do.             </td><td>2021-01-23 05:21:04</td><td>2021-01-23 05:21:04</td><td>True         </td><td style=\"text-align: right;\">              0</td><td style=\"text-align: right;\">            0</td><td style=\"text-align: right;\">                    0</td><td style=\"text-align: right;\">              0</td><td>True            </td><td>False              </td><td>False                        </td><td style=\"text-align: right;\">76561198170193529</td><td style=\"text-align: right;\">                      11</td><td style=\"text-align: right;\">                   1</td><td style=\"text-align: right;\">                      823</td><td style=\"text-align: right;\">                             823</td><td style=\"text-align: right;\">                        823</td><td style=\"text-align: right;\">         1.61138e+09</td></tr>\n",
       "<tr><td><i style='opacity: 0.6'>2</i></td><td style=\"text-align: right;\">           6</td><td style=\"text-align: right;\">  292030</td><td>The Witcher 3: Wild Hunt</td><td style=\"text-align: right;\">   85184064</td><td>english   </td><td>dis gud,                                           </td><td>2021-01-23 05:18:11</td><td>2021-01-23 05:18:11</td><td>True         </td><td style=\"text-align: right;\">              0</td><td style=\"text-align: right;\">            0</td><td style=\"text-align: right;\">                    0</td><td style=\"text-align: right;\">              0</td><td>True            </td><td>False              </td><td>False                        </td><td style=\"text-align: right;\">76561198119302812</td><td style=\"text-align: right;\">                      27</td><td style=\"text-align: right;\">                   2</td><td style=\"text-align: right;\">                     4192</td><td style=\"text-align: right;\">                            3398</td><td style=\"text-align: right;\">                       4192</td><td style=\"text-align: right;\">         1.61135e+09</td></tr>\n",
       "<tr><td><i style='opacity: 0.6'>3</i></td><td style=\"text-align: right;\">          11</td><td style=\"text-align: right;\">  292030</td><td>The Witcher 3: Wild Hunt</td><td style=\"text-align: right;\">   85182372</td><td>russian   </td><td>&#x27;Шикарная игра с отличным сюжетом, неплохой граф...</td><td>2021-01-23 04:31:21</td><td>2021-01-23 04:31:21</td><td>True         </td><td style=\"text-align: right;\">              0</td><td style=\"text-align: right;\">            0</td><td style=\"text-align: right;\">                    0</td><td style=\"text-align: right;\">              0</td><td>True            </td><td>False              </td><td>False                        </td><td style=\"text-align: right;\">76561198257031328</td><td style=\"text-align: right;\">                      11</td><td style=\"text-align: right;\">                   2</td><td style=\"text-align: right;\">                      508</td><td style=\"text-align: right;\">                             508</td><td style=\"text-align: right;\">                        348</td><td style=\"text-align: right;\">         1.61139e+09</td></tr>\n",
       "<tr><td><i style='opacity: 0.6'>4</i></td><td style=\"text-align: right;\">          13</td><td style=\"text-align: right;\">  292030</td><td>The Witcher 3: Wild Hunt</td><td style=\"text-align: right;\">   85181146</td><td>russian   </td><td>&#x27;Замечательная карточная игра в антураже фэнтези...</td><td>2021-01-23 03:57:18</td><td>2021-01-23 03:58:29</td><td>True         </td><td style=\"text-align: right;\">              0</td><td style=\"text-align: right;\">            0</td><td style=\"text-align: right;\">                    0</td><td style=\"text-align: right;\">              0</td><td>True            </td><td>False              </td><td>False                        </td><td style=\"text-align: right;\">76561197987104694</td><td style=\"text-align: right;\">                     501</td><td style=\"text-align: right;\">                  23</td><td style=\"text-align: right;\">                     7310</td><td style=\"text-align: right;\">                               0</td><td style=\"text-align: right;\">                       7310</td><td style=\"text-align: right;\">         1.52555e+09</td></tr>\n",
       "</tbody>\n",
       "</table>"
      ],
      "text/plain": [
       "  #    Unnamed: 0    app_id  app_name                    review_id  language    review                                               timestamp_created    timestamp_updated    recommended      votes_helpful    votes_funny    weighted_vote_score    comment_count  steam_purchase    received_for_free    written_during_early_access       author.steamid    author.num_games_owned    author.num_reviews    author.playtime_forever    author.playtime_last_two_weeks    author.playtime_at_review    author.last_played\n",
       "  0             3    292030  The Witcher 3: Wild Hunt     85184605  english     \"One of the best RPG's of all time, worthy of an...  2021-01-23 05:32:50  2021-01-23 05:32:50  True                         0              0                      0                0  True              False                False                          76561199054755373                         5                     3                       5587                              3200                         5524           1.61138e+09\n",
       "  1             5    292030  The Witcher 3: Wild Hunt     85184171  english     good story, good graphics. lots to do.               2021-01-23 05:21:04  2021-01-23 05:21:04  True                         0              0                      0                0  True              False                False                          76561198170193529                        11                     1                        823                               823                          823           1.61138e+09\n",
       "  2             6    292030  The Witcher 3: Wild Hunt     85184064  english     dis gud,                                             2021-01-23 05:18:11  2021-01-23 05:18:11  True                         0              0                      0                0  True              False                False                          76561198119302812                        27                     2                       4192                              3398                         4192           1.61135e+09\n",
       "  3            11    292030  The Witcher 3: Wild Hunt     85182372  russian     'Шикарная игра с отличным сюжетом, неплохой граф...  2021-01-23 04:31:21  2021-01-23 04:31:21  True                         0              0                      0                0  True              False                False                          76561198257031328                        11                     2                        508                               508                          348           1.61139e+09\n",
       "  4            13    292030  The Witcher 3: Wild Hunt     85181146  russian     'Замечательная карточная игра в антураже фэнтези...  2021-01-23 03:57:18  2021-01-23 03:58:29  True                         0              0                      0                0  True              False                False                          76561197987104694                       501                    23                       7310                                 0                         7310           1.52555e+09"
      ]
     },
     "execution_count": 23,
     "metadata": {},
     "output_type": "execute_result"
    }
   ],
   "source": [
    "filter_languages(vaex_df,['english','russian']).head(5)"
   ]
  },
  {
   "cell_type": "markdown",
   "id": "c42bedf5",
   "metadata": {},
   "source": [
    "### RQ4 - Use the function created in the previous literal to find what percentage of these reviews (associated with the top 3 languages) were voted as funny?"
   ]
  },
  {
   "cell_type": "code",
   "execution_count": null,
   "id": "b7085bb0",
   "metadata": {},
   "outputs": [],
   "source": [
    "filter_languages(vaex_df,['english','russian','schinese'])"
   ]
  },
  {
   "cell_type": "markdown",
   "id": "82af21cb",
   "metadata": {},
   "source": [
    "### RQ4 - Use the function created in the literal “a” to find what percentage of these reviews (associated with the top 3 languages) were voted as helpful?"
   ]
  },
  {
   "cell_type": "code",
   "execution_count": null,
   "id": "04b538ba",
   "metadata": {},
   "outputs": [],
   "source": []
  },
  {
   "cell_type": "code",
   "execution_count": null,
   "id": "18b10552",
   "metadata": {},
   "outputs": [],
   "source": []
  },
  {
   "cell_type": "code",
   "execution_count": null,
   "id": "c2fcf6c8",
   "metadata": {},
   "outputs": [],
   "source": []
  },
  {
   "cell_type": "code",
   "execution_count": null,
   "id": "e3ad419b",
   "metadata": {},
   "outputs": [],
   "source": [
    "!ls -a"
   ]
  },
  {
   "cell_type": "code",
   "execution_count": null,
   "id": "a4e34ceb",
   "metadata": {},
   "outputs": [],
   "source": []
  },
  {
   "cell_type": "code",
   "execution_count": null,
   "id": "cedcdcea",
   "metadata": {},
   "outputs": [],
   "source": []
  },
  {
   "cell_type": "code",
   "execution_count": null,
   "id": "6135d3bd",
   "metadata": {},
   "outputs": [],
   "source": []
  },
  {
   "cell_type": "code",
   "execution_count": null,
   "id": "c9440fbb",
   "metadata": {},
   "outputs": [],
   "source": []
  },
  {
   "cell_type": "code",
   "execution_count": null,
   "id": "b19ceb9d",
   "metadata": {},
   "outputs": [],
   "source": []
  },
  {
   "cell_type": "code",
   "execution_count": null,
   "id": "3b7a6af4",
   "metadata": {},
   "outputs": [],
   "source": []
  },
  {
   "cell_type": "code",
   "execution_count": null,
   "id": "8d5862dc",
   "metadata": {},
   "outputs": [],
   "source": []
  },
  {
   "cell_type": "code",
   "execution_count": null,
   "id": "2ec53bc7",
   "metadata": {},
   "outputs": [],
   "source": []
  }
 ],
 "metadata": {
  "kernelspec": {
   "display_name": "Python 3",
   "language": "python",
   "name": "python3"
  },
  "language_info": {
   "codemirror_mode": {
    "name": "ipython",
    "version": 3
   },
   "file_extension": ".py",
   "mimetype": "text/x-python",
   "name": "python",
   "nbconvert_exporter": "python",
   "pygments_lexer": "ipython3",
   "version": "3.8.8"
  }
 },
 "nbformat": 4,
 "nbformat_minor": 5
}
