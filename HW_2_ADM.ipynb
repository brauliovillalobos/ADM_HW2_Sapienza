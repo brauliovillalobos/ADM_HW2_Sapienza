{
 "cells": [
  {
   "cell_type": "markdown",
   "id": "d0b12778",
   "metadata": {},
   "source": [
    "# Homework 2 - Algorithmic Methods of Data Mining\n",
    "### Giorgia Fontana - Matricola \n",
    "### Alex - Matricola\n",
    "### Braulio Villalobos - 1999250"
   ]
  },
  {
   "cell_type": "code",
   "execution_count": null,
   "id": "ea7d2485",
   "metadata": {},
   "outputs": [],
   "source": [
    "#Optional steps before setting up the workspace\n",
    "#!pip install voex\n",
    "#!pip install -U IPython"
   ]
  },
  {
   "cell_type": "code",
   "execution_count": 54,
   "id": "de169ff6",
   "metadata": {},
   "outputs": [],
   "source": [
    "# Package Import\n",
    "import pandas as pd\n",
    "import numpy as np\n",
    "import vaex\n",
    "import os\n",
    "from datetime import datetime\n",
    "import datetime"
   ]
  },
  {
   "cell_type": "markdown",
   "id": "6d5665cc",
   "metadata": {},
   "source": [
    "# Attempts to read data"
   ]
  },
  {
   "cell_type": "markdown",
   "id": "47ddbd9b",
   "metadata": {},
   "source": [
    "#### Attempt # 1 - Reading data with Pandas"
   ]
  },
  {
   "cell_type": "code",
   "execution_count": null,
   "id": "65a051de",
   "metadata": {},
   "outputs": [],
   "source": [
    "# Reading data with Pandas\n",
    "\n",
    "# Command can't load all data because we don't have enough resources. \n",
    "#dataset = pd.read_csv('/content/drive/MyDrive/steam_reviews.csv')\n",
    "# It is possible to load some rows of the dataset by using the nrows parameter. "
   ]
  },
  {
   "cell_type": "markdown",
   "id": "1c7a576a",
   "metadata": {},
   "source": [
    "#### Attempt #2 - Reading all data with Vaex"
   ]
  },
  {
   "cell_type": "code",
   "execution_count": null,
   "id": "186151d5",
   "metadata": {},
   "outputs": [],
   "source": [
    "# Reading data with Vaex\n",
    "#Command also crashes\n",
    "\n",
    "#dataset = vaex.from_csv('/content/drive/MyDrive/steam_reviews.csv')\n",
    "#Crashed!!"
   ]
  },
  {
   "cell_type": "markdown",
   "id": "ae4756c5",
   "metadata": {},
   "source": [
    "#### Attempt # 3 - Reading data with Vaex by chunks\n",
    "\n",
    "This attempt was successful importing the data but when we try a unique count of the total app_id, if only gives us 17 unique app_id. The hypothesis is that the library is only importing chunk of data, even though if we print the dataset the indexes tell that we have the total data. \n",
    "\n",
    "We can't use this approach and must find another way of addressing this. "
   ]
  },
  {
   "cell_type": "code",
   "execution_count": null,
   "id": "da2ef5e9",
   "metadata": {},
   "outputs": [],
   "source": [
    "#for i, df in enumerate(vaex.from_csv('/content/drive/MyDrive/steam_reviews.csv', chunk_size=500_000)):\n",
    "#    #df = df.app_id\n",
    "#    df.export_hdf5(f'taxi_{i:02}.hdf5')"
   ]
  },
  {
   "cell_type": "code",
   "execution_count": null,
   "id": "f4dd76fa",
   "metadata": {},
   "outputs": [],
   "source": [
    "#df['app_id'].nunique()"
   ]
  },
  {
   "cell_type": "markdown",
   "id": "4efda4d0",
   "metadata": {},
   "source": [
    "By importing the whole app_id column and counting the unique values within it, we discover we have 315 unique values. "
   ]
  },
  {
   "cell_type": "code",
   "execution_count": null,
   "id": "ea2333d4",
   "metadata": {},
   "outputs": [],
   "source": [
    "#Importing just one column to see the global characteristics of data\n",
    "#dataset = pd.read_csv('/content/drive/MyDrive/steam_reviews.csv',usecols = [\"app_id\"])\n",
    "#dataset['app_id'].nunique()"
   ]
  },
  {
   "cell_type": "markdown",
   "id": "c7129173",
   "metadata": {},
   "source": [
    "#### Attempt #4 - Reading data with Vaex by chunks and converting"
   ]
  },
  {
   "cell_type": "code",
   "execution_count": 12,
   "id": "903bb26e",
   "metadata": {},
   "outputs": [],
   "source": [
    "# Read parsing timestamps and therefore reading them as strings.\n",
    "#test1 = vaex.read_csv('steam_reviews.csv', convert=True, chunk_size = 1_000_000,parse_dates=['timestamp_created', 'timestamp_updated'])\n",
    "\n",
    "# Read without parsing timestampts and therefore reading them as integer. \n",
    "vaex_df = vaex.read_csv('steam_reviews.csv', convert=True, chunk_size = 1_000_000)"
   ]
  },
  {
   "cell_type": "code",
   "execution_count": 61,
   "id": "425160d3",
   "metadata": {},
   "outputs": [
    {
     "ename": "AttributeError",
     "evalue": "'pyarrow.lib.StringArray' object has no attribute 'astype'",
     "output_type": "error",
     "traceback": [
      "\u001b[0;31m---------------------------------------------------------------------------\u001b[0m",
      "\u001b[0;31mAttributeError\u001b[0m                            Traceback (most recent call last)",
      "\u001b[0;32m<ipython-input-61-d6f28e52ca60>\u001b[0m in \u001b[0;36m<module>\u001b[0;34m\u001b[0m\n\u001b[0;32m----> 1\u001b[0;31m \u001b[0mtest1\u001b[0m\u001b[0;34m[\u001b[0m\u001b[0;34m'timestamp_created'\u001b[0m\u001b[0;34m]\u001b[0m\u001b[0;34m=\u001b[0m\u001b[0mtest1\u001b[0m\u001b[0;34m[\u001b[0m\u001b[0;34m'timestamp_created'\u001b[0m\u001b[0;34m]\u001b[0m\u001b[0;34m.\u001b[0m\u001b[0mvalues\u001b[0m\u001b[0;34m.\u001b[0m\u001b[0mastype\u001b[0m\u001b[0;34m(\u001b[0m\u001b[0;34m'datetime64[D]'\u001b[0m\u001b[0;34m)\u001b[0m\u001b[0;34m\u001b[0m\u001b[0;34m\u001b[0m\u001b[0m\n\u001b[0m",
      "\u001b[0;31mAttributeError\u001b[0m: 'pyarrow.lib.StringArray' object has no attribute 'astype'"
     ]
    }
   ],
   "source": [
    "test1['timestamp_created']=test1['timestamp_created'].values.astype('datetime64[D]')"
   ]
  },
  {
   "cell_type": "code",
   "execution_count": null,
   "id": "a24be1ff",
   "metadata": {},
   "outputs": [],
   "source": [
    "dates_input = df[\"month_15\"].values.astype('datetime64[D]')\n",
    "testf(df['month_15'].astype('datetime64[D]').values)"
   ]
  },
  {
   "cell_type": "code",
   "execution_count": 13,
   "id": "cd846336",
   "metadata": {},
   "outputs": [
    {
     "data": {
      "text/html": [
       "<style>.vaex-description pre {\n",
       "          max-width : 450px;\n",
       "          white-space : nowrap;\n",
       "          overflow : hidden;\n",
       "          text-overflow: ellipsis;\n",
       "        }\n",
       "\n",
       "        .vex-description pre:hover {\n",
       "          max-width : initial;\n",
       "          white-space: pre;\n",
       "        }</style>"
      ],
      "text/plain": [
       "<IPython.core.display.HTML object>"
      ]
     },
     "metadata": {},
     "output_type": "display_data"
    },
    {
     "data": {
      "text/html": [
       "<div><h2>steam_reviews.csv</h2> <b>rows</b>: 21,747,371</div><h2>Columns:</h2><table class='table-striped'><thead><tr><th>column</th><th>type</th><th>unit</th><th>description</th><th>expression</th></tr></thead><tr><td>Unnamed: 0</td><td>int64</td><td></td><td ><pre></pre></td><td></td></tr><tr><td>app_id</td><td>int64</td><td></td><td ><pre></pre></td><td></td></tr><tr><td>app_name</td><td>str</td><td></td><td ><pre></pre></td><td></td></tr><tr><td>review_id</td><td>int64</td><td></td><td ><pre></pre></td><td></td></tr><tr><td>language</td><td>str</td><td></td><td ><pre></pre></td><td></td></tr><tr><td>review</td><td>str</td><td></td><td ><pre></pre></td><td></td></tr><tr><td>timestamp_created</td><td>int64</td><td></td><td ><pre></pre></td><td></td></tr><tr><td>timestamp_updated</td><td>int64</td><td></td><td ><pre></pre></td><td></td></tr><tr><td>recommended</td><td>bool</td><td></td><td ><pre></pre></td><td></td></tr><tr><td>votes_helpful</td><td>int64</td><td></td><td ><pre></pre></td><td></td></tr><tr><td>votes_funny</td><td>int64</td><td></td><td ><pre></pre></td><td></td></tr><tr><td>weighted_vote_score</td><td>float64</td><td></td><td ><pre></pre></td><td></td></tr><tr><td>comment_count</td><td>int64</td><td></td><td ><pre></pre></td><td></td></tr><tr><td>steam_purchase</td><td>bool</td><td></td><td ><pre></pre></td><td></td></tr><tr><td>received_for_free</td><td>bool</td><td></td><td ><pre></pre></td><td></td></tr><tr><td>written_during_early_access</td><td>bool</td><td></td><td ><pre></pre></td><td></td></tr><tr><td>author.steamid</td><td>int64</td><td></td><td ><pre></pre></td><td></td></tr><tr><td>author.num_games_owned</td><td>int64</td><td></td><td ><pre></pre></td><td></td></tr><tr><td>author.num_reviews</td><td>int64</td><td></td><td ><pre></pre></td><td></td></tr><tr><td>author.playtime_forever</td><td>float64</td><td></td><td ><pre></pre></td><td></td></tr><tr><td>author.playtime_last_two_weeks</td><td>float64</td><td></td><td ><pre></pre></td><td></td></tr><tr><td>author.playtime_at_review</td><td>float64</td><td></td><td ><pre></pre></td><td></td></tr><tr><td>author.last_played</td><td>float64</td><td></td><td ><pre></pre></td><td></td></tr></table><h2>Data:</h2><table>\n",
       "<thead>\n",
       "<tr><th>#                                     </th><th>Unnamed: 0  </th><th>app_id  </th><th>app_name                </th><th>review_id  </th><th>language  </th><th>review                                                           </th><th>timestamp_created  </th><th>timestamp_updated  </th><th>recommended  </th><th>votes_helpful  </th><th>votes_funny  </th><th>weighted_vote_score  </th><th>comment_count  </th><th>steam_purchase  </th><th>received_for_free  </th><th>written_during_early_access  </th><th>author.steamid   </th><th>author.num_games_owned  </th><th>author.num_reviews  </th><th>author.playtime_forever  </th><th>author.playtime_last_two_weeks  </th><th>author.playtime_at_review  </th><th>author.last_played  </th></tr>\n",
       "</thead>\n",
       "<tbody>\n",
       "<tr><td><i style='opacity: 0.6'>0</i>         </td><td>0           </td><td>292030  </td><td>The Witcher 3: Wild Hunt</td><td>85185598   </td><td>schinese  </td><td>不玩此生遗憾，RPG游戏里的天花板，太吸引人了                      </td><td>1611381629         </td><td>1611381629         </td><td>True         </td><td>0              </td><td>0            </td><td>0.0                  </td><td>0              </td><td>True            </td><td>False              </td><td>False                        </td><td>76561199095369542</td><td>6                       </td><td>2                   </td><td>1909.0                   </td><td>1448.0                          </td><td>1909.0                     </td><td>1611343383.0        </td></tr>\n",
       "<tr><td><i style='opacity: 0.6'>1</i>         </td><td>1           </td><td>292030  </td><td>The Witcher 3: Wild Hunt</td><td>85185250   </td><td>schinese  </td><td>拔DIAO无情打桩机--杰洛特!!!                                      </td><td>1611381030         </td><td>1611381030         </td><td>True         </td><td>0              </td><td>0            </td><td>0.0                  </td><td>0              </td><td>True            </td><td>False              </td><td>False                        </td><td>76561198949504115</td><td>30                      </td><td>10                  </td><td>2764.0                   </td><td>2743.0                          </td><td>2674.0                     </td><td>1611386307.0        </td></tr>\n",
       "<tr><td><i style='opacity: 0.6'>2</i>         </td><td>2           </td><td>292030  </td><td>The Witcher 3: Wild Hunt</td><td>85185111   </td><td>schinese  </td><td>巫师3NB                                                          </td><td>1611380800         </td><td>1611380800         </td><td>True         </td><td>0              </td><td>0            </td><td>0.0                  </td><td>0              </td><td>True            </td><td>False              </td><td>False                        </td><td>76561199090098988</td><td>5                       </td><td>1                   </td><td>1061.0                   </td><td>1061.0                          </td><td>1060.0                     </td><td>1611383777.0        </td></tr>\n",
       "<tr><td><i style='opacity: 0.6'>3</i>         </td><td>3           </td><td>292030  </td><td>The Witcher 3: Wild Hunt</td><td>85184605   </td><td>english   </td><td>&quot;One of the best RPG&#x27;s of all time, worthy of an...              </td><td>1611379970         </td><td>1611379970         </td><td>True         </td><td>0              </td><td>0            </td><td>0.0                  </td><td>0              </td><td>True            </td><td>False              </td><td>False                        </td><td>76561199054755373</td><td>5                       </td><td>3                   </td><td>5587.0                   </td><td>3200.0                          </td><td>5524.0                     </td><td>1611383744.0        </td></tr>\n",
       "<tr><td><i style='opacity: 0.6'>4</i>         </td><td>4           </td><td>292030  </td><td>The Witcher 3: Wild Hunt</td><td>85184287   </td><td>schinese  </td><td>大作                                                             </td><td>1611379427         </td><td>1611379427         </td><td>True         </td><td>0              </td><td>0            </td><td>0.0                  </td><td>0              </td><td>True            </td><td>False              </td><td>False                        </td><td>76561199028326951</td><td>7                       </td><td>4                   </td><td>217.0                    </td><td>42.0                            </td><td>217.0                      </td><td>1610788249.0        </td></tr>\n",
       "<tr><td>...                                   </td><td>...         </td><td>...     </td><td>...                     </td><td>...        </td><td>...       </td><td>...                                                              </td><td>...                </td><td>...                </td><td>...          </td><td>...            </td><td>...          </td><td>...                  </td><td>...            </td><td>...             </td><td>...                </td><td>...                          </td><td>...              </td><td>...                     </td><td>...                 </td><td>...                      </td><td>...                             </td><td>...                        </td><td>...                 </td></tr>\n",
       "<tr><td><i style='opacity: 0.6'>21,747,366</i></td><td>21747371    </td><td>546560  </td><td>Half-Life: Alyx         </td><td>65645125   </td><td>english   </td><td>Holy balls                                                       </td><td>1584986704         </td><td>1584986704         </td><td>True         </td><td>0              </td><td>0            </td><td>0.0                  </td><td>0              </td><td>True            </td><td>False              </td><td>False                        </td><td>76561197967033932</td><td>431                     </td><td>7                   </td><td>432.0                    </td><td>0.0                             </td><td>29.0                       </td><td>1586627816.0        </td></tr>\n",
       "<tr><td><i style='opacity: 0.6'>21,747,367</i></td><td>21747372    </td><td>546560  </td><td>Half-Life: Alyx         </td><td>65645115   </td><td>english   </td><td>&#x27;A tripod thing bears down on you, it looks imme...              </td><td>1584986693         </td><td>1584986693         </td><td>True         </td><td>0              </td><td>0            </td><td>0.0                  </td><td>0              </td><td>False           </td><td>False              </td><td>False                        </td><td>76561198046495482</td><td>70                      </td><td>10                  </td><td>3296.0                   </td><td>15.0                            </td><td>24.0                       </td><td>1611080231.0        </td></tr>\n",
       "<tr><td><i style='opacity: 0.6'>21,747,368</i></td><td>21747373    </td><td>546560  </td><td>Half-Life: Alyx         </td><td>65645100   </td><td>english   </td><td>Honestly this is the best vr game ever                           </td><td>1584986673         </td><td>1584986673         </td><td>True         </td><td>0              </td><td>0            </td><td>0.4741379022598266   </td><td>0              </td><td>True            </td><td>False              </td><td>False                        </td><td>76561198176379749</td><td>79                      </td><td>17                  </td><td>2654.0                   </td><td>0.0                             </td><td>34.0                       </td><td>1591633753.0        </td></tr>\n",
       "<tr><td><i style='opacity: 0.6'>21,747,369</i></td><td>21747374    </td><td>546560  </td><td>Half-Life: Alyx         </td><td>65645066   </td><td>english   </td><td>&#x27;Smooth turning is not working right now.\\nIt app...             </td><td>1584986631         </td><td>1586382422         </td><td>True         </td><td>0              </td><td>0            </td><td>0.3860217034816742   </td><td>11             </td><td>True            </td><td>False              </td><td>False                        </td><td>76561198041763187</td><td>140                     </td><td>3                   </td><td>210.0                    </td><td>0.0                             </td><td>12.0                       </td><td>1589715415.0        </td></tr>\n",
       "<tr><td><i style='opacity: 0.6'>21,747,370</i></td><td>21747375    </td><td>546560  </td><td>Half-Life: Alyx         </td><td>65644930   </td><td>schinese  </td><td>&#x27;WMR加载中闪退，无法进入游戏\\nWMR Flashback in Load，cant play...</td><td>1584986505         </td><td>1592060800         </td><td>True         </td><td>0              </td><td>0            </td><td>0.4161067605018616   </td><td>5              </td><td>True            </td><td>False              </td><td>False                        </td><td>76561198116747069</td><td>253                     </td><td>7                   </td><td>1062.0                   </td><td>0.0                             </td><td>8.0                        </td><td>1602857543.0        </td></tr>\n",
       "</tbody>\n",
       "</table>"
      ],
      "text/plain": [
       "<IPython.core.display.HTML object>"
      ]
     },
     "metadata": {},
     "output_type": "display_data"
    }
   ],
   "source": [
    "vaex_df.info()"
   ]
  },
  {
   "cell_type": "code",
   "execution_count": 78,
   "id": "c4c85fc7",
   "metadata": {},
   "outputs": [],
   "source": [
    "# Export the dataset and store it as an hdf5 file\n",
    "\n",
    "#vaex_df.export('vaex_file_test.hdf5')"
   ]
  },
  {
   "cell_type": "code",
   "execution_count": 8,
   "id": "cfffb9ce",
   "metadata": {},
   "outputs": [],
   "source": [
    "# Open the hdf5 file\n",
    "vaex_df = vaex.open('steam_reviews.csv.hdf5')"
   ]
  },
  {
   "cell_type": "code",
   "execution_count": 81,
   "id": "54459db0",
   "metadata": {},
   "outputs": [
    {
     "ename": "TypeError",
     "evalue": "an integer is required (got type Expression)",
     "output_type": "error",
     "traceback": [
      "\u001b[0;31m---------------------------------------------------------------------------\u001b[0m",
      "\u001b[0;31mTypeError\u001b[0m                                 Traceback (most recent call last)",
      "\u001b[0;32m<ipython-input-81-4c52ba166cb7>\u001b[0m in \u001b[0;36m<module>\u001b[0;34m\u001b[0m\n\u001b[0;32m----> 1\u001b[0;31m \u001b[0mvaex_df\u001b[0m\u001b[0;34m[\u001b[0m\u001b[0;34m'timestamp_created'\u001b[0m\u001b[0;34m]\u001b[0m\u001b[0;34m=\u001b[0m\u001b[0mdatetime\u001b[0m\u001b[0;34m.\u001b[0m\u001b[0mutcfromtimestamp\u001b[0m\u001b[0;34m(\u001b[0m\u001b[0mvaex_df\u001b[0m\u001b[0;34m.\u001b[0m\u001b[0mtimestamp_created\u001b[0m\u001b[0;34m)\u001b[0m\u001b[0;34m.\u001b[0m\u001b[0mstrftime\u001b[0m\u001b[0;34m(\u001b[0m\u001b[0;34m'%Y-%m-%d %H:%M:%S'\u001b[0m\u001b[0;34m)\u001b[0m\u001b[0;34m\u001b[0m\u001b[0;34m\u001b[0m\u001b[0m\n\u001b[0m",
      "\u001b[0;31mTypeError\u001b[0m: an integer is required (got type Expression)"
     ]
    }
   ],
   "source": [
    "vaex_df['timestamp_created']=datetime.utcfromtimestamp(vaex_df.timestamp_created).strftime('%Y-%m-%d %H:%M:%S')"
   ]
  },
  {
   "cell_type": "code",
   "execution_count": 14,
   "id": "c691de0c",
   "metadata": {},
   "outputs": [],
   "source": [
    "def column_to_datetime(datetime_str):\n",
    "    #return np.datetime64(datetime.strptime(datetime_str, date_format))\n",
    "    return datetime.utcfromtimestamp(datetime_str).strftime('%Y-%m-%d %H:%M:%S')\n",
    "\n",
    "vaex_df['timestamp_created'] = vaex_df['timestamp_created'].apply(column_to_datetime)"
   ]
  },
  {
   "cell_type": "code",
   "execution_count": 15,
   "id": "02bd2e7a",
   "metadata": {},
   "outputs": [
    {
     "data": {
      "text/html": [
       "<style>.vaex-description pre {\n",
       "          max-width : 450px;\n",
       "          white-space : nowrap;\n",
       "          overflow : hidden;\n",
       "          text-overflow: ellipsis;\n",
       "        }\n",
       "\n",
       "        .vex-description pre:hover {\n",
       "          max-width : initial;\n",
       "          white-space: pre;\n",
       "        }</style>"
      ],
      "text/plain": [
       "<IPython.core.display.HTML object>"
      ]
     },
     "metadata": {},
     "output_type": "display_data"
    },
    {
     "data": {
      "text/html": [
       "<div><h2>steam_reviews.csv</h2> <b>rows</b>: 21,747,371</div><h2>Columns:</h2><table class='table-striped'><thead><tr><th>column</th><th>type</th><th>unit</th><th>description</th><th>expression</th></tr></thead><tr><td>Unnamed: 0</td><td>int64</td><td></td><td ><pre></pre></td><td></td></tr><tr><td>app_id</td><td>int64</td><td></td><td ><pre></pre></td><td></td></tr><tr><td>app_name</td><td>str</td><td></td><td ><pre></pre></td><td></td></tr><tr><td>review_id</td><td>int64</td><td></td><td ><pre></pre></td><td></td></tr><tr><td>language</td><td>str</td><td></td><td ><pre></pre></td><td></td></tr><tr><td>review</td><td>str</td><td></td><td ><pre></pre></td><td></td></tr><tr><td>timestamp_created</td><td></i>virtual column</i></td><td></td><td ><pre></pre></td><td><code>lambda_function(__timestamp_created)</code></td></tr><tr><td>timestamp_updated</td><td>int64</td><td></td><td ><pre></pre></td><td></td></tr><tr><td>recommended</td><td>bool</td><td></td><td ><pre></pre></td><td></td></tr><tr><td>votes_helpful</td><td>int64</td><td></td><td ><pre></pre></td><td></td></tr><tr><td>votes_funny</td><td>int64</td><td></td><td ><pre></pre></td><td></td></tr><tr><td>weighted_vote_score</td><td>float64</td><td></td><td ><pre></pre></td><td></td></tr><tr><td>comment_count</td><td>int64</td><td></td><td ><pre></pre></td><td></td></tr><tr><td>steam_purchase</td><td>bool</td><td></td><td ><pre></pre></td><td></td></tr><tr><td>received_for_free</td><td>bool</td><td></td><td ><pre></pre></td><td></td></tr><tr><td>written_during_early_access</td><td>bool</td><td></td><td ><pre></pre></td><td></td></tr><tr><td>author.steamid</td><td>int64</td><td></td><td ><pre></pre></td><td></td></tr><tr><td>author.num_games_owned</td><td>int64</td><td></td><td ><pre></pre></td><td></td></tr><tr><td>author.num_reviews</td><td>int64</td><td></td><td ><pre></pre></td><td></td></tr><tr><td>author.playtime_forever</td><td>float64</td><td></td><td ><pre></pre></td><td></td></tr><tr><td>author.playtime_last_two_weeks</td><td>float64</td><td></td><td ><pre></pre></td><td></td></tr><tr><td>author.playtime_at_review</td><td>float64</td><td></td><td ><pre></pre></td><td></td></tr><tr><td>author.last_played</td><td>float64</td><td></td><td ><pre></pre></td><td></td></tr></table><h2>Data:</h2><table>\n",
       "<thead>\n",
       "<tr><th>#                                     </th><th>Unnamed: 0  </th><th>app_id  </th><th>app_name                </th><th>review_id  </th><th>language  </th><th>review                                                           </th><th>timestamp_created  </th><th>timestamp_updated  </th><th>recommended  </th><th>votes_helpful  </th><th>votes_funny  </th><th>weighted_vote_score  </th><th>comment_count  </th><th>steam_purchase  </th><th>received_for_free  </th><th>written_during_early_access  </th><th>author.steamid   </th><th>author.num_games_owned  </th><th>author.num_reviews  </th><th>author.playtime_forever  </th><th>author.playtime_last_two_weeks  </th><th>author.playtime_at_review  </th><th>author.last_played  </th></tr>\n",
       "</thead>\n",
       "<tbody>\n",
       "<tr><td><i style='opacity: 0.6'>0</i>         </td><td>0           </td><td>292030  </td><td>The Witcher 3: Wild Hunt</td><td>85185598   </td><td>schinese  </td><td>不玩此生遗憾，RPG游戏里的天花板，太吸引人了                      </td><td>2021-01-23 06:00:29</td><td>1611381629         </td><td>True         </td><td>0              </td><td>0            </td><td>0.0                  </td><td>0              </td><td>True            </td><td>False              </td><td>False                        </td><td>76561199095369542</td><td>6                       </td><td>2                   </td><td>1909.0                   </td><td>1448.0                          </td><td>1909.0                     </td><td>1611343383.0        </td></tr>\n",
       "<tr><td><i style='opacity: 0.6'>1</i>         </td><td>1           </td><td>292030  </td><td>The Witcher 3: Wild Hunt</td><td>85185250   </td><td>schinese  </td><td>拔DIAO无情打桩机--杰洛特!!!                                      </td><td>2021-01-23 05:50:30</td><td>1611381030         </td><td>True         </td><td>0              </td><td>0            </td><td>0.0                  </td><td>0              </td><td>True            </td><td>False              </td><td>False                        </td><td>76561198949504115</td><td>30                      </td><td>10                  </td><td>2764.0                   </td><td>2743.0                          </td><td>2674.0                     </td><td>1611386307.0        </td></tr>\n",
       "<tr><td><i style='opacity: 0.6'>2</i>         </td><td>2           </td><td>292030  </td><td>The Witcher 3: Wild Hunt</td><td>85185111   </td><td>schinese  </td><td>巫师3NB                                                          </td><td>2021-01-23 05:46:40</td><td>1611380800         </td><td>True         </td><td>0              </td><td>0            </td><td>0.0                  </td><td>0              </td><td>True            </td><td>False              </td><td>False                        </td><td>76561199090098988</td><td>5                       </td><td>1                   </td><td>1061.0                   </td><td>1061.0                          </td><td>1060.0                     </td><td>1611383777.0        </td></tr>\n",
       "<tr><td><i style='opacity: 0.6'>3</i>         </td><td>3           </td><td>292030  </td><td>The Witcher 3: Wild Hunt</td><td>85184605   </td><td>english   </td><td>&quot;One of the best RPG&#x27;s of all time, worthy of an...              </td><td>2021-01-23 05:32:50</td><td>1611379970         </td><td>True         </td><td>0              </td><td>0            </td><td>0.0                  </td><td>0              </td><td>True            </td><td>False              </td><td>False                        </td><td>76561199054755373</td><td>5                       </td><td>3                   </td><td>5587.0                   </td><td>3200.0                          </td><td>5524.0                     </td><td>1611383744.0        </td></tr>\n",
       "<tr><td><i style='opacity: 0.6'>4</i>         </td><td>4           </td><td>292030  </td><td>The Witcher 3: Wild Hunt</td><td>85184287   </td><td>schinese  </td><td>大作                                                             </td><td>2021-01-23 05:23:47</td><td>1611379427         </td><td>True         </td><td>0              </td><td>0            </td><td>0.0                  </td><td>0              </td><td>True            </td><td>False              </td><td>False                        </td><td>76561199028326951</td><td>7                       </td><td>4                   </td><td>217.0                    </td><td>42.0                            </td><td>217.0                      </td><td>1610788249.0        </td></tr>\n",
       "<tr><td>...                                   </td><td>...         </td><td>...     </td><td>...                     </td><td>...        </td><td>...       </td><td>...                                                              </td><td>...                </td><td>...                </td><td>...          </td><td>...            </td><td>...          </td><td>...                  </td><td>...            </td><td>...             </td><td>...                </td><td>...                          </td><td>...              </td><td>...                     </td><td>...                 </td><td>...                      </td><td>...                             </td><td>...                        </td><td>...                 </td></tr>\n",
       "<tr><td><i style='opacity: 0.6'>21,747,366</i></td><td>21747371    </td><td>546560  </td><td>Half-Life: Alyx         </td><td>65645125   </td><td>english   </td><td>Holy balls                                                       </td><td>2020-03-23 18:05:04</td><td>1584986704         </td><td>True         </td><td>0              </td><td>0            </td><td>0.0                  </td><td>0              </td><td>True            </td><td>False              </td><td>False                        </td><td>76561197967033932</td><td>431                     </td><td>7                   </td><td>432.0                    </td><td>0.0                             </td><td>29.0                       </td><td>1586627816.0        </td></tr>\n",
       "<tr><td><i style='opacity: 0.6'>21,747,367</i></td><td>21747372    </td><td>546560  </td><td>Half-Life: Alyx         </td><td>65645115   </td><td>english   </td><td>&#x27;A tripod thing bears down on you, it looks imme...              </td><td>2020-03-23 18:04:53</td><td>1584986693         </td><td>True         </td><td>0              </td><td>0            </td><td>0.0                  </td><td>0              </td><td>False           </td><td>False              </td><td>False                        </td><td>76561198046495482</td><td>70                      </td><td>10                  </td><td>3296.0                   </td><td>15.0                            </td><td>24.0                       </td><td>1611080231.0        </td></tr>\n",
       "<tr><td><i style='opacity: 0.6'>21,747,368</i></td><td>21747373    </td><td>546560  </td><td>Half-Life: Alyx         </td><td>65645100   </td><td>english   </td><td>Honestly this is the best vr game ever                           </td><td>2020-03-23 18:04:33</td><td>1584986673         </td><td>True         </td><td>0              </td><td>0            </td><td>0.4741379022598266   </td><td>0              </td><td>True            </td><td>False              </td><td>False                        </td><td>76561198176379749</td><td>79                      </td><td>17                  </td><td>2654.0                   </td><td>0.0                             </td><td>34.0                       </td><td>1591633753.0        </td></tr>\n",
       "<tr><td><i style='opacity: 0.6'>21,747,369</i></td><td>21747374    </td><td>546560  </td><td>Half-Life: Alyx         </td><td>65645066   </td><td>english   </td><td>&#x27;Smooth turning is not working right now.\\nIt app...             </td><td>2020-03-23 18:03:51</td><td>1586382422         </td><td>True         </td><td>0              </td><td>0            </td><td>0.3860217034816742   </td><td>11             </td><td>True            </td><td>False              </td><td>False                        </td><td>76561198041763187</td><td>140                     </td><td>3                   </td><td>210.0                    </td><td>0.0                             </td><td>12.0                       </td><td>1589715415.0        </td></tr>\n",
       "<tr><td><i style='opacity: 0.6'>21,747,370</i></td><td>21747375    </td><td>546560  </td><td>Half-Life: Alyx         </td><td>65644930   </td><td>schinese  </td><td>&#x27;WMR加载中闪退，无法进入游戏\\nWMR Flashback in Load，cant play...</td><td>2020-03-23 18:01:45</td><td>1592060800         </td><td>True         </td><td>0              </td><td>0            </td><td>0.4161067605018616   </td><td>5              </td><td>True            </td><td>False              </td><td>False                        </td><td>76561198116747069</td><td>253                     </td><td>7                   </td><td>1062.0                   </td><td>0.0                             </td><td>8.0                        </td><td>1602857543.0        </td></tr>\n",
       "</tbody>\n",
       "</table>"
      ],
      "text/plain": [
       "<IPython.core.display.HTML object>"
      ]
     },
     "metadata": {},
     "output_type": "display_data"
    }
   ],
   "source": [
    "vaex_df.info()"
   ]
  },
  {
   "cell_type": "code",
   "execution_count": null,
   "id": "a7099971",
   "metadata": {},
   "outputs": [],
   "source": [
    "print(datetime.utcfromtimestamp(ts).strftime('%Y-%m-%d %H:%M:%S'))"
   ]
  },
  {
   "cell_type": "code",
   "execution_count": 17,
   "id": "cfbd55fd",
   "metadata": {},
   "outputs": [
    {
     "data": {
      "text/plain": [
       "315"
      ]
     },
     "execution_count": 17,
     "metadata": {},
     "output_type": "execute_result"
    }
   ],
   "source": [
    "# Confirm we get 315 unique values from the vaex dataframe\n",
    "vaex_df.app_id.nunique()"
   ]
  },
  {
   "cell_type": "code",
   "execution_count": 48,
   "id": "3cfff86d",
   "metadata": {},
   "outputs": [
    {
     "data": {
      "text/html": [
       "<style>.vaex-description pre {\n",
       "          max-width : 450px;\n",
       "          white-space : nowrap;\n",
       "          overflow : hidden;\n",
       "          text-overflow: ellipsis;\n",
       "        }\n",
       "\n",
       "        .vex-description pre:hover {\n",
       "          max-width : initial;\n",
       "          white-space: pre;\n",
       "        }</style>"
      ],
      "text/plain": [
       "<IPython.core.display.HTML object>"
      ]
     },
     "metadata": {},
     "output_type": "display_data"
    },
    {
     "data": {
      "text/html": [
       "<div><h2>steam_reviews.csv</h2> <b>rows</b>: 21,747,371</div><h2>Columns:</h2><table class='table-striped'><thead><tr><th>column</th><th>type</th><th>unit</th><th>description</th><th>expression</th></tr></thead><tr><td>Unnamed: 0</td><td>int64</td><td></td><td ><pre></pre></td><td></td></tr><tr><td>app_id</td><td>int64</td><td></td><td ><pre></pre></td><td></td></tr><tr><td>app_name</td><td>str</td><td></td><td ><pre></pre></td><td></td></tr><tr><td>review_id</td><td>int64</td><td></td><td ><pre></pre></td><td></td></tr><tr><td>language</td><td>str</td><td></td><td ><pre></pre></td><td></td></tr><tr><td>review</td><td>str</td><td></td><td ><pre></pre></td><td></td></tr><tr><td>timestamp_created</td><td>str</td><td></td><td ><pre></pre></td><td></td></tr><tr><td>timestamp_updated</td><td>str</td><td></td><td ><pre></pre></td><td></td></tr><tr><td>recommended</td><td>bool</td><td></td><td ><pre></pre></td><td></td></tr><tr><td>votes_helpful</td><td>int64</td><td></td><td ><pre></pre></td><td></td></tr><tr><td>votes_funny</td><td>int64</td><td></td><td ><pre></pre></td><td></td></tr><tr><td>weighted_vote_score</td><td>float64</td><td></td><td ><pre></pre></td><td></td></tr><tr><td>comment_count</td><td>int64</td><td></td><td ><pre></pre></td><td></td></tr><tr><td>steam_purchase</td><td>bool</td><td></td><td ><pre></pre></td><td></td></tr><tr><td>received_for_free</td><td>bool</td><td></td><td ><pre></pre></td><td></td></tr><tr><td>written_during_early_access</td><td>bool</td><td></td><td ><pre></pre></td><td></td></tr><tr><td>author.steamid</td><td>int64</td><td></td><td ><pre></pre></td><td></td></tr><tr><td>author.num_games_owned</td><td>int64</td><td></td><td ><pre></pre></td><td></td></tr><tr><td>author.num_reviews</td><td>int64</td><td></td><td ><pre></pre></td><td></td></tr><tr><td>author.playtime_forever</td><td>float64</td><td></td><td ><pre></pre></td><td></td></tr><tr><td>author.playtime_last_two_weeks</td><td>float64</td><td></td><td ><pre></pre></td><td></td></tr><tr><td>author.playtime_at_review</td><td>float64</td><td></td><td ><pre></pre></td><td></td></tr><tr><td>author.last_played</td><td>float64</td><td></td><td ><pre></pre></td><td></td></tr></table><h2>Data:</h2><table>\n",
       "<thead>\n",
       "<tr><th>#                                     </th><th>Unnamed: 0  </th><th>app_id  </th><th>app_name                </th><th>review_id  </th><th>language  </th><th>review                                                           </th><th>timestamp_created  </th><th>timestamp_updated  </th><th>recommended  </th><th>votes_helpful  </th><th>votes_funny  </th><th>weighted_vote_score  </th><th>comment_count  </th><th>steam_purchase  </th><th>received_for_free  </th><th>written_during_early_access  </th><th>author.steamid   </th><th>author.num_games_owned  </th><th>author.num_reviews  </th><th>author.playtime_forever  </th><th>author.playtime_last_two_weeks  </th><th>author.playtime_at_review  </th><th>author.last_played  </th></tr>\n",
       "</thead>\n",
       "<tbody>\n",
       "<tr><td><i style='opacity: 0.6'>0</i>         </td><td>0           </td><td>292030  </td><td>The Witcher 3: Wild Hunt</td><td>85185598   </td><td>schinese  </td><td>不玩此生遗憾，RPG游戏里的天花板，太吸引人了                      </td><td>1611381629         </td><td>1611381629         </td><td>True         </td><td>0              </td><td>0            </td><td>0.0                  </td><td>0              </td><td>True            </td><td>False              </td><td>False                        </td><td>76561199095369542</td><td>6                       </td><td>2                   </td><td>1909.0                   </td><td>1448.0                          </td><td>1909.0                     </td><td>1611343383.0        </td></tr>\n",
       "<tr><td><i style='opacity: 0.6'>1</i>         </td><td>1           </td><td>292030  </td><td>The Witcher 3: Wild Hunt</td><td>85185250   </td><td>schinese  </td><td>拔DIAO无情打桩机--杰洛特!!!                                      </td><td>1611381030         </td><td>1611381030         </td><td>True         </td><td>0              </td><td>0            </td><td>0.0                  </td><td>0              </td><td>True            </td><td>False              </td><td>False                        </td><td>76561198949504115</td><td>30                      </td><td>10                  </td><td>2764.0                   </td><td>2743.0                          </td><td>2674.0                     </td><td>1611386307.0        </td></tr>\n",
       "<tr><td><i style='opacity: 0.6'>2</i>         </td><td>2           </td><td>292030  </td><td>The Witcher 3: Wild Hunt</td><td>85185111   </td><td>schinese  </td><td>巫师3NB                                                          </td><td>1611380800         </td><td>1611380800         </td><td>True         </td><td>0              </td><td>0            </td><td>0.0                  </td><td>0              </td><td>True            </td><td>False              </td><td>False                        </td><td>76561199090098988</td><td>5                       </td><td>1                   </td><td>1061.0                   </td><td>1061.0                          </td><td>1060.0                     </td><td>1611383777.0        </td></tr>\n",
       "<tr><td><i style='opacity: 0.6'>3</i>         </td><td>3           </td><td>292030  </td><td>The Witcher 3: Wild Hunt</td><td>85184605   </td><td>english   </td><td>&quot;One of the best RPG&#x27;s of all time, worthy of an...              </td><td>1611379970         </td><td>1611379970         </td><td>True         </td><td>0              </td><td>0            </td><td>0.0                  </td><td>0              </td><td>True            </td><td>False              </td><td>False                        </td><td>76561199054755373</td><td>5                       </td><td>3                   </td><td>5587.0                   </td><td>3200.0                          </td><td>5524.0                     </td><td>1611383744.0        </td></tr>\n",
       "<tr><td><i style='opacity: 0.6'>4</i>         </td><td>4           </td><td>292030  </td><td>The Witcher 3: Wild Hunt</td><td>85184287   </td><td>schinese  </td><td>大作                                                             </td><td>1611379427         </td><td>1611379427         </td><td>True         </td><td>0              </td><td>0            </td><td>0.0                  </td><td>0              </td><td>True            </td><td>False              </td><td>False                        </td><td>76561199028326951</td><td>7                       </td><td>4                   </td><td>217.0                    </td><td>42.0                            </td><td>217.0                      </td><td>1610788249.0        </td></tr>\n",
       "<tr><td>...                                   </td><td>...         </td><td>...     </td><td>...                     </td><td>...        </td><td>...       </td><td>...                                                              </td><td>...                </td><td>...                </td><td>...          </td><td>...            </td><td>...          </td><td>...                  </td><td>...            </td><td>...             </td><td>...                </td><td>...                          </td><td>...              </td><td>...                     </td><td>...                 </td><td>...                      </td><td>...                             </td><td>...                        </td><td>...                 </td></tr>\n",
       "<tr><td><i style='opacity: 0.6'>21,747,366</i></td><td>21747371    </td><td>546560  </td><td>Half-Life: Alyx         </td><td>65645125   </td><td>english   </td><td>Holy balls                                                       </td><td>1584986704         </td><td>1584986704         </td><td>True         </td><td>0              </td><td>0            </td><td>0.0                  </td><td>0              </td><td>True            </td><td>False              </td><td>False                        </td><td>76561197967033932</td><td>431                     </td><td>7                   </td><td>432.0                    </td><td>0.0                             </td><td>29.0                       </td><td>1586627816.0        </td></tr>\n",
       "<tr><td><i style='opacity: 0.6'>21,747,367</i></td><td>21747372    </td><td>546560  </td><td>Half-Life: Alyx         </td><td>65645115   </td><td>english   </td><td>&#x27;A tripod thing bears down on you, it looks imme...              </td><td>1584986693         </td><td>1584986693         </td><td>True         </td><td>0              </td><td>0            </td><td>0.0                  </td><td>0              </td><td>False           </td><td>False              </td><td>False                        </td><td>76561198046495482</td><td>70                      </td><td>10                  </td><td>3296.0                   </td><td>15.0                            </td><td>24.0                       </td><td>1611080231.0        </td></tr>\n",
       "<tr><td><i style='opacity: 0.6'>21,747,368</i></td><td>21747373    </td><td>546560  </td><td>Half-Life: Alyx         </td><td>65645100   </td><td>english   </td><td>Honestly this is the best vr game ever                           </td><td>1584986673         </td><td>1584986673         </td><td>True         </td><td>0              </td><td>0            </td><td>0.4741379022598266   </td><td>0              </td><td>True            </td><td>False              </td><td>False                        </td><td>76561198176379749</td><td>79                      </td><td>17                  </td><td>2654.0                   </td><td>0.0                             </td><td>34.0                       </td><td>1591633753.0        </td></tr>\n",
       "<tr><td><i style='opacity: 0.6'>21,747,369</i></td><td>21747374    </td><td>546560  </td><td>Half-Life: Alyx         </td><td>65645066   </td><td>english   </td><td>&#x27;Smooth turning is not working right now.\\nIt app...             </td><td>1584986631         </td><td>1586382422         </td><td>True         </td><td>0              </td><td>0            </td><td>0.3860217034816742   </td><td>11             </td><td>True            </td><td>False              </td><td>False                        </td><td>76561198041763187</td><td>140                     </td><td>3                   </td><td>210.0                    </td><td>0.0                             </td><td>12.0                       </td><td>1589715415.0        </td></tr>\n",
       "<tr><td><i style='opacity: 0.6'>21,747,370</i></td><td>21747375    </td><td>546560  </td><td>Half-Life: Alyx         </td><td>65644930   </td><td>schinese  </td><td>&#x27;WMR加载中闪退，无法进入游戏\\nWMR Flashback in Load，cant play...</td><td>1584986505         </td><td>1592060800         </td><td>True         </td><td>0              </td><td>0            </td><td>0.4161067605018616   </td><td>5              </td><td>True            </td><td>False              </td><td>False                        </td><td>76561198116747069</td><td>253                     </td><td>7                   </td><td>1062.0                   </td><td>0.0                             </td><td>8.0                        </td><td>1602857543.0        </td></tr>\n",
       "</tbody>\n",
       "</table>"
      ],
      "text/plain": [
       "<IPython.core.display.HTML object>"
      ]
     },
     "metadata": {},
     "output_type": "display_data"
    }
   ],
   "source": [
    "test1.info()"
   ]
  },
  {
   "cell_type": "code",
   "execution_count": 49,
   "id": "837081c6",
   "metadata": {},
   "outputs": [
    {
     "ename": "AttributeError",
     "evalue": "'pyarrow.lib.StringArray' object has no attribute 'astype'",
     "output_type": "error",
     "traceback": [
      "\u001b[0;31m---------------------------------------------------------------------------\u001b[0m",
      "\u001b[0;31mAttributeError\u001b[0m                            Traceback (most recent call last)",
      "\u001b[0;32m<ipython-input-49-5f37f8cf48a4>\u001b[0m in \u001b[0;36m<module>\u001b[0;34m\u001b[0m\n\u001b[0;32m----> 1\u001b[0;31m \u001b[0mtest1\u001b[0m\u001b[0;34m[\u001b[0m\u001b[0;34m'timestamp_created'\u001b[0m\u001b[0;34m]\u001b[0m\u001b[0;34m=\u001b[0m\u001b[0mtest1\u001b[0m\u001b[0;34m.\u001b[0m\u001b[0mtimestamp_created\u001b[0m\u001b[0;34m.\u001b[0m\u001b[0mvalues\u001b[0m\u001b[0;34m.\u001b[0m\u001b[0mastype\u001b[0m\u001b[0;34m(\u001b[0m\u001b[0;34m'datetime64[ns]'\u001b[0m\u001b[0;34m)\u001b[0m\u001b[0;34m\u001b[0m\u001b[0;34m\u001b[0m\u001b[0m\n\u001b[0m",
      "\u001b[0;31mAttributeError\u001b[0m: 'pyarrow.lib.StringArray' object has no attribute 'astype'"
     ]
    }
   ],
   "source": [
    "# -- Way 1\n",
    "#test1['timestamp_created']=test1.timestamp_created.values.astype('datetime64[ns]')\n",
    "#AttributeError: 'pyarrow.lib.StringArray' object has no attribute 'astype'\n",
    "\n",
    "# -- Way 2\n",
    "#from datetime import datetime\n",
    "#date_format = \"%m/%d/%Y\"\n",
    "\n",
    "#def column_to_datetime(datetime_str):\n",
    "    #return np.datetime64(datetime.strptime(datetime_str, date_format))\n",
    "    #return datetime.utcfromtimestamp(datetime_str).strftime('%Y-%m-%d %H:%M:%S')\n",
    "\n",
    "#test1['timestamp_created'] = test1['timestamp_created'].apply(column_to_datetime)\n",
    "#Error is the timestamp does not math the date format that we're using\n",
    "\n",
    "\n",
    "# -- Way 3\n",
    "# Timestamps originally read as int64. This works on int\n",
    "vaex_df['timestamp_created']=datetime.utcfromtimestamp(vaex_df.timestamp_created).strftime('%Y-%m-%d %H:%M:%S')\n",
    "print(datetime.utcfromtimestamp(ts).strftime('%Y-%m-%d %H:%M:%S'))\n",
    "\n",
    "\n",
    "\n",
    "vaex_df['pDate']=vaex_df.Date.values.astype('datetime64[ns]')"
   ]
  },
  {
   "cell_type": "code",
   "execution_count": 82,
   "id": "4173342f",
   "metadata": {},
   "outputs": [
    {
     "data": {
      "text/plain": [
       "int"
      ]
     },
     "execution_count": 82,
     "metadata": {},
     "output_type": "execute_result"
    }
   ],
   "source": [
    "prueba1 = 1611381629\n",
    "type(prueba1)"
   ]
  },
  {
   "cell_type": "code",
   "execution_count": 83,
   "id": "130c0bf1",
   "metadata": {},
   "outputs": [
    {
     "name": "stdout",
     "output_type": "stream",
     "text": [
      "2021-01-23 06:00:29\n"
     ]
    }
   ],
   "source": [
    "print(datetime.utcfromtimestamp(prueba1).strftime('%Y-%m-%d %H:%M:%S'))"
   ]
  },
  {
   "cell_type": "code",
   "execution_count": 86,
   "id": "2f371171",
   "metadata": {},
   "outputs": [
    {
     "data": {
      "text/plain": [
       "array(1290197836)"
      ]
     },
     "execution_count": 86,
     "metadata": {},
     "output_type": "execute_result"
    }
   ],
   "source": [
    "vaex_df['timestamp_created'].min()"
   ]
  },
  {
   "cell_type": "code",
   "execution_count": 71,
   "id": "5d7fc86f",
   "metadata": {},
   "outputs": [
    {
     "data": {
      "text/html": [
       "<style>.vaex-description pre {\n",
       "          max-width : 450px;\n",
       "          white-space : nowrap;\n",
       "          overflow : hidden;\n",
       "          text-overflow: ellipsis;\n",
       "        }\n",
       "\n",
       "        .vex-description pre:hover {\n",
       "          max-width : initial;\n",
       "          white-space: pre;\n",
       "        }</style>"
      ],
      "text/plain": [
       "<IPython.core.display.HTML object>"
      ]
     },
     "metadata": {},
     "output_type": "display_data"
    },
    {
     "name": "stderr",
     "output_type": "stream",
     "text": [
      "ERROR:MainThread:vaex:error evaluating: timestamp_created at rows 0-5\n",
      "multiprocessing.pool.RemoteTraceback: \n",
      "\"\"\"\n",
      "Traceback (most recent call last):\n",
      "  File \"/Users/brauliovillalobos/opt/anaconda3/lib/python3.8/multiprocessing/pool.py\", line 125, in worker\n",
      "    result = (True, func(*args, **kwds))\n",
      "  File \"/Users/brauliovillalobos/opt/anaconda3/lib/python3.8/site-packages/vaex/expression.py\", line 1614, in _apply\n",
      "    scalar_result = self.f(*[fix_type(k[i]) for k in args], **{key: value[i] for key, value in kwargs.items()})\n",
      "  File \"<ipython-input-70-09bc19e09c32>\", line 6, in column_to_datetime\n",
      "TypeError: an integer is required (got type str)\n",
      "\"\"\"\n",
      "\n",
      "The above exception was the direct cause of the following exception:\n",
      "\n",
      "Traceback (most recent call last):\n",
      "  File \"/Users/brauliovillalobos/opt/anaconda3/lib/python3.8/site-packages/vaex/dataframe.py\", line 3865, in table_part\n",
      "    values[name] = df.evaluate(name)\n",
      "  File \"/Users/brauliovillalobos/opt/anaconda3/lib/python3.8/site-packages/vaex/dataframe.py\", line 2895, in evaluate\n",
      "    return self._evaluate_implementation(expression, i1=i1, i2=i2, out=out, selection=selection, filtered=filtered, array_type=array_type, parallel=parallel, chunk_size=chunk_size)\n",
      "  File \"/Users/brauliovillalobos/opt/anaconda3/lib/python3.8/site-packages/vaex/dataframe.py\", line 6067, in _evaluate_implementation\n",
      "    dtypes[expression] = dtype = df.data_type(expression).internal\n",
      "  File \"/Users/brauliovillalobos/opt/anaconda3/lib/python3.8/site-packages/vaex/dataframe.py\", line 2049, in data_type\n",
      "    data = self.evaluate(expression, 0, 1, filtered=True, array_type=array_type, parallel=False)\n",
      "  File \"/Users/brauliovillalobos/opt/anaconda3/lib/python3.8/site-packages/vaex/dataframe.py\", line 2895, in evaluate\n",
      "    return self._evaluate_implementation(expression, i1=i1, i2=i2, out=out, selection=selection, filtered=filtered, array_type=array_type, parallel=parallel, chunk_size=chunk_size)\n",
      "  File \"/Users/brauliovillalobos/opt/anaconda3/lib/python3.8/site-packages/vaex/dataframe.py\", line 6155, in _evaluate_implementation\n",
      "    value = scope.evaluate(expression)\n",
      "  File \"/Users/brauliovillalobos/opt/anaconda3/lib/python3.8/site-packages/vaex/scopes.py\", line 106, in evaluate\n",
      "    result = self[expression]\n",
      "  File \"/Users/brauliovillalobos/opt/anaconda3/lib/python3.8/site-packages/vaex/scopes.py\", line 156, in __getitem__\n",
      "    values = self.evaluate(expression)\n",
      "  File \"/Users/brauliovillalobos/opt/anaconda3/lib/python3.8/site-packages/vaex/scopes.py\", line 112, in evaluate\n",
      "    result = eval(expression, expression_namespace, self)\n",
      "  File \"<string>\", line 1, in <module>\n",
      "  File \"/Users/brauliovillalobos/opt/anaconda3/lib/python3.8/site-packages/vaex/arrow/numpy_dispatch.py\", line 136, in wrapper\n",
      "    result = f(*args, **kwargs)\n",
      "  File \"/Users/brauliovillalobos/opt/anaconda3/lib/python3.8/site-packages/vaex/expression.py\", line 1599, in __call__\n",
      "    return vaex.multiprocessing.apply(self._apply, args, kwargs, self.multiprocessing)\n",
      "  File \"/Users/brauliovillalobos/opt/anaconda3/lib/python3.8/site-packages/vaex/multiprocessing.py\", line 32, in apply\n",
      "    result = _get_pool().apply(f, args, kwargs)\n",
      "  File \"/Users/brauliovillalobos/opt/anaconda3/lib/python3.8/multiprocessing/pool.py\", line 357, in apply\n",
      "    return self.apply_async(func, args, kwds).get()\n",
      "  File \"/Users/brauliovillalobos/opt/anaconda3/lib/python3.8/multiprocessing/pool.py\", line 771, in get\n",
      "    raise self._value\n",
      "  File \"/Users/brauliovillalobos/opt/anaconda3/lib/python3.8/multiprocessing/pool.py\", line 125, in worker\n",
      "    result = (True, func(*args, **kwds))\n",
      "  File \"/Users/brauliovillalobos/opt/anaconda3/lib/python3.8/site-packages/vaex/expression.py\", line 1614, in _apply\n",
      "    scalar_result = self.f(*[fix_type(k[i]) for k in args], **{key: value[i] for key, value in kwargs.items()})\n",
      "  File \"<ipython-input-70-09bc19e09c32>\", line 6, in column_to_datetime\n",
      "    return datetime.utcfromtimestamp(datetime_str).strftime('%Y-%m-%d %H:%M:%S')\n",
      "TypeError: an integer is required (got type str)\n",
      "ERROR:MainThread:vaex:error evaluating: timestamp_created at rows 21747366-21747371\n",
      "multiprocessing.pool.RemoteTraceback: \n",
      "\"\"\"\n",
      "Traceback (most recent call last):\n",
      "  File \"/Users/brauliovillalobos/opt/anaconda3/lib/python3.8/multiprocessing/pool.py\", line 125, in worker\n",
      "    result = (True, func(*args, **kwds))\n",
      "  File \"/Users/brauliovillalobos/opt/anaconda3/lib/python3.8/site-packages/vaex/expression.py\", line 1614, in _apply\n",
      "    scalar_result = self.f(*[fix_type(k[i]) for k in args], **{key: value[i] for key, value in kwargs.items()})\n",
      "  File \"<ipython-input-70-09bc19e09c32>\", line 6, in column_to_datetime\n",
      "TypeError: an integer is required (got type str)\n",
      "\"\"\"\n",
      "\n",
      "The above exception was the direct cause of the following exception:\n",
      "\n",
      "Traceback (most recent call last):\n",
      "  File \"/Users/brauliovillalobos/opt/anaconda3/lib/python3.8/site-packages/vaex/dataframe.py\", line 3865, in table_part\n",
      "    values[name] = df.evaluate(name)\n",
      "  File \"/Users/brauliovillalobos/opt/anaconda3/lib/python3.8/site-packages/vaex/dataframe.py\", line 2895, in evaluate\n",
      "    return self._evaluate_implementation(expression, i1=i1, i2=i2, out=out, selection=selection, filtered=filtered, array_type=array_type, parallel=parallel, chunk_size=chunk_size)\n",
      "  File \"/Users/brauliovillalobos/opt/anaconda3/lib/python3.8/site-packages/vaex/dataframe.py\", line 6067, in _evaluate_implementation\n",
      "    dtypes[expression] = dtype = df.data_type(expression).internal\n",
      "  File \"/Users/brauliovillalobos/opt/anaconda3/lib/python3.8/site-packages/vaex/dataframe.py\", line 2049, in data_type\n",
      "    data = self.evaluate(expression, 0, 1, filtered=True, array_type=array_type, parallel=False)\n",
      "  File \"/Users/brauliovillalobos/opt/anaconda3/lib/python3.8/site-packages/vaex/dataframe.py\", line 2895, in evaluate\n",
      "    return self._evaluate_implementation(expression, i1=i1, i2=i2, out=out, selection=selection, filtered=filtered, array_type=array_type, parallel=parallel, chunk_size=chunk_size)\n",
      "  File \"/Users/brauliovillalobos/opt/anaconda3/lib/python3.8/site-packages/vaex/dataframe.py\", line 6155, in _evaluate_implementation\n",
      "    value = scope.evaluate(expression)\n",
      "  File \"/Users/brauliovillalobos/opt/anaconda3/lib/python3.8/site-packages/vaex/scopes.py\", line 106, in evaluate\n",
      "    result = self[expression]\n",
      "  File \"/Users/brauliovillalobos/opt/anaconda3/lib/python3.8/site-packages/vaex/scopes.py\", line 156, in __getitem__\n",
      "    values = self.evaluate(expression)\n",
      "  File \"/Users/brauliovillalobos/opt/anaconda3/lib/python3.8/site-packages/vaex/scopes.py\", line 112, in evaluate\n",
      "    result = eval(expression, expression_namespace, self)\n",
      "  File \"<string>\", line 1, in <module>\n",
      "  File \"/Users/brauliovillalobos/opt/anaconda3/lib/python3.8/site-packages/vaex/arrow/numpy_dispatch.py\", line 136, in wrapper\n",
      "    result = f(*args, **kwargs)\n",
      "  File \"/Users/brauliovillalobos/opt/anaconda3/lib/python3.8/site-packages/vaex/expression.py\", line 1599, in __call__\n",
      "    return vaex.multiprocessing.apply(self._apply, args, kwargs, self.multiprocessing)\n",
      "  File \"/Users/brauliovillalobos/opt/anaconda3/lib/python3.8/site-packages/vaex/multiprocessing.py\", line 32, in apply\n",
      "    result = _get_pool().apply(f, args, kwargs)\n",
      "  File \"/Users/brauliovillalobos/opt/anaconda3/lib/python3.8/multiprocessing/pool.py\", line 357, in apply\n",
      "    return self.apply_async(func, args, kwds).get()\n",
      "  File \"/Users/brauliovillalobos/opt/anaconda3/lib/python3.8/multiprocessing/pool.py\", line 771, in get\n",
      "    raise self._value\n",
      "  File \"/Users/brauliovillalobos/opt/anaconda3/lib/python3.8/multiprocessing/pool.py\", line 125, in worker\n",
      "    result = (True, func(*args, **kwds))\n",
      "  File \"/Users/brauliovillalobos/opt/anaconda3/lib/python3.8/site-packages/vaex/expression.py\", line 1614, in _apply\n",
      "    scalar_result = self.f(*[fix_type(k[i]) for k in args], **{key: value[i] for key, value in kwargs.items()})\n",
      "  File \"<ipython-input-70-09bc19e09c32>\", line 6, in column_to_datetime\n",
      "    return datetime.utcfromtimestamp(datetime_str).strftime('%Y-%m-%d %H:%M:%S')\n",
      "TypeError: an integer is required (got type str)\n"
     ]
    },
    {
     "data": {
      "text/html": [
       "<div><h2>steam_reviews.csv</h2> <b>rows</b>: 21,747,371</div><h2>Columns:</h2><table class='table-striped'><thead><tr><th>column</th><th>type</th><th>unit</th><th>description</th><th>expression</th></tr></thead><tr><td>Unnamed: 0</td><td>int64</td><td></td><td ><pre></pre></td><td></td></tr><tr><td>app_id</td><td>int64</td><td></td><td ><pre></pre></td><td></td></tr><tr><td>app_name</td><td>str</td><td></td><td ><pre></pre></td><td></td></tr><tr><td>review_id</td><td>int64</td><td></td><td ><pre></pre></td><td></td></tr><tr><td>language</td><td>str</td><td></td><td ><pre></pre></td><td></td></tr><tr><td>review</td><td>str</td><td></td><td ><pre></pre></td><td></td></tr><tr><td>timestamp_created</td><td></i>virtual column</i></td><td></td><td ><pre></pre></td><td><code>lambda_function(__timestamp_created)</code></td></tr><tr><td>timestamp_updated</td><td>str</td><td></td><td ><pre></pre></td><td></td></tr><tr><td>recommended</td><td>bool</td><td></td><td ><pre></pre></td><td></td></tr><tr><td>votes_helpful</td><td>int64</td><td></td><td ><pre></pre></td><td></td></tr><tr><td>votes_funny</td><td>int64</td><td></td><td ><pre></pre></td><td></td></tr><tr><td>weighted_vote_score</td><td>float64</td><td></td><td ><pre></pre></td><td></td></tr><tr><td>comment_count</td><td>int64</td><td></td><td ><pre></pre></td><td></td></tr><tr><td>steam_purchase</td><td>bool</td><td></td><td ><pre></pre></td><td></td></tr><tr><td>received_for_free</td><td>bool</td><td></td><td ><pre></pre></td><td></td></tr><tr><td>written_during_early_access</td><td>bool</td><td></td><td ><pre></pre></td><td></td></tr><tr><td>author.steamid</td><td>int64</td><td></td><td ><pre></pre></td><td></td></tr><tr><td>author.num_games_owned</td><td>int64</td><td></td><td ><pre></pre></td><td></td></tr><tr><td>author.num_reviews</td><td>int64</td><td></td><td ><pre></pre></td><td></td></tr><tr><td>author.playtime_forever</td><td>float64</td><td></td><td ><pre></pre></td><td></td></tr><tr><td>author.playtime_last_two_weeks</td><td>float64</td><td></td><td ><pre></pre></td><td></td></tr><tr><td>author.playtime_at_review</td><td>float64</td><td></td><td ><pre></pre></td><td></td></tr><tr><td>author.last_played</td><td>float64</td><td></td><td ><pre></pre></td><td></td></tr></table><h2>Data:</h2><table>\n",
       "<thead>\n",
       "<tr><th>#                                     </th><th>Unnamed: 0  </th><th>app_id  </th><th>app_name                </th><th>review_id  </th><th>language  </th><th>review                                                           </th><th>timestamp_created  </th><th>timestamp_updated  </th><th>recommended  </th><th>votes_helpful  </th><th>votes_funny  </th><th>weighted_vote_score  </th><th>comment_count  </th><th>steam_purchase  </th><th>received_for_free  </th><th>written_during_early_access  </th><th>author.steamid   </th><th>author.num_games_owned  </th><th>author.num_reviews  </th><th>author.playtime_forever  </th><th>author.playtime_last_two_weeks  </th><th>author.playtime_at_review  </th><th>author.last_played  </th></tr>\n",
       "</thead>\n",
       "<tbody>\n",
       "<tr><td><i style='opacity: 0.6'>0</i>         </td><td>0           </td><td>292030  </td><td>The Witcher 3: Wild Hunt</td><td>85185598   </td><td>schinese  </td><td>不玩此生遗憾，RPG游戏里的天花板，太吸引人了                      </td><td>error              </td><td>1611381629         </td><td>True         </td><td>0              </td><td>0            </td><td>0.0                  </td><td>0              </td><td>True            </td><td>False              </td><td>False                        </td><td>76561199095369542</td><td>6                       </td><td>2                   </td><td>1909.0                   </td><td>1448.0                          </td><td>1909.0                     </td><td>1611343383.0        </td></tr>\n",
       "<tr><td><i style='opacity: 0.6'>1</i>         </td><td>1           </td><td>292030  </td><td>The Witcher 3: Wild Hunt</td><td>85185250   </td><td>schinese  </td><td>拔DIAO无情打桩机--杰洛特!!!                                      </td><td>error              </td><td>1611381030         </td><td>True         </td><td>0              </td><td>0            </td><td>0.0                  </td><td>0              </td><td>True            </td><td>False              </td><td>False                        </td><td>76561198949504115</td><td>30                      </td><td>10                  </td><td>2764.0                   </td><td>2743.0                          </td><td>2674.0                     </td><td>1611386307.0        </td></tr>\n",
       "<tr><td><i style='opacity: 0.6'>2</i>         </td><td>2           </td><td>292030  </td><td>The Witcher 3: Wild Hunt</td><td>85185111   </td><td>schinese  </td><td>巫师3NB                                                          </td><td>error              </td><td>1611380800         </td><td>True         </td><td>0              </td><td>0            </td><td>0.0                  </td><td>0              </td><td>True            </td><td>False              </td><td>False                        </td><td>76561199090098988</td><td>5                       </td><td>1                   </td><td>1061.0                   </td><td>1061.0                          </td><td>1060.0                     </td><td>1611383777.0        </td></tr>\n",
       "<tr><td><i style='opacity: 0.6'>3</i>         </td><td>3           </td><td>292030  </td><td>The Witcher 3: Wild Hunt</td><td>85184605   </td><td>english   </td><td>&quot;One of the best RPG&#x27;s of all time, worthy of an...              </td><td>error              </td><td>1611379970         </td><td>True         </td><td>0              </td><td>0            </td><td>0.0                  </td><td>0              </td><td>True            </td><td>False              </td><td>False                        </td><td>76561199054755373</td><td>5                       </td><td>3                   </td><td>5587.0                   </td><td>3200.0                          </td><td>5524.0                     </td><td>1611383744.0        </td></tr>\n",
       "<tr><td><i style='opacity: 0.6'>4</i>         </td><td>4           </td><td>292030  </td><td>The Witcher 3: Wild Hunt</td><td>85184287   </td><td>schinese  </td><td>大作                                                             </td><td>error              </td><td>1611379427         </td><td>True         </td><td>0              </td><td>0            </td><td>0.0                  </td><td>0              </td><td>True            </td><td>False              </td><td>False                        </td><td>76561199028326951</td><td>7                       </td><td>4                   </td><td>217.0                    </td><td>42.0                            </td><td>217.0                      </td><td>1610788249.0        </td></tr>\n",
       "<tr><td>...                                   </td><td>...         </td><td>...     </td><td>...                     </td><td>...        </td><td>...       </td><td>...                                                              </td><td>...                </td><td>...                </td><td>...          </td><td>...            </td><td>...          </td><td>...                  </td><td>...            </td><td>...             </td><td>...                </td><td>...                          </td><td>...              </td><td>...                     </td><td>...                 </td><td>...                      </td><td>...                             </td><td>...                        </td><td>...                 </td></tr>\n",
       "<tr><td><i style='opacity: 0.6'>21,747,366</i></td><td>21747371    </td><td>546560  </td><td>Half-Life: Alyx         </td><td>65645125   </td><td>english   </td><td>Holy balls                                                       </td><td>error              </td><td>1584986704         </td><td>True         </td><td>0              </td><td>0            </td><td>0.0                  </td><td>0              </td><td>True            </td><td>False              </td><td>False                        </td><td>76561197967033932</td><td>431                     </td><td>7                   </td><td>432.0                    </td><td>0.0                             </td><td>29.0                       </td><td>1586627816.0        </td></tr>\n",
       "<tr><td><i style='opacity: 0.6'>21,747,367</i></td><td>21747372    </td><td>546560  </td><td>Half-Life: Alyx         </td><td>65645115   </td><td>english   </td><td>&#x27;A tripod thing bears down on you, it looks imme...              </td><td>error              </td><td>1584986693         </td><td>True         </td><td>0              </td><td>0            </td><td>0.0                  </td><td>0              </td><td>False           </td><td>False              </td><td>False                        </td><td>76561198046495482</td><td>70                      </td><td>10                  </td><td>3296.0                   </td><td>15.0                            </td><td>24.0                       </td><td>1611080231.0        </td></tr>\n",
       "<tr><td><i style='opacity: 0.6'>21,747,368</i></td><td>21747373    </td><td>546560  </td><td>Half-Life: Alyx         </td><td>65645100   </td><td>english   </td><td>Honestly this is the best vr game ever                           </td><td>error              </td><td>1584986673         </td><td>True         </td><td>0              </td><td>0            </td><td>0.4741379022598266   </td><td>0              </td><td>True            </td><td>False              </td><td>False                        </td><td>76561198176379749</td><td>79                      </td><td>17                  </td><td>2654.0                   </td><td>0.0                             </td><td>34.0                       </td><td>1591633753.0        </td></tr>\n",
       "<tr><td><i style='opacity: 0.6'>21,747,369</i></td><td>21747374    </td><td>546560  </td><td>Half-Life: Alyx         </td><td>65645066   </td><td>english   </td><td>&#x27;Smooth turning is not working right now.\\nIt app...             </td><td>error              </td><td>1586382422         </td><td>True         </td><td>0              </td><td>0            </td><td>0.3860217034816742   </td><td>11             </td><td>True            </td><td>False              </td><td>False                        </td><td>76561198041763187</td><td>140                     </td><td>3                   </td><td>210.0                    </td><td>0.0                             </td><td>12.0                       </td><td>1589715415.0        </td></tr>\n",
       "<tr><td><i style='opacity: 0.6'>21,747,370</i></td><td>21747375    </td><td>546560  </td><td>Half-Life: Alyx         </td><td>65644930   </td><td>schinese  </td><td>&#x27;WMR加载中闪退，无法进入游戏\\nWMR Flashback in Load，cant play...</td><td>error              </td><td>1592060800         </td><td>True         </td><td>0              </td><td>0            </td><td>0.4161067605018616   </td><td>5              </td><td>True            </td><td>False              </td><td>False                        </td><td>76561198116747069</td><td>253                     </td><td>7                   </td><td>1062.0                   </td><td>0.0                             </td><td>8.0                        </td><td>1602857543.0        </td></tr>\n",
       "</tbody>\n",
       "</table>"
      ],
      "text/plain": [
       "<IPython.core.display.HTML object>"
      ]
     },
     "metadata": {},
     "output_type": "display_data"
    }
   ],
   "source": [
    "test1.info()"
   ]
  },
  {
   "cell_type": "markdown",
   "id": "6ecc704c",
   "metadata": {},
   "source": [
    "# RQ1: Exploratory Data Analysis (EDA)"
   ]
  },
  {
   "cell_type": "markdown",
   "id": "e3273d4d",
   "metadata": {},
   "source": [
    "Our dataset to analyze is composed of 23 columns or features and 21.747.371 observations. "
   ]
  },
  {
   "cell_type": "code",
   "execution_count": 19,
   "id": "b256f65f",
   "metadata": {},
   "outputs": [
    {
     "data": {
      "text/plain": [
       "(21747371, 23)"
      ]
     },
     "execution_count": 19,
     "metadata": {},
     "output_type": "execute_result"
    }
   ],
   "source": [
    "vaex_df.shape"
   ]
  },
  {
   "cell_type": "markdown",
   "id": "e47ea47d",
   "metadata": {},
   "source": [
    "With the info command we identify the types of variables. \n",
    "\n",
    "\n",
    "Integer variables:\n",
    "*   app_id, review_id, timestamp_created, timestamp_updated, votes_helpful, votes_funny, comment_count, author.steamid, author.num_gaes_owned, author.num_reviews\n",
    "\n",
    "String variables:\n",
    "*   app_name, language, review\n",
    "\n",
    "Float variables:\n",
    "*   weighted_vote_score, author.playtime_forever, author.playtime_last_two_weeks, author.playtime_at_review, author.last_played\n",
    "\n",
    "Boolean variables:\n",
    "\n",
    "*   recommended, steam_purchase, received_for_free, written_during_early_access,\n"
   ]
  },
  {
   "cell_type": "code",
   "execution_count": 37,
   "id": "6e6ea1f4",
   "metadata": {},
   "outputs": [
    {
     "data": {
      "text/html": [
       "<style>.vaex-description pre {\n",
       "          max-width : 450px;\n",
       "          white-space : nowrap;\n",
       "          overflow : hidden;\n",
       "          text-overflow: ellipsis;\n",
       "        }\n",
       "\n",
       "        .vex-description pre:hover {\n",
       "          max-width : initial;\n",
       "          white-space: pre;\n",
       "        }</style>"
      ],
      "text/plain": [
       "<IPython.core.display.HTML object>"
      ]
     },
     "metadata": {},
     "output_type": "display_data"
    },
    {
     "data": {
      "text/html": [
       "<div><h2>steam_reviews.csv</h2> <b>rows</b>: 21,747,371</div><h2>Columns:</h2><table class='table-striped'><thead><tr><th>column</th><th>type</th><th>unit</th><th>description</th><th>expression</th></tr></thead><tr><td>Unnamed: 0</td><td>int64</td><td></td><td ><pre></pre></td><td></td></tr><tr><td>app_id</td><td>int64</td><td></td><td ><pre></pre></td><td></td></tr><tr><td>app_name</td><td>str</td><td></td><td ><pre></pre></td><td></td></tr><tr><td>review_id</td><td>int64</td><td></td><td ><pre></pre></td><td></td></tr><tr><td>language</td><td>str</td><td></td><td ><pre></pre></td><td></td></tr><tr><td>review</td><td>str</td><td></td><td ><pre></pre></td><td></td></tr><tr><td>timestamp_created</td><td>int64</td><td></td><td ><pre></pre></td><td></td></tr><tr><td>timestamp_updated</td><td>int64</td><td></td><td ><pre></pre></td><td></td></tr><tr><td>recommended</td><td>bool</td><td></td><td ><pre></pre></td><td></td></tr><tr><td>votes_helpful</td><td>int64</td><td></td><td ><pre></pre></td><td></td></tr><tr><td>votes_funny</td><td>int64</td><td></td><td ><pre></pre></td><td></td></tr><tr><td>weighted_vote_score</td><td>float64</td><td></td><td ><pre></pre></td><td></td></tr><tr><td>comment_count</td><td>int64</td><td></td><td ><pre></pre></td><td></td></tr><tr><td>steam_purchase</td><td>bool</td><td></td><td ><pre></pre></td><td></td></tr><tr><td>received_for_free</td><td>bool</td><td></td><td ><pre></pre></td><td></td></tr><tr><td>written_during_early_access</td><td>bool</td><td></td><td ><pre></pre></td><td></td></tr><tr><td>author.steamid</td><td>int64</td><td></td><td ><pre></pre></td><td></td></tr><tr><td>author.num_games_owned</td><td>int64</td><td></td><td ><pre></pre></td><td></td></tr><tr><td>author.num_reviews</td><td>int64</td><td></td><td ><pre></pre></td><td></td></tr><tr><td>author.playtime_forever</td><td>float64</td><td></td><td ><pre></pre></td><td></td></tr><tr><td>author.playtime_last_two_weeks</td><td>float64</td><td></td><td ><pre></pre></td><td></td></tr><tr><td>author.playtime_at_review</td><td>float64</td><td></td><td ><pre></pre></td><td></td></tr><tr><td>author.last_played</td><td>float64</td><td></td><td ><pre></pre></td><td></td></tr></table><h2>Data:</h2><table>\n",
       "<thead>\n",
       "<tr><th>#                                     </th><th>Unnamed: 0  </th><th>app_id  </th><th>app_name                </th><th>review_id  </th><th>language  </th><th>review                                                           </th><th>timestamp_created  </th><th>timestamp_updated  </th><th>recommended  </th><th>votes_helpful  </th><th>votes_funny  </th><th>weighted_vote_score  </th><th>comment_count  </th><th>steam_purchase  </th><th>received_for_free  </th><th>written_during_early_access  </th><th>author.steamid   </th><th>author.num_games_owned  </th><th>author.num_reviews  </th><th>author.playtime_forever  </th><th>author.playtime_last_two_weeks  </th><th>author.playtime_at_review  </th><th>author.last_played  </th></tr>\n",
       "</thead>\n",
       "<tbody>\n",
       "<tr><td><i style='opacity: 0.6'>0</i>         </td><td>0           </td><td>292030  </td><td>The Witcher 3: Wild Hunt</td><td>85185598   </td><td>schinese  </td><td>不玩此生遗憾，RPG游戏里的天花板，太吸引人了                      </td><td>1611381629         </td><td>1611381629         </td><td>True         </td><td>0              </td><td>0            </td><td>0.0                  </td><td>0              </td><td>True            </td><td>False              </td><td>False                        </td><td>76561199095369542</td><td>6                       </td><td>2                   </td><td>1909.0                   </td><td>1448.0                          </td><td>1909.0                     </td><td>1611343383.0        </td></tr>\n",
       "<tr><td><i style='opacity: 0.6'>1</i>         </td><td>1           </td><td>292030  </td><td>The Witcher 3: Wild Hunt</td><td>85185250   </td><td>schinese  </td><td>拔DIAO无情打桩机--杰洛特!!!                                      </td><td>1611381030         </td><td>1611381030         </td><td>True         </td><td>0              </td><td>0            </td><td>0.0                  </td><td>0              </td><td>True            </td><td>False              </td><td>False                        </td><td>76561198949504115</td><td>30                      </td><td>10                  </td><td>2764.0                   </td><td>2743.0                          </td><td>2674.0                     </td><td>1611386307.0        </td></tr>\n",
       "<tr><td><i style='opacity: 0.6'>2</i>         </td><td>2           </td><td>292030  </td><td>The Witcher 3: Wild Hunt</td><td>85185111   </td><td>schinese  </td><td>巫师3NB                                                          </td><td>1611380800         </td><td>1611380800         </td><td>True         </td><td>0              </td><td>0            </td><td>0.0                  </td><td>0              </td><td>True            </td><td>False              </td><td>False                        </td><td>76561199090098988</td><td>5                       </td><td>1                   </td><td>1061.0                   </td><td>1061.0                          </td><td>1060.0                     </td><td>1611383777.0        </td></tr>\n",
       "<tr><td><i style='opacity: 0.6'>3</i>         </td><td>3           </td><td>292030  </td><td>The Witcher 3: Wild Hunt</td><td>85184605   </td><td>english   </td><td>&quot;One of the best RPG&#x27;s of all time, worthy of an...              </td><td>1611379970         </td><td>1611379970         </td><td>True         </td><td>0              </td><td>0            </td><td>0.0                  </td><td>0              </td><td>True            </td><td>False              </td><td>False                        </td><td>76561199054755373</td><td>5                       </td><td>3                   </td><td>5587.0                   </td><td>3200.0                          </td><td>5524.0                     </td><td>1611383744.0        </td></tr>\n",
       "<tr><td><i style='opacity: 0.6'>4</i>         </td><td>4           </td><td>292030  </td><td>The Witcher 3: Wild Hunt</td><td>85184287   </td><td>schinese  </td><td>大作                                                             </td><td>1611379427         </td><td>1611379427         </td><td>True         </td><td>0              </td><td>0            </td><td>0.0                  </td><td>0              </td><td>True            </td><td>False              </td><td>False                        </td><td>76561199028326951</td><td>7                       </td><td>4                   </td><td>217.0                    </td><td>42.0                            </td><td>217.0                      </td><td>1610788249.0        </td></tr>\n",
       "<tr><td>...                                   </td><td>...         </td><td>...     </td><td>...                     </td><td>...        </td><td>...       </td><td>...                                                              </td><td>...                </td><td>...                </td><td>...          </td><td>...            </td><td>...          </td><td>...                  </td><td>...            </td><td>...             </td><td>...                </td><td>...                          </td><td>...              </td><td>...                     </td><td>...                 </td><td>...                      </td><td>...                             </td><td>...                        </td><td>...                 </td></tr>\n",
       "<tr><td><i style='opacity: 0.6'>21,747,366</i></td><td>21747371    </td><td>546560  </td><td>Half-Life: Alyx         </td><td>65645125   </td><td>english   </td><td>Holy balls                                                       </td><td>1584986704         </td><td>1584986704         </td><td>True         </td><td>0              </td><td>0            </td><td>0.0                  </td><td>0              </td><td>True            </td><td>False              </td><td>False                        </td><td>76561197967033932</td><td>431                     </td><td>7                   </td><td>432.0                    </td><td>0.0                             </td><td>29.0                       </td><td>1586627816.0        </td></tr>\n",
       "<tr><td><i style='opacity: 0.6'>21,747,367</i></td><td>21747372    </td><td>546560  </td><td>Half-Life: Alyx         </td><td>65645115   </td><td>english   </td><td>&#x27;A tripod thing bears down on you, it looks imme...              </td><td>1584986693         </td><td>1584986693         </td><td>True         </td><td>0              </td><td>0            </td><td>0.0                  </td><td>0              </td><td>False           </td><td>False              </td><td>False                        </td><td>76561198046495482</td><td>70                      </td><td>10                  </td><td>3296.0                   </td><td>15.0                            </td><td>24.0                       </td><td>1611080231.0        </td></tr>\n",
       "<tr><td><i style='opacity: 0.6'>21,747,368</i></td><td>21747373    </td><td>546560  </td><td>Half-Life: Alyx         </td><td>65645100   </td><td>english   </td><td>Honestly this is the best vr game ever                           </td><td>1584986673         </td><td>1584986673         </td><td>True         </td><td>0              </td><td>0            </td><td>0.4741379022598266   </td><td>0              </td><td>True            </td><td>False              </td><td>False                        </td><td>76561198176379749</td><td>79                      </td><td>17                  </td><td>2654.0                   </td><td>0.0                             </td><td>34.0                       </td><td>1591633753.0        </td></tr>\n",
       "<tr><td><i style='opacity: 0.6'>21,747,369</i></td><td>21747374    </td><td>546560  </td><td>Half-Life: Alyx         </td><td>65645066   </td><td>english   </td><td>&#x27;Smooth turning is not working right now.\\nIt app...             </td><td>1584986631         </td><td>1586382422         </td><td>True         </td><td>0              </td><td>0            </td><td>0.3860217034816742   </td><td>11             </td><td>True            </td><td>False              </td><td>False                        </td><td>76561198041763187</td><td>140                     </td><td>3                   </td><td>210.0                    </td><td>0.0                             </td><td>12.0                       </td><td>1589715415.0        </td></tr>\n",
       "<tr><td><i style='opacity: 0.6'>21,747,370</i></td><td>21747375    </td><td>546560  </td><td>Half-Life: Alyx         </td><td>65644930   </td><td>schinese  </td><td>&#x27;WMR加载中闪退，无法进入游戏\\nWMR Flashback in Load，cant play...</td><td>1584986505         </td><td>1592060800         </td><td>True         </td><td>0              </td><td>0            </td><td>0.4161067605018616   </td><td>5              </td><td>True            </td><td>False              </td><td>False                        </td><td>76561198116747069</td><td>253                     </td><td>7                   </td><td>1062.0                   </td><td>0.0                             </td><td>8.0                        </td><td>1602857543.0        </td></tr>\n",
       "</tbody>\n",
       "</table>"
      ],
      "text/plain": [
       "<IPython.core.display.HTML object>"
      ]
     },
     "metadata": {},
     "output_type": "display_data"
    }
   ],
   "source": [
    "vaex_df.info()"
   ]
  },
  {
   "cell_type": "markdown",
   "id": "a4bf230a",
   "metadata": {},
   "source": [
    "Based on this, we should convert the types of some variables, since they aren't been correctly read.\n",
    "\n",
    "* app_id: is currently interpreted as an int, but it should be treated as a string, since this is the unique number identification of each app. \n",
    "* review_id: is currently interpreted as an int, but is should also be treated as a string. \n",
    "* timestamp_created & timestamp_updated: currently interpreted as int, but they should be treated as datetime objects. "
   ]
  },
  {
   "cell_type": "code",
   "execution_count": 42,
   "id": "1159b0e9",
   "metadata": {},
   "outputs": [
    {
     "ename": "TypeError",
     "evalue": "an integer is required (got type Expression)",
     "output_type": "error",
     "traceback": [
      "\u001b[0;31m---------------------------------------------------------------------------\u001b[0m",
      "\u001b[0;31mTypeError\u001b[0m                                 Traceback (most recent call last)",
      "\u001b[0;32m<ipython-input-42-8507aa3e57e0>\u001b[0m in \u001b[0;36m<module>\u001b[0;34m\u001b[0m\n\u001b[1;32m      1\u001b[0m \u001b[0mvaex_df\u001b[0m\u001b[0;34m[\u001b[0m\u001b[0;34m'app_id'\u001b[0m\u001b[0;34m]\u001b[0m\u001b[0;34m=\u001b[0m \u001b[0mvaex_df\u001b[0m\u001b[0;34m.\u001b[0m\u001b[0mapp_id\u001b[0m\u001b[0;34m.\u001b[0m\u001b[0mastype\u001b[0m\u001b[0;34m(\u001b[0m\u001b[0;34m'str'\u001b[0m\u001b[0;34m)\u001b[0m\u001b[0;34m\u001b[0m\u001b[0;34m\u001b[0m\u001b[0m\n\u001b[1;32m      2\u001b[0m \u001b[0mvaex_df\u001b[0m\u001b[0;34m[\u001b[0m\u001b[0;34m'review_id'\u001b[0m\u001b[0;34m]\u001b[0m\u001b[0;34m=\u001b[0m \u001b[0mvaex_df\u001b[0m\u001b[0;34m.\u001b[0m\u001b[0mreview_id\u001b[0m\u001b[0;34m.\u001b[0m\u001b[0mastype\u001b[0m\u001b[0;34m(\u001b[0m\u001b[0;34m'str'\u001b[0m\u001b[0;34m)\u001b[0m\u001b[0;34m\u001b[0m\u001b[0;34m\u001b[0m\u001b[0m\n\u001b[0;32m----> 3\u001b[0;31m \u001b[0mvaex_df\u001b[0m\u001b[0;34m[\u001b[0m\u001b[0;34m'timestamp_created'\u001b[0m\u001b[0;34m]\u001b[0m\u001b[0;34m=\u001b[0m\u001b[0mdatetime\u001b[0m\u001b[0;34m.\u001b[0m\u001b[0mutcfromtimestamp\u001b[0m\u001b[0;34m(\u001b[0m\u001b[0mvaex_df\u001b[0m\u001b[0;34m.\u001b[0m\u001b[0mtimestamp_created\u001b[0m\u001b[0;34m)\u001b[0m\u001b[0;34m.\u001b[0m\u001b[0mstrftime\u001b[0m\u001b[0;34m(\u001b[0m\u001b[0;34m'%Y-%m-%d %H:%M:%S'\u001b[0m\u001b[0;34m)\u001b[0m\u001b[0;34m\u001b[0m\u001b[0;34m\u001b[0m\u001b[0m\n\u001b[0m\u001b[1;32m      4\u001b[0m \u001b[0mvaex_df\u001b[0m\u001b[0;34m[\u001b[0m\u001b[0;34m'timestamp_updated'\u001b[0m\u001b[0;34m]\u001b[0m\u001b[0;34m=\u001b[0m\u001b[0mvaex_df\u001b[0m\u001b[0;34m.\u001b[0m\u001b[0mtimestamp_updated\u001b[0m\u001b[0;34m.\u001b[0m\u001b[0mastype\u001b[0m\u001b[0;34m(\u001b[0m\u001b[0;34m'datetime64[ns]'\u001b[0m\u001b[0;34m)\u001b[0m\u001b[0;34m\u001b[0m\u001b[0;34m\u001b[0m\u001b[0m\n",
      "\u001b[0;31mTypeError\u001b[0m: an integer is required (got type Expression)"
     ]
    }
   ],
   "source": [
    "vaex_df['app_id']= vaex_df.app_id.astype('str')\n",
    "vaex_df['review_id']= vaex_df.review_id.astype('str')\n",
    "vaex_df['timestamp_created']=datetime.utcfromtimestamp(vaex_df.inttimestamp_created).strftime('%Y-%m-%d %H:%M:%S')\n",
    "vaex_df['timestamp_updated']=vaex_df.timestamp_updated.astype('datetime64[ns]')"
   ]
  },
  {
   "cell_type": "code",
   "execution_count": 43,
   "id": "ca22b28d",
   "metadata": {},
   "outputs": [],
   "source": [
    "vaex_df.timestamp_created= vaex_df.timestamp_created.apply(lambda d: datetime.datetime.fromtimestamp(int(d)).strftime('%Y-%m-%d'))\n",
    "\n",
    "#datetime.utcfromtimestamp(vaex_df.timestamp_created).strftime('%Y-%m-%d %H:%M:%S')\n",
    "\n",
    "#df.date = df.date.apply(lambda d: datetime.datetime.fromtimestamp(int(d)).strftime('%Y-%m-%d'))"
   ]
  },
  {
   "cell_type": "code",
   "execution_count": 45,
   "id": "ba4503d4",
   "metadata": {},
   "outputs": [],
   "source": [
    "vaex_df.timestamp_created = vaex_df.timestamp_created.apply(lambda d: datetime.strftime(d,'%Y-%m-%d'))"
   ]
  },
  {
   "cell_type": "code",
   "execution_count": null,
   "id": "fbf130b2",
   "metadata": {},
   "outputs": [],
   "source": [
    "df.date.apply(lambda d: datetime.strptime(d, \"%Y-%m-%d\"))"
   ]
  },
  {
   "cell_type": "code",
   "execution_count": null,
   "id": "51bd6eb2",
   "metadata": {},
   "outputs": [],
   "source": [
    "df.date = df.date.apply(lambda d: datetime.datetime.fromtimestamp(int(d)).strftime('%Y-%m-%d'))"
   ]
  },
  {
   "cell_type": "code",
   "execution_count": 46,
   "id": "7a74c6a4",
   "metadata": {},
   "outputs": [
    {
     "data": {
      "text/html": [
       "<style>.vaex-description pre {\n",
       "          max-width : 450px;\n",
       "          white-space : nowrap;\n",
       "          overflow : hidden;\n",
       "          text-overflow: ellipsis;\n",
       "        }\n",
       "\n",
       "        .vex-description pre:hover {\n",
       "          max-width : initial;\n",
       "          white-space: pre;\n",
       "        }</style>"
      ],
      "text/plain": [
       "<IPython.core.display.HTML object>"
      ]
     },
     "metadata": {},
     "output_type": "display_data"
    },
    {
     "data": {
      "text/html": [
       "<div><h2>steam_reviews.csv</h2> <b>rows</b>: 21,747,371</div><h2>Columns:</h2><table class='table-striped'><thead><tr><th>column</th><th>type</th><th>unit</th><th>description</th><th>expression</th></tr></thead><tr><td>Unnamed: 0</td><td>int64</td><td></td><td ><pre></pre></td><td></td></tr><tr><td>app_id</td><td></i>virtual column</i></td><td></td><td ><pre></pre></td><td><code>astype(__app_id_1, 'str')</code></td></tr><tr><td>app_name</td><td>str</td><td></td><td ><pre></pre></td><td></td></tr><tr><td>review_id</td><td></i>virtual column</i></td><td></td><td ><pre></pre></td><td><code>astype(__review_id_1, 'str')</code></td></tr><tr><td>language</td><td>str</td><td></td><td ><pre></pre></td><td></td></tr><tr><td>review</td><td>str</td><td></td><td ><pre></pre></td><td></td></tr><tr><td>timestamp_created</td><td>int64</td><td></td><td ><pre></pre></td><td></td></tr><tr><td>timestamp_updated</td><td>int64</td><td></td><td ><pre></pre></td><td></td></tr><tr><td>recommended</td><td>bool</td><td></td><td ><pre></pre></td><td></td></tr><tr><td>votes_helpful</td><td>int64</td><td></td><td ><pre></pre></td><td></td></tr><tr><td>votes_funny</td><td>int64</td><td></td><td ><pre></pre></td><td></td></tr><tr><td>weighted_vote_score</td><td>float64</td><td></td><td ><pre></pre></td><td></td></tr><tr><td>comment_count</td><td>int64</td><td></td><td ><pre></pre></td><td></td></tr><tr><td>steam_purchase</td><td>bool</td><td></td><td ><pre></pre></td><td></td></tr><tr><td>received_for_free</td><td>bool</td><td></td><td ><pre></pre></td><td></td></tr><tr><td>written_during_early_access</td><td>bool</td><td></td><td ><pre></pre></td><td></td></tr><tr><td>author.steamid</td><td>int64</td><td></td><td ><pre></pre></td><td></td></tr><tr><td>author.num_games_owned</td><td>int64</td><td></td><td ><pre></pre></td><td></td></tr><tr><td>author.num_reviews</td><td>int64</td><td></td><td ><pre></pre></td><td></td></tr><tr><td>author.playtime_forever</td><td>float64</td><td></td><td ><pre></pre></td><td></td></tr><tr><td>author.playtime_last_two_weeks</td><td>float64</td><td></td><td ><pre></pre></td><td></td></tr><tr><td>author.playtime_at_review</td><td>float64</td><td></td><td ><pre></pre></td><td></td></tr><tr><td>author.last_played</td><td>float64</td><td></td><td ><pre></pre></td><td></td></tr></table><h2>Data:</h2><table>\n",
       "<thead>\n",
       "<tr><th>#                                     </th><th>Unnamed: 0  </th><th>app_id  </th><th>app_name                </th><th>review_id  </th><th>language  </th><th>review                                                           </th><th>timestamp_created  </th><th>timestamp_updated  </th><th>recommended  </th><th>votes_helpful  </th><th>votes_funny  </th><th>weighted_vote_score  </th><th>comment_count  </th><th>steam_purchase  </th><th>received_for_free  </th><th>written_during_early_access  </th><th>author.steamid   </th><th>author.num_games_owned  </th><th>author.num_reviews  </th><th>author.playtime_forever  </th><th>author.playtime_last_two_weeks  </th><th>author.playtime_at_review  </th><th>author.last_played  </th></tr>\n",
       "</thead>\n",
       "<tbody>\n",
       "<tr><td><i style='opacity: 0.6'>0</i>         </td><td>0           </td><td>292030  </td><td>The Witcher 3: Wild Hunt</td><td>85185598   </td><td>schinese  </td><td>不玩此生遗憾，RPG游戏里的天花板，太吸引人了                      </td><td>1611381629         </td><td>1611381629         </td><td>True         </td><td>0              </td><td>0            </td><td>0.0                  </td><td>0              </td><td>True            </td><td>False              </td><td>False                        </td><td>76561199095369542</td><td>6                       </td><td>2                   </td><td>1909.0                   </td><td>1448.0                          </td><td>1909.0                     </td><td>1611343383.0        </td></tr>\n",
       "<tr><td><i style='opacity: 0.6'>1</i>         </td><td>1           </td><td>292030  </td><td>The Witcher 3: Wild Hunt</td><td>85185250   </td><td>schinese  </td><td>拔DIAO无情打桩机--杰洛特!!!                                      </td><td>1611381030         </td><td>1611381030         </td><td>True         </td><td>0              </td><td>0            </td><td>0.0                  </td><td>0              </td><td>True            </td><td>False              </td><td>False                        </td><td>76561198949504115</td><td>30                      </td><td>10                  </td><td>2764.0                   </td><td>2743.0                          </td><td>2674.0                     </td><td>1611386307.0        </td></tr>\n",
       "<tr><td><i style='opacity: 0.6'>2</i>         </td><td>2           </td><td>292030  </td><td>The Witcher 3: Wild Hunt</td><td>85185111   </td><td>schinese  </td><td>巫师3NB                                                          </td><td>1611380800         </td><td>1611380800         </td><td>True         </td><td>0              </td><td>0            </td><td>0.0                  </td><td>0              </td><td>True            </td><td>False              </td><td>False                        </td><td>76561199090098988</td><td>5                       </td><td>1                   </td><td>1061.0                   </td><td>1061.0                          </td><td>1060.0                     </td><td>1611383777.0        </td></tr>\n",
       "<tr><td><i style='opacity: 0.6'>3</i>         </td><td>3           </td><td>292030  </td><td>The Witcher 3: Wild Hunt</td><td>85184605   </td><td>english   </td><td>&quot;One of the best RPG&#x27;s of all time, worthy of an...              </td><td>1611379970         </td><td>1611379970         </td><td>True         </td><td>0              </td><td>0            </td><td>0.0                  </td><td>0              </td><td>True            </td><td>False              </td><td>False                        </td><td>76561199054755373</td><td>5                       </td><td>3                   </td><td>5587.0                   </td><td>3200.0                          </td><td>5524.0                     </td><td>1611383744.0        </td></tr>\n",
       "<tr><td><i style='opacity: 0.6'>4</i>         </td><td>4           </td><td>292030  </td><td>The Witcher 3: Wild Hunt</td><td>85184287   </td><td>schinese  </td><td>大作                                                             </td><td>1611379427         </td><td>1611379427         </td><td>True         </td><td>0              </td><td>0            </td><td>0.0                  </td><td>0              </td><td>True            </td><td>False              </td><td>False                        </td><td>76561199028326951</td><td>7                       </td><td>4                   </td><td>217.0                    </td><td>42.0                            </td><td>217.0                      </td><td>1610788249.0        </td></tr>\n",
       "<tr><td>...                                   </td><td>...         </td><td>...     </td><td>...                     </td><td>...        </td><td>...       </td><td>...                                                              </td><td>...                </td><td>...                </td><td>...          </td><td>...            </td><td>...          </td><td>...                  </td><td>...            </td><td>...             </td><td>...                </td><td>...                          </td><td>...              </td><td>...                     </td><td>...                 </td><td>...                      </td><td>...                             </td><td>...                        </td><td>...                 </td></tr>\n",
       "<tr><td><i style='opacity: 0.6'>21,747,366</i></td><td>21747371    </td><td>546560  </td><td>Half-Life: Alyx         </td><td>65645125   </td><td>english   </td><td>Holy balls                                                       </td><td>1584986704         </td><td>1584986704         </td><td>True         </td><td>0              </td><td>0            </td><td>0.0                  </td><td>0              </td><td>True            </td><td>False              </td><td>False                        </td><td>76561197967033932</td><td>431                     </td><td>7                   </td><td>432.0                    </td><td>0.0                             </td><td>29.0                       </td><td>1586627816.0        </td></tr>\n",
       "<tr><td><i style='opacity: 0.6'>21,747,367</i></td><td>21747372    </td><td>546560  </td><td>Half-Life: Alyx         </td><td>65645115   </td><td>english   </td><td>&#x27;A tripod thing bears down on you, it looks imme...              </td><td>1584986693         </td><td>1584986693         </td><td>True         </td><td>0              </td><td>0            </td><td>0.0                  </td><td>0              </td><td>False           </td><td>False              </td><td>False                        </td><td>76561198046495482</td><td>70                      </td><td>10                  </td><td>3296.0                   </td><td>15.0                            </td><td>24.0                       </td><td>1611080231.0        </td></tr>\n",
       "<tr><td><i style='opacity: 0.6'>21,747,368</i></td><td>21747373    </td><td>546560  </td><td>Half-Life: Alyx         </td><td>65645100   </td><td>english   </td><td>Honestly this is the best vr game ever                           </td><td>1584986673         </td><td>1584986673         </td><td>True         </td><td>0              </td><td>0            </td><td>0.4741379022598266   </td><td>0              </td><td>True            </td><td>False              </td><td>False                        </td><td>76561198176379749</td><td>79                      </td><td>17                  </td><td>2654.0                   </td><td>0.0                             </td><td>34.0                       </td><td>1591633753.0        </td></tr>\n",
       "<tr><td><i style='opacity: 0.6'>21,747,369</i></td><td>21747374    </td><td>546560  </td><td>Half-Life: Alyx         </td><td>65645066   </td><td>english   </td><td>&#x27;Smooth turning is not working right now.\\nIt app...             </td><td>1584986631         </td><td>1586382422         </td><td>True         </td><td>0              </td><td>0            </td><td>0.3860217034816742   </td><td>11             </td><td>True            </td><td>False              </td><td>False                        </td><td>76561198041763187</td><td>140                     </td><td>3                   </td><td>210.0                    </td><td>0.0                             </td><td>12.0                       </td><td>1589715415.0        </td></tr>\n",
       "<tr><td><i style='opacity: 0.6'>21,747,370</i></td><td>21747375    </td><td>546560  </td><td>Half-Life: Alyx         </td><td>65644930   </td><td>schinese  </td><td>&#x27;WMR加载中闪退，无法进入游戏\\nWMR Flashback in Load，cant play...</td><td>1584986505         </td><td>1592060800         </td><td>True         </td><td>0              </td><td>0            </td><td>0.4161067605018616   </td><td>5              </td><td>True            </td><td>False              </td><td>False                        </td><td>76561198116747069</td><td>253                     </td><td>7                   </td><td>1062.0                   </td><td>0.0                             </td><td>8.0                        </td><td>1602857543.0        </td></tr>\n",
       "</tbody>\n",
       "</table>"
      ],
      "text/plain": [
       "<IPython.core.display.HTML object>"
      ]
     },
     "metadata": {},
     "output_type": "display_data"
    }
   ],
   "source": [
    "vaex_df.info()"
   ]
  },
  {
   "cell_type": "markdown",
   "id": "3d852127",
   "metadata": {},
   "source": [
    "Description of the numerical values: "
   ]
  },
  {
   "cell_type": "code",
   "execution_count": 39,
   "id": "691c8339",
   "metadata": {},
   "outputs": [
    {
     "data": {
      "text/html": [
       "<div>\n",
       "<style scoped>\n",
       "    .dataframe tbody tr th:only-of-type {\n",
       "        vertical-align: middle;\n",
       "    }\n",
       "\n",
       "    .dataframe tbody tr th {\n",
       "        vertical-align: top;\n",
       "    }\n",
       "\n",
       "    .dataframe thead th {\n",
       "        text-align: right;\n",
       "    }\n",
       "</style>\n",
       "<table border=\"1\" class=\"dataframe\">\n",
       "  <thead>\n",
       "    <tr style=\"text-align: right;\">\n",
       "      <th></th>\n",
       "      <th>app_id</th>\n",
       "      <th>app_name</th>\n",
       "      <th>review_id</th>\n",
       "      <th>language</th>\n",
       "      <th>review</th>\n",
       "      <th>timestamp_created</th>\n",
       "      <th>timestamp_updated</th>\n",
       "      <th>recommended</th>\n",
       "      <th>votes_helpful</th>\n",
       "      <th>votes_funny</th>\n",
       "      <th>...</th>\n",
       "      <th>steam_purchase</th>\n",
       "      <th>received_for_free</th>\n",
       "      <th>written_during_early_access</th>\n",
       "      <th>author.steamid</th>\n",
       "      <th>author.num_games_owned</th>\n",
       "      <th>author.num_reviews</th>\n",
       "      <th>author.playtime_forever</th>\n",
       "      <th>author.playtime_last_two_weeks</th>\n",
       "      <th>author.playtime_at_review</th>\n",
       "      <th>author.last_played</th>\n",
       "    </tr>\n",
       "  </thead>\n",
       "  <tbody>\n",
       "    <tr>\n",
       "      <th>data_type</th>\n",
       "      <td>int64</td>\n",
       "      <td>string</td>\n",
       "      <td>int64</td>\n",
       "      <td>string</td>\n",
       "      <td>large_string</td>\n",
       "      <td>int64</td>\n",
       "      <td>int64</td>\n",
       "      <td>bool</td>\n",
       "      <td>int64</td>\n",
       "      <td>int64</td>\n",
       "      <td>...</td>\n",
       "      <td>bool</td>\n",
       "      <td>bool</td>\n",
       "      <td>bool</td>\n",
       "      <td>int64</td>\n",
       "      <td>int64</td>\n",
       "      <td>int64</td>\n",
       "      <td>float64</td>\n",
       "      <td>float64</td>\n",
       "      <td>float64</td>\n",
       "      <td>float64</td>\n",
       "    </tr>\n",
       "    <tr>\n",
       "      <th>count</th>\n",
       "      <td>21747371</td>\n",
       "      <td>21747371</td>\n",
       "      <td>21747371</td>\n",
       "      <td>21747371</td>\n",
       "      <td>21713629</td>\n",
       "      <td>21747371</td>\n",
       "      <td>21747371</td>\n",
       "      <td>21747371</td>\n",
       "      <td>21747371</td>\n",
       "      <td>21747371</td>\n",
       "      <td>...</td>\n",
       "      <td>21747371</td>\n",
       "      <td>21747371</td>\n",
       "      <td>21747371</td>\n",
       "      <td>21747371</td>\n",
       "      <td>21747371</td>\n",
       "      <td>21747371</td>\n",
       "      <td>21747369</td>\n",
       "      <td>21747369</td>\n",
       "      <td>21721689</td>\n",
       "      <td>21747369</td>\n",
       "    </tr>\n",
       "    <tr>\n",
       "      <th>NA</th>\n",
       "      <td>0</td>\n",
       "      <td>0</td>\n",
       "      <td>0</td>\n",
       "      <td>0</td>\n",
       "      <td>33742</td>\n",
       "      <td>0</td>\n",
       "      <td>0</td>\n",
       "      <td>0</td>\n",
       "      <td>0</td>\n",
       "      <td>0</td>\n",
       "      <td>...</td>\n",
       "      <td>0</td>\n",
       "      <td>0</td>\n",
       "      <td>0</td>\n",
       "      <td>0</td>\n",
       "      <td>0</td>\n",
       "      <td>0</td>\n",
       "      <td>2</td>\n",
       "      <td>2</td>\n",
       "      <td>25682</td>\n",
       "      <td>2</td>\n",
       "    </tr>\n",
       "    <tr>\n",
       "      <th>mean</th>\n",
       "      <td>392818.0819021297</td>\n",
       "      <td>--</td>\n",
       "      <td>51874995.36142856</td>\n",
       "      <td>--</td>\n",
       "      <td>--</td>\n",
       "      <td>1544432473.6402824</td>\n",
       "      <td>1547555664.105695</td>\n",
       "      <td>0.8747084877523816</td>\n",
       "      <td>404468.8552777713</td>\n",
       "      <td>126791.72557597881</td>\n",
       "      <td>...</td>\n",
       "      <td>0.7744583011896012</td>\n",
       "      <td>0.03163881280178648</td>\n",
       "      <td>0.09271856354499125</td>\n",
       "      <td>76494792465.02202</td>\n",
       "      <td>1011300.0967205645</td>\n",
       "      <td>404477.4800190791</td>\n",
       "      <td>16091.04968789558</td>\n",
       "      <td>155.5421350968938</td>\n",
       "      <td>8807.421419761604</td>\n",
       "      <td>1580505062.0580525</td>\n",
       "    </tr>\n",
       "    <tr>\n",
       "      <th>std</th>\n",
       "      <td>248097.734731</td>\n",
       "      <td>--</td>\n",
       "      <td>20842672.266399</td>\n",
       "      <td>--</td>\n",
       "      <td>--</td>\n",
       "      <td>58121936.913771</td>\n",
       "      <td>56898990.858622</td>\n",
       "      <td>0.331049</td>\n",
       "      <td>1333740730.362596</td>\n",
       "      <td>23335525.369373</td>\n",
       "      <td>...</td>\n",
       "      <td>0.417939</td>\n",
       "      <td>0.175037</td>\n",
       "      <td>0.290038</td>\n",
       "      <td>88399671708.809021</td>\n",
       "      <td>2108829112.611605</td>\n",
       "      <td>1333740730.360435</td>\n",
       "      <td>37430.566898</td>\n",
       "      <td>730.048788</td>\n",
       "      <td>23885.529993</td>\n",
       "      <td>46761774.154387</td>\n",
       "    </tr>\n",
       "    <tr>\n",
       "      <th>min</th>\n",
       "      <td>70</td>\n",
       "      <td>--</td>\n",
       "      <td>43</td>\n",
       "      <td>--</td>\n",
       "      <td>--</td>\n",
       "      <td>1290197836</td>\n",
       "      <td>1290197836</td>\n",
       "      <td>False</td>\n",
       "      <td>0</td>\n",
       "      <td>0</td>\n",
       "      <td>...</td>\n",
       "      <td>False</td>\n",
       "      <td>False</td>\n",
       "      <td>False</td>\n",
       "      <td>76561197960265728</td>\n",
       "      <td>0</td>\n",
       "      <td>1</td>\n",
       "      <td>0.0</td>\n",
       "      <td>0.0</td>\n",
       "      <td>1.0</td>\n",
       "      <td>0.0</td>\n",
       "    </tr>\n",
       "    <tr>\n",
       "      <th>max</th>\n",
       "      <td>1291340</td>\n",
       "      <td>--</td>\n",
       "      <td>85218673</td>\n",
       "      <td>--</td>\n",
       "      <td>--</td>\n",
       "      <td>1611426287</td>\n",
       "      <td>2283382797</td>\n",
       "      <td>True</td>\n",
       "      <td>4398046511106</td>\n",
       "      <td>4294967295</td>\n",
       "      <td>...</td>\n",
       "      <td>True</td>\n",
       "      <td>True</td>\n",
       "      <td>True</td>\n",
       "      <td>76561199133265376</td>\n",
       "      <td>4398046511619</td>\n",
       "      <td>4398046511108</td>\n",
       "      <td>3744943.0</td>\n",
       "      <td>27039.0</td>\n",
       "      <td>3228103.0</td>\n",
       "      <td>1611434142.0</td>\n",
       "    </tr>\n",
       "  </tbody>\n",
       "</table>\n",
       "<p>7 rows × 22 columns</p>\n",
       "</div>"
      ],
      "text/plain": [
       "                      app_id  app_name          review_id  language  \\\n",
       "data_type              int64    string              int64    string   \n",
       "count               21747371  21747371           21747371  21747371   \n",
       "NA                         0         0                  0         0   \n",
       "mean       392818.0819021297        --  51874995.36142856        --   \n",
       "std            248097.734731        --    20842672.266399        --   \n",
       "min                       70        --                 43        --   \n",
       "max                  1291340        --           85218673        --   \n",
       "\n",
       "                 review   timestamp_created  timestamp_updated  \\\n",
       "data_type  large_string               int64              int64   \n",
       "count          21713629            21747371           21747371   \n",
       "NA                33742                   0                  0   \n",
       "mean                 --  1544432473.6402824  1547555664.105695   \n",
       "std                  --     58121936.913771    56898990.858622   \n",
       "min                  --          1290197836         1290197836   \n",
       "max                  --          1611426287         2283382797   \n",
       "\n",
       "                  recommended      votes_helpful         votes_funny  ...  \\\n",
       "data_type                bool              int64               int64  ...   \n",
       "count                21747371           21747371            21747371  ...   \n",
       "NA                          0                  0                   0  ...   \n",
       "mean       0.8747084877523816  404468.8552777713  126791.72557597881  ...   \n",
       "std                  0.331049  1333740730.362596     23335525.369373  ...   \n",
       "min                     False                  0                   0  ...   \n",
       "max                      True      4398046511106          4294967295  ...   \n",
       "\n",
       "               steam_purchase    received_for_free  \\\n",
       "data_type                bool                 bool   \n",
       "count                21747371             21747371   \n",
       "NA                          0                    0   \n",
       "mean       0.7744583011896012  0.03163881280178648   \n",
       "std                  0.417939             0.175037   \n",
       "min                     False                False   \n",
       "max                      True                 True   \n",
       "\n",
       "          written_during_early_access      author.steamid  \\\n",
       "data_type                        bool               int64   \n",
       "count                        21747371            21747371   \n",
       "NA                                  0                   0   \n",
       "mean              0.09271856354499125   76494792465.02202   \n",
       "std                          0.290038  88399671708.809021   \n",
       "min                             False   76561197960265728   \n",
       "max                              True   76561199133265376   \n",
       "\n",
       "          author.num_games_owned author.num_reviews author.playtime_forever  \\\n",
       "data_type                  int64              int64                 float64   \n",
       "count                   21747371           21747371                21747369   \n",
       "NA                             0                  0                       2   \n",
       "mean          1011300.0967205645  404477.4800190791       16091.04968789558   \n",
       "std            2108829112.611605  1333740730.360435            37430.566898   \n",
       "min                            0                  1                     0.0   \n",
       "max                4398046511619      4398046511108               3744943.0   \n",
       "\n",
       "          author.playtime_last_two_weeks author.playtime_at_review  \\\n",
       "data_type                        float64                   float64   \n",
       "count                           21747369                  21721689   \n",
       "NA                                     2                     25682   \n",
       "mean                   155.5421350968938         8807.421419761604   \n",
       "std                           730.048788              23885.529993   \n",
       "min                                  0.0                       1.0   \n",
       "max                              27039.0                 3228103.0   \n",
       "\n",
       "           author.last_played  \n",
       "data_type             float64  \n",
       "count                21747369  \n",
       "NA                          2  \n",
       "mean       1580505062.0580525  \n",
       "std           46761774.154387  \n",
       "min                       0.0  \n",
       "max              1611434142.0  \n",
       "\n",
       "[7 rows x 22 columns]"
      ]
     },
     "execution_count": 39,
     "metadata": {},
     "output_type": "execute_result"
    }
   ],
   "source": [
    "vaex_df[:,1:].describe()"
   ]
  },
  {
   "cell_type": "code",
   "execution_count": null,
   "id": "87459fb0",
   "metadata": {},
   "outputs": [],
   "source": []
  },
  {
   "cell_type": "code",
   "execution_count": null,
   "id": "e3ad419b",
   "metadata": {},
   "outputs": [],
   "source": [
    "!ls -a"
   ]
  },
  {
   "cell_type": "code",
   "execution_count": null,
   "id": "a4e34ceb",
   "metadata": {},
   "outputs": [],
   "source": []
  },
  {
   "cell_type": "code",
   "execution_count": null,
   "id": "cedcdcea",
   "metadata": {},
   "outputs": [],
   "source": []
  },
  {
   "cell_type": "code",
   "execution_count": null,
   "id": "6135d3bd",
   "metadata": {},
   "outputs": [],
   "source": []
  },
  {
   "cell_type": "code",
   "execution_count": null,
   "id": "c9440fbb",
   "metadata": {},
   "outputs": [],
   "source": []
  },
  {
   "cell_type": "code",
   "execution_count": null,
   "id": "b19ceb9d",
   "metadata": {},
   "outputs": [],
   "source": []
  },
  {
   "cell_type": "code",
   "execution_count": null,
   "id": "3b7a6af4",
   "metadata": {},
   "outputs": [],
   "source": []
  },
  {
   "cell_type": "code",
   "execution_count": null,
   "id": "8d5862dc",
   "metadata": {},
   "outputs": [],
   "source": []
  }
 ],
 "metadata": {
  "kernelspec": {
   "display_name": "Python 3",
   "language": "python",
   "name": "python3"
  },
  "language_info": {
   "codemirror_mode": {
    "name": "ipython",
    "version": 3
   },
   "file_extension": ".py",
   "mimetype": "text/x-python",
   "name": "python",
   "nbconvert_exporter": "python",
   "pygments_lexer": "ipython3",
   "version": "3.8.8"
  }
 },
 "nbformat": 4,
 "nbformat_minor": 5
}
