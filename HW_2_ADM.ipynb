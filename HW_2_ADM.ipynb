{
 "cells": [
  {
   "cell_type": "markdown",
   "id": "d0b12778",
   "metadata": {},
   "source": [
    "# Homework 2 - Algorithmic Methods of Data Mining\n",
    "### Giorgia Fontana - \n",
    "### Alex - \n",
    "### Braulio Villalobos - "
   ]
  },
  {
   "cell_type": "code",
   "execution_count": null,
   "id": "ea7d2485",
   "metadata": {},
   "outputs": [],
   "source": [
    "#Optional steps before setting up the workspace\n",
    "#!pip install voex\n",
    "#!pip install -U IPython"
   ]
  },
  {
   "cell_type": "code",
   "execution_count": 49,
   "id": "de169ff6",
   "metadata": {},
   "outputs": [],
   "source": [
    "# Package Import\n",
    "import pandas as pd\n",
    "import numpy as np\n",
    "import vaex\n",
    "import os\n",
    "from datetime import datetime\n",
    "#import datetime"
   ]
  },
  {
   "cell_type": "markdown",
   "id": "6d5665cc",
   "metadata": {},
   "source": [
    "# Attempts to read data"
   ]
  },
  {
   "cell_type": "markdown",
   "id": "47ddbd9b",
   "metadata": {},
   "source": [
    "#### Attempt # 1 - Reading data with Pandas"
   ]
  },
  {
   "cell_type": "code",
   "execution_count": null,
   "id": "65a051de",
   "metadata": {},
   "outputs": [],
   "source": [
    "# Reading data with Pandas\n",
    "\n",
    "# Command can't load all data because we don't have enough resources. \n",
    "#dataset = pd.read_csv('/content/drive/MyDrive/steam_reviews.csv')\n",
    "# It is possible to load some rows of the dataset by using the nrows parameter. "
   ]
  },
  {
   "cell_type": "markdown",
   "id": "1c7a576a",
   "metadata": {},
   "source": [
    "#### Attempt #2 - Reading all data with Vaex"
   ]
  },
  {
   "cell_type": "code",
   "execution_count": null,
   "id": "186151d5",
   "metadata": {},
   "outputs": [],
   "source": [
    "# Reading data with Vaex\n",
    "#Command also crashes\n",
    "\n",
    "#dataset = vaex.from_csv('/content/drive/MyDrive/steam_reviews.csv')\n",
    "#Crashed!!"
   ]
  },
  {
   "cell_type": "markdown",
   "id": "ae4756c5",
   "metadata": {},
   "source": [
    "#### Attempt # 3 - Reading data with Vaex by chunks\n",
    "\n",
    "This attempt was successful importing the data but when we try a unique count of the total app_id, if only gives us 17 unique app_id. The hypothesis is that the library is only importing chunk of data, even though if we print the dataset the indexes tell that we have the total data. \n",
    "\n",
    "We can't use this approach and must find another way of addressing this. "
   ]
  },
  {
   "cell_type": "code",
   "execution_count": null,
   "id": "da2ef5e9",
   "metadata": {},
   "outputs": [],
   "source": [
    "#for i, df in enumerate(vaex.from_csv('/content/drive/MyDrive/steam_reviews.csv', chunk_size=500_000)):\n",
    "#    #df = df.app_id\n",
    "#    df.export_hdf5(f'taxi_{i:02}.hdf5')"
   ]
  },
  {
   "cell_type": "code",
   "execution_count": null,
   "id": "f4dd76fa",
   "metadata": {},
   "outputs": [],
   "source": [
    "#df['app_id'].nunique()"
   ]
  },
  {
   "cell_type": "markdown",
   "id": "4efda4d0",
   "metadata": {},
   "source": [
    "By importing the whole app_id column and counting the unique values within it, we discover we have 315 unique values. "
   ]
  },
  {
   "cell_type": "code",
   "execution_count": null,
   "id": "ea2333d4",
   "metadata": {},
   "outputs": [],
   "source": [
    "#Importing just one column to see the global characteristics of data\n",
    "#dataset = pd.read_csv('/content/drive/MyDrive/steam_reviews.csv',usecols = [\"app_id\"])\n",
    "#dataset['app_id'].nunique()"
   ]
  },
  {
   "cell_type": "markdown",
   "id": "c7129173",
   "metadata": {},
   "source": [
    "#### Attempt #4 - Reading data with Vaex by chunks and converting"
   ]
  },
  {
   "cell_type": "code",
   "execution_count": null,
   "id": "903bb26e",
   "metadata": {},
   "outputs": [],
   "source": [
    "# Read parsing timestamps and therefore reading them as strings.\n",
    "#test1 = vaex.read_csv('steam_reviews.csv', convert=True, chunk_size = 1_000_000,parse_dates=['timestamp_created', 'timestamp_updated'])\n",
    "\n",
    "# Read without parsing timestampts and therefore reading them as integer. \n",
    "#vaex_df = vaex.read_csv('steam_reviews.csv', convert=True, chunk_size = 1_000_000)"
   ]
  },
  {
   "cell_type": "code",
   "execution_count": null,
   "id": "c4c85fc7",
   "metadata": {},
   "outputs": [],
   "source": [
    "# Export the dataset and store it as an hdf5 file\n",
    "\n",
    "#vaex_df.export('vaex_file_test.hdf5')"
   ]
  },
  {
   "cell_type": "code",
   "execution_count": 50,
   "id": "cfffb9ce",
   "metadata": {},
   "outputs": [],
   "source": [
    "# Open the hdf5 file\n",
    "vaex_df = vaex.open('steam_reviews.csv.hdf5')"
   ]
  },
  {
   "cell_type": "code",
   "execution_count": 51,
   "id": "cfbd55fd",
   "metadata": {},
   "outputs": [
    {
     "data": {
      "text/plain": [
       "315"
      ]
     },
     "execution_count": 51,
     "metadata": {},
     "output_type": "execute_result"
    }
   ],
   "source": [
    "# Confirm we get 315 unique values from the vaex dataframe\n",
    "vaex_df.app_id.nunique()"
   ]
  },
  {
   "cell_type": "markdown",
   "id": "6ecc704c",
   "metadata": {},
   "source": [
    "# [RQ1]: Exploratory Data Analysis (EDA)"
   ]
  },
  {
   "cell_type": "markdown",
   "id": "e3273d4d",
   "metadata": {},
   "source": [
    "Our dataset to analyze is composed of 23 columns or features and 21.747.371 observations. "
   ]
  },
  {
   "cell_type": "code",
   "execution_count": 52,
   "id": "b256f65f",
   "metadata": {},
   "outputs": [
    {
     "data": {
      "text/plain": [
       "(21747371, 23)"
      ]
     },
     "execution_count": 52,
     "metadata": {},
     "output_type": "execute_result"
    }
   ],
   "source": [
    "vaex_df.shape"
   ]
  },
  {
   "cell_type": "markdown",
   "id": "e47ea47d",
   "metadata": {},
   "source": [
    "With the info command we identify the types of variables. \n",
    "\n",
    "\n",
    "Integer variables:\n",
    "*   app_id, review_id, timestamp_created, timestamp_updated, votes_helpful, votes_funny, comment_count, author.steamid, author.num_gaes_owned, author.num_reviews\n",
    "\n",
    "String variables:\n",
    "*   app_name, language, review\n",
    "\n",
    "Float variables:\n",
    "*   weighted_vote_score, author.playtime_forever, author.playtime_last_two_weeks, author.playtime_at_review, author.last_played\n",
    "\n",
    "Boolean variables:\n",
    "\n",
    "*   recommended, steam_purchase, received_for_free, written_during_early_access,\n"
   ]
  },
  {
   "cell_type": "code",
   "execution_count": 53,
   "id": "6e6ea1f4",
   "metadata": {},
   "outputs": [
    {
     "data": {
      "text/html": [
       "<style>.vaex-description pre {\n",
       "          max-width : 450px;\n",
       "          white-space : nowrap;\n",
       "          overflow : hidden;\n",
       "          text-overflow: ellipsis;\n",
       "        }\n",
       "\n",
       "        .vex-description pre:hover {\n",
       "          max-width : initial;\n",
       "          white-space: pre;\n",
       "        }</style>"
      ],
      "text/plain": [
       "<IPython.core.display.HTML object>"
      ]
     },
     "metadata": {},
     "output_type": "display_data"
    },
    {
     "data": {
      "text/html": [
       "<div><h2>steam_reviews.csv</h2> <b>rows</b>: 21,747,371</div><h2>Columns:</h2><table class='table-striped'><thead><tr><th>column</th><th>type</th><th>unit</th><th>description</th><th>expression</th></tr></thead><tr><td>Unnamed: 0</td><td>int64</td><td></td><td ><pre></pre></td><td></td></tr><tr><td>app_id</td><td>int64</td><td></td><td ><pre></pre></td><td></td></tr><tr><td>app_name</td><td>str</td><td></td><td ><pre></pre></td><td></td></tr><tr><td>review_id</td><td>int64</td><td></td><td ><pre></pre></td><td></td></tr><tr><td>language</td><td>str</td><td></td><td ><pre></pre></td><td></td></tr><tr><td>review</td><td>str</td><td></td><td ><pre></pre></td><td></td></tr><tr><td>timestamp_created</td><td>int64</td><td></td><td ><pre></pre></td><td></td></tr><tr><td>timestamp_updated</td><td>int64</td><td></td><td ><pre></pre></td><td></td></tr><tr><td>recommended</td><td>bool</td><td></td><td ><pre></pre></td><td></td></tr><tr><td>votes_helpful</td><td>int64</td><td></td><td ><pre></pre></td><td></td></tr><tr><td>votes_funny</td><td>int64</td><td></td><td ><pre></pre></td><td></td></tr><tr><td>weighted_vote_score</td><td>float64</td><td></td><td ><pre></pre></td><td></td></tr><tr><td>comment_count</td><td>int64</td><td></td><td ><pre></pre></td><td></td></tr><tr><td>steam_purchase</td><td>bool</td><td></td><td ><pre></pre></td><td></td></tr><tr><td>received_for_free</td><td>bool</td><td></td><td ><pre></pre></td><td></td></tr><tr><td>written_during_early_access</td><td>bool</td><td></td><td ><pre></pre></td><td></td></tr><tr><td>author.steamid</td><td>int64</td><td></td><td ><pre></pre></td><td></td></tr><tr><td>author.num_games_owned</td><td>int64</td><td></td><td ><pre></pre></td><td></td></tr><tr><td>author.num_reviews</td><td>int64</td><td></td><td ><pre></pre></td><td></td></tr><tr><td>author.playtime_forever</td><td>float64</td><td></td><td ><pre></pre></td><td></td></tr><tr><td>author.playtime_last_two_weeks</td><td>float64</td><td></td><td ><pre></pre></td><td></td></tr><tr><td>author.playtime_at_review</td><td>float64</td><td></td><td ><pre></pre></td><td></td></tr><tr><td>author.last_played</td><td>float64</td><td></td><td ><pre></pre></td><td></td></tr></table><h2>Data:</h2><table>\n",
       "<thead>\n",
       "<tr><th>#                                     </th><th>Unnamed: 0  </th><th>app_id  </th><th>app_name                </th><th>review_id  </th><th>language  </th><th>review                                                           </th><th>timestamp_created  </th><th>timestamp_updated  </th><th>recommended  </th><th>votes_helpful  </th><th>votes_funny  </th><th>weighted_vote_score  </th><th>comment_count  </th><th>steam_purchase  </th><th>received_for_free  </th><th>written_during_early_access  </th><th>author.steamid   </th><th>author.num_games_owned  </th><th>author.num_reviews  </th><th>author.playtime_forever  </th><th>author.playtime_last_two_weeks  </th><th>author.playtime_at_review  </th><th>author.last_played  </th></tr>\n",
       "</thead>\n",
       "<tbody>\n",
       "<tr><td><i style='opacity: 0.6'>0</i>         </td><td>0           </td><td>292030  </td><td>The Witcher 3: Wild Hunt</td><td>85185598   </td><td>schinese  </td><td>不玩此生遗憾，RPG游戏里的天花板，太吸引人了                      </td><td>1611381629         </td><td>1611381629         </td><td>True         </td><td>0              </td><td>0            </td><td>0.0                  </td><td>0              </td><td>True            </td><td>False              </td><td>False                        </td><td>76561199095369542</td><td>6                       </td><td>2                   </td><td>1909.0                   </td><td>1448.0                          </td><td>1909.0                     </td><td>1611343383.0        </td></tr>\n",
       "<tr><td><i style='opacity: 0.6'>1</i>         </td><td>1           </td><td>292030  </td><td>The Witcher 3: Wild Hunt</td><td>85185250   </td><td>schinese  </td><td>拔DIAO无情打桩机--杰洛特!!!                                      </td><td>1611381030         </td><td>1611381030         </td><td>True         </td><td>0              </td><td>0            </td><td>0.0                  </td><td>0              </td><td>True            </td><td>False              </td><td>False                        </td><td>76561198949504115</td><td>30                      </td><td>10                  </td><td>2764.0                   </td><td>2743.0                          </td><td>2674.0                     </td><td>1611386307.0        </td></tr>\n",
       "<tr><td><i style='opacity: 0.6'>2</i>         </td><td>2           </td><td>292030  </td><td>The Witcher 3: Wild Hunt</td><td>85185111   </td><td>schinese  </td><td>巫师3NB                                                          </td><td>1611380800         </td><td>1611380800         </td><td>True         </td><td>0              </td><td>0            </td><td>0.0                  </td><td>0              </td><td>True            </td><td>False              </td><td>False                        </td><td>76561199090098988</td><td>5                       </td><td>1                   </td><td>1061.0                   </td><td>1061.0                          </td><td>1060.0                     </td><td>1611383777.0        </td></tr>\n",
       "<tr><td><i style='opacity: 0.6'>3</i>         </td><td>3           </td><td>292030  </td><td>The Witcher 3: Wild Hunt</td><td>85184605   </td><td>english   </td><td>&quot;One of the best RPG&#x27;s of all time, worthy of an...              </td><td>1611379970         </td><td>1611379970         </td><td>True         </td><td>0              </td><td>0            </td><td>0.0                  </td><td>0              </td><td>True            </td><td>False              </td><td>False                        </td><td>76561199054755373</td><td>5                       </td><td>3                   </td><td>5587.0                   </td><td>3200.0                          </td><td>5524.0                     </td><td>1611383744.0        </td></tr>\n",
       "<tr><td><i style='opacity: 0.6'>4</i>         </td><td>4           </td><td>292030  </td><td>The Witcher 3: Wild Hunt</td><td>85184287   </td><td>schinese  </td><td>大作                                                             </td><td>1611379427         </td><td>1611379427         </td><td>True         </td><td>0              </td><td>0            </td><td>0.0                  </td><td>0              </td><td>True            </td><td>False              </td><td>False                        </td><td>76561199028326951</td><td>7                       </td><td>4                   </td><td>217.0                    </td><td>42.0                            </td><td>217.0                      </td><td>1610788249.0        </td></tr>\n",
       "<tr><td>...                                   </td><td>...         </td><td>...     </td><td>...                     </td><td>...        </td><td>...       </td><td>...                                                              </td><td>...                </td><td>...                </td><td>...          </td><td>...            </td><td>...          </td><td>...                  </td><td>...            </td><td>...             </td><td>...                </td><td>...                          </td><td>...              </td><td>...                     </td><td>...                 </td><td>...                      </td><td>...                             </td><td>...                        </td><td>...                 </td></tr>\n",
       "<tr><td><i style='opacity: 0.6'>21,747,366</i></td><td>21747371    </td><td>546560  </td><td>Half-Life: Alyx         </td><td>65645125   </td><td>english   </td><td>Holy balls                                                       </td><td>1584986704         </td><td>1584986704         </td><td>True         </td><td>0              </td><td>0            </td><td>0.0                  </td><td>0              </td><td>True            </td><td>False              </td><td>False                        </td><td>76561197967033932</td><td>431                     </td><td>7                   </td><td>432.0                    </td><td>0.0                             </td><td>29.0                       </td><td>1586627816.0        </td></tr>\n",
       "<tr><td><i style='opacity: 0.6'>21,747,367</i></td><td>21747372    </td><td>546560  </td><td>Half-Life: Alyx         </td><td>65645115   </td><td>english   </td><td>&#x27;A tripod thing bears down on you, it looks imme...              </td><td>1584986693         </td><td>1584986693         </td><td>True         </td><td>0              </td><td>0            </td><td>0.0                  </td><td>0              </td><td>False           </td><td>False              </td><td>False                        </td><td>76561198046495482</td><td>70                      </td><td>10                  </td><td>3296.0                   </td><td>15.0                            </td><td>24.0                       </td><td>1611080231.0        </td></tr>\n",
       "<tr><td><i style='opacity: 0.6'>21,747,368</i></td><td>21747373    </td><td>546560  </td><td>Half-Life: Alyx         </td><td>65645100   </td><td>english   </td><td>Honestly this is the best vr game ever                           </td><td>1584986673         </td><td>1584986673         </td><td>True         </td><td>0              </td><td>0            </td><td>0.4741379022598266   </td><td>0              </td><td>True            </td><td>False              </td><td>False                        </td><td>76561198176379749</td><td>79                      </td><td>17                  </td><td>2654.0                   </td><td>0.0                             </td><td>34.0                       </td><td>1591633753.0        </td></tr>\n",
       "<tr><td><i style='opacity: 0.6'>21,747,369</i></td><td>21747374    </td><td>546560  </td><td>Half-Life: Alyx         </td><td>65645066   </td><td>english   </td><td>&#x27;Smooth turning is not working right now.\\nIt app...             </td><td>1584986631         </td><td>1586382422         </td><td>True         </td><td>0              </td><td>0            </td><td>0.3860217034816742   </td><td>11             </td><td>True            </td><td>False              </td><td>False                        </td><td>76561198041763187</td><td>140                     </td><td>3                   </td><td>210.0                    </td><td>0.0                             </td><td>12.0                       </td><td>1589715415.0        </td></tr>\n",
       "<tr><td><i style='opacity: 0.6'>21,747,370</i></td><td>21747375    </td><td>546560  </td><td>Half-Life: Alyx         </td><td>65644930   </td><td>schinese  </td><td>&#x27;WMR加载中闪退，无法进入游戏\\nWMR Flashback in Load，cant play...</td><td>1584986505         </td><td>1592060800         </td><td>True         </td><td>0              </td><td>0            </td><td>0.4161067605018616   </td><td>5              </td><td>True            </td><td>False              </td><td>False                        </td><td>76561198116747069</td><td>253                     </td><td>7                   </td><td>1062.0                   </td><td>0.0                             </td><td>8.0                        </td><td>1602857543.0        </td></tr>\n",
       "</tbody>\n",
       "</table>"
      ],
      "text/plain": [
       "<IPython.core.display.HTML object>"
      ]
     },
     "metadata": {},
     "output_type": "display_data"
    }
   ],
   "source": [
    "vaex_df.info()"
   ]
  },
  {
   "cell_type": "markdown",
   "id": "a4bf230a",
   "metadata": {},
   "source": [
    "Based on this, we should convert the types of some variables, since they aren't been correctly read.\n",
    "\n",
    "* app_id: is currently interpreted as an int, but it should be treated as a string, since this is the unique number identification of each app. \n",
    "* review_id: is currently interpreted as an int, but is should also be treated as a string. \n",
    "* timestamp_created & timestamp_updated: currently interpreted as int, but they should be treated as datetime objects. \n",
    "* author.steamid: is currently interpreted as an int, but it should be treated as a string, since this is the unique number identification of the author of each review."
   ]
  },
  {
   "cell_type": "code",
   "execution_count": 54,
   "id": "2bb059c3",
   "metadata": {},
   "outputs": [],
   "source": [
    "def column_to_datetime(datetime_str):\n",
    "    #return np.datetime64(datetime.strptime(datetime_str, date_format))\n",
    "    return datetime.utcfromtimestamp(datetime_str).strftime('%Y-%m-%d %H:%M:%S')\n",
    "\n",
    "vaex_df['timestamp_created'] = vaex_df['timestamp_created'].apply(column_to_datetime)\n",
    "vaex_df['timestamp_updated'] = vaex_df['timestamp_updated'].apply(column_to_datetime)"
   ]
  },
  {
   "cell_type": "code",
   "execution_count": 55,
   "id": "1159b0e9",
   "metadata": {},
   "outputs": [],
   "source": [
    "vaex_df['app_id']= vaex_df.app_id.astype('str')\n",
    "vaex_df['review_id']= vaex_df.review_id.astype('str')\n",
    "vaex_df['author.steamid'] = vaex_df['author.steamid'].astype('str')"
   ]
  },
  {
   "cell_type": "code",
   "execution_count": 56,
   "id": "7a74c6a4",
   "metadata": {},
   "outputs": [
    {
     "data": {
      "text/html": [
       "<style>.vaex-description pre {\n",
       "          max-width : 450px;\n",
       "          white-space : nowrap;\n",
       "          overflow : hidden;\n",
       "          text-overflow: ellipsis;\n",
       "        }\n",
       "\n",
       "        .vex-description pre:hover {\n",
       "          max-width : initial;\n",
       "          white-space: pre;\n",
       "        }</style>"
      ],
      "text/plain": [
       "<IPython.core.display.HTML object>"
      ]
     },
     "metadata": {},
     "output_type": "display_data"
    },
    {
     "data": {
      "text/html": [
       "<div><h2>steam_reviews.csv</h2> <b>rows</b>: 21,747,371</div><h2>Columns:</h2><table class='table-striped'><thead><tr><th>column</th><th>type</th><th>unit</th><th>description</th><th>expression</th></tr></thead><tr><td>Unnamed: 0</td><td>int64</td><td></td><td ><pre></pre></td><td></td></tr><tr><td>app_id</td><td></i>virtual column</i></td><td></td><td ><pre></pre></td><td><code>astype(__app_id, 'str')</code></td></tr><tr><td>app_name</td><td>str</td><td></td><td ><pre></pre></td><td></td></tr><tr><td>review_id</td><td></i>virtual column</i></td><td></td><td ><pre></pre></td><td><code>astype(__review_id, 'str')</code></td></tr><tr><td>language</td><td>str</td><td></td><td ><pre></pre></td><td></td></tr><tr><td>review</td><td>str</td><td></td><td ><pre></pre></td><td></td></tr><tr><td>timestamp_created</td><td></i>virtual column</i></td><td></td><td ><pre></pre></td><td><code>lambda_function(__timestamp_created)</code></td></tr><tr><td>timestamp_updated</td><td></i>virtual column</i></td><td></td><td ><pre></pre></td><td><code>lambda_function_1(__timestamp_updated)</code></td></tr><tr><td>recommended</td><td>bool</td><td></td><td ><pre></pre></td><td></td></tr><tr><td>votes_helpful</td><td>int64</td><td></td><td ><pre></pre></td><td></td></tr><tr><td>votes_funny</td><td>int64</td><td></td><td ><pre></pre></td><td></td></tr><tr><td>weighted_vote_score</td><td>float64</td><td></td><td ><pre></pre></td><td></td></tr><tr><td>comment_count</td><td>int64</td><td></td><td ><pre></pre></td><td></td></tr><tr><td>steam_purchase</td><td>bool</td><td></td><td ><pre></pre></td><td></td></tr><tr><td>received_for_free</td><td>bool</td><td></td><td ><pre></pre></td><td></td></tr><tr><td>written_during_early_access</td><td>bool</td><td></td><td ><pre></pre></td><td></td></tr><tr><td>author.steamid</td><td></i>virtual column</i></td><td></td><td ><pre></pre></td><td><code>astype(df['__author.steamid'], 'str')</code></td></tr><tr><td>author.num_games_owned</td><td>int64</td><td></td><td ><pre></pre></td><td></td></tr><tr><td>author.num_reviews</td><td>int64</td><td></td><td ><pre></pre></td><td></td></tr><tr><td>author.playtime_forever</td><td>float64</td><td></td><td ><pre></pre></td><td></td></tr><tr><td>author.playtime_last_two_weeks</td><td>float64</td><td></td><td ><pre></pre></td><td></td></tr><tr><td>author.playtime_at_review</td><td>float64</td><td></td><td ><pre></pre></td><td></td></tr><tr><td>author.last_played</td><td>float64</td><td></td><td ><pre></pre></td><td></td></tr></table><h2>Data:</h2><table>\n",
       "<thead>\n",
       "<tr><th>#                                     </th><th>Unnamed: 0  </th><th>app_id  </th><th>app_name                </th><th>review_id  </th><th>language  </th><th>review                                                           </th><th>timestamp_created  </th><th>timestamp_updated  </th><th>recommended  </th><th>votes_helpful  </th><th>votes_funny  </th><th>weighted_vote_score  </th><th>comment_count  </th><th>steam_purchase  </th><th>received_for_free  </th><th>written_during_early_access  </th><th>author.steamid   </th><th>author.num_games_owned  </th><th>author.num_reviews  </th><th>author.playtime_forever  </th><th>author.playtime_last_two_weeks  </th><th>author.playtime_at_review  </th><th>author.last_played  </th></tr>\n",
       "</thead>\n",
       "<tbody>\n",
       "<tr><td><i style='opacity: 0.6'>0</i>         </td><td>0           </td><td>292030  </td><td>The Witcher 3: Wild Hunt</td><td>85185598   </td><td>schinese  </td><td>不玩此生遗憾，RPG游戏里的天花板，太吸引人了                      </td><td>2021-01-23 06:00:29</td><td>2021-01-23 06:00:29</td><td>True         </td><td>0              </td><td>0            </td><td>0.0                  </td><td>0              </td><td>True            </td><td>False              </td><td>False                        </td><td>76561199095369542</td><td>6                       </td><td>2                   </td><td>1909.0                   </td><td>1448.0                          </td><td>1909.0                     </td><td>1611343383.0        </td></tr>\n",
       "<tr><td><i style='opacity: 0.6'>1</i>         </td><td>1           </td><td>292030  </td><td>The Witcher 3: Wild Hunt</td><td>85185250   </td><td>schinese  </td><td>拔DIAO无情打桩机--杰洛特!!!                                      </td><td>2021-01-23 05:50:30</td><td>2021-01-23 05:50:30</td><td>True         </td><td>0              </td><td>0            </td><td>0.0                  </td><td>0              </td><td>True            </td><td>False              </td><td>False                        </td><td>76561198949504115</td><td>30                      </td><td>10                  </td><td>2764.0                   </td><td>2743.0                          </td><td>2674.0                     </td><td>1611386307.0        </td></tr>\n",
       "<tr><td><i style='opacity: 0.6'>2</i>         </td><td>2           </td><td>292030  </td><td>The Witcher 3: Wild Hunt</td><td>85185111   </td><td>schinese  </td><td>巫师3NB                                                          </td><td>2021-01-23 05:46:40</td><td>2021-01-23 05:46:40</td><td>True         </td><td>0              </td><td>0            </td><td>0.0                  </td><td>0              </td><td>True            </td><td>False              </td><td>False                        </td><td>76561199090098988</td><td>5                       </td><td>1                   </td><td>1061.0                   </td><td>1061.0                          </td><td>1060.0                     </td><td>1611383777.0        </td></tr>\n",
       "<tr><td><i style='opacity: 0.6'>3</i>         </td><td>3           </td><td>292030  </td><td>The Witcher 3: Wild Hunt</td><td>85184605   </td><td>english   </td><td>&quot;One of the best RPG&#x27;s of all time, worthy of an...              </td><td>2021-01-23 05:32:50</td><td>2021-01-23 05:32:50</td><td>True         </td><td>0              </td><td>0            </td><td>0.0                  </td><td>0              </td><td>True            </td><td>False              </td><td>False                        </td><td>76561199054755373</td><td>5                       </td><td>3                   </td><td>5587.0                   </td><td>3200.0                          </td><td>5524.0                     </td><td>1611383744.0        </td></tr>\n",
       "<tr><td><i style='opacity: 0.6'>4</i>         </td><td>4           </td><td>292030  </td><td>The Witcher 3: Wild Hunt</td><td>85184287   </td><td>schinese  </td><td>大作                                                             </td><td>2021-01-23 05:23:47</td><td>2021-01-23 05:23:47</td><td>True         </td><td>0              </td><td>0            </td><td>0.0                  </td><td>0              </td><td>True            </td><td>False              </td><td>False                        </td><td>76561199028326951</td><td>7                       </td><td>4                   </td><td>217.0                    </td><td>42.0                            </td><td>217.0                      </td><td>1610788249.0        </td></tr>\n",
       "<tr><td>...                                   </td><td>...         </td><td>...     </td><td>...                     </td><td>...        </td><td>...       </td><td>...                                                              </td><td>...                </td><td>...                </td><td>...          </td><td>...            </td><td>...          </td><td>...                  </td><td>...            </td><td>...             </td><td>...                </td><td>...                          </td><td>...              </td><td>...                     </td><td>...                 </td><td>...                      </td><td>...                             </td><td>...                        </td><td>...                 </td></tr>\n",
       "<tr><td><i style='opacity: 0.6'>21,747,366</i></td><td>21747371    </td><td>546560  </td><td>Half-Life: Alyx         </td><td>65645125   </td><td>english   </td><td>Holy balls                                                       </td><td>2020-03-23 18:05:04</td><td>2020-03-23 18:05:04</td><td>True         </td><td>0              </td><td>0            </td><td>0.0                  </td><td>0              </td><td>True            </td><td>False              </td><td>False                        </td><td>76561197967033932</td><td>431                     </td><td>7                   </td><td>432.0                    </td><td>0.0                             </td><td>29.0                       </td><td>1586627816.0        </td></tr>\n",
       "<tr><td><i style='opacity: 0.6'>21,747,367</i></td><td>21747372    </td><td>546560  </td><td>Half-Life: Alyx         </td><td>65645115   </td><td>english   </td><td>&#x27;A tripod thing bears down on you, it looks imme...              </td><td>2020-03-23 18:04:53</td><td>2020-03-23 18:04:53</td><td>True         </td><td>0              </td><td>0            </td><td>0.0                  </td><td>0              </td><td>False           </td><td>False              </td><td>False                        </td><td>76561198046495482</td><td>70                      </td><td>10                  </td><td>3296.0                   </td><td>15.0                            </td><td>24.0                       </td><td>1611080231.0        </td></tr>\n",
       "<tr><td><i style='opacity: 0.6'>21,747,368</i></td><td>21747373    </td><td>546560  </td><td>Half-Life: Alyx         </td><td>65645100   </td><td>english   </td><td>Honestly this is the best vr game ever                           </td><td>2020-03-23 18:04:33</td><td>2020-03-23 18:04:33</td><td>True         </td><td>0              </td><td>0            </td><td>0.4741379022598266   </td><td>0              </td><td>True            </td><td>False              </td><td>False                        </td><td>76561198176379749</td><td>79                      </td><td>17                  </td><td>2654.0                   </td><td>0.0                             </td><td>34.0                       </td><td>1591633753.0        </td></tr>\n",
       "<tr><td><i style='opacity: 0.6'>21,747,369</i></td><td>21747374    </td><td>546560  </td><td>Half-Life: Alyx         </td><td>65645066   </td><td>english   </td><td>&#x27;Smooth turning is not working right now.\\nIt app...             </td><td>2020-03-23 18:03:51</td><td>2020-04-08 21:47:02</td><td>True         </td><td>0              </td><td>0            </td><td>0.3860217034816742   </td><td>11             </td><td>True            </td><td>False              </td><td>False                        </td><td>76561198041763187</td><td>140                     </td><td>3                   </td><td>210.0                    </td><td>0.0                             </td><td>12.0                       </td><td>1589715415.0        </td></tr>\n",
       "<tr><td><i style='opacity: 0.6'>21,747,370</i></td><td>21747375    </td><td>546560  </td><td>Half-Life: Alyx         </td><td>65644930   </td><td>schinese  </td><td>&#x27;WMR加载中闪退，无法进入游戏\\nWMR Flashback in Load，cant play...</td><td>2020-03-23 18:01:45</td><td>2020-06-13 15:06:40</td><td>True         </td><td>0              </td><td>0            </td><td>0.4161067605018616   </td><td>5              </td><td>True            </td><td>False              </td><td>False                        </td><td>76561198116747069</td><td>253                     </td><td>7                   </td><td>1062.0                   </td><td>0.0                             </td><td>8.0                        </td><td>1602857543.0        </td></tr>\n",
       "</tbody>\n",
       "</table>"
      ],
      "text/plain": [
       "<IPython.core.display.HTML object>"
      ]
     },
     "metadata": {},
     "output_type": "display_data"
    }
   ],
   "source": [
    "vaex_df.info()"
   ]
  },
  {
   "cell_type": "markdown",
   "id": "3d852127",
   "metadata": {},
   "source": [
    "Description of the numerical values: "
   ]
  },
  {
   "cell_type": "code",
   "execution_count": 57,
   "id": "691c8339",
   "metadata": {},
   "outputs": [
    {
     "data": {
      "text/html": [
       "<div>\n",
       "<style scoped>\n",
       "    .dataframe tbody tr th:only-of-type {\n",
       "        vertical-align: middle;\n",
       "    }\n",
       "\n",
       "    .dataframe tbody tr th {\n",
       "        vertical-align: top;\n",
       "    }\n",
       "\n",
       "    .dataframe thead th {\n",
       "        text-align: right;\n",
       "    }\n",
       "</style>\n",
       "<table border=\"1\" class=\"dataframe\">\n",
       "  <thead>\n",
       "    <tr style=\"text-align: right;\">\n",
       "      <th></th>\n",
       "      <th>app_id</th>\n",
       "      <th>app_name</th>\n",
       "      <th>review_id</th>\n",
       "      <th>language</th>\n",
       "      <th>review</th>\n",
       "      <th>timestamp_created</th>\n",
       "      <th>timestamp_updated</th>\n",
       "      <th>recommended</th>\n",
       "      <th>votes_helpful</th>\n",
       "      <th>votes_funny</th>\n",
       "      <th>...</th>\n",
       "      <th>steam_purchase</th>\n",
       "      <th>received_for_free</th>\n",
       "      <th>written_during_early_access</th>\n",
       "      <th>author.steamid</th>\n",
       "      <th>author.num_games_owned</th>\n",
       "      <th>author.num_reviews</th>\n",
       "      <th>author.playtime_forever</th>\n",
       "      <th>author.playtime_last_two_weeks</th>\n",
       "      <th>author.playtime_at_review</th>\n",
       "      <th>author.last_played</th>\n",
       "    </tr>\n",
       "  </thead>\n",
       "  <tbody>\n",
       "    <tr>\n",
       "      <th>data_type</th>\n",
       "      <td>large_string</td>\n",
       "      <td>string</td>\n",
       "      <td>large_string</td>\n",
       "      <td>string</td>\n",
       "      <td>large_string</td>\n",
       "      <td>string</td>\n",
       "      <td>string</td>\n",
       "      <td>bool</td>\n",
       "      <td>int64</td>\n",
       "      <td>int64</td>\n",
       "      <td>...</td>\n",
       "      <td>bool</td>\n",
       "      <td>bool</td>\n",
       "      <td>bool</td>\n",
       "      <td>large_string</td>\n",
       "      <td>int64</td>\n",
       "      <td>int64</td>\n",
       "      <td>float64</td>\n",
       "      <td>float64</td>\n",
       "      <td>float64</td>\n",
       "      <td>float64</td>\n",
       "    </tr>\n",
       "    <tr>\n",
       "      <th>count</th>\n",
       "      <td>21747371</td>\n",
       "      <td>21747371</td>\n",
       "      <td>21747371</td>\n",
       "      <td>21747371</td>\n",
       "      <td>21713629</td>\n",
       "      <td>21747371</td>\n",
       "      <td>21747371</td>\n",
       "      <td>21747371</td>\n",
       "      <td>21747371</td>\n",
       "      <td>21747371</td>\n",
       "      <td>...</td>\n",
       "      <td>21747371</td>\n",
       "      <td>21747371</td>\n",
       "      <td>21747371</td>\n",
       "      <td>21747371</td>\n",
       "      <td>21747371</td>\n",
       "      <td>21747371</td>\n",
       "      <td>21747369</td>\n",
       "      <td>21747369</td>\n",
       "      <td>21721689</td>\n",
       "      <td>21747369</td>\n",
       "    </tr>\n",
       "    <tr>\n",
       "      <th>NA</th>\n",
       "      <td>0</td>\n",
       "      <td>0</td>\n",
       "      <td>0</td>\n",
       "      <td>0</td>\n",
       "      <td>33742</td>\n",
       "      <td>0</td>\n",
       "      <td>0</td>\n",
       "      <td>0</td>\n",
       "      <td>0</td>\n",
       "      <td>0</td>\n",
       "      <td>...</td>\n",
       "      <td>0</td>\n",
       "      <td>0</td>\n",
       "      <td>0</td>\n",
       "      <td>0</td>\n",
       "      <td>0</td>\n",
       "      <td>0</td>\n",
       "      <td>2</td>\n",
       "      <td>2</td>\n",
       "      <td>25682</td>\n",
       "      <td>2</td>\n",
       "    </tr>\n",
       "    <tr>\n",
       "      <th>mean</th>\n",
       "      <td>--</td>\n",
       "      <td>--</td>\n",
       "      <td>--</td>\n",
       "      <td>--</td>\n",
       "      <td>--</td>\n",
       "      <td>--</td>\n",
       "      <td>--</td>\n",
       "      <td>0.8747084877523816</td>\n",
       "      <td>404468.8552777713</td>\n",
       "      <td>126791.72557597881</td>\n",
       "      <td>...</td>\n",
       "      <td>0.7744583011896012</td>\n",
       "      <td>0.03163881280178648</td>\n",
       "      <td>0.09271856354499125</td>\n",
       "      <td>--</td>\n",
       "      <td>1011300.0967205645</td>\n",
       "      <td>404477.4800190791</td>\n",
       "      <td>16091.04968789558</td>\n",
       "      <td>155.5421350968938</td>\n",
       "      <td>8807.421419761604</td>\n",
       "      <td>1580505062.0580523</td>\n",
       "    </tr>\n",
       "    <tr>\n",
       "      <th>std</th>\n",
       "      <td>--</td>\n",
       "      <td>--</td>\n",
       "      <td>--</td>\n",
       "      <td>--</td>\n",
       "      <td>--</td>\n",
       "      <td>--</td>\n",
       "      <td>--</td>\n",
       "      <td>0.331049</td>\n",
       "      <td>1333740730.362596</td>\n",
       "      <td>23335525.369373</td>\n",
       "      <td>...</td>\n",
       "      <td>0.417939</td>\n",
       "      <td>0.175037</td>\n",
       "      <td>0.290038</td>\n",
       "      <td>--</td>\n",
       "      <td>2108829112.611604</td>\n",
       "      <td>1333740730.360435</td>\n",
       "      <td>37430.566898</td>\n",
       "      <td>730.048788</td>\n",
       "      <td>23885.529993</td>\n",
       "      <td>46761774.154453</td>\n",
       "    </tr>\n",
       "    <tr>\n",
       "      <th>min</th>\n",
       "      <td>--</td>\n",
       "      <td>--</td>\n",
       "      <td>--</td>\n",
       "      <td>--</td>\n",
       "      <td>--</td>\n",
       "      <td>--</td>\n",
       "      <td>--</td>\n",
       "      <td>False</td>\n",
       "      <td>0</td>\n",
       "      <td>0</td>\n",
       "      <td>...</td>\n",
       "      <td>False</td>\n",
       "      <td>False</td>\n",
       "      <td>False</td>\n",
       "      <td>--</td>\n",
       "      <td>0</td>\n",
       "      <td>1</td>\n",
       "      <td>0.0</td>\n",
       "      <td>0.0</td>\n",
       "      <td>1.0</td>\n",
       "      <td>0.0</td>\n",
       "    </tr>\n",
       "    <tr>\n",
       "      <th>max</th>\n",
       "      <td>--</td>\n",
       "      <td>--</td>\n",
       "      <td>--</td>\n",
       "      <td>--</td>\n",
       "      <td>--</td>\n",
       "      <td>--</td>\n",
       "      <td>--</td>\n",
       "      <td>True</td>\n",
       "      <td>4398046511106</td>\n",
       "      <td>4294967295</td>\n",
       "      <td>...</td>\n",
       "      <td>True</td>\n",
       "      <td>True</td>\n",
       "      <td>True</td>\n",
       "      <td>--</td>\n",
       "      <td>4398046511619</td>\n",
       "      <td>4398046511108</td>\n",
       "      <td>3744943.0</td>\n",
       "      <td>27039.0</td>\n",
       "      <td>3228103.0</td>\n",
       "      <td>1611434142.0</td>\n",
       "    </tr>\n",
       "  </tbody>\n",
       "</table>\n",
       "<p>7 rows × 22 columns</p>\n",
       "</div>"
      ],
      "text/plain": [
       "                 app_id  app_name     review_id  language        review  \\\n",
       "data_type  large_string    string  large_string    string  large_string   \n",
       "count          21747371  21747371      21747371  21747371      21713629   \n",
       "NA                    0         0             0         0         33742   \n",
       "mean                 --        --            --        --            --   \n",
       "std                  --        --            --        --            --   \n",
       "min                  --        --            --        --            --   \n",
       "max                  --        --            --        --            --   \n",
       "\n",
       "          timestamp_created timestamp_updated         recommended  \\\n",
       "data_type            string            string                bool   \n",
       "count              21747371          21747371            21747371   \n",
       "NA                        0                 0                   0   \n",
       "mean                     --                --  0.8747084877523816   \n",
       "std                      --                --            0.331049   \n",
       "min                      --                --               False   \n",
       "max                      --                --                True   \n",
       "\n",
       "               votes_helpful         votes_funny  ...      steam_purchase  \\\n",
       "data_type              int64               int64  ...                bool   \n",
       "count               21747371            21747371  ...            21747371   \n",
       "NA                         0                   0  ...                   0   \n",
       "mean       404468.8552777713  126791.72557597881  ...  0.7744583011896012   \n",
       "std        1333740730.362596     23335525.369373  ...            0.417939   \n",
       "min                        0                   0  ...               False   \n",
       "max            4398046511106          4294967295  ...                True   \n",
       "\n",
       "             received_for_free written_during_early_access author.steamid  \\\n",
       "data_type                 bool                        bool   large_string   \n",
       "count                 21747371                    21747371       21747371   \n",
       "NA                           0                           0              0   \n",
       "mean       0.03163881280178648         0.09271856354499125             --   \n",
       "std                   0.175037                    0.290038             --   \n",
       "min                      False                       False             --   \n",
       "max                       True                        True             --   \n",
       "\n",
       "          author.num_games_owned author.num_reviews author.playtime_forever  \\\n",
       "data_type                  int64              int64                 float64   \n",
       "count                   21747371           21747371                21747369   \n",
       "NA                             0                  0                       2   \n",
       "mean          1011300.0967205645  404477.4800190791       16091.04968789558   \n",
       "std            2108829112.611604  1333740730.360435            37430.566898   \n",
       "min                            0                  1                     0.0   \n",
       "max                4398046511619      4398046511108               3744943.0   \n",
       "\n",
       "          author.playtime_last_two_weeks author.playtime_at_review  \\\n",
       "data_type                        float64                   float64   \n",
       "count                           21747369                  21721689   \n",
       "NA                                     2                     25682   \n",
       "mean                   155.5421350968938         8807.421419761604   \n",
       "std                           730.048788              23885.529993   \n",
       "min                                  0.0                       1.0   \n",
       "max                              27039.0                 3228103.0   \n",
       "\n",
       "           author.last_played  \n",
       "data_type             float64  \n",
       "count                21747369  \n",
       "NA                          2  \n",
       "mean       1580505062.0580523  \n",
       "std           46761774.154453  \n",
       "min                       0.0  \n",
       "max              1611434142.0  \n",
       "\n",
       "[7 rows x 22 columns]"
      ]
     },
     "execution_count": 57,
     "metadata": {},
     "output_type": "execute_result"
    }
   ],
   "source": [
    "vaex_df[:,1:].describe()"
   ]
  },
  {
   "cell_type": "markdown",
   "id": "d82bc582",
   "metadata": {},
   "source": [
    "### Null Values"
   ]
  },
  {
   "cell_type": "markdown",
   "id": "98a09be2",
   "metadata": {},
   "source": [
    "* The field \"review\" is the one that has the biggest number of null values with a total count of 33.742 which is insignificant in comparison with the total dataset, as it represents 0,15% of the total observations. Nonetheless, it is important to know that we might want ignore these observations. \n",
    "\n",
    "* The feature \"author.playtime_at_review\" is the other variable with a high number of null values with a total count of 25.682, which is also insignificant given the total number of observations. "
   ]
  },
  {
   "cell_type": "markdown",
   "id": "292e4d89",
   "metadata": {},
   "source": [
    "### Analysis one-by-one variable"
   ]
  },
  {
   "cell_type": "markdown",
   "id": "929588cf",
   "metadata": {},
   "source": [
    "#### 1) App_id: \n",
    "It refers to the unique identifier of the reviewed applications. "
   ]
  },
  {
   "cell_type": "code",
   "execution_count": 58,
   "id": "d842de1c",
   "metadata": {},
   "outputs": [
    {
     "data": {
      "text/plain": [
       "315"
      ]
     },
     "execution_count": 58,
     "metadata": {},
     "output_type": "execute_result"
    }
   ],
   "source": [
    "# We have 315 different apps\n",
    "vaex_df.app_id.nunique()"
   ]
  },
  {
   "cell_type": "markdown",
   "id": "b9f2b46b",
   "metadata": {},
   "source": [
    "The application with the most reviews is the application 578080 which has 1.644.255 (7.5% of the total reviews). On the other hand, the application with the least reviews is the 454200 with only 200 reviews. "
   ]
  },
  {
   "cell_type": "code",
   "execution_count": 59,
   "id": "b6668dd5",
   "metadata": {},
   "outputs": [],
   "source": [
    "# The application with the most reviews \n",
    "most_reviews = pd.DataFrame(vaex_df['app_id'].value_counts()).reset_index()\n",
    "most_reviews = most_reviews.rename(columns={'index': 'app_id', 0: 'number_reviews'})"
   ]
  },
  {
   "cell_type": "code",
   "execution_count": 75,
   "id": "8c15136e",
   "metadata": {},
   "outputs": [
    {
     "data": {
      "text/html": [
       "<div>\n",
       "<style scoped>\n",
       "    .dataframe tbody tr th:only-of-type {\n",
       "        vertical-align: middle;\n",
       "    }\n",
       "\n",
       "    .dataframe tbody tr th {\n",
       "        vertical-align: top;\n",
       "    }\n",
       "\n",
       "    .dataframe thead th {\n",
       "        text-align: right;\n",
       "    }\n",
       "</style>\n",
       "<table border=\"1\" class=\"dataframe\">\n",
       "  <thead>\n",
       "    <tr style=\"text-align: right;\">\n",
       "      <th></th>\n",
       "      <th>app_id</th>\n",
       "      <th>number_reviews</th>\n",
       "    </tr>\n",
       "  </thead>\n",
       "  <tbody>\n",
       "    <tr>\n",
       "      <th>0</th>\n",
       "      <td>578080</td>\n",
       "      <td>1644255</td>\n",
       "    </tr>\n",
       "    <tr>\n",
       "      <th>1</th>\n",
       "      <td>271590</td>\n",
       "      <td>1019116</td>\n",
       "    </tr>\n",
       "    <tr>\n",
       "      <th>2</th>\n",
       "      <td>359550</td>\n",
       "      <td>841918</td>\n",
       "    </tr>\n",
       "    <tr>\n",
       "      <th>3</th>\n",
       "      <td>105600</td>\n",
       "      <td>672815</td>\n",
       "    </tr>\n",
       "    <tr>\n",
       "      <th>4</th>\n",
       "      <td>4000</td>\n",
       "      <td>655524</td>\n",
       "    </tr>\n",
       "  </tbody>\n",
       "</table>\n",
       "</div>"
      ],
      "text/plain": [
       "   app_id  number_reviews\n",
       "0  578080         1644255\n",
       "1  271590         1019116\n",
       "2  359550          841918\n",
       "3  105600          672815\n",
       "4    4000          655524"
      ]
     },
     "execution_count": 75,
     "metadata": {},
     "output_type": "execute_result"
    }
   ],
   "source": [
    "most_reviews.head(5)"
   ]
  },
  {
   "cell_type": "code",
   "execution_count": 74,
   "id": "c648b674",
   "metadata": {},
   "outputs": [
    {
     "data": {
      "text/html": [
       "<div>\n",
       "<style scoped>\n",
       "    .dataframe tbody tr th:only-of-type {\n",
       "        vertical-align: middle;\n",
       "    }\n",
       "\n",
       "    .dataframe tbody tr th {\n",
       "        vertical-align: top;\n",
       "    }\n",
       "\n",
       "    .dataframe thead th {\n",
       "        text-align: right;\n",
       "    }\n",
       "</style>\n",
       "<table border=\"1\" class=\"dataframe\">\n",
       "  <thead>\n",
       "    <tr style=\"text-align: right;\">\n",
       "      <th></th>\n",
       "      <th>app_id</th>\n",
       "      <th>number_reviews</th>\n",
       "    </tr>\n",
       "  </thead>\n",
       "  <tbody>\n",
       "    <tr>\n",
       "      <th>310</th>\n",
       "      <td>611760</td>\n",
       "      <td>1013</td>\n",
       "    </tr>\n",
       "    <tr>\n",
       "      <th>311</th>\n",
       "      <td>385560</td>\n",
       "      <td>700</td>\n",
       "    </tr>\n",
       "    <tr>\n",
       "      <th>312</th>\n",
       "      <td>619290</td>\n",
       "      <td>700</td>\n",
       "    </tr>\n",
       "    <tr>\n",
       "      <th>313</th>\n",
       "      <td>574050</td>\n",
       "      <td>600</td>\n",
       "    </tr>\n",
       "    <tr>\n",
       "      <th>314</th>\n",
       "      <td>454200</td>\n",
       "      <td>200</td>\n",
       "    </tr>\n",
       "  </tbody>\n",
       "</table>\n",
       "</div>"
      ],
      "text/plain": [
       "     app_id  number_reviews\n",
       "310  611760            1013\n",
       "311  385560             700\n",
       "312  619290             700\n",
       "313  574050             600\n",
       "314  454200             200"
      ]
     },
     "execution_count": 74,
     "metadata": {},
     "output_type": "execute_result"
    }
   ],
   "source": [
    "most_reviews.tail(5)"
   ]
  },
  {
   "cell_type": "markdown",
   "id": "c8437380",
   "metadata": {},
   "source": [
    "#### 2) App_name: \n",
    "It refers to the name of each application reviewed. If we count the number of unique app names, we validate that it's the same number of unique application id. This means we can work either with the app_id or the app_name, since there're not different names for a single application_id.  "
   ]
  },
  {
   "cell_type": "code",
   "execution_count": 76,
   "id": "be4d4c1f",
   "metadata": {},
   "outputs": [
    {
     "data": {
      "text/plain": [
       "315"
      ]
     },
     "execution_count": 76,
     "metadata": {},
     "output_type": "execute_result"
    }
   ],
   "source": [
    "vaex_df.app_name.nunique()"
   ]
  },
  {
   "cell_type": "markdown",
   "id": "2bc9db89",
   "metadata": {},
   "source": [
    "We can identify the names of the 5 most/least reviewed applications"
   ]
  },
  {
   "cell_type": "code",
   "execution_count": 77,
   "id": "730816a6",
   "metadata": {},
   "outputs": [],
   "source": [
    "most_reviews_name = pd.DataFrame(vaex_df['app_name'].value_counts()).reset_index().rename(columns={'index': 'app_name', 0: 'number_reviews'})\n",
    "most_reviews_name.head()"
   ]
  },
  {
   "cell_type": "code",
   "execution_count": 78,
   "id": "16e1e8a2",
   "metadata": {},
   "outputs": [
    {
     "data": {
      "text/html": [
       "<div>\n",
       "<style scoped>\n",
       "    .dataframe tbody tr th:only-of-type {\n",
       "        vertical-align: middle;\n",
       "    }\n",
       "\n",
       "    .dataframe tbody tr th {\n",
       "        vertical-align: top;\n",
       "    }\n",
       "\n",
       "    .dataframe thead th {\n",
       "        text-align: right;\n",
       "    }\n",
       "</style>\n",
       "<table border=\"1\" class=\"dataframe\">\n",
       "  <thead>\n",
       "    <tr style=\"text-align: right;\">\n",
       "      <th></th>\n",
       "      <th>app_name</th>\n",
       "      <th>number_reviews</th>\n",
       "    </tr>\n",
       "  </thead>\n",
       "  <tbody>\n",
       "    <tr>\n",
       "      <th>0</th>\n",
       "      <td>PLAYERUNKNOWN'S BATTLEGROUNDS</td>\n",
       "      <td>1644255</td>\n",
       "    </tr>\n",
       "    <tr>\n",
       "      <th>1</th>\n",
       "      <td>Grand Theft Auto V</td>\n",
       "      <td>1019116</td>\n",
       "    </tr>\n",
       "    <tr>\n",
       "      <th>2</th>\n",
       "      <td>Tom Clancy's Rainbow Six Siege</td>\n",
       "      <td>841918</td>\n",
       "    </tr>\n",
       "    <tr>\n",
       "      <th>3</th>\n",
       "      <td>Terraria</td>\n",
       "      <td>672815</td>\n",
       "    </tr>\n",
       "    <tr>\n",
       "      <th>4</th>\n",
       "      <td>Garry's Mod</td>\n",
       "      <td>655524</td>\n",
       "    </tr>\n",
       "    <tr>\n",
       "      <th>...</th>\n",
       "      <td>...</td>\n",
       "      <td>...</td>\n",
       "    </tr>\n",
       "    <tr>\n",
       "      <th>310</th>\n",
       "      <td>Don't Escape: 4 Days to Survive</td>\n",
       "      <td>1013</td>\n",
       "    </tr>\n",
       "    <tr>\n",
       "      <th>311</th>\n",
       "      <td>Shadow Complex Remastered</td>\n",
       "      <td>700</td>\n",
       "    </tr>\n",
       "    <tr>\n",
       "      <th>312</th>\n",
       "      <td>Out of the Park Baseball 19</td>\n",
       "      <td>700</td>\n",
       "    </tr>\n",
       "    <tr>\n",
       "      <th>313</th>\n",
       "      <td>DRAGON QUEST HEROES™ II</td>\n",
       "      <td>600</td>\n",
       "    </tr>\n",
       "    <tr>\n",
       "      <th>314</th>\n",
       "      <td>Neon Hardcorps</td>\n",
       "      <td>200</td>\n",
       "    </tr>\n",
       "  </tbody>\n",
       "</table>\n",
       "<p>315 rows × 2 columns</p>\n",
       "</div>"
      ],
      "text/plain": [
       "                            app_name  number_reviews\n",
       "0      PLAYERUNKNOWN'S BATTLEGROUNDS         1644255\n",
       "1                 Grand Theft Auto V         1019116\n",
       "2     Tom Clancy's Rainbow Six Siege          841918\n",
       "3                           Terraria          672815\n",
       "4                        Garry's Mod          655524\n",
       "..                               ...             ...\n",
       "310  Don't Escape: 4 Days to Survive            1013\n",
       "311        Shadow Complex Remastered             700\n",
       "312      Out of the Park Baseball 19             700\n",
       "313          DRAGON QUEST HEROES™ II             600\n",
       "314                   Neon Hardcorps             200\n",
       "\n",
       "[315 rows x 2 columns]"
      ]
     },
     "execution_count": 78,
     "metadata": {},
     "output_type": "execute_result"
    }
   ],
   "source": [
    "most_reviews_name.tail()"
   ]
  },
  {
   "cell_type": "markdown",
   "id": "33f57b4d",
   "metadata": {},
   "source": [
    "Something that might be important is that we can notice that the app_names do not necessarily follow the same way of naming. This means some of them might have their names just in upper case letters (like PlayerUnknown Battleground) or include some strange simbols (like Dragon Quest Heroes Tm). We should take this into consideration if we plan to do an analysis based on the application names and therefore consider some type of standardization. For this reason, it's easier to work with the app_id, since this feature is standard and doesn't have the described problems. "
   ]
  },
  {
   "cell_type": "markdown",
   "id": "3b52ae0f",
   "metadata": {},
   "source": [
    "#### 3) Review_id: \n",
    "\n",
    "It is apparentely the unique identifier of each review. If it is in fact a unique identifier, it should match the total number of reviews, which would mean that there're not more than 1 reviews with the same review_id"
   ]
  },
  {
   "cell_type": "code",
   "execution_count": 79,
   "id": "858178c7",
   "metadata": {},
   "outputs": [
    {
     "data": {
      "text/plain": [
       "21612444"
      ]
     },
     "execution_count": 79,
     "metadata": {},
     "output_type": "execute_result"
    }
   ],
   "source": [
    "vaex_df.review_id.nunique()"
   ]
  },
  {
   "cell_type": "code",
   "execution_count": 180,
   "id": "cab44dd6",
   "metadata": {},
   "outputs": [],
   "source": [
    "reviews_ids = vaex_df['review_id'].to_pandas_series().to_frame().reset_index()\n",
    "reviews_ids = reviews_ids.rename(columns = {'index':'index',0:'review_id'})"
   ]
  },
  {
   "cell_type": "code",
   "execution_count": 184,
   "id": "7b2ed1ea",
   "metadata": {},
   "outputs": [
    {
     "data": {
      "text/html": [
       "<div>\n",
       "<style scoped>\n",
       "    .dataframe tbody tr th:only-of-type {\n",
       "        vertical-align: middle;\n",
       "    }\n",
       "\n",
       "    .dataframe tbody tr th {\n",
       "        vertical-align: top;\n",
       "    }\n",
       "\n",
       "    .dataframe thead th {\n",
       "        text-align: right;\n",
       "    }\n",
       "</style>\n",
       "<table border=\"1\" class=\"dataframe\">\n",
       "  <thead>\n",
       "    <tr style=\"text-align: right;\">\n",
       "      <th></th>\n",
       "      <th>index</th>\n",
       "      <th>review_id</th>\n",
       "    </tr>\n",
       "  </thead>\n",
       "  <tbody>\n",
       "    <tr>\n",
       "      <th>21471076</th>\n",
       "      <td>21471076</td>\n",
       "      <td>84774500</td>\n",
       "    </tr>\n",
       "    <tr>\n",
       "      <th>21471077</th>\n",
       "      <td>21471077</td>\n",
       "      <td>84774347</td>\n",
       "    </tr>\n",
       "    <tr>\n",
       "      <th>21471078</th>\n",
       "      <td>21471078</td>\n",
       "      <td>84774076</td>\n",
       "    </tr>\n",
       "    <tr>\n",
       "      <th>21471079</th>\n",
       "      <td>21471079</td>\n",
       "      <td>84773959</td>\n",
       "    </tr>\n",
       "    <tr>\n",
       "      <th>21471080</th>\n",
       "      <td>21471080</td>\n",
       "      <td>84773690</td>\n",
       "    </tr>\n",
       "    <tr>\n",
       "      <th>...</th>\n",
       "      <td>...</td>\n",
       "      <td>...</td>\n",
       "    </tr>\n",
       "    <tr>\n",
       "      <th>21605998</th>\n",
       "      <td>21605998</td>\n",
       "      <td>85173193</td>\n",
       "    </tr>\n",
       "    <tr>\n",
       "      <th>21605999</th>\n",
       "      <td>21605999</td>\n",
       "      <td>85173033</td>\n",
       "    </tr>\n",
       "    <tr>\n",
       "      <th>21606000</th>\n",
       "      <td>21606000</td>\n",
       "      <td>85172460</td>\n",
       "    </tr>\n",
       "    <tr>\n",
       "      <th>21606001</th>\n",
       "      <td>21606001</td>\n",
       "      <td>85172260</td>\n",
       "    </tr>\n",
       "    <tr>\n",
       "      <th>21606002</th>\n",
       "      <td>21606002</td>\n",
       "      <td>85171647</td>\n",
       "    </tr>\n",
       "  </tbody>\n",
       "</table>\n",
       "<p>134927 rows × 2 columns</p>\n",
       "</div>"
      ],
      "text/plain": [
       "             index review_id\n",
       "21471076  21471076  84774500\n",
       "21471077  21471077  84774347\n",
       "21471078  21471078  84774076\n",
       "21471079  21471079  84773959\n",
       "21471080  21471080  84773690\n",
       "...            ...       ...\n",
       "21605998  21605998  85173193\n",
       "21605999  21605999  85173033\n",
       "21606000  21606000  85172460\n",
       "21606001  21606001  85172260\n",
       "21606002  21606002  85171647\n",
       "\n",
       "[134927 rows x 2 columns]"
      ]
     },
     "execution_count": 184,
     "metadata": {},
     "output_type": "execute_result"
    }
   ],
   "source": [
    "duplicate_reviews_ids = reviews_ids[reviews_ids.duplicated(['review_id'])]\n",
    "duplicate_reviews_ids"
   ]
  },
  {
   "cell_type": "code",
   "execution_count": 186,
   "id": "f987684c",
   "metadata": {},
   "outputs": [
    {
     "data": {
      "text/plain": [
       "array(['84774500', '84774347', '84774076', ..., '85172460', '85172260',\n",
       "       '85171647'], dtype=object)"
      ]
     },
     "execution_count": 186,
     "metadata": {},
     "output_type": "execute_result"
    }
   ],
   "source": [
    "duplicate_reviews_ids['review_id'].unique()"
   ]
  },
  {
   "cell_type": "markdown",
   "id": "713582e7",
   "metadata": {},
   "source": [
    "#### 4) Language: \n",
    "\n",
    "Language in which the review was written. We have 28 different languages. "
   ]
  },
  {
   "cell_type": "code",
   "execution_count": 118,
   "id": "80044ef3",
   "metadata": {},
   "outputs": [
    {
     "data": {
      "text/plain": [
       "28"
      ]
     },
     "execution_count": 118,
     "metadata": {},
     "output_type": "execute_result"
    }
   ],
   "source": [
    "import matplotlib.pyplot as plt\n",
    "vaex_df.language.nunique()"
   ]
  },
  {
   "cell_type": "code",
   "execution_count": 120,
   "id": "2d10ae41",
   "metadata": {},
   "outputs": [],
   "source": [
    "top_languages = pd.DataFrame(vaex_df['language'].value_counts()).reset_index()\n",
    "top_languages = top_languages.rename(columns={'index': 'languages', 0: 'number_reviews'})"
   ]
  },
  {
   "cell_type": "markdown",
   "id": "841acae7",
   "metadata": {},
   "source": [
    "The next graph allows us to visualize which are the most and least common languages among the reviews. We can clearly identify how the number of reviews made in english are more than twice the number of reviews in chinese (which is the second most common language). We can also visually identify at least 3 different groups of reviews by language: \n",
    "\n",
    "* The most common languages: composed by english, chinese and russian\n",
    "* Languages with a significant amount of reviews but considerably less than the top 3: brazilian, spanish, german, turkish, koreana, french and polish. \n",
    "* The least common languages which represent: tchinese, czech, italian..."
   ]
  },
  {
   "cell_type": "code",
   "execution_count": 145,
   "id": "7e42124e",
   "metadata": {},
   "outputs": [
    {
     "data": {
      "image/png": "[encoded data removed]",
      "text/plain": [
       "<Figure size 640x480 with 1 Axes>"
      ]
     },
     "metadata": {},
     "output_type": "display_data"
    }
   ],
   "source": [
    "diff_languages = top_languages['languages']\n",
    "number_reviews = top_languages['number_reviews']\n",
    "width = 0.8\n",
    "\n",
    "fig, ax = plt.subplots()\n",
    "rects1 = ax.bar(diff_languages, number_reviews, width)\n",
    "\n",
    "ax.set_ylim(0,10000000)\n",
    "ax.set_ylabel(\"Frequency (Millions)\")\n",
    "ax.set_xlabel(\"Language of Review\")\n",
    "ax.set_title(\"Total number of reviews by Language\")\n",
    "\n",
    "plt.xticks(rotation = 90)\n",
    "plt.show()"
   ]
  },
  {
   "cell_type": "markdown",
   "id": "435d5764",
   "metadata": {},
   "source": [
    "#### 5) Review: \n",
    "\n",
    "It's the given review, therefore a chain of strings. This field could be used to do a sentiment analysis over the reviews given for each application. "
   ]
  },
  {
   "cell_type": "markdown",
   "id": "847390d8",
   "metadata": {},
   "source": [
    "#### 6) Timestamp_created: \n",
    "\n",
    "Refers to the time when the review was created. This was given in unix format but transformed into a readable timestamp. "
   ]
  },
  {
   "cell_type": "code",
   "execution_count": 178,
   "id": "c9193328",
   "metadata": {},
   "outputs": [],
   "source": [
    "creation_time = vaex_df['timestamp_created'].to_pandas_series().to_frame().reset_index()\n",
    "creation_time = creation_time.rename(columns = {'index':'index',0:'timestamp'})"
   ]
  },
  {
   "cell_type": "code",
   "execution_count": 179,
   "id": "77b7465d",
   "metadata": {},
   "outputs": [
    {
     "data": {
      "text/plain": [
       "(timestamp    2010-11-19 20:17:16\n",
       " dtype: object,\n",
       " timestamp    2021-01-23 18:24:47\n",
       " dtype: object)"
      ]
     },
     "execution_count": 179,
     "metadata": {},
     "output_type": "execute_result"
    }
   ],
   "source": [
    "creation_time[['timestamp']].min(), creation_time[['timestamp']].max()"
   ]
  },
  {
   "cell_type": "markdown",
   "id": "23f06ee9",
   "metadata": {},
   "source": [
    "The oldest review of the dataset was made on 2010-11-19 while the most recent one was made on 2021-03-23. \n",
    "\n",
    "On the other hand,  we can see the majority of the reviews were created on 2020 and the number of reviews given each year has experimented an increasing trend. It is worth mentioning that visually we can appreciate that the increase in 2020 was greater than the previous increases that the platform has experimented. One hypothesis is that this happened because of the COVID19 lockdown, which made many people to stay home and be more active on the internet. \n",
    "\n",
    "We can't analyze any trend on 2021 since don't even have one complete month of data"
   ]
  },
  {
   "cell_type": "code",
   "execution_count": 187,
   "id": "a30f478e",
   "metadata": {},
   "outputs": [],
   "source": [
    "creation_time['year'] = pd.DatetimeIndex(creation_time['timestamp']).year"
   ]
  },
  {
   "cell_type": "code",
   "execution_count": 191,
   "id": "cac66a70",
   "metadata": {},
   "outputs": [],
   "source": [
    "reviews_by_year = creation_time.groupby(['year']).size().reset_index(name = 'number_reviews')"
   ]
  },
  {
   "cell_type": "code",
   "execution_count": 200,
   "id": "89b04e1a",
   "metadata": {},
   "outputs": [
    {
     "data": {
      "image/png": "[encoded data removed]",
      "text/plain": [
       "<Figure size 640x480 with 1 Axes>"
      ]
     },
     "metadata": {},
     "output_type": "display_data"
    }
   ],
   "source": [
    "years_to_picture = reviews_by_year['year']\n",
    "number_reviews = reviews_by_year['number_reviews']\n",
    "width = 0.8\n",
    "\n",
    "fig, ax = plt.subplots()\n",
    "rects1 = ax.bar(years_to_picture, number_reviews, width)\n",
    "ax.set_ylim(0,8000000)\n",
    "ax.set_ylabel(\"Number of Reviews (Millions)\")\n",
    "ax.set_xlabel(\"Year\")\n",
    "ax.set_title(\"Total number of reviews by Year of Creation\")\n",
    "plt.xticks(rotation = 90)\n",
    "plt.show()"
   ]
  },
  {
   "cell_type": "markdown",
   "id": "2ef13989",
   "metadata": {},
   "source": [
    "#### Timestamp_updated: \n",
    "\n",
    "It refers to the date and hour on which the review was last updated"
   ]
  },
  {
   "cell_type": "markdown",
   "id": "a458a8e2",
   "metadata": {},
   "source": [
    "#### Recommended: \n",
    "\n",
    "It is a boolean feature and tells if the review recommends or not the app. "
   ]
  },
  {
   "cell_type": "code",
   "execution_count": 206,
   "id": "3dd06d95",
   "metadata": {},
   "outputs": [],
   "source": [
    "recomm = pd.DataFrame(vaex_df['recommended'].value_counts()).reset_index()\n",
    "recomm = recomm.rename(columns = {'index':'recommended',0:'number_reviews'})"
   ]
  },
  {
   "cell_type": "code",
   "execution_count": 212,
   "id": "b9c9438c",
   "metadata": {},
   "outputs": [
    {
     "data": {
      "text/html": [
       "<div>\n",
       "<style scoped>\n",
       "    .dataframe tbody tr th:only-of-type {\n",
       "        vertical-align: middle;\n",
       "    }\n",
       "\n",
       "    .dataframe tbody tr th {\n",
       "        vertical-align: top;\n",
       "    }\n",
       "\n",
       "    .dataframe thead th {\n",
       "        text-align: right;\n",
       "    }\n",
       "</style>\n",
       "<table border=\"1\" class=\"dataframe\">\n",
       "  <thead>\n",
       "    <tr style=\"text-align: right;\">\n",
       "      <th></th>\n",
       "      <th>recommended</th>\n",
       "      <th>number_reviews</th>\n",
       "      <th>perc</th>\n",
       "    </tr>\n",
       "  </thead>\n",
       "  <tbody>\n",
       "    <tr>\n",
       "      <th>0</th>\n",
       "      <td>True</td>\n",
       "      <td>19022610</td>\n",
       "      <td>87.5</td>\n",
       "    </tr>\n",
       "    <tr>\n",
       "      <th>1</th>\n",
       "      <td>False</td>\n",
       "      <td>2724761</td>\n",
       "      <td>12.5</td>\n",
       "    </tr>\n",
       "  </tbody>\n",
       "</table>\n",
       "</div>"
      ],
      "text/plain": [
       "   recommended  number_reviews  perc\n",
       "0         True        19022610  87.5\n",
       "1        False         2724761  12.5"
      ]
     },
     "execution_count": 212,
     "metadata": {},
     "output_type": "execute_result"
    }
   ],
   "source": [
    "recomm['perc']= round((recomm['number_reviews']/sum(recomm['number_reviews']))*100,1)\n",
    "recomm"
   ]
  },
  {
   "cell_type": "markdown",
   "id": "e00614de",
   "metadata": {},
   "source": [
    "The vast majority of the reviews recommend the application they are reviewing. "
   ]
  },
  {
   "cell_type": "markdown",
   "id": "3d5f7179",
   "metadata": {},
   "source": [
    "#### Votes_helpful: \n",
    "\n",
    "It indicates the number of votes that have classified the review as \"helpful\".\n",
    "\n"
   ]
  },
  {
   "cell_type": "code",
   "execution_count": 222,
   "id": "15184e2f",
   "metadata": {},
   "outputs": [],
   "source": [
    "helpful_votes = pd.DataFrame(vaex_df['votes_helpful'].value_counts()).reset_index()"
   ]
  },
  {
   "cell_type": "code",
   "execution_count": 226,
   "id": "766aa1be",
   "metadata": {},
   "outputs": [
    {
     "data": {
      "text/html": [
       "<div>\n",
       "<style scoped>\n",
       "    .dataframe tbody tr th:only-of-type {\n",
       "        vertical-align: middle;\n",
       "    }\n",
       "\n",
       "    .dataframe tbody tr th {\n",
       "        vertical-align: top;\n",
       "    }\n",
       "\n",
       "    .dataframe thead th {\n",
       "        text-align: right;\n",
       "    }\n",
       "</style>\n",
       "<table border=\"1\" class=\"dataframe\">\n",
       "  <thead>\n",
       "    <tr style=\"text-align: right;\">\n",
       "      <th></th>\n",
       "      <th>index</th>\n",
       "      <th>0</th>\n",
       "    </tr>\n",
       "  </thead>\n",
       "  <tbody>\n",
       "    <tr>\n",
       "      <th>0</th>\n",
       "      <td>0</td>\n",
       "      <td>15642127</td>\n",
       "    </tr>\n",
       "    <tr>\n",
       "      <th>1</th>\n",
       "      <td>1</td>\n",
       "      <td>3478106</td>\n",
       "    </tr>\n",
       "    <tr>\n",
       "      <th>2</th>\n",
       "      <td>2</td>\n",
       "      <td>1083373</td>\n",
       "    </tr>\n",
       "    <tr>\n",
       "      <th>3</th>\n",
       "      <td>3</td>\n",
       "      <td>449848</td>\n",
       "    </tr>\n",
       "    <tr>\n",
       "      <th>4</th>\n",
       "      <td>4</td>\n",
       "      <td>235425</td>\n",
       "    </tr>\n",
       "    <tr>\n",
       "      <th>...</th>\n",
       "      <td>...</td>\n",
       "      <td>...</td>\n",
       "    </tr>\n",
       "    <tr>\n",
       "      <th>2497</th>\n",
       "      <td>26149</td>\n",
       "      <td>1</td>\n",
       "    </tr>\n",
       "    <tr>\n",
       "      <th>2225</th>\n",
       "      <td>28211</td>\n",
       "      <td>1</td>\n",
       "    </tr>\n",
       "    <tr>\n",
       "      <th>2472</th>\n",
       "      <td>29608</td>\n",
       "      <td>1</td>\n",
       "    </tr>\n",
       "    <tr>\n",
       "      <th>1789</th>\n",
       "      <td>4398046511104</td>\n",
       "      <td>1</td>\n",
       "    </tr>\n",
       "    <tr>\n",
       "      <th>2671</th>\n",
       "      <td>4398046511106</td>\n",
       "      <td>1</td>\n",
       "    </tr>\n",
       "  </tbody>\n",
       "</table>\n",
       "<p>2716 rows × 2 columns</p>\n",
       "</div>"
      ],
      "text/plain": [
       "              index         0\n",
       "0                 0  15642127\n",
       "1                 1   3478106\n",
       "2                 2   1083373\n",
       "3                 3    449848\n",
       "4                 4    235425\n",
       "...             ...       ...\n",
       "2497          26149         1\n",
       "2225          28211         1\n",
       "2472          29608         1\n",
       "1789  4398046511104         1\n",
       "2671  4398046511106         1\n",
       "\n",
       "[2716 rows x 2 columns]"
      ]
     },
     "execution_count": 226,
     "metadata": {},
     "output_type": "execute_result"
    }
   ],
   "source": [
    "helpful_votes.sort_values(['index'])"
   ]
  },
  {
   "cell_type": "markdown",
   "id": "7354644b",
   "metadata": {},
   "source": [
    "#### Votes_funny: \n",
    "\n",
    "It indicates the number of votes that have classified the review as \"funny\"\n",
    "\n"
   ]
  },
  {
   "cell_type": "code",
   "execution_count": 228,
   "id": "86f9e8e8",
   "metadata": {},
   "outputs": [
    {
     "data": {
      "text/html": [
       "<div>\n",
       "<style scoped>\n",
       "    .dataframe tbody tr th:only-of-type {\n",
       "        vertical-align: middle;\n",
       "    }\n",
       "\n",
       "    .dataframe tbody tr th {\n",
       "        vertical-align: top;\n",
       "    }\n",
       "\n",
       "    .dataframe thead th {\n",
       "        text-align: right;\n",
       "    }\n",
       "</style>\n",
       "<table border=\"1\" class=\"dataframe\">\n",
       "  <thead>\n",
       "    <tr style=\"text-align: right;\">\n",
       "      <th></th>\n",
       "      <th>index</th>\n",
       "      <th>0</th>\n",
       "    </tr>\n",
       "  </thead>\n",
       "  <tbody>\n",
       "    <tr>\n",
       "      <th>0</th>\n",
       "      <td>0</td>\n",
       "      <td>19144299</td>\n",
       "    </tr>\n",
       "    <tr>\n",
       "      <th>1</th>\n",
       "      <td>1</td>\n",
       "      <td>1719903</td>\n",
       "    </tr>\n",
       "    <tr>\n",
       "      <th>2</th>\n",
       "      <td>2</td>\n",
       "      <td>381143</td>\n",
       "    </tr>\n",
       "    <tr>\n",
       "      <th>3</th>\n",
       "      <td>3</td>\n",
       "      <td>144356</td>\n",
       "    </tr>\n",
       "    <tr>\n",
       "      <th>4</th>\n",
       "      <td>4</td>\n",
       "      <td>74835</td>\n",
       "    </tr>\n",
       "    <tr>\n",
       "      <th>...</th>\n",
       "      <td>...</td>\n",
       "      <td>...</td>\n",
       "    </tr>\n",
       "    <tr>\n",
       "      <th>726</th>\n",
       "      <td>4294967291</td>\n",
       "      <td>5</td>\n",
       "    </tr>\n",
       "    <tr>\n",
       "      <th>518</th>\n",
       "      <td>4294967292</td>\n",
       "      <td>10</td>\n",
       "    </tr>\n",
       "    <tr>\n",
       "      <th>378</th>\n",
       "      <td>4294967293</td>\n",
       "      <td>20</td>\n",
       "    </tr>\n",
       "    <tr>\n",
       "      <th>215</th>\n",
       "      <td>4294967294</td>\n",
       "      <td>58</td>\n",
       "    </tr>\n",
       "    <tr>\n",
       "      <th>59</th>\n",
       "      <td>4294967295</td>\n",
       "      <td>543</td>\n",
       "    </tr>\n",
       "  </tbody>\n",
       "</table>\n",
       "<p>2215 rows × 2 columns</p>\n",
       "</div>"
      ],
      "text/plain": [
       "          index         0\n",
       "0             0  19144299\n",
       "1             1   1719903\n",
       "2             2    381143\n",
       "3             3    144356\n",
       "4             4     74835\n",
       "..          ...       ...\n",
       "726  4294967291         5\n",
       "518  4294967292        10\n",
       "378  4294967293        20\n",
       "215  4294967294        58\n",
       "59   4294967295       543\n",
       "\n",
       "[2215 rows x 2 columns]"
      ]
     },
     "execution_count": 228,
     "metadata": {},
     "output_type": "execute_result"
    }
   ],
   "source": [
    "funny_votes = pd.DataFrame(vaex_df['votes_funny'].value_counts()).reset_index()\n",
    "funny_votes.sort_values(['index'])"
   ]
  },
  {
   "cell_type": "markdown",
   "id": "ee85a674",
   "metadata": {},
   "source": [
    "#### Weighted_vote_score: "
   ]
  },
  {
   "cell_type": "code",
   "execution_count": 234,
   "id": "81fb139e",
   "metadata": {},
   "outputs": [],
   "source": [
    "weighted_score_df = pd.DataFrame(vaex_df['weighted_vote_score'].value_counts()).reset_index()\n",
    "weighted_score_df = weighted_score_df.rename(columns = {'index':'weighted_score',0:'reviews'})"
   ]
  },
  {
   "cell_type": "code",
   "execution_count": 235,
   "id": "1ecb154c",
   "metadata": {},
   "outputs": [
    {
     "data": {
      "text/plain": [
       "0.995986759662628"
      ]
     },
     "execution_count": 235,
     "metadata": {},
     "output_type": "execute_result"
    }
   ],
   "source": [
    "weighted_score_df.weighted_score.max()"
   ]
  },
  {
   "cell_type": "markdown",
   "id": "aa23d749",
   "metadata": {},
   "source": [
    "#### Comment_count: "
   ]
  },
  {
   "cell_type": "markdown",
   "id": "c4cdbe51",
   "metadata": {},
   "source": [
    "#### Steam_purchase: "
   ]
  },
  {
   "cell_type": "markdown",
   "id": "f90ff79f",
   "metadata": {},
   "source": [
    "#### Received_for_free: "
   ]
  },
  {
   "cell_type": "markdown",
   "id": "6092e587",
   "metadata": {},
   "source": [
    "#### Written_during_early_access: "
   ]
  },
  {
   "cell_type": "markdown",
   "id": "cc043046",
   "metadata": {},
   "source": [
    "#### Author.steamid: "
   ]
  },
  {
   "cell_type": "markdown",
   "id": "8c1ce6ca",
   "metadata": {},
   "source": [
    "#### Author.num_games: "
   ]
  },
  {
   "cell_type": "markdown",
   "id": "5677514a",
   "metadata": {},
   "source": [
    "#### Author.num_reviews: "
   ]
  },
  {
   "cell_type": "markdown",
   "id": "b7307d5a",
   "metadata": {},
   "source": [
    "#### Author.playtime_forever: "
   ]
  },
  {
   "cell_type": "markdown",
   "id": "73608381",
   "metadata": {},
   "source": [
    "#### Author.playtime_last_two_weeks"
   ]
  },
  {
   "cell_type": "markdown",
   "id": "41ef070b",
   "metadata": {},
   "source": [
    "#### Author.playtime_at_review"
   ]
  },
  {
   "cell_type": "markdown",
   "id": "3dd8fed0",
   "metadata": {},
   "source": [
    "#### Author.last_played"
   ]
  },
  {
   "cell_type": "markdown",
   "id": "60699099",
   "metadata": {},
   "source": [
    "# [RQ4]\n",
    "### RQ4 - What are the top 3 languages used to review applications?"
   ]
  },
  {
   "cell_type": "code",
   "execution_count": 62,
   "id": "613d0526",
   "metadata": {},
   "outputs": [],
   "source": [
    "top_languages = pd.DataFrame(vaex_df['language'].value_counts()).reset_index()\n",
    "top_languages = top_languages.rename(columns={'index': 'languages', 0: 'number_reviews'})"
   ]
  },
  {
   "cell_type": "code",
   "execution_count": 63,
   "id": "6790b578",
   "metadata": {},
   "outputs": [
    {
     "data": {
      "text/html": [
       "<div>\n",
       "<style scoped>\n",
       "    .dataframe tbody tr th:only-of-type {\n",
       "        vertical-align: middle;\n",
       "    }\n",
       "\n",
       "    .dataframe tbody tr th {\n",
       "        vertical-align: top;\n",
       "    }\n",
       "\n",
       "    .dataframe thead th {\n",
       "        text-align: right;\n",
       "    }\n",
       "</style>\n",
       "<table border=\"1\" class=\"dataframe\">\n",
       "  <thead>\n",
       "    <tr style=\"text-align: right;\">\n",
       "      <th></th>\n",
       "      <th>languages</th>\n",
       "      <th>number_reviews</th>\n",
       "    </tr>\n",
       "  </thead>\n",
       "  <tbody>\n",
       "    <tr>\n",
       "      <th>0</th>\n",
       "      <td>english</td>\n",
       "      <td>9635437</td>\n",
       "    </tr>\n",
       "    <tr>\n",
       "      <th>1</th>\n",
       "      <td>schinese</td>\n",
       "      <td>3764967</td>\n",
       "    </tr>\n",
       "    <tr>\n",
       "      <th>2</th>\n",
       "      <td>russian</td>\n",
       "      <td>2348900</td>\n",
       "    </tr>\n",
       "  </tbody>\n",
       "</table>\n",
       "</div>"
      ],
      "text/plain": [
       "  languages  number_reviews\n",
       "0   english         9635437\n",
       "1  schinese         3764967\n",
       "2   russian         2348900"
      ]
     },
     "execution_count": 63,
     "metadata": {},
     "output_type": "execute_result"
    }
   ],
   "source": [
    "top_languages.head(3)"
   ]
  },
  {
   "cell_type": "markdown",
   "id": "9c00abbb",
   "metadata": {},
   "source": [
    "The top 3 languages used to review applications are english, chinese and russian. "
   ]
  },
  {
   "cell_type": "markdown",
   "id": "8ff4440f",
   "metadata": {},
   "source": [
    "### RQ4 - Create a function that receives as parameters both the name of a data set and a list of languages’ names and returns a data frame filtered only with the reviews written in the provided languages."
   ]
  },
  {
   "cell_type": "code",
   "execution_count": 64,
   "id": "5c56c6a3",
   "metadata": {},
   "outputs": [],
   "source": [
    "def filter_languages_f(dataset_name, languages_to_filter):\n",
    "    #check if languages_to_filter parameter is actually a list\n",
    "    if(isinstance(languages_to_filter,list)):\n",
    "        filtered_dataset = dataset_name[dataset_name['language'].isin(languages_to_filter)]\n",
    "    else:\n",
    "        print('Must enter the desired languages to be filtered in a list format')\n",
    "    \n",
    "    return filtered_dataset"
   ]
  },
  {
   "cell_type": "code",
   "execution_count": 65,
   "id": "98b2dbed",
   "metadata": {},
   "outputs": [
    {
     "data": {
      "text/html": [
       "<table>\n",
       "<thead>\n",
       "<tr><th>#                            </th><th style=\"text-align: right;\">  Unnamed: 0</th><th style=\"text-align: right;\">  app_id</th><th>app_name                </th><th style=\"text-align: right;\">  review_id</th><th>language  </th><th>review                                             </th><th>timestamp_created  </th><th>timestamp_updated  </th><th>recommended  </th><th style=\"text-align: right;\">  votes_helpful</th><th style=\"text-align: right;\">  votes_funny</th><th style=\"text-align: right;\">  weighted_vote_score</th><th style=\"text-align: right;\">  comment_count</th><th>steam_purchase  </th><th>received_for_free  </th><th>written_during_early_access  </th><th style=\"text-align: right;\">   author.steamid</th><th style=\"text-align: right;\">  author.num_games_owned</th><th style=\"text-align: right;\">  author.num_reviews</th><th style=\"text-align: right;\">  author.playtime_forever</th><th style=\"text-align: right;\">  author.playtime_last_two_weeks</th><th style=\"text-align: right;\">  author.playtime_at_review</th><th style=\"text-align: right;\">  author.last_played</th></tr>\n",
       "</thead>\n",
       "<tbody>\n",
       "<tr><td><i style='opacity: 0.6'>0</i></td><td style=\"text-align: right;\">           3</td><td style=\"text-align: right;\">  292030</td><td>The Witcher 3: Wild Hunt</td><td style=\"text-align: right;\">   85184605</td><td>english   </td><td>&quot;One of the best RPG&#x27;s of all time, worthy of an...</td><td>2021-01-23 05:32:50</td><td>2021-01-23 05:32:50</td><td>True         </td><td style=\"text-align: right;\">              0</td><td style=\"text-align: right;\">            0</td><td style=\"text-align: right;\">                    0</td><td style=\"text-align: right;\">              0</td><td>True            </td><td>False              </td><td>False                        </td><td style=\"text-align: right;\">76561199054755373</td><td style=\"text-align: right;\">                       5</td><td style=\"text-align: right;\">                   3</td><td style=\"text-align: right;\">                     5587</td><td style=\"text-align: right;\">                            3200</td><td style=\"text-align: right;\">                       5524</td><td style=\"text-align: right;\">         1.61138e+09</td></tr>\n",
       "<tr><td><i style='opacity: 0.6'>1</i></td><td style=\"text-align: right;\">           5</td><td style=\"text-align: right;\">  292030</td><td>The Witcher 3: Wild Hunt</td><td style=\"text-align: right;\">   85184171</td><td>english   </td><td>good story, good graphics. lots to do.             </td><td>2021-01-23 05:21:04</td><td>2021-01-23 05:21:04</td><td>True         </td><td style=\"text-align: right;\">              0</td><td style=\"text-align: right;\">            0</td><td style=\"text-align: right;\">                    0</td><td style=\"text-align: right;\">              0</td><td>True            </td><td>False              </td><td>False                        </td><td style=\"text-align: right;\">76561198170193529</td><td style=\"text-align: right;\">                      11</td><td style=\"text-align: right;\">                   1</td><td style=\"text-align: right;\">                      823</td><td style=\"text-align: right;\">                             823</td><td style=\"text-align: right;\">                        823</td><td style=\"text-align: right;\">         1.61138e+09</td></tr>\n",
       "<tr><td><i style='opacity: 0.6'>2</i></td><td style=\"text-align: right;\">           6</td><td style=\"text-align: right;\">  292030</td><td>The Witcher 3: Wild Hunt</td><td style=\"text-align: right;\">   85184064</td><td>english   </td><td>dis gud,                                           </td><td>2021-01-23 05:18:11</td><td>2021-01-23 05:18:11</td><td>True         </td><td style=\"text-align: right;\">              0</td><td style=\"text-align: right;\">            0</td><td style=\"text-align: right;\">                    0</td><td style=\"text-align: right;\">              0</td><td>True            </td><td>False              </td><td>False                        </td><td style=\"text-align: right;\">76561198119302812</td><td style=\"text-align: right;\">                      27</td><td style=\"text-align: right;\">                   2</td><td style=\"text-align: right;\">                     4192</td><td style=\"text-align: right;\">                            3398</td><td style=\"text-align: right;\">                       4192</td><td style=\"text-align: right;\">         1.61135e+09</td></tr>\n",
       "<tr><td><i style='opacity: 0.6'>3</i></td><td style=\"text-align: right;\">          11</td><td style=\"text-align: right;\">  292030</td><td>The Witcher 3: Wild Hunt</td><td style=\"text-align: right;\">   85182372</td><td>russian   </td><td>&#x27;Шикарная игра с отличным сюжетом, неплохой граф...</td><td>2021-01-23 04:31:21</td><td>2021-01-23 04:31:21</td><td>True         </td><td style=\"text-align: right;\">              0</td><td style=\"text-align: right;\">            0</td><td style=\"text-align: right;\">                    0</td><td style=\"text-align: right;\">              0</td><td>True            </td><td>False              </td><td>False                        </td><td style=\"text-align: right;\">76561198257031328</td><td style=\"text-align: right;\">                      11</td><td style=\"text-align: right;\">                   2</td><td style=\"text-align: right;\">                      508</td><td style=\"text-align: right;\">                             508</td><td style=\"text-align: right;\">                        348</td><td style=\"text-align: right;\">         1.61139e+09</td></tr>\n",
       "<tr><td><i style='opacity: 0.6'>4</i></td><td style=\"text-align: right;\">          13</td><td style=\"text-align: right;\">  292030</td><td>The Witcher 3: Wild Hunt</td><td style=\"text-align: right;\">   85181146</td><td>russian   </td><td>&#x27;Замечательная карточная игра в антураже фэнтези...</td><td>2021-01-23 03:57:18</td><td>2021-01-23 03:58:29</td><td>True         </td><td style=\"text-align: right;\">              0</td><td style=\"text-align: right;\">            0</td><td style=\"text-align: right;\">                    0</td><td style=\"text-align: right;\">              0</td><td>True            </td><td>False              </td><td>False                        </td><td style=\"text-align: right;\">76561197987104694</td><td style=\"text-align: right;\">                     501</td><td style=\"text-align: right;\">                  23</td><td style=\"text-align: right;\">                     7310</td><td style=\"text-align: right;\">                               0</td><td style=\"text-align: right;\">                       7310</td><td style=\"text-align: right;\">         1.52555e+09</td></tr>\n",
       "</tbody>\n",
       "</table>"
      ],
      "text/plain": [
       "  #    Unnamed: 0    app_id  app_name                    review_id  language    review                                               timestamp_created    timestamp_updated    recommended      votes_helpful    votes_funny    weighted_vote_score    comment_count  steam_purchase    received_for_free    written_during_early_access       author.steamid    author.num_games_owned    author.num_reviews    author.playtime_forever    author.playtime_last_two_weeks    author.playtime_at_review    author.last_played\n",
       "  0             3    292030  The Witcher 3: Wild Hunt     85184605  english     \"One of the best RPG's of all time, worthy of an...  2021-01-23 05:32:50  2021-01-23 05:32:50  True                         0              0                      0                0  True              False                False                          76561199054755373                         5                     3                       5587                              3200                         5524           1.61138e+09\n",
       "  1             5    292030  The Witcher 3: Wild Hunt     85184171  english     good story, good graphics. lots to do.               2021-01-23 05:21:04  2021-01-23 05:21:04  True                         0              0                      0                0  True              False                False                          76561198170193529                        11                     1                        823                               823                          823           1.61138e+09\n",
       "  2             6    292030  The Witcher 3: Wild Hunt     85184064  english     dis gud,                                             2021-01-23 05:18:11  2021-01-23 05:18:11  True                         0              0                      0                0  True              False                False                          76561198119302812                        27                     2                       4192                              3398                         4192           1.61135e+09\n",
       "  3            11    292030  The Witcher 3: Wild Hunt     85182372  russian     'Шикарная игра с отличным сюжетом, неплохой граф...  2021-01-23 04:31:21  2021-01-23 04:31:21  True                         0              0                      0                0  True              False                False                          76561198257031328                        11                     2                        508                               508                          348           1.61139e+09\n",
       "  4            13    292030  The Witcher 3: Wild Hunt     85181146  russian     'Замечательная карточная игра в антураже фэнтези...  2021-01-23 03:57:18  2021-01-23 03:58:29  True                         0              0                      0                0  True              False                False                          76561197987104694                       501                    23                       7310                                 0                         7310           1.52555e+09"
      ]
     },
     "execution_count": 65,
     "metadata": {},
     "output_type": "execute_result"
    }
   ],
   "source": [
    "filter_languages_f(vaex_df,['english','russian']).head(5)"
   ]
  },
  {
   "cell_type": "markdown",
   "id": "c42bedf5",
   "metadata": {},
   "source": [
    "### RQ4 - Use the function created in the previous literal to find what percentage of these reviews (associated with the top 3 languages) were voted as funny?"
   ]
  },
  {
   "cell_type": "code",
   "execution_count": 70,
   "id": "a52b5c22",
   "metadata": {},
   "outputs": [],
   "source": [
    "filtered_languages = filter_languages_f(vaex_df,['english','russian','schinese'])\n",
    "filtered_languages_funny = filtered_languages[filtered_languages['votes_funny'] != 0]\n",
    "filtered_languages_funny = pd.DataFrame(filtered_languages_funny['language'].value_counts()).reset_index()\n",
    "filtered_languages_funny = filtered_languages_funny.rename(columns={'index':'languages',0:'number_funny_reviews'})"
   ]
  },
  {
   "cell_type": "code",
   "execution_count": 67,
   "id": "46aa88b4",
   "metadata": {},
   "outputs": [
    {
     "data": {
      "text/html": [
       "<div>\n",
       "<style scoped>\n",
       "    .dataframe tbody tr th:only-of-type {\n",
       "        vertical-align: middle;\n",
       "    }\n",
       "\n",
       "    .dataframe tbody tr th {\n",
       "        vertical-align: top;\n",
       "    }\n",
       "\n",
       "    .dataframe thead th {\n",
       "        text-align: right;\n",
       "    }\n",
       "</style>\n",
       "<table border=\"1\" class=\"dataframe\">\n",
       "  <thead>\n",
       "    <tr style=\"text-align: right;\">\n",
       "      <th></th>\n",
       "      <th>languages</th>\n",
       "      <th>number_funny_reviews</th>\n",
       "    </tr>\n",
       "  </thead>\n",
       "  <tbody>\n",
       "    <tr>\n",
       "      <th>0</th>\n",
       "      <td>english</td>\n",
       "      <td>1085997</td>\n",
       "    </tr>\n",
       "    <tr>\n",
       "      <th>1</th>\n",
       "      <td>schinese</td>\n",
       "      <td>444945</td>\n",
       "    </tr>\n",
       "    <tr>\n",
       "      <th>2</th>\n",
       "      <td>russian</td>\n",
       "      <td>391784</td>\n",
       "    </tr>\n",
       "  </tbody>\n",
       "</table>\n",
       "</div>"
      ],
      "text/plain": [
       "  languages  number_funny_reviews\n",
       "0   english               1085997\n",
       "1  schinese                444945\n",
       "2   russian                391784"
      ]
     },
     "execution_count": 67,
     "metadata": {},
     "output_type": "execute_result"
    }
   ],
   "source": [
    "filtered_languages_funny.head()"
   ]
  },
  {
   "cell_type": "code",
   "execution_count": 68,
   "id": "61e04e33",
   "metadata": {},
   "outputs": [
    {
     "data": {
      "text/html": [
       "<div>\n",
       "<style scoped>\n",
       "    .dataframe tbody tr th:only-of-type {\n",
       "        vertical-align: middle;\n",
       "    }\n",
       "\n",
       "    .dataframe tbody tr th {\n",
       "        vertical-align: top;\n",
       "    }\n",
       "\n",
       "    .dataframe thead th {\n",
       "        text-align: right;\n",
       "    }\n",
       "</style>\n",
       "<table border=\"1\" class=\"dataframe\">\n",
       "  <thead>\n",
       "    <tr style=\"text-align: right;\">\n",
       "      <th></th>\n",
       "      <th>languages</th>\n",
       "      <th>number_reviews</th>\n",
       "      <th>number_funny_reviews</th>\n",
       "      <th>percent_funny</th>\n",
       "    </tr>\n",
       "  </thead>\n",
       "  <tbody>\n",
       "    <tr>\n",
       "      <th>0</th>\n",
       "      <td>english</td>\n",
       "      <td>9635437</td>\n",
       "      <td>1085997</td>\n",
       "      <td>11.3</td>\n",
       "    </tr>\n",
       "    <tr>\n",
       "      <th>1</th>\n",
       "      <td>schinese</td>\n",
       "      <td>3764967</td>\n",
       "      <td>444945</td>\n",
       "      <td>11.8</td>\n",
       "    </tr>\n",
       "    <tr>\n",
       "      <th>2</th>\n",
       "      <td>russian</td>\n",
       "      <td>2348900</td>\n",
       "      <td>391784</td>\n",
       "      <td>16.7</td>\n",
       "    </tr>\n",
       "  </tbody>\n",
       "</table>\n",
       "</div>"
      ],
      "text/plain": [
       "  languages  number_reviews  number_funny_reviews  percent_funny\n",
       "0   english         9635437               1085997           11.3\n",
       "1  schinese         3764967                444945           11.8\n",
       "2   russian         2348900                391784           16.7"
      ]
     },
     "execution_count": 68,
     "metadata": {},
     "output_type": "execute_result"
    }
   ],
   "source": [
    "percent_funny = top_languages.merge(filtered_languages_funny)\n",
    "percent_funny['percent_funny'] = round((percent_funny['number_funny_reviews']/percent_funny['number_reviews'])*100,1)\n",
    "percent_funny"
   ]
  },
  {
   "cell_type": "markdown",
   "id": "dac3b129",
   "metadata": {},
   "source": [
    "* Based on the last table, we can affirm that from the top 3 languages in terms of total number of reviews, the language with the most reviews categorized as funny is Russian, where 16.7% of the total reviews made in Russian were classified as funny at least once. \n",
    "* In the case of the reviews made in chinese and english language, 11.8% and 11.3% of the total reviews made in each language were classified as funny. \n",
    "* Based on this we could affirm that apparently even though russian reviews are not as numerous as the ones made in english, they in relative means funnier than those made in english. "
   ]
  },
  {
   "cell_type": "markdown",
   "id": "82af21cb",
   "metadata": {},
   "source": [
    "### RQ4 - Use the function created in the literal “a” to find what percentage of these reviews (associated with the top 3 languages) were voted as helpful?"
   ]
  },
  {
   "cell_type": "code",
   "execution_count": 71,
   "id": "1ac08ea0",
   "metadata": {},
   "outputs": [],
   "source": [
    "filtered_languages_helpful = filtered_languages[filtered_languages['votes_helpful'] != 0]\n",
    "filtered_languages_helpful = pd.DataFrame(filtered_languages_helpful['language'].value_counts()).reset_index()\n",
    "filtered_languages_helpful = filtered_languages_helpful.rename(columns={'index':'languages',0:'number_helpful_reviews'})"
   ]
  },
  {
   "cell_type": "code",
   "execution_count": 72,
   "id": "18b10552",
   "metadata": {},
   "outputs": [
    {
     "data": {
      "text/html": [
       "<div>\n",
       "<style scoped>\n",
       "    .dataframe tbody tr th:only-of-type {\n",
       "        vertical-align: middle;\n",
       "    }\n",
       "\n",
       "    .dataframe tbody tr th {\n",
       "        vertical-align: top;\n",
       "    }\n",
       "\n",
       "    .dataframe thead th {\n",
       "        text-align: right;\n",
       "    }\n",
       "</style>\n",
       "<table border=\"1\" class=\"dataframe\">\n",
       "  <thead>\n",
       "    <tr style=\"text-align: right;\">\n",
       "      <th></th>\n",
       "      <th>languages</th>\n",
       "      <th>number_reviews</th>\n",
       "      <th>number_helpful_reviews</th>\n",
       "      <th>percent_helpful</th>\n",
       "    </tr>\n",
       "  </thead>\n",
       "  <tbody>\n",
       "    <tr>\n",
       "      <th>0</th>\n",
       "      <td>english</td>\n",
       "      <td>9635437</td>\n",
       "      <td>2813873</td>\n",
       "      <td>29.2</td>\n",
       "    </tr>\n",
       "    <tr>\n",
       "      <th>1</th>\n",
       "      <td>schinese</td>\n",
       "      <td>3764967</td>\n",
       "      <td>945157</td>\n",
       "      <td>25.1</td>\n",
       "    </tr>\n",
       "    <tr>\n",
       "      <th>2</th>\n",
       "      <td>russian</td>\n",
       "      <td>2348900</td>\n",
       "      <td>833896</td>\n",
       "      <td>35.5</td>\n",
       "    </tr>\n",
       "  </tbody>\n",
       "</table>\n",
       "</div>"
      ],
      "text/plain": [
       "  languages  number_reviews  number_helpful_reviews  percent_helpful\n",
       "0   english         9635437                 2813873             29.2\n",
       "1  schinese         3764967                  945157             25.1\n",
       "2   russian         2348900                  833896             35.5"
      ]
     },
     "execution_count": 72,
     "metadata": {},
     "output_type": "execute_result"
    }
   ],
   "source": [
    "percent_helpful = top_languages.merge(filtered_languages_helpful)\n",
    "percent_helpful['percent_helpful'] = round((percent_helpful['number_helpful_reviews']/percent_funny['number_reviews'])*100,1)\n",
    "percent_helpful"
   ]
  },
  {
   "cell_type": "markdown",
   "id": "50ff2b1d",
   "metadata": {},
   "source": [
    "## **************Missing interpretation!!"
   ]
  },
  {
   "cell_type": "markdown",
   "id": "6003db15",
   "metadata": {},
   "source": [
    "# [RQ7]"
   ]
  },
  {
   "cell_type": "markdown",
   "id": "b3ee0b86",
   "metadata": {},
   "source": [
    "### RQ7 - What’s the probability that a review has a Weighted Vote Score equal to or bigger than 0.5?"
   ]
  },
  {
   "cell_type": "code",
   "execution_count": 260,
   "id": "78e8d3d6",
   "metadata": {},
   "outputs": [
    {
     "data": {
      "text/plain": [
       "22.0"
      ]
     },
     "execution_count": 260,
     "metadata": {},
     "output_type": "execute_result"
    }
   ],
   "source": [
    "www = vaex_df['weighted_vote_score'].to_pandas_series().to_frame().reset_index()\n",
    "www = www.rename(columns = {0:'weighted_score'})\n",
    "round((len(www[www['weighted_score']>=0.5])/len(www))*100,1)"
   ]
  },
  {
   "cell_type": "markdown",
   "id": "d4b9f5a4",
   "metadata": {},
   "source": [
    "The probability that a review has a weighted vote score equal or bigger than 0.5 is 22%. This is given by dividing the total number of reviews with a weighted_score greater or equal than 0.5 (the total number of successful occurences of the event we are studying) by the total number of reviews (the total number of possible outcomes). "
   ]
  },
  {
   "cell_type": "markdown",
   "id": "4f75cdd0",
   "metadata": {},
   "source": [
    "### RQ7 - What’s the probability that a review has at least one vote as funny given that the Weighted Vote Score is bigger than 0.5?"
   ]
  },
  {
   "cell_type": "markdown",
   "id": "079b49b0",
   "metadata": {},
   "source": [
    "This is a conditional probability where we can define:\n",
    "* Event A: as the probability that a review has at least one vote as funny\n",
    "* Event B: as the probability that a review has a Weighted vote score bigger than 0.5\n",
    "\n",
    "The probability of A given B, P(A|B), can be computed as the probability of A and B, P(A intersection B), divided by the Probability of B. "
   ]
  },
  {
   "cell_type": "code",
   "execution_count": 263,
   "id": "838098f4",
   "metadata": {},
   "outputs": [
    {
     "data": {
      "text/plain": [
       "21.4"
      ]
     },
     "execution_count": 263,
     "metadata": {},
     "output_type": "execute_result"
    }
   ],
   "source": [
    "prob_event_b = round((len(www[www['weighted_score']>0.5])/len(www))*100,1)\n",
    "prob_event_b"
   ]
  },
  {
   "cell_type": "code",
   "execution_count": 279,
   "id": "e42dbcf7",
   "metadata": {},
   "outputs": [
    {
     "data": {
      "text/plain": [
       "5.3"
      ]
     },
     "execution_count": 279,
     "metadata": {},
     "output_type": "execute_result"
    }
   ],
   "source": [
    "prob_event_a_b = round((len(vaex_df[(vaex_df.weighted_vote_score > 0.5) & (vaex_df.votes_funny >= 1)])/len(vaex_df))*100,1)\n",
    "prob_event_a_b"
   ]
  },
  {
   "cell_type": "code",
   "execution_count": 280,
   "id": "de188a1b",
   "metadata": {},
   "outputs": [
    {
     "data": {
      "text/plain": [
       "0.24766355140186916"
      ]
     },
     "execution_count": 280,
     "metadata": {},
     "output_type": "execute_result"
    }
   ],
   "source": [
    "prob_event_a_b/prob_event_b"
   ]
  },
  {
   "cell_type": "markdown",
   "id": "08779a74",
   "metadata": {},
   "source": [
    "## Missing Interpretation!!"
   ]
  },
  {
   "cell_type": "markdown",
   "id": "3eb6dd6d",
   "metadata": {},
   "source": [
    "### RQ7 - Is the probability that “a review has at least one vote as funny” independent of the “probability that a review has a Weighted Vote Score equal or bigger than 0.5”?"
   ]
  },
  {
   "cell_type": "code",
   "execution_count": 284,
   "id": "cd12efa4",
   "metadata": {},
   "outputs": [
    {
     "data": {
      "text/plain": [
       "0.1196959393390585"
      ]
     },
     "execution_count": 284,
     "metadata": {},
     "output_type": "execute_result"
    }
   ],
   "source": [
    "len(vaex_df[vaex_df.votes_funny >= 1]) /len(vaex_df)"
   ]
  },
  {
   "cell_type": "markdown",
   "id": "73f0c9a3",
   "metadata": {},
   "source": [
    "If an Event A is independent of the Event B, this means that the P(A|B) = P(A). In this case this is not the case since the probability of P(A|B) is 24.7% and the P(A) is 11.9%. Therefore, the events are not independent. "
   ]
  }
 ],
 "metadata": {
  "kernelspec": {
   "display_name": "Python 3",
   "language": "python",
   "name": "python3"
  },
  "language_info": {
   "codemirror_mode": {
    "name": "ipython",
    "version": 3
   },
   "file_extension": ".py",
   "mimetype": "text/x-python",
   "name": "python",
   "nbconvert_exporter": "python",
   "pygments_lexer": "ipython3",
   "version": "3.8.8"
  }
 },
 "nbformat": 4,
 "nbformat_minor": 5
}
