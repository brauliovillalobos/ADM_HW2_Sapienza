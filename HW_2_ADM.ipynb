{
 "cells": [
  {
   "cell_type": "markdown",
   "id": "d0b12778",
   "metadata": {},
   "source": [
    "# Homework 2 - Algorithmic Methods of Data Mining\n",
    "### Giorgia Fontana - \n",
    "### Alex - \n",
    "### Braulio Villalobos - "
   ]
  },
  {
   "cell_type": "code",
   "execution_count": null,
   "id": "ea7d2485",
   "metadata": {},
   "outputs": [],
   "source": [
    "#Optional steps before setting up the workspace\n",
    "#!pip install voex\n",
    "#!pip install -U IPython"
   ]
  },
  {
   "cell_type": "code",
   "execution_count": null,
   "id": "de169ff6",
   "metadata": {},
   "outputs": [],
   "source": [
    "# Package Import\n",
    "import pandas as pd\n",
    "import numpy as np\n",
    "import vaex\n",
    "import os\n",
    "from datetime import datetime\n",
    "#import datetime"
   ]
  },
  {
   "cell_type": "markdown",
   "id": "6d5665cc",
   "metadata": {},
   "source": [
    "# Attempts to read data"
   ]
  },
  {
   "cell_type": "markdown",
   "id": "47ddbd9b",
   "metadata": {},
   "source": [
    "#### Attempt # 1 - Reading data with Pandas"
   ]
  },
  {
   "cell_type": "code",
   "execution_count": null,
   "id": "65a051de",
   "metadata": {},
   "outputs": [],
   "source": [
    "# Reading data with Pandas\n",
    "\n",
    "# Command can't load all data because we don't have enough resources. \n",
    "#dataset = pd.read_csv('/content/drive/MyDrive/steam_reviews.csv')\n",
    "# It is possible to load some rows of the dataset by using the nrows parameter. "
   ]
  },
  {
   "cell_type": "markdown",
   "id": "1c7a576a",
   "metadata": {},
   "source": [
    "#### Attempt #2 - Reading all data with Vaex"
   ]
  },
  {
   "cell_type": "code",
   "execution_count": null,
   "id": "186151d5",
   "metadata": {},
   "outputs": [],
   "source": [
    "# Reading data with Vaex\n",
    "#Command also crashes\n",
    "\n",
    "#dataset = vaex.from_csv('/content/drive/MyDrive/steam_reviews.csv')\n",
    "#Crashed!!"
   ]
  },
  {
   "cell_type": "markdown",
   "id": "ae4756c5",
   "metadata": {},
   "source": [
    "#### Attempt # 3 - Reading data with Vaex by chunks\n",
    "\n",
    "This attempt was successful importing the data but when we try a unique count of the total app_id, if only gives us 17 unique app_id. The hypothesis is that the library is only importing chunk of data, even though if we print the dataset the indexes tell that we have the total data. \n",
    "\n",
    "We can't use this approach and must find another way of addressing this. "
   ]
  },
  {
   "cell_type": "code",
   "execution_count": null,
   "id": "da2ef5e9",
   "metadata": {},
   "outputs": [],
   "source": [
    "#for i, df in enumerate(vaex.from_csv('/content/drive/MyDrive/steam_reviews.csv', chunk_size=500_000)):\n",
    "#    #df = df.app_id\n",
    "#    df.export_hdf5(f'taxi_{i:02}.hdf5')"
   ]
  },
  {
   "cell_type": "code",
   "execution_count": null,
   "id": "f4dd76fa",
   "metadata": {},
   "outputs": [],
   "source": [
    "#df['app_id'].nunique()"
   ]
  },
  {
   "cell_type": "markdown",
   "id": "4efda4d0",
   "metadata": {},
   "source": [
    "By importing the whole app_id column and counting the unique values within it, we discover we have 315 unique values. "
   ]
  },
  {
   "cell_type": "code",
   "execution_count": null,
   "id": "ea2333d4",
   "metadata": {},
   "outputs": [],
   "source": [
    "#Importing just one column to see the global characteristics of data\n",
    "#dataset = pd.read_csv('/content/drive/MyDrive/steam_reviews.csv',usecols = [\"app_id\"])\n",
    "#dataset['app_id'].nunique()"
   ]
  },
  {
   "cell_type": "markdown",
   "id": "c7129173",
   "metadata": {},
   "source": [
    "#### Attempt #4 - Reading data with Vaex by chunks and converting"
   ]
  },
  {
   "cell_type": "code",
   "execution_count": null,
   "id": "903bb26e",
   "metadata": {},
   "outputs": [],
   "source": [
    "# Read parsing timestamps and therefore reading them as strings.\n",
    "#test1 = vaex.read_csv('steam_reviews.csv', convert=True, chunk_size = 1_000_000,parse_dates=['timestamp_created', 'timestamp_updated'])\n",
    "\n",
    "# Read without parsing timestampts and therefore reading them as integer. \n",
    "#vaex_df = vaex.read_csv('steam_reviews.csv', convert=True, chunk_size = 1_000_000)"
   ]
  },
  {
   "cell_type": "code",
   "execution_count": null,
   "id": "c4c85fc7",
   "metadata": {},
   "outputs": [],
   "source": [
    "# Export the dataset and store it as an hdf5 file\n",
    "\n",
    "#vaex_df.export('vaex_file_test.hdf5')"
   ]
  },
  {
   "cell_type": "code",
   "execution_count": null,
   "id": "cfffb9ce",
   "metadata": {},
   "outputs": [],
   "source": [
    "# Open the hdf5 file\n",
    "vaex_df = vaex.open('steam_reviews.csv.hdf5')"
   ]
  },
  {
   "cell_type": "code",
   "execution_count": null,
   "id": "cfbd55fd",
   "metadata": {},
   "outputs": [],
   "source": [
    "# Confirm we get 315 unique values from the vaex dataframe\n",
    "vaex_df.app_id.nunique()"
   ]
  },
  {
   "cell_type": "markdown",
   "id": "6ecc704c",
   "metadata": {},
   "source": [
    "# [RQ1]: Exploratory Data Analysis (EDA)"
   ]
  },
  {
   "cell_type": "markdown",
   "id": "e3273d4d",
   "metadata": {},
   "source": [
    "Our dataset to analyze is composed of 23 columns or features and 21.747.371 observations. "
   ]
  },
  {
   "cell_type": "code",
   "execution_count": null,
   "id": "b256f65f",
   "metadata": {},
   "outputs": [],
   "source": [
    "vaex_df.shape"
   ]
  },
  {
   "cell_type": "markdown",
   "id": "e47ea47d",
   "metadata": {},
   "source": [
    "With the info command we identify the types of variables. \n",
    "\n",
    "\n",
    "Integer variables:\n",
    "*   app_id, review_id, timestamp_created, timestamp_updated, votes_helpful, votes_funny, comment_count, author.steamid, author.num_gaes_owned, author.num_reviews\n",
    "\n",
    "String variables:\n",
    "*   app_name, language, review\n",
    "\n",
    "Float variables:\n",
    "*   weighted_vote_score, author.playtime_forever, author.playtime_last_two_weeks, author.playtime_at_review, author.last_played\n",
    "\n",
    "Boolean variables:\n",
    "\n",
    "*   recommended, steam_purchase, received_for_free, written_during_early_access,\n"
   ]
  },
  {
   "cell_type": "code",
   "execution_count": null,
   "id": "6e6ea1f4",
   "metadata": {},
   "outputs": [],
   "source": [
    "vaex_df.info()"
   ]
  },
  {
   "cell_type": "markdown",
   "id": "a4bf230a",
   "metadata": {},
   "source": [
    "Based on this, we should convert the types of some variables, since they aren't been correctly read.\n",
    "\n",
    "* app_id: is currently interpreted as an int, but it should be treated as a string, since this is the unique number identification of each app. \n",
    "* review_id: is currently interpreted as an int, but is should also be treated as a string. \n",
    "* timestamp_created, timestamp_updated & author.last_played: currently interpreted as int, but they should be treated as datetime objects. \n",
    "* author.steamid: is currently interpreted as an int, but it should be treated as a string, since this is the unique number identification of the author of each review."
   ]
  },
  {
   "cell_type": "code",
   "execution_count": null,
   "id": "2bb059c3",
   "metadata": {},
   "outputs": [],
   "source": [
    "def column_to_datetime(datetime_str):\n",
    "    #return np.datetime64(datetime.strptime(datetime_str, date_format))\n",
    "    return datetime.utcfromtimestamp(datetime_str).strftime('%Y-%m-%d %H:%M:%S')\n",
    "\n",
    "vaex_df['timestamp_created'] = vaex_df['timestamp_created'].apply(column_to_datetime)\n",
    "vaex_df['timestamp_updated'] = vaex_df['timestamp_updated'].apply(column_to_datetime)\n",
    "vaex_df['author.last_played'] = vaex_df['author.last_played'].apply(column_to_datetime)"
   ]
  },
  {
   "cell_type": "code",
   "execution_count": null,
   "id": "1159b0e9",
   "metadata": {},
   "outputs": [],
   "source": [
    "vaex_df['app_id']= vaex_df.app_id.astype('str')\n",
    "vaex_df['review_id']= vaex_df.review_id.astype('str')\n",
    "vaex_df['author.steamid'] = vaex_df['author.steamid'].astype('str')"
   ]
  },
  {
   "cell_type": "code",
   "execution_count": null,
   "id": "7a74c6a4",
   "metadata": {},
   "outputs": [],
   "source": [
    "vaex_df.info()"
   ]
  },
  {
   "cell_type": "markdown",
   "id": "3d852127",
   "metadata": {},
   "source": [
    "Description of the numerical values: "
   ]
  },
  {
   "cell_type": "code",
   "execution_count": null,
   "id": "691c8339",
   "metadata": {},
   "outputs": [],
   "source": [
    "vaex_df[:,1:].describe()"
   ]
  },
  {
   "cell_type": "markdown",
   "id": "d82bc582",
   "metadata": {},
   "source": [
    "### Null Values"
   ]
  },
  {
   "cell_type": "markdown",
   "id": "98a09be2",
   "metadata": {},
   "source": [
    "* The field \"review\" is the one that has the biggest number of null values with a total count of 33.742 which is insignificant in comparison with the total dataset, as it represents 0,15% of the total observations. Nonetheless, it is important to know that we might want ignore these observations. \n",
    "\n",
    "* The feature \"author.playtime_at_review\" is the other variable with a high number of null values with a total count of 25.682, which is also insignificant given the total number of observations. "
   ]
  },
  {
   "cell_type": "markdown",
   "id": "292e4d89",
   "metadata": {},
   "source": [
    "### Analysis one-by-one variable"
   ]
  },
  {
   "cell_type": "markdown",
   "id": "929588cf",
   "metadata": {},
   "source": [
    "#### 1) App_id: \n",
    "It refers to the unique identifier of the reviewed applications. "
   ]
  },
  {
   "cell_type": "code",
   "execution_count": null,
   "id": "d842de1c",
   "metadata": {},
   "outputs": [],
   "source": [
    "# We have 315 different apps\n",
    "vaex_df.app_id.nunique()"
   ]
  },
  {
   "cell_type": "markdown",
   "id": "b9f2b46b",
   "metadata": {},
   "source": [
    "The application with the most reviews is the application 578080 which has 1.644.255 (7.5% of the total reviews). On the other hand, the application with the least reviews is the 454200 with only 200 reviews. "
   ]
  },
  {
   "cell_type": "code",
   "execution_count": null,
   "id": "b6668dd5",
   "metadata": {},
   "outputs": [],
   "source": [
    "# The application with the most reviews \n",
    "most_reviews = pd.DataFrame(vaex_df['app_id'].value_counts()).reset_index()\n",
    "most_reviews = most_reviews.rename(columns={'index': 'app_id', 0: 'number_reviews'})"
   ]
  },
  {
   "cell_type": "code",
   "execution_count": null,
   "id": "8c15136e",
   "metadata": {},
   "outputs": [],
   "source": [
    "most_reviews.head(5)"
   ]
  },
  {
   "cell_type": "code",
   "execution_count": null,
   "id": "01149dda",
   "metadata": {},
   "outputs": [],
   "source": [
    "most_reviews.tail(5)"
   ]
  },
  {
   "cell_type": "markdown",
   "id": "4d9474c0",
   "metadata": {},
   "source": [
    "#### 2) App_name: \n",
    "It refers to the name of each application reviewed. If we count the number of unique app names, we validate that it's the same number of unique application id. This means we can work either with the app_id or the app_name, since there're not different names for a single application_id.  "
   ]
  },
  {
   "cell_type": "code",
   "execution_count": null,
   "id": "fd334dc2",
   "metadata": {},
   "outputs": [],
   "source": [
    "vaex_df.app_name.nunique()"
   ]
  },
  {
   "cell_type": "markdown",
   "id": "09430c66",
   "metadata": {},
   "source": [
    "We can identify the names of the 5 most/least reviewed applications"
   ]
  },
  {
   "cell_type": "code",
   "execution_count": null,
   "id": "01911294",
   "metadata": {},
   "outputs": [],
   "source": [
    "most_reviews_name = pd.DataFrame(vaex_df['app_name'].value_counts()).reset_index().rename(columns={'index': 'app_name', 0: 'number_reviews'})\n",
    "most_reviews_name.head()"
   ]
  },
  {
   "cell_type": "code",
   "execution_count": null,
   "id": "b56ba938",
   "metadata": {},
   "outputs": [],
   "source": [
    "most_reviews_name.tail()"
   ]
  },
  {
   "cell_type": "markdown",
   "id": "54cf2a7c",
   "metadata": {},
   "source": [
    "Something that might be important is that we can notice that the app_names do not necessarily follow the same way of naming. This means some of them might have their names just in upper case letters (like PlayerUnknown Battleground) or include some strange simbols (like Dragon Quest Heroes Tm). We should take this into consideration if we plan to do an analysis based on the application names and therefore consider some type of standardization. For this reason, it's easier to work with the app_id, since this feature is standard and doesn't have the described problems. "
   ]
  },
  {
   "cell_type": "markdown",
   "id": "d9155aca",
   "metadata": {},
   "source": [
    "#### 3) Review_id: \n",
    "\n",
    "It is apparentely the unique identifier of each review. If it is in fact a unique identifier, it should match the total number of reviews, which would mean that there're not more than 1 reviews with the same review_id"
   ]
  },
  {
   "cell_type": "code",
   "execution_count": null,
   "id": "14940d0d",
   "metadata": {},
   "outputs": [],
   "source": [
    "vaex_df.review_id.nunique()"
   ]
  },
  {
   "cell_type": "code",
   "execution_count": null,
   "id": "479bfc02",
   "metadata": {},
   "outputs": [],
   "source": [
    "reviews_ids = vaex_df['review_id'].to_pandas_series().to_frame().reset_index()\n",
    "reviews_ids = reviews_ids.rename(columns = {'index':'index',0:'review_id'})"
   ]
  },
  {
   "cell_type": "code",
   "execution_count": null,
   "id": "3937d965",
   "metadata": {},
   "outputs": [],
   "source": [
    "duplicate_reviews_ids = reviews_ids[reviews_ids.duplicated(['review_id'])]\n",
    "duplicate_reviews_ids"
   ]
  },
  {
   "cell_type": "code",
   "execution_count": null,
   "id": "eb4e537b",
   "metadata": {},
   "outputs": [],
   "source": [
    "duplicate_reviews_ids['review_id'].unique()"
   ]
  },
  {
   "cell_type": "markdown",
   "id": "5159719d",
   "metadata": {},
   "source": [
    "#### 4) Language: \n",
    "\n",
    "Language in which the review was written. We have 28 different languages. "
   ]
  },
  {
   "cell_type": "code",
   "execution_count": null,
   "id": "d6836956",
   "metadata": {},
   "outputs": [],
   "source": [
    "import matplotlib.pyplot as plt\n",
    "vaex_df.language.nunique()"
   ]
  },
  {
   "cell_type": "code",
   "execution_count": null,
   "id": "193d8a3b",
   "metadata": {},
   "outputs": [],
   "source": [
    "top_languages = pd.DataFrame(vaex_df['language'].value_counts()).reset_index()\n",
    "top_languages = top_languages.rename(columns={'index': 'languages', 0: 'number_reviews'})"
   ]
  },
  {
   "cell_type": "markdown",
   "id": "6a08c682",
   "metadata": {},
   "source": [
    "The next graph allows us to visualize which are the most and least common languages among the reviews. We can clearly identify how the number of reviews made in english are more than twice the number of reviews in chinese (which is the second most common language). We can also visually identify at least 3 different groups of reviews by language: \n",
    "\n",
    "* The most common languages: composed by english, chinese and russian\n",
    "* Languages with a significant amount of reviews but considerably less than the top 3: brazilian, spanish, german, turkish, koreana, french and polish. \n",
    "* The least common languages which represent: tchinese, czech, italian..."
   ]
  },
  {
   "cell_type": "code",
   "execution_count": null,
   "id": "55f046f5",
   "metadata": {},
   "outputs": [],
   "source": [
    "diff_languages = top_languages['languages']\n",
    "number_reviews = top_languages['number_reviews']\n",
    "width = 0.8\n",
    "\n",
    "fig, ax = plt.subplots()\n",
    "rects1 = ax.bar(diff_languages, number_reviews, width)\n",
    "\n",
    "ax.set_ylim(0,10000000)\n",
    "ax.set_ylabel(\"Frequency (Millions)\")\n",
    "ax.set_xlabel(\"Language of Review\")\n",
    "ax.set_title(\"Total number of reviews by Language\")\n",
    "\n",
    "plt.xticks(rotation = 90)\n",
    "plt.show()"
   ]
  },
  {
   "cell_type": "markdown",
   "id": "4309a7e3",
   "metadata": {},
   "source": [
    "#### 5) Review: \n",
    "\n",
    "It's the given review, therefore a chain of strings. This field could be used to do a sentiment analysis over the reviews given for each application. "
   ]
  },
  {
   "cell_type": "markdown",
   "id": "c59e9c3c",
   "metadata": {},
   "source": [
    "#### 6) Timestamp_created: \n",
    "\n",
    "Refers to the time when the review was created. This was given in unix format but transformed into a readable timestamp. "
   ]
  },
  {
   "cell_type": "code",
   "execution_count": null,
   "id": "c8b79aac",
   "metadata": {},
   "outputs": [],
   "source": [
    "creation_time = vaex_df['timestamp_created'].to_pandas_series().to_frame().reset_index()\n",
    "creation_time = creation_time.rename(columns = {'index':'index',0:'timestamp'})"
   ]
  },
  {
   "cell_type": "code",
   "execution_count": null,
   "id": "9e3aab55",
   "metadata": {},
   "outputs": [],
   "source": [
    "creation_time[['timestamp']].min(), creation_time[['timestamp']].max()"
   ]
  },
  {
   "cell_type": "markdown",
   "id": "d420b162",
   "metadata": {},
   "source": [
    "The oldest review of the dataset was made on 2010-11-19 while the most recent one was made on 2021-03-23. \n",
    "\n",
    "On the other hand,  we can see the majority of the reviews were created on 2020 and the number of reviews given each year has experimented an increasing trend. It is worth mentioning that visually we can appreciate that the increase in 2020 was greater than the previous increases that the platform has experimented. One hypothesis is that this happened because of the COVID19 lockdown, which made many people to stay home and be more active on the internet. \n",
    "\n",
    "We can't analyze any trend on 2021 since don't even have one complete month of data"
   ]
  },
  {
   "cell_type": "code",
   "execution_count": null,
   "id": "2a0969a6",
   "metadata": {},
   "outputs": [],
   "source": [
    "creation_time['year'] = pd.DatetimeIndex(creation_time['timestamp']).year"
   ]
  },
  {
   "cell_type": "code",
   "execution_count": null,
   "id": "1fbec681",
   "metadata": {},
   "outputs": [],
   "source": [
    "reviews_by_year = creation_time.groupby(['year']).size().reset_index(name = 'number_reviews')"
   ]
  },
  {
   "cell_type": "code",
   "execution_count": null,
   "id": "0a2a9353",
   "metadata": {},
   "outputs": [],
   "source": [
    "years_to_picture = reviews_by_year['year']\n",
    "number_reviews = reviews_by_year['number_reviews']\n",
    "width = 0.8\n",
    "\n",
    "fig, ax = plt.subplots()\n",
    "rects1 = ax.bar(years_to_picture, number_reviews, width)\n",
    "ax.set_ylim(0,8000000)\n",
    "ax.set_ylabel(\"Number of Reviews (Millions)\")\n",
    "ax.set_xlabel(\"Year\")\n",
    "ax.set_title(\"Total number of reviews by Year of Creation\")\n",
    "plt.xticks(rotation = 90)\n",
    "plt.show()"
   ]
  },
  {
   "cell_type": "markdown",
   "id": "13724382",
   "metadata": {},
   "source": [
    "#### Timestamp_updated: \n",
    "\n",
    "It refers to the date and hour on which the review was last updated"
   ]
  },
  {
   "cell_type": "markdown",
   "id": "330d993f",
   "metadata": {},
   "source": [
    "#### Recommended: \n",
    "\n",
    "It is a boolean feature and tells if the review recommends or not the app. "
   ]
  },
  {
   "cell_type": "code",
   "execution_count": null,
   "id": "8ee9e006",
   "metadata": {},
   "outputs": [],
   "source": [
    "recomm = pd.DataFrame(vaex_df['recommended'].value_counts()).reset_index()\n",
    "recomm = recomm.rename(columns = {'index':'recommended',0:'number_reviews'})"
   ]
  },
  {
   "cell_type": "code",
   "execution_count": null,
   "id": "947a0eae",
   "metadata": {},
   "outputs": [],
   "source": [
    "recomm['perc']= round((recomm['number_reviews']/sum(recomm['number_reviews']))*100,1)\n",
    "recomm"
   ]
  },
  {
   "cell_type": "markdown",
   "id": "77ac8031",
   "metadata": {},
   "source": [
    "The vast majority of the reviews recommend the application they are reviewing. "
   ]
  },
  {
   "cell_type": "markdown",
   "id": "c3531567",
   "metadata": {},
   "source": [
    "#### Votes_helpful: \n",
    "\n",
    "It indicates the number of votes that have classified the review as \"helpful\".\n",
    "\n"
   ]
  },
  {
   "cell_type": "code",
   "execution_count": 15,
   "id": "f85b1100",
   "metadata": {},
   "outputs": [],
   "source": [
    "helpful_votes = pd.DataFrame(vaex_df['votes_helpful'].value_counts()).reset_index()"
   ]
  },
  {
   "cell_type": "code",
   "execution_count": null,
   "id": "f1d0b33a",
   "metadata": {},
   "outputs": [],
   "source": [
    "helpful_votes.sort_values(['index'])"
   ]
  },
  {
   "cell_type": "markdown",
   "id": "72fca4de",
   "metadata": {},
   "source": [
    "#### Votes_funny: \n",
    "\n",
    "It indicates the number of votes that have classified the review as \"funny\"\n",
    "\n"
   ]
  },
  {
   "cell_type": "code",
   "execution_count": null,
   "id": "ebe81055",
   "metadata": {},
   "outputs": [],
   "source": [
    "funny_votes = pd.DataFrame(vaex_df['votes_funny'].value_counts()).reset_index()\n",
    "funny_votes.sort_values(['index'])"
   ]
  },
  {
   "cell_type": "markdown",
   "id": "be52869f",
   "metadata": {},
   "source": [
    "#### Weighted_vote_score: "
   ]
  },
  {
   "cell_type": "markdown",
   "id": "d3c6df76",
   "metadata": {},
   "source": [
    "The weighted score is a weighted measure based on the number of helpful votes each review has received. The variable takes values from 0 to 1. "
   ]
  },
  {
   "cell_type": "code",
   "execution_count": null,
   "id": "f6245776",
   "metadata": {},
   "outputs": [],
   "source": [
    "weighted_score_df = pd.DataFrame(vaex_df['weighted_vote_score'].value_counts()).reset_index()\n",
    "weighted_score_df = weighted_score_df.rename(columns = {'index':'weighted_score',0:'reviews'})"
   ]
  },
  {
   "cell_type": "code",
   "execution_count": null,
   "id": "064d4179",
   "metadata": {},
   "outputs": [],
   "source": [
    "weighted_score_df.weighted_score.max()"
   ]
  },
  {
   "cell_type": "code",
   "execution_count": null,
   "id": "4607ccc4",
   "metadata": {},
   "outputs": [],
   "source": [
    "vaex_df[vaex_df.weighted_vote_score > 0.98]"
   ]
  },
  {
   "cell_type": "code",
   "execution_count": null,
   "id": "f88dd69e",
   "metadata": {},
   "outputs": [],
   "source": []
  },
  {
   "cell_type": "code",
   "execution_count": null,
   "id": "9bc9faff",
   "metadata": {},
   "outputs": [],
   "source": []
  },
  {
   "cell_type": "code",
   "execution_count": null,
   "id": "450787b2",
   "metadata": {},
   "outputs": [],
   "source": [
    "www = vaex_df['weighted_vote_score'].to_pandas_series().to_frame().reset_index()\n",
    "www = www.rename(columns = {0:'weighted_score'})\n",
    "round((len(www[www['weighted_score']>=0.5])/len(www))*100,1)"
   ]
  },
  {
   "cell_type": "markdown",
   "id": "87881d43",
   "metadata": {},
   "source": [
    "#### Comment_count: "
   ]
  },
  {
   "cell_type": "markdown",
   "id": "35f1bd06",
   "metadata": {},
   "source": [
    "It indicates the number of comments that each review has received. Only approximately 5% of the total reviews received at least one comment. In a hypothetical case, if Steam would be interested into implementing an strategy to increase the interaction of the users throught the reviews, this could be an important variable to measure the impact of the said strategy. "
   ]
  },
  {
   "cell_type": "code",
   "execution_count": 18,
   "id": "e732d3d0",
   "metadata": {},
   "outputs": [
    {
     "data": {
      "text/html": [
       "<div>\n",
       "<style scoped>\n",
       "    .dataframe tbody tr th:only-of-type {\n",
       "        vertical-align: middle;\n",
       "    }\n",
       "\n",
       "    .dataframe tbody tr th {\n",
       "        vertical-align: top;\n",
       "    }\n",
       "\n",
       "    .dataframe thead th {\n",
       "        text-align: right;\n",
       "    }\n",
       "</style>\n",
       "<table border=\"1\" class=\"dataframe\">\n",
       "  <thead>\n",
       "    <tr style=\"text-align: right;\">\n",
       "      <th></th>\n",
       "      <th>number_comments</th>\n",
       "      <th>number_reviews</th>\n",
       "    </tr>\n",
       "  </thead>\n",
       "  <tbody>\n",
       "    <tr>\n",
       "      <th>0</th>\n",
       "      <td>0</td>\n",
       "      <td>20765523</td>\n",
       "    </tr>\n",
       "    <tr>\n",
       "      <th>1</th>\n",
       "      <td>1</td>\n",
       "      <td>560995</td>\n",
       "    </tr>\n",
       "    <tr>\n",
       "      <th>2</th>\n",
       "      <td>2</td>\n",
       "      <td>181151</td>\n",
       "    </tr>\n",
       "    <tr>\n",
       "      <th>3</th>\n",
       "      <td>3</td>\n",
       "      <td>77637</td>\n",
       "    </tr>\n",
       "    <tr>\n",
       "      <th>4</th>\n",
       "      <td>4</td>\n",
       "      <td>43725</td>\n",
       "    </tr>\n",
       "    <tr>\n",
       "      <th>5</th>\n",
       "      <td>5</td>\n",
       "      <td>27162</td>\n",
       "    </tr>\n",
       "    <tr>\n",
       "      <th>6</th>\n",
       "      <td>6</td>\n",
       "      <td>18335</td>\n",
       "    </tr>\n",
       "    <tr>\n",
       "      <th>7</th>\n",
       "      <td>7</td>\n",
       "      <td>13056</td>\n",
       "    </tr>\n",
       "    <tr>\n",
       "      <th>8</th>\n",
       "      <td>8</td>\n",
       "      <td>9650</td>\n",
       "    </tr>\n",
       "    <tr>\n",
       "      <th>9</th>\n",
       "      <td>9</td>\n",
       "      <td>7186</td>\n",
       "    </tr>\n",
       "  </tbody>\n",
       "</table>\n",
       "</div>"
      ],
      "text/plain": [
       "   number_comments  number_reviews\n",
       "0                0        20765523\n",
       "1                1          560995\n",
       "2                2          181151\n",
       "3                3           77637\n",
       "4                4           43725\n",
       "5                5           27162\n",
       "6                6           18335\n",
       "7                7           13056\n",
       "8                8            9650\n",
       "9                9            7186"
      ]
     },
     "execution_count": 18,
     "metadata": {},
     "output_type": "execute_result"
    }
   ],
   "source": [
    "count_comment = pd.DataFrame(vaex_df['comment_count'].value_counts()).reset_index()\n",
    "count_comment = count_comment.rename(columns = {'index':'number_comments',0:'number_reviews'})\n",
    "count_comment.head(10)"
   ]
  },
  {
   "cell_type": "markdown",
   "id": "d95b27de",
   "metadata": {},
   "source": [
    "#### Steam_purchase: "
   ]
  },
  {
   "cell_type": "markdown",
   "id": "6ba8502b",
   "metadata": {},
   "source": [
    "This variable is of boolean type and indicates if the author of the review purchased the app (true) or not (false). In this case, 77.4% (more than 3/4) of the authors of the reviews said that they have purchased the app. "
   ]
  },
  {
   "cell_type": "code",
   "execution_count": 23,
   "id": "99fafc00",
   "metadata": {},
   "outputs": [
    {
     "data": {
      "text/html": [
       "<div>\n",
       "<style scoped>\n",
       "    .dataframe tbody tr th:only-of-type {\n",
       "        vertical-align: middle;\n",
       "    }\n",
       "\n",
       "    .dataframe tbody tr th {\n",
       "        vertical-align: top;\n",
       "    }\n",
       "\n",
       "    .dataframe thead th {\n",
       "        text-align: right;\n",
       "    }\n",
       "</style>\n",
       "<table border=\"1\" class=\"dataframe\">\n",
       "  <thead>\n",
       "    <tr style=\"text-align: right;\">\n",
       "      <th></th>\n",
       "      <th>purchased_app</th>\n",
       "      <th>number_reviews</th>\n",
       "      <th>perc</th>\n",
       "    </tr>\n",
       "  </thead>\n",
       "  <tbody>\n",
       "    <tr>\n",
       "      <th>0</th>\n",
       "      <td>True</td>\n",
       "      <td>16842432</td>\n",
       "      <td>77.4</td>\n",
       "    </tr>\n",
       "    <tr>\n",
       "      <th>1</th>\n",
       "      <td>False</td>\n",
       "      <td>4904939</td>\n",
       "      <td>22.6</td>\n",
       "    </tr>\n",
       "  </tbody>\n",
       "</table>\n",
       "</div>"
      ],
      "text/plain": [
       "   purchased_app  number_reviews  perc\n",
       "0           True        16842432  77.4\n",
       "1          False         4904939  22.6"
      ]
     },
     "execution_count": 23,
     "metadata": {},
     "output_type": "execute_result"
    }
   ],
   "source": [
    "purchased_steam = pd.DataFrame(vaex_df['steam_purchase'].value_counts()).reset_index()\n",
    "purchased_steam = purchased_steam.rename(columns = {'index':'purchased_app',0:'number_reviews'})\n",
    "purchased_steam['perc'] = round((purchased_steam['number_reviews']/len(vaex_df))*100,1)\n",
    "purchased_steam"
   ]
  },
  {
   "cell_type": "markdown",
   "id": "cc33a936",
   "metadata": {},
   "source": [
    "#### Received_for_free: "
   ]
  },
  {
   "cell_type": "markdown",
   "id": "7004898d",
   "metadata": {},
   "source": [
    "This variable indicates if the author of the review received the app for free or not. Just 3.2% of the total reviewers said they had received the app for free. "
   ]
  },
  {
   "cell_type": "code",
   "execution_count": 24,
   "id": "a6779692",
   "metadata": {},
   "outputs": [
    {
     "data": {
      "text/html": [
       "<div>\n",
       "<style scoped>\n",
       "    .dataframe tbody tr th:only-of-type {\n",
       "        vertical-align: middle;\n",
       "    }\n",
       "\n",
       "    .dataframe tbody tr th {\n",
       "        vertical-align: top;\n",
       "    }\n",
       "\n",
       "    .dataframe thead th {\n",
       "        text-align: right;\n",
       "    }\n",
       "</style>\n",
       "<table border=\"1\" class=\"dataframe\">\n",
       "  <thead>\n",
       "    <tr style=\"text-align: right;\">\n",
       "      <th></th>\n",
       "      <th>free_received</th>\n",
       "      <th>number_reviews</th>\n",
       "      <th>perc</th>\n",
       "    </tr>\n",
       "  </thead>\n",
       "  <tbody>\n",
       "    <tr>\n",
       "      <th>0</th>\n",
       "      <td>False</td>\n",
       "      <td>21059310</td>\n",
       "      <td>96.8</td>\n",
       "    </tr>\n",
       "    <tr>\n",
       "      <th>1</th>\n",
       "      <td>True</td>\n",
       "      <td>688061</td>\n",
       "      <td>3.2</td>\n",
       "    </tr>\n",
       "  </tbody>\n",
       "</table>\n",
       "</div>"
      ],
      "text/plain": [
       "   free_received  number_reviews  perc\n",
       "0          False        21059310  96.8\n",
       "1           True          688061   3.2"
      ]
     },
     "execution_count": 24,
     "metadata": {},
     "output_type": "execute_result"
    }
   ],
   "source": [
    "for_free = pd.DataFrame(vaex_df['received_for_free'].value_counts()).reset_index()\n",
    "for_free = for_free.rename(columns = {'index':'free_received',0:'number_reviews'})\n",
    "for_free['perc'] = round((for_free['number_reviews']/len(vaex_df))*100,1)\n",
    "for_free"
   ]
  },
  {
   "cell_type": "markdown",
   "id": "51331ecc",
   "metadata": {},
   "source": [
    "#### Written_during_early_access: "
   ]
  },
  {
   "cell_type": "markdown",
   "id": "66296e10",
   "metadata": {},
   "source": [
    "This variable indicates if the review was written during early access or not. As the last two variables, this is also of boolean type. Early access refers to a funding model in the videogames environment in which players are allowed to play preliminary versions of the final game in exchange for money, which is used by the creater of the videograme to continue developing the game until its final version. \n",
    "\n",
    "That being said, almost 91% of the reviewers responded negatively to this question, which means they wrote the review while playing the final version of the videogame. "
   ]
  },
  {
   "cell_type": "code",
   "execution_count": 26,
   "id": "e6c9784e",
   "metadata": {},
   "outputs": [
    {
     "data": {
      "text/html": [
       "<div>\n",
       "<style scoped>\n",
       "    .dataframe tbody tr th:only-of-type {\n",
       "        vertical-align: middle;\n",
       "    }\n",
       "\n",
       "    .dataframe tbody tr th {\n",
       "        vertical-align: top;\n",
       "    }\n",
       "\n",
       "    .dataframe thead th {\n",
       "        text-align: right;\n",
       "    }\n",
       "</style>\n",
       "<table border=\"1\" class=\"dataframe\">\n",
       "  <thead>\n",
       "    <tr style=\"text-align: right;\">\n",
       "      <th></th>\n",
       "      <th>early_access</th>\n",
       "      <th>number_reviews</th>\n",
       "      <th>perc</th>\n",
       "    </tr>\n",
       "  </thead>\n",
       "  <tbody>\n",
       "    <tr>\n",
       "      <th>0</th>\n",
       "      <td>False</td>\n",
       "      <td>19730986</td>\n",
       "      <td>90.7</td>\n",
       "    </tr>\n",
       "    <tr>\n",
       "      <th>1</th>\n",
       "      <td>True</td>\n",
       "      <td>2016385</td>\n",
       "      <td>9.3</td>\n",
       "    </tr>\n",
       "  </tbody>\n",
       "</table>\n",
       "</div>"
      ],
      "text/plain": [
       "   early_access  number_reviews  perc\n",
       "0         False        19730986  90.7\n",
       "1          True         2016385   9.3"
      ]
     },
     "execution_count": 26,
     "metadata": {},
     "output_type": "execute_result"
    }
   ],
   "source": [
    "early_access = pd.DataFrame(vaex_df['written_during_early_access'].value_counts()).reset_index()\n",
    "early_access = early_access.rename(columns = {'index':'early_access',0:'number_reviews'})\n",
    "early_access['perc'] = round((early_access['number_reviews']/len(vaex_df))*100,1)\n",
    "early_access"
   ]
  },
  {
   "cell_type": "code",
   "execution_count": null,
   "id": "a04059ba",
   "metadata": {},
   "outputs": [],
   "source": [
    "#Group by with two variables\n",
    "df_result1 = df.groupby(['c1','c2']).sum()"
   ]
  },
  {
   "cell_type": "markdown",
   "id": "ce67e5f2",
   "metadata": {},
   "source": [
    "#### Author.steamid: "
   ]
  },
  {
   "cell_type": "markdown",
   "id": "211ed42d",
   "metadata": {},
   "source": [
    "This is a unique identificator of the author of the review. We have 12.4 million unique authors of reviews. "
   ]
  },
  {
   "cell_type": "code",
   "execution_count": 36,
   "id": "a150344c",
   "metadata": {},
   "outputs": [
    {
     "data": {
      "text/plain": [
       "12406560"
      ]
     },
     "execution_count": 36,
     "metadata": {},
     "output_type": "execute_result"
    }
   ],
   "source": [
    "vaex_df['author.steamid'].nunique()\n",
    "#vaex_df.author.steamid.nunique()"
   ]
  },
  {
   "cell_type": "markdown",
   "id": "6a19a173",
   "metadata": {},
   "source": [
    "#### Author.num_games: "
   ]
  },
  {
   "cell_type": "markdown",
   "id": "ee591cd8",
   "metadata": {},
   "source": [
    "The variable indicates the quantity of games that the author of each review owns. "
   ]
  },
  {
   "cell_type": "code",
   "execution_count": null,
   "id": "fe263240",
   "metadata": {},
   "outputs": [],
   "source": [
    "vaex_df.rename('author.num_games_owned','author_num_games')"
   ]
  },
  {
   "cell_type": "code",
   "execution_count": 52,
   "id": "c3061dd9",
   "metadata": {},
   "outputs": [],
   "source": [
    "num_games = vaex_df['author_num_games'].to_pandas_series().to_frame().reset_index()\n",
    "num_games = num_games.rename(columns = {0:'num_games_owned'})"
   ]
  },
  {
   "cell_type": "markdown",
   "id": "91a07912",
   "metadata": {},
   "source": [
    "The max number of games owned by the author of a review appears to be incorrect since it is a considerable big number. "
   ]
  },
  {
   "cell_type": "code",
   "execution_count": 58,
   "id": "4f407eeb",
   "metadata": {},
   "outputs": [
    {
     "data": {
      "text/plain": [
       "(4398046511619, 0)"
      ]
     },
     "execution_count": 58,
     "metadata": {},
     "output_type": "execute_result"
    }
   ],
   "source": [
    "num_games.num_games_owned.max(),num_games.num_games_owned.min()"
   ]
  },
  {
   "cell_type": "markdown",
   "id": "76e105de",
   "metadata": {},
   "source": [
    "At the beginning of this EDA we found that there were 315 unique games that were reviewed in the dataset. Therefore, if this variable refers to the number of games *within the Steam platform* that were owned by the author of each review, there shouldn't be authors with more than 315 games owned. "
   ]
  },
  {
   "cell_type": "code",
   "execution_count": 59,
   "id": "f5a0a31d",
   "metadata": {},
   "outputs": [
    {
     "data": {
      "text/html": [
       "<div>\n",
       "<style scoped>\n",
       "    .dataframe tbody tr th:only-of-type {\n",
       "        vertical-align: middle;\n",
       "    }\n",
       "\n",
       "    .dataframe tbody tr th {\n",
       "        vertical-align: top;\n",
       "    }\n",
       "\n",
       "    .dataframe thead th {\n",
       "        text-align: right;\n",
       "    }\n",
       "</style>\n",
       "<table border=\"1\" class=\"dataframe\">\n",
       "  <thead>\n",
       "    <tr style=\"text-align: right;\">\n",
       "      <th></th>\n",
       "      <th>index</th>\n",
       "      <th>num_games_owned</th>\n",
       "    </tr>\n",
       "  </thead>\n",
       "  <tbody>\n",
       "    <tr>\n",
       "      <th>8</th>\n",
       "      <td>8</td>\n",
       "      <td>581</td>\n",
       "    </tr>\n",
       "    <tr>\n",
       "      <th>13</th>\n",
       "      <td>13</td>\n",
       "      <td>501</td>\n",
       "    </tr>\n",
       "    <tr>\n",
       "      <th>119</th>\n",
       "      <td>119</td>\n",
       "      <td>1284</td>\n",
       "    </tr>\n",
       "    <tr>\n",
       "      <th>125</th>\n",
       "      <td>125</td>\n",
       "      <td>500</td>\n",
       "    </tr>\n",
       "    <tr>\n",
       "      <th>128</th>\n",
       "      <td>128</td>\n",
       "      <td>379</td>\n",
       "    </tr>\n",
       "    <tr>\n",
       "      <th>...</th>\n",
       "      <td>...</td>\n",
       "      <td>...</td>\n",
       "    </tr>\n",
       "    <tr>\n",
       "      <th>21747355</th>\n",
       "      <td>21747355</td>\n",
       "      <td>461</td>\n",
       "    </tr>\n",
       "    <tr>\n",
       "      <th>21747357</th>\n",
       "      <td>21747357</td>\n",
       "      <td>383</td>\n",
       "    </tr>\n",
       "    <tr>\n",
       "      <th>21747361</th>\n",
       "      <td>21747361</td>\n",
       "      <td>363</td>\n",
       "    </tr>\n",
       "    <tr>\n",
       "      <th>21747362</th>\n",
       "      <td>21747362</td>\n",
       "      <td>958</td>\n",
       "    </tr>\n",
       "    <tr>\n",
       "      <th>21747366</th>\n",
       "      <td>21747366</td>\n",
       "      <td>431</td>\n",
       "    </tr>\n",
       "  </tbody>\n",
       "</table>\n",
       "<p>2027670 rows × 2 columns</p>\n",
       "</div>"
      ],
      "text/plain": [
       "             index  num_games_owned\n",
       "8                8              581\n",
       "13              13              501\n",
       "119            119             1284\n",
       "125            125              500\n",
       "128            128              379\n",
       "...            ...              ...\n",
       "21747355  21747355              461\n",
       "21747357  21747357              383\n",
       "21747361  21747361              363\n",
       "21747362  21747362              958\n",
       "21747366  21747366              431\n",
       "\n",
       "[2027670 rows x 2 columns]"
      ]
     },
     "execution_count": 59,
     "metadata": {},
     "output_type": "execute_result"
    }
   ],
   "source": [
    "num_games[num_games.num_games_owned > 315]"
   ]
  },
  {
   "cell_type": "markdown",
   "id": "7c0befb0",
   "metadata": {},
   "source": [
    "If we count the number of reviews made by authors that claimed they owned more than 315 games, this gives us a result of 2,027,670 reviews. This means that the variable author.num_games is incorrect in a significant number of reviews or it doesn't refer to the number of only Steam apps owned by the author of the review but to the total number of games that the author owns, regardless if they're on Steam. Still the max number of videogames doesn't make sense so this variable might not be realiable to further analyses. "
   ]
  },
  {
   "cell_type": "code",
   "execution_count": 56,
   "id": "07d8c859",
   "metadata": {},
   "outputs": [
    {
     "data": {
      "text/html": [
       "<table>\n",
       "<thead>\n",
       "<tr><th>#                            </th><th style=\"text-align: right;\">  Unnamed: 0</th><th style=\"text-align: right;\">  app_id</th><th>app_name          </th><th style=\"text-align: right;\">  review_id</th><th>language  </th><th>review  </th><th>timestamp_created  </th><th>timestamp_updated  </th><th>recommended  </th><th style=\"text-align: right;\">  votes_helpful</th><th style=\"text-align: right;\">  votes_funny</th><th style=\"text-align: right;\">  weighted_vote_score</th><th style=\"text-align: right;\">  comment_count</th><th>steam_purchase  </th><th>received_for_free  </th><th>written_during_early_access  </th><th style=\"text-align: right;\">   author.steamid</th><th style=\"text-align: right;\">  author_num_games</th><th style=\"text-align: right;\">  author.num_reviews</th><th style=\"text-align: right;\">  author.playtime_forever</th><th style=\"text-align: right;\">  author.playtime_last_two_weeks</th><th style=\"text-align: right;\">  author.playtime_at_review</th><th style=\"text-align: right;\">  author.last_played</th></tr>\n",
       "</thead>\n",
       "<tbody>\n",
       "<tr><td><i style='opacity: 0.6'>0</i></td><td style=\"text-align: right;\">     5502450</td><td style=\"text-align: right;\"> 1158310</td><td>Crusader Kings III</td><td style=\"text-align: right;\">   80957958</td><td>english   </td><td>noice   </td><td>2020-11-28 23:24:51</td><td>2020-11-28 23:24:51</td><td>True         </td><td style=\"text-align: right;\">              0</td><td style=\"text-align: right;\">            0</td><td style=\"text-align: right;\">                    0</td><td style=\"text-align: right;\">              0</td><td>False           </td><td>False              </td><td>False                        </td><td style=\"text-align: right;\">76561198039421205</td><td style=\"text-align: right;\">     4398046511619</td><td style=\"text-align: right;\">                   5</td><td style=\"text-align: right;\">                     2728</td><td style=\"text-align: right;\">                             546</td><td style=\"text-align: right;\">                       2157</td><td style=\"text-align: right;\">         1.60997e+09</td></tr>\n",
       "</tbody>\n",
       "</table>"
      ],
      "text/plain": [
       "  #    Unnamed: 0    app_id  app_name              review_id  language    review    timestamp_created    timestamp_updated    recommended      votes_helpful    votes_funny    weighted_vote_score    comment_count  steam_purchase    received_for_free    written_during_early_access       author.steamid    author_num_games    author.num_reviews    author.playtime_forever    author.playtime_last_two_weeks    author.playtime_at_review    author.last_played\n",
       "  0       5502450   1158310  Crusader Kings III     80957958  english     noice     2020-11-28 23:24:51  2020-11-28 23:24:51  True                         0              0                      0                0  False             False                False                          76561198039421205       4398046511619                     5                       2728                               546                         2157           1.60997e+09"
      ]
     },
     "execution_count": 56,
     "metadata": {},
     "output_type": "execute_result"
    }
   ],
   "source": [
    "vaex_df[vaex_df.author_num_games == 4398046511619]"
   ]
  },
  {
   "cell_type": "markdown",
   "id": "c3263b0f",
   "metadata": {},
   "source": [
    "#### Author.num_reviews: "
   ]
  },
  {
   "cell_type": "markdown",
   "id": "cf2d03d3",
   "metadata": {},
   "source": [
    "It refers to the total number of lifetime app reviews made by the author. "
   ]
  },
  {
   "cell_type": "code",
   "execution_count": null,
   "id": "7da78c18",
   "metadata": {},
   "outputs": [],
   "source": []
  },
  {
   "cell_type": "markdown",
   "id": "af7a04d9",
   "metadata": {},
   "source": [
    "#### Author.playtime_forever: "
   ]
  },
  {
   "cell_type": "markdown",
   "id": "dbd1c4a8",
   "metadata": {},
   "source": [
    "Refers to the lifetime playtime of the reviewed app by the author. It is not clear if this variable is expressed in minutes, hours or which time measure. "
   ]
  },
  {
   "cell_type": "markdown",
   "id": "b475aca6",
   "metadata": {},
   "source": [
    "#### Author.playtime_last_two_weeks"
   ]
  },
  {
   "cell_type": "markdown",
   "id": "d9090df3",
   "metadata": {},
   "source": [
    "If refers to how much time (again without clarity on which measure the variable is in) the author has spent playing the app on the last two weeks."
   ]
  },
  {
   "cell_type": "markdown",
   "id": "83069a0b",
   "metadata": {},
   "source": [
    "#### Author.playtime_at_review"
   ]
  },
  {
   "cell_type": "markdown",
   "id": "4bffb9a1",
   "metadata": {},
   "source": [
    "It refers to how much time the author has spent playing the app at the moment the review was made. "
   ]
  },
  {
   "cell_type": "markdown",
   "id": "29a20100",
   "metadata": {},
   "source": [
    "#### Author.last_played"
   ]
  },
  {
   "cell_type": "markdown",
   "id": "bab1d179",
   "metadata": {},
   "source": [
    "It refers to when was the last day the author played the reviewed app. "
   ]
  },
  {
   "cell_type": "markdown",
   "id": "60699099",
   "metadata": {},
   "source": [
    "# [RQ4]\n",
    "### RQ4 - What are the top 3 languages used to review applications?"
   ]
  },
  {
   "cell_type": "code",
   "execution_count": 61,
   "id": "a2ef093c",
   "metadata": {},
   "outputs": [],
   "source": [
    "top_languages = pd.DataFrame(vaex_df['language'].value_counts()).reset_index()\n",
    "top_languages = top_languages.rename(columns={'index': 'languages', 0: 'number_reviews'})"
   ]
  },
  {
   "cell_type": "code",
   "execution_count": 62,
   "id": "22cb188e",
   "metadata": {},
   "outputs": [
    {
     "data": {
      "text/html": [
       "<div>\n",
       "<style scoped>\n",
       "    .dataframe tbody tr th:only-of-type {\n",
       "        vertical-align: middle;\n",
       "    }\n",
       "\n",
       "    .dataframe tbody tr th {\n",
       "        vertical-align: top;\n",
       "    }\n",
       "\n",
       "    .dataframe thead th {\n",
       "        text-align: right;\n",
       "    }\n",
       "</style>\n",
       "<table border=\"1\" class=\"dataframe\">\n",
       "  <thead>\n",
       "    <tr style=\"text-align: right;\">\n",
       "      <th></th>\n",
       "      <th>languages</th>\n",
       "      <th>number_reviews</th>\n",
       "    </tr>\n",
       "  </thead>\n",
       "  <tbody>\n",
       "    <tr>\n",
       "      <th>0</th>\n",
       "      <td>english</td>\n",
       "      <td>9635437</td>\n",
       "    </tr>\n",
       "    <tr>\n",
       "      <th>1</th>\n",
       "      <td>schinese</td>\n",
       "      <td>3764967</td>\n",
       "    </tr>\n",
       "    <tr>\n",
       "      <th>2</th>\n",
       "      <td>russian</td>\n",
       "      <td>2348900</td>\n",
       "    </tr>\n",
       "  </tbody>\n",
       "</table>\n",
       "</div>"
      ],
      "text/plain": [
       "  languages  number_reviews\n",
       "0   english         9635437\n",
       "1  schinese         3764967\n",
       "2   russian         2348900"
      ]
     },
     "execution_count": 62,
     "metadata": {},
     "output_type": "execute_result"
    }
   ],
   "source": [
    "top_languages.head(3)"
   ]
  },
  {
   "cell_type": "markdown",
   "id": "d7ce84a9",
   "metadata": {},
   "source": [
    "The top 3 languages used to review applications are english, chinese and russian. "
   ]
  },
  {
   "cell_type": "markdown",
   "id": "8ff4440f",
   "metadata": {},
   "source": [
    "### RQ4 - Create a function that receives as parameters both the name of a data set and a list of languages’ names and returns a data frame filtered only with the reviews written in the provided languages."
   ]
  },
  {
   "cell_type": "code",
   "execution_count": 64,
   "id": "cfbb1351",
   "metadata": {},
   "outputs": [],
   "source": [
    "def filter_languages_f(dataset_name, languages_to_filter):\n",
    "    #check if languages_to_filter parameter is actually a list\n",
    "    if(isinstance(languages_to_filter,list)):\n",
    "        filtered_dataset = dataset_name[dataset_name['language'].isin(languages_to_filter)]\n",
    "    else:\n",
    "        print('Must enter the desired languages to be filtered in a list format')\n",
    "    \n",
    "    return filtered_dataset"
   ]
  },
  {
   "cell_type": "code",
   "execution_count": null,
   "id": "96bc7988",
   "metadata": {},
   "outputs": [],
   "source": [
    "filter_languages_f(vaex_df,['english','russian']).head(5)"
   ]
  },
  {
   "cell_type": "markdown",
   "id": "c42bedf5",
   "metadata": {},
   "source": [
    "### RQ4 - Use the function created in the previous literal to find what percentage of these reviews (associated with the top 3 languages) were voted as funny?"
   ]
  },
  {
   "cell_type": "code",
   "execution_count": null,
   "id": "4c08f9ce",
   "metadata": {},
   "outputs": [],
   "source": [
    "filtered_languages = filter_languages_f(vaex_df,['english','russian','schinese'])\n",
    "filtered_languages_funny = filtered_languages[filtered_languages['votes_funny'] != 0]\n",
    "filtered_languages_funny = pd.DataFrame(filtered_languages_funny['language'].value_counts()).reset_index()\n",
    "filtered_languages_funny = filtered_languages_funny.rename(columns={'index':'languages',0:'number_funny_reviews'})"
   ]
  },
  {
   "cell_type": "code",
   "execution_count": null,
   "id": "97c954ed",
   "metadata": {},
   "outputs": [],
   "source": [
    "filtered_languages_funny.head()"
   ]
  },
  {
   "cell_type": "code",
   "execution_count": null,
   "id": "d56ae04e",
   "metadata": {},
   "outputs": [],
   "source": [
    "percent_funny = top_languages.merge(filtered_languages_funny)\n",
    "percent_funny['percent_funny'] = round((percent_funny['number_funny_reviews']/percent_funny['number_reviews'])*100,1)\n",
    "percent_funny"
   ]
  },
  {
   "cell_type": "markdown",
   "id": "ffc177d1",
   "metadata": {},
   "source": [
    "* Based on the last table, we can affirm that from the top 3 languages in terms of total number of reviews, the language with the most reviews categorized as funny is Russian, where 16.7% of the total reviews made in Russian were classified as funny at least once. \n",
    "* In the case of the reviews made in chinese and english language, 11.8% and 11.3% of the total reviews made in each language were classified as funny. \n",
    "* Based on this we could affirm that apparently even though russian reviews are not as numerous as the ones made in english, they in relative means funnier than those made in english. "
   ]
  },
  {
   "cell_type": "markdown",
   "id": "82af21cb",
   "metadata": {},
   "source": [
    "### RQ4 - Use the function created in the literal “a” to find what percentage of these reviews (associated with the top 3 languages) were voted as helpful?"
   ]
  },
  {
   "cell_type": "code",
   "execution_count": null,
   "id": "256e447d",
   "metadata": {},
   "outputs": [],
   "source": [
    "filtered_languages_helpful = filtered_languages[filtered_languages['votes_helpful'] != 0]\n",
    "filtered_languages_helpful = pd.DataFrame(filtered_languages_helpful['language'].value_counts()).reset_index()\n",
    "filtered_languages_helpful = filtered_languages_helpful.rename(columns={'index':'languages',0:'number_helpful_reviews'})"
   ]
  },
  {
   "cell_type": "code",
   "execution_count": null,
   "id": "18b10552",
   "metadata": {},
   "outputs": [],
   "source": [
    "percent_helpful = top_languages.merge(filtered_languages_helpful)\n",
    "percent_helpful['percent_helpful'] = round((percent_helpful['number_helpful_reviews']/percent_funny['number_reviews'])*100,1)\n",
    "percent_helpful"
   ]
  },
  {
   "cell_type": "markdown",
   "id": "6f5868bd",
   "metadata": {},
   "source": [
    "## **************Missing interpretation!!"
   ]
  },
  {
   "cell_type": "markdown",
   "id": "a09c05f2",
   "metadata": {},
   "source": [
    "# [RQ7]"
   ]
  },
  {
   "cell_type": "markdown",
   "id": "1195270c",
   "metadata": {},
   "source": [
    "### RQ7 - What’s the probability that a review has a Weighted Vote Score equal to or bigger than 0.5?"
   ]
  },
  {
   "cell_type": "code",
   "execution_count": null,
   "id": "51b29cd3",
   "metadata": {},
   "outputs": [],
   "source": [
    "www = vaex_df['weighted_vote_score'].to_pandas_series().to_frame().reset_index()\n",
    "www = www.rename(columns = {0:'weighted_score'})\n",
    "round((len(www[www['weighted_score']>=0.5])/len(www))*100,1)"
   ]
  },
  {
   "cell_type": "markdown",
   "id": "3708276c",
   "metadata": {},
   "source": [
    "The probability that a review has a weighted vote score equal or bigger than 0.5 is 22%. This is given by dividing the total number of reviews with a weighted_score greater or equal than 0.5 (the total number of successful occurences of the event we are studying) by the total number of reviews (the total number of possible outcomes). "
   ]
  },
  {
   "cell_type": "markdown",
   "id": "32a06360",
   "metadata": {},
   "source": [
    "### RQ7 - What’s the probability that a review has at least one vote as funny given that the Weighted Vote Score is bigger than 0.5?"
   ]
  },
  {
   "cell_type": "markdown",
   "id": "6153e7bf",
   "metadata": {},
   "source": [
    "This is a conditional probability where we can define:\n",
    "* Event A: as the probability that a review has at least one vote as funny\n",
    "* Event B: as the probability that a review has a Weighted vote score bigger than 0.5\n",
    "\n",
    "The probability of A given B, P(A|B), can be computed as the probability of A and B, P(A intersection B), divided by the Probability of B. "
   ]
  },
  {
   "cell_type": "code",
   "execution_count": null,
   "id": "36e747ff",
   "metadata": {},
   "outputs": [],
   "source": [
    "prob_event_b = round((len(www[www['weighted_score']>0.5])/len(www))*100,1)\n",
    "prob_event_b"
   ]
  },
  {
   "cell_type": "code",
   "execution_count": null,
   "id": "9945ed9a",
   "metadata": {},
   "outputs": [],
   "source": [
    "prob_event_a_b = round((len(vaex_df[(vaex_df.weighted_vote_score > 0.5) & (vaex_df.votes_funny >= 1)])/len(vaex_df))*100,1)\n",
    "prob_event_a_b"
   ]
  },
  {
   "cell_type": "code",
   "execution_count": null,
   "id": "f696a78c",
   "metadata": {},
   "outputs": [],
   "source": [
    "prob_event_a_b/prob_event_b"
   ]
  },
  {
   "cell_type": "markdown",
   "id": "daed5a96",
   "metadata": {},
   "source": [
    "## Missing Interpretation!!"
   ]
  },
  {
   "cell_type": "markdown",
   "id": "18425d9d",
   "metadata": {},
   "source": [
    "### RQ7 - Is the probability that “a review has at least one vote as funny” independent of the “probability that a review has a Weighted Vote Score equal or bigger than 0.5”?"
   ]
  },
  {
   "cell_type": "code",
   "execution_count": null,
   "id": "74bcda8a",
   "metadata": {},
   "outputs": [],
   "source": [
    "len(vaex_df[vaex_df.votes_funny >= 1]) /len(vaex_df)"
   ]
  },
  {
   "cell_type": "markdown",
   "id": "aafc3215",
   "metadata": {},
   "source": [
    "If an Event A is independent of the Event B, this means that the P(A|B) = P(A). In this case this is not the case since the probability of P(A|B) is 24.7% and the P(A) is 11.9%. Therefore, the events are not independent. "
   ]
  },
  {
   "cell_type": "markdown",
   "id": "beec302c",
   "metadata": {},
   "source": [
    "# [RQ8]"
   ]
  },
  {
   "cell_type": "markdown",
   "id": "5b7d36ea",
   "metadata": {},
   "source": [
    "### Is there a significant difference in the Weighted Vote Score of reviews made in Chinese vs the ones made in Russian? Use an appropriate statistical test or technique and support your choice."
   ]
  },
  {
   "cell_type": "code",
   "execution_count": 66,
   "id": "5f2cb9ce",
   "metadata": {},
   "outputs": [],
   "source": [
    "chinese_reviews = filter_languages_f(vaex_df,['schinese'])\n",
    "russian_reviews = filter_languages_f(vaex_df,['russian'])"
   ]
  },
  {
   "cell_type": "code",
   "execution_count": null,
   "id": "e8f98dfc",
   "metadata": {},
   "outputs": [],
   "source": []
  },
  {
   "cell_type": "markdown",
   "id": "6bb8c85e",
   "metadata": {},
   "source": [
    "### Can you find any significant relationship between the time that a user lets pass before he updates the review and the Weighted Vote Score? Use an appropriate statistical test or technique and support your choice."
   ]
  },
  {
   "cell_type": "markdown",
   "id": "27cd0837",
   "metadata": {},
   "source": [
    "### Is there any change in the relationship of the variables mentioned in the previous literal if you include whether an application is recommended or not in the review? Use an appropriate statistical test or technique and support your choice."
   ]
  },
  {
   "cell_type": "markdown",
   "id": "81a57046",
   "metadata": {},
   "source": [
    "### What are histograms, bar plots, scatterplots and pie charts used for?"
   ]
  },
  {
   "cell_type": "markdown",
   "id": "39dc7d52",
   "metadata": {},
   "source": [
    "### What insights can you extract from a Box Plot?"
   ]
  },
  {
   "cell_type": "code",
   "execution_count": null,
   "id": "17a25c0b",
   "metadata": {},
   "outputs": [],
   "source": []
  }
 ],
 "metadata": {
  "kernelspec": {
   "display_name": "Python 3",
   "language": "python",
   "name": "python3"
  },
  "language_info": {
   "codemirror_mode": {
    "name": "ipython",
    "version": 3
   },
   "file_extension": ".py",
   "mimetype": "text/x-python",
   "name": "python",
   "nbconvert_exporter": "python",
   "pygments_lexer": "ipython3",
   "version": "3.8.8"
  }
 },
 "nbformat": 4,
 "nbformat_minor": 5
}
