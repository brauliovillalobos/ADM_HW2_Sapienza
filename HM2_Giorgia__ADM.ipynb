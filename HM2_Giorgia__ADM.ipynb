{
  "nbformat": 4,
  "nbformat_minor": 0,
  "metadata": {
    "application/vnd.databricks.v1+notebook": {
      "dashboards": [],
      "language": "python",
      "notebookMetadata": {
        "pythonIndentUnit": 2
      },
      "notebookName": "Classification",
      "notebookOrigID": 3966539020232142,
      "widgets": {}
    },
    "colab": {
      "name": "HM2_Giorgia_ ADM.ipynb",
      "provenance": [],
      "collapsed_sections": [],
      "machine_shape": "hm"
    },
    "kernelspec": {
      "display_name": "Python 3",
      "name": "python3"
    }
  },
  "cells": [
    {
      "cell_type": "code",
      "metadata": {
        "colab": {
          "base_uri": "https://localhost:8080/"
        },
        "id": "Hx932cVxi7x5",
        "outputId": "5918a143-683f-4152-9370-e8d7b5f8b76f"
      },
      "source": [
        "from google.colab import drive\n",
        "drive.mount('/content/drive/')"
      ],
      "execution_count": 1,
      "outputs": [
        {
          "output_type": "stream",
          "name": "stdout",
          "text": [
            "Drive already mounted at /content/drive/; to attempt to forcibly remount, call drive.mount(\"/content/drive/\", force_remount=True).\n"
          ]
        }
      ]
    },
    {
      "cell_type": "code",
      "metadata": {
        "id": "NnCIn4qFjJmL"
      },
      "source": [
        "import pandas as pd\n",
        "import matplotlib.pyplot as plt"
      ],
      "execution_count": 2,
      "outputs": []
    },
    {
      "cell_type": "code",
      "metadata": {
        "colab": {
          "base_uri": "https://localhost:8080/",
          "height": 984
        },
        "id": "446r2kFYjNab",
        "outputId": "3e2fd512-a7d6-4e8f-de9a-9cbac867828f"
      },
      "source": [
        "df = pd.read_csv(\"/content/drive/MyDrive/steam_reviews.csv\")\n",
        "df.head(10)"
      ],
      "execution_count": 10,
      "outputs": [
        {
          "output_type": "execute_result",
          "data": {
            "text/html": [
              "<div>\n",
              "<style scoped>\n",
              "    .dataframe tbody tr th:only-of-type {\n",
              "        vertical-align: middle;\n",
              "    }\n",
              "\n",
              "    .dataframe tbody tr th {\n",
              "        vertical-align: top;\n",
              "    }\n",
              "\n",
              "    .dataframe thead th {\n",
              "        text-align: right;\n",
              "    }\n",
              "</style>\n",
              "<table border=\"1\" class=\"dataframe\">\n",
              "  <thead>\n",
              "    <tr style=\"text-align: right;\">\n",
              "      <th></th>\n",
              "      <th>Unnamed: 0</th>\n",
              "      <th>app_id</th>\n",
              "      <th>app_name</th>\n",
              "      <th>review_id</th>\n",
              "      <th>language</th>\n",
              "      <th>review</th>\n",
              "      <th>timestamp_created</th>\n",
              "      <th>timestamp_updated</th>\n",
              "      <th>recommended</th>\n",
              "      <th>votes_helpful</th>\n",
              "      <th>votes_funny</th>\n",
              "      <th>weighted_vote_score</th>\n",
              "      <th>comment_count</th>\n",
              "      <th>steam_purchase</th>\n",
              "      <th>received_for_free</th>\n",
              "      <th>written_during_early_access</th>\n",
              "      <th>author.steamid</th>\n",
              "      <th>author.num_games_owned</th>\n",
              "      <th>author.num_reviews</th>\n",
              "      <th>author.playtime_forever</th>\n",
              "      <th>author.playtime_last_two_weeks</th>\n",
              "      <th>author.playtime_at_review</th>\n",
              "      <th>author.last_played</th>\n",
              "    </tr>\n",
              "  </thead>\n",
              "  <tbody>\n",
              "    <tr>\n",
              "      <th>0</th>\n",
              "      <td>0</td>\n",
              "      <td>292030</td>\n",
              "      <td>The Witcher 3: Wild Hunt</td>\n",
              "      <td>85185598</td>\n",
              "      <td>schinese</td>\n",
              "      <td>不玩此生遗憾，RPG游戏里的天花板，太吸引人了</td>\n",
              "      <td>1611381629</td>\n",
              "      <td>1611381629</td>\n",
              "      <td>True</td>\n",
              "      <td>0</td>\n",
              "      <td>0</td>\n",
              "      <td>0.0</td>\n",
              "      <td>0</td>\n",
              "      <td>True</td>\n",
              "      <td>False</td>\n",
              "      <td>False</td>\n",
              "      <td>76561199095369542</td>\n",
              "      <td>6</td>\n",
              "      <td>2</td>\n",
              "      <td>1909.0</td>\n",
              "      <td>1448.0</td>\n",
              "      <td>1909.0</td>\n",
              "      <td>1.611343e+09</td>\n",
              "    </tr>\n",
              "    <tr>\n",
              "      <th>1</th>\n",
              "      <td>1</td>\n",
              "      <td>292030</td>\n",
              "      <td>The Witcher 3: Wild Hunt</td>\n",
              "      <td>85185250</td>\n",
              "      <td>schinese</td>\n",
              "      <td>拔DIAO无情打桩机--杰洛特!!!</td>\n",
              "      <td>1611381030</td>\n",
              "      <td>1611381030</td>\n",
              "      <td>True</td>\n",
              "      <td>0</td>\n",
              "      <td>0</td>\n",
              "      <td>0.0</td>\n",
              "      <td>0</td>\n",
              "      <td>True</td>\n",
              "      <td>False</td>\n",
              "      <td>False</td>\n",
              "      <td>76561198949504115</td>\n",
              "      <td>30</td>\n",
              "      <td>10</td>\n",
              "      <td>2764.0</td>\n",
              "      <td>2743.0</td>\n",
              "      <td>2674.0</td>\n",
              "      <td>1.611386e+09</td>\n",
              "    </tr>\n",
              "    <tr>\n",
              "      <th>2</th>\n",
              "      <td>2</td>\n",
              "      <td>292030</td>\n",
              "      <td>The Witcher 3: Wild Hunt</td>\n",
              "      <td>85185111</td>\n",
              "      <td>schinese</td>\n",
              "      <td>巫师3NB</td>\n",
              "      <td>1611380800</td>\n",
              "      <td>1611380800</td>\n",
              "      <td>True</td>\n",
              "      <td>0</td>\n",
              "      <td>0</td>\n",
              "      <td>0.0</td>\n",
              "      <td>0</td>\n",
              "      <td>True</td>\n",
              "      <td>False</td>\n",
              "      <td>False</td>\n",
              "      <td>76561199090098988</td>\n",
              "      <td>5</td>\n",
              "      <td>1</td>\n",
              "      <td>1061.0</td>\n",
              "      <td>1061.0</td>\n",
              "      <td>1060.0</td>\n",
              "      <td>1.611384e+09</td>\n",
              "    </tr>\n",
              "    <tr>\n",
              "      <th>3</th>\n",
              "      <td>3</td>\n",
              "      <td>292030</td>\n",
              "      <td>The Witcher 3: Wild Hunt</td>\n",
              "      <td>85184605</td>\n",
              "      <td>english</td>\n",
              "      <td>One of the best RPG's of all time, worthy of a...</td>\n",
              "      <td>1611379970</td>\n",
              "      <td>1611379970</td>\n",
              "      <td>True</td>\n",
              "      <td>0</td>\n",
              "      <td>0</td>\n",
              "      <td>0.0</td>\n",
              "      <td>0</td>\n",
              "      <td>True</td>\n",
              "      <td>False</td>\n",
              "      <td>False</td>\n",
              "      <td>76561199054755373</td>\n",
              "      <td>5</td>\n",
              "      <td>3</td>\n",
              "      <td>5587.0</td>\n",
              "      <td>3200.0</td>\n",
              "      <td>5524.0</td>\n",
              "      <td>1.611384e+09</td>\n",
              "    </tr>\n",
              "    <tr>\n",
              "      <th>4</th>\n",
              "      <td>4</td>\n",
              "      <td>292030</td>\n",
              "      <td>The Witcher 3: Wild Hunt</td>\n",
              "      <td>85184287</td>\n",
              "      <td>schinese</td>\n",
              "      <td>大作</td>\n",
              "      <td>1611379427</td>\n",
              "      <td>1611379427</td>\n",
              "      <td>True</td>\n",
              "      <td>0</td>\n",
              "      <td>0</td>\n",
              "      <td>0.0</td>\n",
              "      <td>0</td>\n",
              "      <td>True</td>\n",
              "      <td>False</td>\n",
              "      <td>False</td>\n",
              "      <td>76561199028326951</td>\n",
              "      <td>7</td>\n",
              "      <td>4</td>\n",
              "      <td>217.0</td>\n",
              "      <td>42.0</td>\n",
              "      <td>217.0</td>\n",
              "      <td>1.610788e+09</td>\n",
              "    </tr>\n",
              "    <tr>\n",
              "      <th>5</th>\n",
              "      <td>5</td>\n",
              "      <td>292030</td>\n",
              "      <td>The Witcher 3: Wild Hunt</td>\n",
              "      <td>85184171</td>\n",
              "      <td>english</td>\n",
              "      <td>good story, good graphics. lots to do.</td>\n",
              "      <td>1611379264</td>\n",
              "      <td>1611379264</td>\n",
              "      <td>True</td>\n",
              "      <td>0</td>\n",
              "      <td>0</td>\n",
              "      <td>0.0</td>\n",
              "      <td>0</td>\n",
              "      <td>True</td>\n",
              "      <td>False</td>\n",
              "      <td>False</td>\n",
              "      <td>76561198170193529</td>\n",
              "      <td>11</td>\n",
              "      <td>1</td>\n",
              "      <td>823.0</td>\n",
              "      <td>823.0</td>\n",
              "      <td>823.0</td>\n",
              "      <td>1.611379e+09</td>\n",
              "    </tr>\n",
              "    <tr>\n",
              "      <th>6</th>\n",
              "      <td>6</td>\n",
              "      <td>292030</td>\n",
              "      <td>The Witcher 3: Wild Hunt</td>\n",
              "      <td>85184064</td>\n",
              "      <td>english</td>\n",
              "      <td>dis gud,</td>\n",
              "      <td>1611379091</td>\n",
              "      <td>1611379091</td>\n",
              "      <td>True</td>\n",
              "      <td>0</td>\n",
              "      <td>0</td>\n",
              "      <td>0.0</td>\n",
              "      <td>0</td>\n",
              "      <td>True</td>\n",
              "      <td>False</td>\n",
              "      <td>False</td>\n",
              "      <td>76561198119302812</td>\n",
              "      <td>27</td>\n",
              "      <td>2</td>\n",
              "      <td>4192.0</td>\n",
              "      <td>3398.0</td>\n",
              "      <td>4192.0</td>\n",
              "      <td>1.611352e+09</td>\n",
              "    </tr>\n",
              "    <tr>\n",
              "      <th>7</th>\n",
              "      <td>7</td>\n",
              "      <td>292030</td>\n",
              "      <td>The Witcher 3: Wild Hunt</td>\n",
              "      <td>85183602</td>\n",
              "      <td>turkish</td>\n",
              "      <td>.\\n</td>\n",
              "      <td>1611378312</td>\n",
              "      <td>1611378312</td>\n",
              "      <td>True</td>\n",
              "      <td>0</td>\n",
              "      <td>0</td>\n",
              "      <td>0.0</td>\n",
              "      <td>0</td>\n",
              "      <td>True</td>\n",
              "      <td>False</td>\n",
              "      <td>False</td>\n",
              "      <td>76561199084188849</td>\n",
              "      <td>9</td>\n",
              "      <td>1</td>\n",
              "      <td>2701.0</td>\n",
              "      <td>0.0</td>\n",
              "      <td>2701.0</td>\n",
              "      <td>1.609671e+09</td>\n",
              "    </tr>\n",
              "    <tr>\n",
              "      <th>8</th>\n",
              "      <td>8</td>\n",
              "      <td>292030</td>\n",
              "      <td>The Witcher 3: Wild Hunt</td>\n",
              "      <td>85183227</td>\n",
              "      <td>schinese</td>\n",
              "      <td>年度最佳的作品，没啥好夸的，神作</td>\n",
              "      <td>1611377703</td>\n",
              "      <td>1611377703</td>\n",
              "      <td>True</td>\n",
              "      <td>0</td>\n",
              "      <td>0</td>\n",
              "      <td>0.0</td>\n",
              "      <td>0</td>\n",
              "      <td>True</td>\n",
              "      <td>False</td>\n",
              "      <td>False</td>\n",
              "      <td>76561198130808993</td>\n",
              "      <td>581</td>\n",
              "      <td>17</td>\n",
              "      <td>6921.0</td>\n",
              "      <td>222.0</td>\n",
              "      <td>6921.0</td>\n",
              "      <td>1.611317e+09</td>\n",
              "    </tr>\n",
              "    <tr>\n",
              "      <th>9</th>\n",
              "      <td>9</td>\n",
              "      <td>292030</td>\n",
              "      <td>The Witcher 3: Wild Hunt</td>\n",
              "      <td>85182785</td>\n",
              "      <td>spanish</td>\n",
              "      <td>great game</td>\n",
              "      <td>1611377005</td>\n",
              "      <td>1611377005</td>\n",
              "      <td>True</td>\n",
              "      <td>0</td>\n",
              "      <td>0</td>\n",
              "      <td>0.0</td>\n",
              "      <td>0</td>\n",
              "      <td>True</td>\n",
              "      <td>False</td>\n",
              "      <td>False</td>\n",
              "      <td>76561198301724112</td>\n",
              "      <td>38</td>\n",
              "      <td>5</td>\n",
              "      <td>2399.0</td>\n",
              "      <td>333.0</td>\n",
              "      <td>2364.0</td>\n",
              "      <td>1.611379e+09</td>\n",
              "    </tr>\n",
              "  </tbody>\n",
              "</table>\n",
              "</div>"
            ],
            "text/plain": [
              "   Unnamed: 0  app_id  ... author.playtime_at_review  author.last_played\n",
              "0           0  292030  ...                    1909.0        1.611343e+09\n",
              "1           1  292030  ...                    2674.0        1.611386e+09\n",
              "2           2  292030  ...                    1060.0        1.611384e+09\n",
              "3           3  292030  ...                    5524.0        1.611384e+09\n",
              "4           4  292030  ...                     217.0        1.610788e+09\n",
              "5           5  292030  ...                     823.0        1.611379e+09\n",
              "6           6  292030  ...                    4192.0        1.611352e+09\n",
              "7           7  292030  ...                    2701.0        1.609671e+09\n",
              "8           8  292030  ...                    6921.0        1.611317e+09\n",
              "9           9  292030  ...                    2364.0        1.611379e+09\n",
              "\n",
              "[10 rows x 23 columns]"
            ]
          },
          "metadata": {},
          "execution_count": 10
        }
      ]
    },
    {
      "cell_type": "markdown",
      "metadata": {
        "id": "A7sTTiXrPOzL"
      },
      "source": [
        "# [RQ2]"
      ]
    },
    {
      "cell_type": "markdown",
      "metadata": {
        "id": "Bm3KXViJPSBH"
      },
      "source": [
        "###Plot the number of reviews for each application in descending order."
      ]
    },
    {
      "cell_type": "code",
      "metadata": {
        "colab": {
          "base_uri": "https://localhost:8080/"
        },
        "id": "_PT4p0s04aTD",
        "outputId": "480acb81-2b99-435a-fe5e-609fa5a3620f"
      },
      "source": [
        "number_reviews = df.app_id.value_counts().to_frame() #number of reviews for each application, sort in descending order\n",
        "print(number_reviews) "
      ],
      "execution_count": 4,
      "outputs": [
        {
          "output_type": "stream",
          "name": "stdout",
          "text": [
            "         app_id\n",
            "578080  1644255\n",
            "271590  1019116\n",
            "359550   841918\n",
            "105600   672815\n",
            "4000     655524\n",
            "...         ...\n",
            "611760     1013\n",
            "385560      700\n",
            "619290      700\n",
            "574050      600\n",
            "454200      200\n",
            "\n",
            "[315 rows x 1 columns]\n"
          ]
        }
      ]
    },
    {
      "cell_type": "markdown",
      "metadata": {
        "id": "eHdp_nUdPZqg"
      },
      "source": [
        "###What applications have the best Weighted Vote Score?"
      ]
    },
    {
      "cell_type": "code",
      "metadata": {
        "colab": {
          "base_uri": "https://localhost:8080/"
        },
        "id": "Upfgy8zK_tgV",
        "outputId": "1eaf58c5-0f83-454b-bd9d-2752113afe89"
      },
      "source": [
        "weighted_score_df= df.groupby('app_name')['weighted_vote_score'].max() #best weighted vote score for each application\n",
        "s=weighted_score_df.sort_values(ascending=False) #sort the values in descending order\n",
        "print(s.head(5)) #the five applications with the best weighted vote score\n"
      ],
      "execution_count": 5,
      "outputs": [
        {
          "output_type": "stream",
          "name": "stdout",
          "text": [
            "app_name\n",
            "Stardew Valley              0.995987\n",
            "Divinity: Original Sin 2    0.995245\n",
            "Subnautica                  0.994453\n",
            "Mirror                      0.994038\n",
            "Wallpaper Engine            0.993540\n",
            "Name: weighted_vote_score, dtype: float64\n"
          ]
        }
      ]
    },
    {
      "cell_type": "markdown",
      "metadata": {
        "id": "fOl_z8P-Pgpq"
      },
      "source": [
        "###Which applications have the most and the least recommendations?"
      ]
    },
    {
      "cell_type": "code",
      "metadata": {
        "colab": {
          "base_uri": "https://localhost:8080/"
        },
        "id": "JqCr2O_PMxC7",
        "outputId": "fabda51c-381a-445a-d108-700302276749"
      },
      "source": [
        "app=df.groupby('app_name')['recommended'].sum() #count of the recommendations for each app\n",
        "s = app.sort_values(ascending=False).to_frame() #sort the values in descending order\n",
        "top5 = s.index.tolist()[:5]\n",
        "last5= s.index.tolist()[-5:]\n",
        "print(s.head(5)) #top 5 with the most recommendations\n",
        "print(s.tail(5)) #top 5 with the least recommendations"
      ],
      "execution_count": 7,
      "outputs": [
        {
          "output_type": "stream",
          "name": "stdout",
          "text": [
            "                                recommended\n",
            "app_name                                   \n",
            "PLAYERUNKNOWN'S BATTLEGROUNDS        886417\n",
            "Grand Theft Auto V                   831311\n",
            "Tom Clancy's Rainbow Six Siege       742397\n",
            "Terraria                             658741\n",
            "Garry's Mod                          632558\n",
            "                             recommended\n",
            "app_name                                \n",
            "Out of the Park Baseball 19          594\n",
            "Shadow Complex Remastered            587\n",
            "Identity                             439\n",
            "DRAGON QUEST HEROES™ II              423\n",
            "Neon Hardcorps                        89\n"
          ]
        }
      ]
    },
    {
      "cell_type": "markdown",
      "metadata": {
        "id": "HG_4HmRHPnpY"
      },
      "source": [
        "###How many of these applications were purchased, and how many were given for free?"
      ]
    },
    {
      "cell_type": "code",
      "metadata": {
        "colab": {
          "base_uri": "https://localhost:8080/"
        },
        "id": "egSZOE8ON8nZ",
        "outputId": "e638a582-d658-4a01-ee7c-596f7c882830"
      },
      "source": [
        "df = pd.read_csv(\"/content/drive/MyDrive/steam_reviews.csv\", usecols=['app_name', 'received_for_free'])\n",
        "print('data for the applications that have the most recommendations:\\n')\n",
        "for i in top5:\n",
        "  s=df.loc[df['app_name'] ==\ti ].value_counts()\n",
        "  print(s)\n",
        "print('\\n')\n",
        "print('data for the applications that have the least recommendations:\\n')\n",
        "for i in last5:\n",
        "  s=df.loc[df['app_name'] ==\ti ].value_counts()\n",
        "  print(s)\n"
      ],
      "execution_count": 8,
      "outputs": [
        {
          "output_type": "stream",
          "name": "stdout",
          "text": [
            "data for the applications that have the most recommendations:\n",
            "\n",
            "app_name                       received_for_free\n",
            "PLAYERUNKNOWN'S BATTLEGROUNDS  False                1582812\n",
            "                               True                   61443\n",
            "dtype: int64\n",
            "app_name            received_for_free\n",
            "Grand Theft Auto V  False                980492\n",
            "                    True                  38624\n",
            "dtype: int64\n",
            "app_name                        received_for_free\n",
            "Tom Clancy's Rainbow Six Siege  False                805618\n",
            "                                True                  36300\n",
            "dtype: int64\n",
            "app_name  received_for_free\n",
            "Terraria  False                652661\n",
            "          True                  20154\n",
            "dtype: int64\n",
            "app_name     received_for_free\n",
            "Garry's Mod  False                630759\n",
            "             True                  24765\n",
            "dtype: int64\n",
            "\n",
            "\n",
            "data for the applications that have the least recommendations:\n",
            "\n",
            "app_name                     received_for_free\n",
            "Out of the Park Baseball 19  False                689\n",
            "                             True                  11\n",
            "dtype: int64\n",
            "app_name                   received_for_free\n",
            "Shadow Complex Remastered  False                679\n",
            "                           True                  21\n",
            "dtype: int64\n",
            "app_name  received_for_free\n",
            "Identity  False                1764\n",
            "          True                   40\n",
            "dtype: int64\n",
            "app_name                 received_for_free\n",
            "DRAGON QUEST HEROES™ II  False                593\n",
            "                         True                   7\n",
            "dtype: int64\n",
            "app_name        received_for_free\n",
            "Neon Hardcorps  False                173\n",
            "                True                  27\n",
            "dtype: int64\n"
          ]
        }
      ]
    },
    {
      "cell_type": "markdown",
      "metadata": {
        "id": "Ac51MGuIPt1R"
      },
      "source": [
        "#[RQ5]"
      ]
    },
    {
      "cell_type": "markdown",
      "metadata": {
        "id": "YmBqN9YHPwys"
      },
      "source": [
        "###Plot the top 10 most popular reviewers and the number of reviews."
      ]
    },
    {
      "cell_type": "code",
      "metadata": {
        "colab": {
          "base_uri": "https://localhost:8080/"
        },
        "id": "waEf1pNNVpN8",
        "outputId": "f275ddde-7519-4e8c-92ba-21c1e85f3385"
      },
      "source": [
        "a=df['author.steamid'].value_counts() #count of the number of reviews for each reviewers, sort in descending order\n",
        "most_popular = a.index.tolist()[0]\n",
        "print(a.head(10))"
      ],
      "execution_count": 11,
      "outputs": [
        {
          "output_type": "stream",
          "name": "stdout",
          "text": [
            "76561198062813911    149\n",
            "76561198315585536    132\n",
            "76561198192166873    107\n",
            "76561198239163744    106\n",
            "76561198045381877    103\n",
            "76561198064946151    100\n",
            "76561198013146396     99\n",
            "76561198027973295     96\n",
            "76561197969749884     88\n",
            "76561197989746995     86\n",
            "Name: author.steamid, dtype: int64\n"
          ]
        }
      ]
    },
    {
      "cell_type": "markdown",
      "metadata": {
        "id": "tBP78imAP4pQ"
      },
      "source": [
        "###What applications did the most popular author review?"
      ]
    },
    {
      "cell_type": "code",
      "metadata": {
        "colab": {
          "base_uri": "https://localhost:8080/"
        },
        "id": "D_6AZWmhX4Np",
        "outputId": "72ebea08-6563-4aa9-ef9e-fd8cec86d9f6"
      },
      "source": [
        "df = pd.read_csv(\"/content/drive/MyDrive/steam_reviews.csv\", usecols=['author.steamid', 'app_name'])\n",
        "c=df.loc[df['author.steamid']==\tmost_popular] #select rows from df based on values in some column\n",
        "print(c)"
      ],
      "execution_count": 12,
      "outputs": [
        {
          "output_type": "stream",
          "name": "stdout",
          "text": [
            "                          app_name     author.steamid\n",
            "512675                   Half-Life  76561198062813911\n",
            "539037      Counter-Strike: Source  76561198062813911\n",
            "658130    Half-Life 2: Episode Two  76561198062813911\n",
            "849477                    Portal 2  76561198062813911\n",
            "1549581                Garry's Mod  76561198062813911\n",
            "...                            ...                ...\n",
            "21578107             Hollow Knight  76561198062813911\n",
            "21624890             Day of Infamy  76561198062813911\n",
            "21651066                SimAirport  76561198062813911\n",
            "21656340             Dead Rising 4  76561198062813911\n",
            "21672218  Styx: Shards of Darkness  76561198062813911\n",
            "\n",
            "[149 rows x 2 columns]\n"
          ]
        }
      ]
    },
    {
      "cell_type": "markdown",
      "metadata": {
        "id": "8rWMrIRYP-Qc"
      },
      "source": [
        "###How many applications did he purchase, and how many did he get as free? Provide the number (count) and the percentage."
      ]
    },
    {
      "cell_type": "code",
      "metadata": {
        "colab": {
          "base_uri": "https://localhost:8080/"
        },
        "id": "ICFFq8pOMviK",
        "outputId": "b4e9d7f3-edb8-4668-a29a-cf92a8fc3fb9"
      },
      "source": [
        "df = pd.read_csv(\"/content/drive/MyDrive/steam_reviews.csv\", usecols=['author.steamid', 'received_for_free'])\n",
        "tot=df.loc[df['author.steamid'] ==\tmost_popular].value_counts()\n",
        "perc=df.loc[df['author.steamid'] ==\tmost_popular].value_counts(normalize=True)#By setting normalize=True, the object returned will contain the relative frequencies of the unique values. The normalize parameter is set to False by default.\n",
        "print(tot)\n",
        "print(perc)"
      ],
      "execution_count": 14,
      "outputs": [
        {
          "output_type": "stream",
          "name": "stdout",
          "text": [
            "received_for_free  author.steamid   \n",
            "False              76561198062813911    145\n",
            "True               76561198062813911      4\n",
            "dtype: int64\n",
            "received_for_free  author.steamid   \n",
            "False              76561198062813911    0.973154\n",
            "True               76561198062813911    0.026846\n",
            "dtype: float64\n"
          ]
        }
      ]
    },
    {
      "cell_type": "markdown",
      "metadata": {
        "id": "t_AtC-hxQDgE"
      },
      "source": [
        "###How many of the applications he purchased reviewed positively, and how many negatively? How about the applications he received for free?"
      ]
    },
    {
      "cell_type": "code",
      "metadata": {
        "colab": {
          "base_uri": "https://localhost:8080/"
        },
        "id": "HQJmuEE6RO8G",
        "outputId": "177a3c56-28ff-4934-e5b4-701cfad7c9c4"
      },
      "source": [
        "df = pd.read_csv(\"/content/drive/MyDrive/steam_reviews.csv\", usecols=['author.steamid', 'received_for_free', 'recommended'])\n",
        "a=df.loc[(df['author.steamid'] ==\tmost_popular) & df['received_for_free']==False].value_counts()\n",
        "print('applications reviewed positively purchased by the most popular author\\n{}.'.format(a))\n",
        "b=df.loc[(df['author.steamid'] ==\tmost_popular) & df['received_for_free']==True].value_counts()\n",
        "print('applications reviewed positively that the most popular author received for free\\n{}.'.format(b))"
      ],
      "execution_count": 15,
      "outputs": [
        {
          "output_type": "stream",
          "name": "stdout",
          "text": [
            "applications reviewed positively purchased by the most popular author\n",
            "recommended  received_for_free  author.steamid   \n",
            "True         False              76561198062813911    142\n",
            "                                76561198315585536    130\n",
            "                                76561198027973295     84\n",
            "                                76561197969749884     83\n",
            "                                76561198192166873     82\n",
            "                                                    ... \n",
            "                                76561198153080474      1\n",
            "                                76561198153080432      1\n",
            "                                76561198153080357      1\n",
            "                                76561198153080308      1\n",
            "             True               76561199132297448      1\n",
            "Length: 13635866, dtype: int64.\n",
            "applications reviewed positively that the most popular author received for free\n",
            "recommended  received_for_free  author.steamid   \n",
            "True         True               76561198062813911    4\n",
            "dtype: int64.\n"
          ]
        }
      ]
    },
    {
      "cell_type": "markdown",
      "metadata": {
        "id": "eSS0s928QKHE"
      },
      "source": [
        "#TQ3\n",
        "In the knapsack problem we are given n objects and each object i has a weight w_i and a value v_i. We are also given a weight budget W. The problem is to select a set of objects with total weight bounded by W that maximized the sum of their values. The following are three natural heuristics:\n",
        "\n",
        "1-Order them in increasing order of weight and then visit them sequentially, adding them to the solution as long as the budget is not exceeded.\n",
        "\n",
        "2-Order them in decreasing order of values, and then visit them sequentially, adding them to the solution if the budget is not exceeded.\n",
        "\n",
        "3-Order them in decreasing relative value (v_i / w_i), and then visit them sequentially, adding them to the solution if the budget is not exceeded.\n",
        "\n",
        "For each of the heuristics, provide a counterexample, that is, an example of a problem instance in which the heuristic fails to provide the optimal solution."
      ]
    },
    {
      "cell_type": "markdown",
      "metadata": {
        "id": "H926wpjeQPwt"
      },
      "source": [
        "###solution\n",
        "\n",
        "1.\n",
        "\n",
        "n=6, W=100.\n",
        "\n",
        "w_1=10, v_1=4\n",
        "\n",
        "w_2=30, v_2=1\n",
        "\n",
        "w_3=20, v_3=2\n",
        "\n",
        "w_4=50, v_4=9\n",
        "\n",
        "w_5=15, v_5=7\n",
        "\n",
        "w_6=35, v_6=8\n",
        "\n",
        "\n",
        "\n",
        "> If I order them in increasing order of weight and then visit them sequentially, adding them to the solution as long as the budget is not exceeded, I take obj1+obj5+obj3+obj2 getting W=75 and V=14,  but the optimal solution takes obj4+obj5+obj6 getting W=100 and V=24\n",
        "\n",
        "\n",
        "2.\n",
        "\n",
        "n=4, W=10.\n",
        "\n",
        "w_1=8, v_1=8\n",
        "\n",
        "w_2=4, v_2=5\n",
        "\n",
        "w_3=3, v_3=3\n",
        "\n",
        "w_4=3, v_4=1 \n",
        "\n",
        "\n",
        "\n",
        "> If I order them in decreasing order of values, and then visit them sequentially, adding them to the solution if the budget is not exceeded, I take only obj1 getting W=8 and V=8 but the optimal solution takes obj2+obj3+obj4 getting W=10 and V=9 \n",
        "\n",
        "\n",
        "\n",
        "3.\n",
        "\n",
        "n=3, W=50.\n",
        "\n",
        "w_1=10, v_1=60 --> v_1/w_1=6\n",
        "\n",
        "w_2=20, v_1=100 --> v_2/w_2=5\n",
        "\n",
        "w_3=30, v_1=120 --> v_3/w_3=4\n",
        "\n",
        "\n",
        "\n",
        "> If I order them in decreasing relative value (v_i / w_i), and then visit them sequentially, adding them to the solution if the budget is not exceeded, I take object 1 first, but the optimal solution takes object 2 and 3 leaving 1 behind. In fact obj1+obj2 give W=30 and V=160, obj2+obj3 give W=50 and V=220, obj1+obj3 give W=40 and V=180"
      ]
    }
  ]
}