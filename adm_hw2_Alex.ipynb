{
  "nbformat": 4,
  "nbformat_minor": 0,
  "metadata": {
    "colab": {
      "name": "adm_hw2_Alex.ipynb",
      "provenance": [],
      "collapsed_sections": [],
      "machine_shape": "hm"
    },
    "kernelspec": {
      "name": "python3",
      "display_name": "Python 3"
    },
    "application/vnd.databricks.v1+notebook": {
      "notebookName": "Classification",
      "dashboards": [],
      "notebookMetadata": {
        "pythonIndentUnit": 2
      },
      "language": "python",
      "widgets": {},
      "notebookOrigID": 3966539020232142
    }
  },
  "cells": [
    {
      "cell_type": "code",
      "metadata": {
        "colab": {
          "base_uri": "https://localhost:8080/"
        },
        "id": "Hx932cVxi7x5",
        "outputId": "44e724ff-434e-4fd3-8f0b-48e5b534bc9f"
      },
      "source": [
        "from google.colab import drive\n",
        "drive.mount('/content/drive/')"
      ],
      "execution_count": 1,
      "outputs": [
        {
          "output_type": "stream",
          "name": "stdout",
          "text": [
            "Mounted at /content/drive/\n"
          ]
        }
      ]
    },
    {
      "cell_type": "code",
      "metadata": {
        "id": "NnCIn4qFjJmL"
      },
      "source": [
        "import pandas as pd\n",
        "import matplotlib.pyplot as plt\n",
        "from datetime import datetime"
      ],
      "execution_count": 2,
      "outputs": []
    },
    {
      "cell_type": "code",
      "metadata": {
        "id": "446r2kFYjNab",
        "colab": {
          "base_uri": "https://localhost:8080/",
          "height": 672
        },
        "outputId": "47260c9a-c70e-4450-894e-1a8bb31e0544"
      },
      "source": [
        "df = pd.read_csv(\"/content/drive/MyDrive/hm/steam_reviews.csv\")\n",
        "df.head()"
      ],
      "execution_count": 3,
      "outputs": [
        {
          "output_type": "execute_result",
          "data": {
            "text/html": [
              "<div>\n",
              "<style scoped>\n",
              "    .dataframe tbody tr th:only-of-type {\n",
              "        vertical-align: middle;\n",
              "    }\n",
              "\n",
              "    .dataframe tbody tr th {\n",
              "        vertical-align: top;\n",
              "    }\n",
              "\n",
              "    .dataframe thead th {\n",
              "        text-align: right;\n",
              "    }\n",
              "</style>\n",
              "<table border=\"1\" class=\"dataframe\">\n",
              "  <thead>\n",
              "    <tr style=\"text-align: right;\">\n",
              "      <th></th>\n",
              "      <th>Unnamed: 0</th>\n",
              "      <th>app_id</th>\n",
              "      <th>app_name</th>\n",
              "      <th>review_id</th>\n",
              "      <th>language</th>\n",
              "      <th>review</th>\n",
              "      <th>timestamp_created</th>\n",
              "      <th>timestamp_updated</th>\n",
              "      <th>recommended</th>\n",
              "      <th>votes_helpful</th>\n",
              "      <th>votes_funny</th>\n",
              "      <th>weighted_vote_score</th>\n",
              "      <th>comment_count</th>\n",
              "      <th>steam_purchase</th>\n",
              "      <th>received_for_free</th>\n",
              "      <th>written_during_early_access</th>\n",
              "      <th>author.steamid</th>\n",
              "      <th>author.num_games_owned</th>\n",
              "      <th>author.num_reviews</th>\n",
              "      <th>author.playtime_forever</th>\n",
              "      <th>author.playtime_last_two_weeks</th>\n",
              "      <th>author.playtime_at_review</th>\n",
              "      <th>author.last_played</th>\n",
              "    </tr>\n",
              "  </thead>\n",
              "  <tbody>\n",
              "    <tr>\n",
              "      <th>0</th>\n",
              "      <td>0</td>\n",
              "      <td>292030</td>\n",
              "      <td>The Witcher 3: Wild Hunt</td>\n",
              "      <td>85185598</td>\n",
              "      <td>schinese</td>\n",
              "      <td>不玩此生遗憾，RPG游戏里的天花板，太吸引人了</td>\n",
              "      <td>1611381629</td>\n",
              "      <td>1611381629</td>\n",
              "      <td>True</td>\n",
              "      <td>0</td>\n",
              "      <td>0</td>\n",
              "      <td>0.0</td>\n",
              "      <td>0</td>\n",
              "      <td>True</td>\n",
              "      <td>False</td>\n",
              "      <td>False</td>\n",
              "      <td>76561199095369542</td>\n",
              "      <td>6</td>\n",
              "      <td>2</td>\n",
              "      <td>1909.0</td>\n",
              "      <td>1448.0</td>\n",
              "      <td>1909.0</td>\n",
              "      <td>1.611343e+09</td>\n",
              "    </tr>\n",
              "    <tr>\n",
              "      <th>1</th>\n",
              "      <td>1</td>\n",
              "      <td>292030</td>\n",
              "      <td>The Witcher 3: Wild Hunt</td>\n",
              "      <td>85185250</td>\n",
              "      <td>schinese</td>\n",
              "      <td>拔DIAO无情打桩机--杰洛特!!!</td>\n",
              "      <td>1611381030</td>\n",
              "      <td>1611381030</td>\n",
              "      <td>True</td>\n",
              "      <td>0</td>\n",
              "      <td>0</td>\n",
              "      <td>0.0</td>\n",
              "      <td>0</td>\n",
              "      <td>True</td>\n",
              "      <td>False</td>\n",
              "      <td>False</td>\n",
              "      <td>76561198949504115</td>\n",
              "      <td>30</td>\n",
              "      <td>10</td>\n",
              "      <td>2764.0</td>\n",
              "      <td>2743.0</td>\n",
              "      <td>2674.0</td>\n",
              "      <td>1.611386e+09</td>\n",
              "    </tr>\n",
              "    <tr>\n",
              "      <th>2</th>\n",
              "      <td>2</td>\n",
              "      <td>292030</td>\n",
              "      <td>The Witcher 3: Wild Hunt</td>\n",
              "      <td>85185111</td>\n",
              "      <td>schinese</td>\n",
              "      <td>巫师3NB</td>\n",
              "      <td>1611380800</td>\n",
              "      <td>1611380800</td>\n",
              "      <td>True</td>\n",
              "      <td>0</td>\n",
              "      <td>0</td>\n",
              "      <td>0.0</td>\n",
              "      <td>0</td>\n",
              "      <td>True</td>\n",
              "      <td>False</td>\n",
              "      <td>False</td>\n",
              "      <td>76561199090098988</td>\n",
              "      <td>5</td>\n",
              "      <td>1</td>\n",
              "      <td>1061.0</td>\n",
              "      <td>1061.0</td>\n",
              "      <td>1060.0</td>\n",
              "      <td>1.611384e+09</td>\n",
              "    </tr>\n",
              "    <tr>\n",
              "      <th>3</th>\n",
              "      <td>3</td>\n",
              "      <td>292030</td>\n",
              "      <td>The Witcher 3: Wild Hunt</td>\n",
              "      <td>85184605</td>\n",
              "      <td>english</td>\n",
              "      <td>One of the best RPG's of all time, worthy of a...</td>\n",
              "      <td>1611379970</td>\n",
              "      <td>1611379970</td>\n",
              "      <td>True</td>\n",
              "      <td>0</td>\n",
              "      <td>0</td>\n",
              "      <td>0.0</td>\n",
              "      <td>0</td>\n",
              "      <td>True</td>\n",
              "      <td>False</td>\n",
              "      <td>False</td>\n",
              "      <td>76561199054755373</td>\n",
              "      <td>5</td>\n",
              "      <td>3</td>\n",
              "      <td>5587.0</td>\n",
              "      <td>3200.0</td>\n",
              "      <td>5524.0</td>\n",
              "      <td>1.611384e+09</td>\n",
              "    </tr>\n",
              "    <tr>\n",
              "      <th>4</th>\n",
              "      <td>4</td>\n",
              "      <td>292030</td>\n",
              "      <td>The Witcher 3: Wild Hunt</td>\n",
              "      <td>85184287</td>\n",
              "      <td>schinese</td>\n",
              "      <td>大作</td>\n",
              "      <td>1611379427</td>\n",
              "      <td>1611379427</td>\n",
              "      <td>True</td>\n",
              "      <td>0</td>\n",
              "      <td>0</td>\n",
              "      <td>0.0</td>\n",
              "      <td>0</td>\n",
              "      <td>True</td>\n",
              "      <td>False</td>\n",
              "      <td>False</td>\n",
              "      <td>76561199028326951</td>\n",
              "      <td>7</td>\n",
              "      <td>4</td>\n",
              "      <td>217.0</td>\n",
              "      <td>42.0</td>\n",
              "      <td>217.0</td>\n",
              "      <td>1.610788e+09</td>\n",
              "    </tr>\n",
              "  </tbody>\n",
              "</table>\n",
              "</div>"
            ],
            "text/plain": [
              "   Unnamed: 0  app_id  ... author.playtime_at_review  author.last_played\n",
              "0           0  292030  ...                    1909.0        1.611343e+09\n",
              "1           1  292030  ...                    2674.0        1.611386e+09\n",
              "2           2  292030  ...                    1060.0        1.611384e+09\n",
              "3           3  292030  ...                    5524.0        1.611384e+09\n",
              "4           4  292030  ...                     217.0        1.610788e+09\n",
              "\n",
              "[5 rows x 23 columns]"
            ]
          },
          "metadata": {},
          "execution_count": 3
        }
      ]
    },
    {
      "cell_type": "markdown",
      "metadata": {
        "id": "LkmzeMrN3m7O"
      },
      "source": [
        "### [RQ3] Now it's important to understand the preferred time to do reviews."
      ]
    },
    {
      "cell_type": "markdown",
      "metadata": {
        "id": "1ITGpIxv3snl"
      },
      "source": [
        "\n",
        "\n",
        "*   What is the most common time that authors review an application? For example, authors usually write a review at 17:44.\n",
        "\n"
      ]
    },
    {
      "cell_type": "code",
      "metadata": {
        "colab": {
          "base_uri": "https://localhost:8080/",
          "height": 35
        },
        "id": "uijrS6l_bqh4",
        "outputId": "0cacaeca-710c-4f34-c419-b6b40ca0dc90"
      },
      "source": [
        "# apply a lambda on \"timestamp_created\" column values that convert them in the corresponding strings of hours and minutes\n",
        "# use these values to create a new column called \"time_creation\"\n",
        "df['time_creation']= df.timestamp_created.apply(lambda x: datetime.fromtimestamp(x).strftime((\"%H:%M\")))\n",
        "# group by 'time_creation' values\n",
        "# for each of that values count the number of reviews that has that hours and minutes as a creation time\n",
        "# sort that values in descending order an take the first value that corresponds to the most commont\n",
        "df.groupby('time_creation', as_index=False).app_id.count().sort_values(\"app_id\",ascending=False).head(1)[\"time_creation\"].iloc[0]"
      ],
      "execution_count": null,
      "outputs": [
        {
          "output_type": "execute_result",
          "data": {
            "application/vnd.google.colaboratory.intrinsic+json": {
              "type": "string"
            },
            "text/plain": [
              "'14:50'"
            ]
          },
          "metadata": {},
          "execution_count": 33
        }
      ]
    },
    {
      "cell_type": "markdown",
      "metadata": {
        "id": "ifW5UsH482dY"
      },
      "source": [
        "* Create a function that receives as a parameter a list of time intervals and returns the plot the number of reviews for each of the intervals."
      ]
    },
    {
      "cell_type": "code",
      "metadata": {
        "id": "zYqVCJuu83yo"
      },
      "source": [
        "def intervals_reviews(intervals):\n",
        "  # list that will contains the results for each interval\"\n",
        "  reviews=[]\n",
        "  # apply a lambda on \"timestamp_created\" column values that convert them in the corresponding strings of hours, minutes and seconds\n",
        "  # use these values to create a new column called \"time_creation\"\n",
        "  df['time_creation']= df.timestamp_created.apply(lambda x: datetime.fromtimestamp(x).strftime((\"%H:%M:%S\")))\n",
        "  # for each interval received in input count the number of reviews that have been created in that interval\n",
        "  for i in intervals:\n",
        "    reviews.append(df.loc[(df[\"time_creation\"] >= i[0]) & (df[\"time_creation\"] <= i[1])]['time_creation'].count())\n",
        "  # convert the intervals in string to use them in the plot\n",
        "  intervals=list(map(str,intervals))\n",
        "  # plot the results on a bar plot\n",
        "  plt.bar(intervals, reviews, color ='red',\n",
        "        width = 0.4)\n",
        "  plt.xticks(rotation='vertical')\n",
        "  plt.xlabel(\"Intervals\")\n",
        "  plt.ylabel(\"Number of reviews\")\n",
        "  plt.title(\"Number of reviews for different time intervals\")\n",
        "  plt.show()\n",
        "  "
      ],
      "execution_count": null,
      "outputs": []
    },
    {
      "cell_type": "markdown",
      "metadata": {
        "id": "61uPlSLrTKbg"
      },
      "source": [
        "* Use the function that you created in the previous literal to plot the number of reviews between the following time intervals\n"
      ]
    },
    {
      "cell_type": "code",
      "metadata": {
        "id": "QBV4tlUC1ufQ",
        "colab": {
          "base_uri": "https://localhost:8080/",
          "height": 400
        },
        "outputId": "b0df3029-017c-42cd-bfd5-ccd62f5ef902"
      },
      "source": [
        "#apply the funcion previously created using the intervals given in the table as input\n",
        "intervals_reviews([(\"06:00:00\",\"10:59:59\"),(\"11:00:00\",\"13:59:59\"),(\"14:00:00\",\"16:59:59\"),(\"17:00:00\",\"19:59:59\"),(\"20:00:00\",\"23:59:59\"),(\"00:00:00\",\"02:59:59\")\n",
        ",(\"03:00:00\",\"05:59:59\")])"
      ],
      "execution_count": null,
      "outputs": [
        {
          "output_type": "display_data",
          "data": {
            "image/png": "[encoded data removed]",
            "text/plain": [
              "<Figure size 432x288 with 1 Axes>"
            ]
          },
          "metadata": {
            "needs_background": "light"
          }
        }
      ]
    },
    {
      "cell_type": "markdown",
      "metadata": {
        "id": "ipCEZzT8AKmf"
      },
      "source": [
        "### [RQ6] It's time to get information from the updates that a user does to his reviews.\n",
        "\n"
      ]
    },
    {
      "cell_type": "markdown",
      "metadata": {
        "id": "PlHkBWwTAVRN"
      },
      "source": [
        "\n",
        "\n",
        "*   What is the average time (days and minutes) a user lets pass before he updates a review?\n",
        "\n"
      ]
    },
    {
      "cell_type": "code",
      "metadata": {
        "colab": {
          "base_uri": "https://localhost:8080/"
        },
        "id": "F2_AvNuhQZo6",
        "outputId": "584798f3-f792-4713-a15c-424a3281a128"
      },
      "source": [
        "import math\n",
        "# create a new column that contains the absolute value of the difference between the values of \"timestamp_created\" and \"timestamp_updated\"\n",
        "df['time_before_update']= abs(df.timestamp_created- df.timestamp_updated)\n",
        "# mean of the values in the column\n",
        "mean=df.time_before_update.mean()\n",
        "# calculation of the corresponding number of days (the timestamp is expressed in seconds and in a day there are 86400 seconds )\n",
        "days=math.floor(mean/86400)\n",
        "# calculation of the corresponding minutes of the remaning time\n",
        "minutes=int((mean-(86400*days))/60)\n",
        "print(\"the average time a user lets pass before he updates a review is: \"+str(days)+\" days and \"+str(minutes)+\" minutes\")"
      ],
      "execution_count": null,
      "outputs": [
        {
          "output_type": "stream",
          "name": "stdout",
          "text": [
            "the average time a user lets pass before he updates a review is: 36 days and 213 minutes\n"
          ]
        }
      ]
    },
    {
      "cell_type": "markdown",
      "metadata": {
        "id": "szI1hnOIcSbY"
      },
      "source": [
        "\n",
        "\n",
        "*   Plot the top 3 authors that usually update their reviews.\n",
        "\n"
      ]
    },
    {
      "cell_type": "code",
      "metadata": {
        "id": "SOtgm1LfBNaO",
        "colab": {
          "base_uri": "https://localhost:8080/",
          "height": 295
        },
        "outputId": "6f82fa80-e9a1-423c-aa06-357a0d3e38e1"
      },
      "source": [
        "# get only the rows of the reviews that have the timestamp of the creation different to the timestamp of the update\n",
        "# group by the authors and count the number of reviews updated by each author\n",
        "# sort the values in descending order and get the top 3\n",
        "top3=df.loc[df.timestamp_created != df.timestamp_updated].groupby(\"author.steamid\")[\"review_id\"].count().sort_values(ascending=False)[0:3]\n",
        "# plot the result\n",
        "plt.bar(list(map(str,top3.keys())), top3, color ='green',\n",
        "        width = 0.4)\n",
        "plt.xlabel(\"Authors\")\n",
        "plt.ylabel(\"Number of updates\")\n",
        "plt.title(\"Top 3 authors that updated their reviews the most\")\n",
        "plt.show()"
      ],
      "execution_count": null,
      "outputs": [
        {
          "output_type": "display_data",
          "data": {
            "image/png": "[encoded data removed]",
            "text/plain": [
              "<Figure size 432x288 with 1 Axes>"
            ]
          },
          "metadata": {
            "needs_background": "light"
          }
        }
      ]
    },
    {
      "cell_type": "markdown",
      "metadata": {
        "id": "iLwE5iQm9-3d"
      },
      "source": [
        "### TQ1\n"
      ]
    },
    {
      "cell_type": "markdown",
      "metadata": {
        "id": "pqqI-D3_-xzw"
      },
      "source": [
        "1) This algorithm gets the k-ith element of the ordered list \n",
        "(at every iteration you do the ordering of the new list using the random value \"s\")\n",
        "\n",
        "2) We have the worst case of this algorithm when at every iteration when:\n",
        "  \n",
        "  s: is always the second maximum value of the list\n",
        "\n",
        "  k: is 1\n",
        "\n",
        "  In this case, every time, the list will be reduced of 1 length until it will reach the length of 1.\n",
        "  \n",
        "  In this way the computational cost will be equal to the length of the list at each iteration\n",
        "  \n",
        "  O(n)+O(n-1)+O(n-2)..... = O(n^2)\n",
        "\n",
        "3) We have the best case of this algorithm when k = r at the first iteration.\n",
        "\tin this case the computational cost correspond to the length of the list: n\n",
        "\tso is O(n)"
      ]
    },
    {
      "cell_type": "markdown",
      "metadata": {
        "id": "Q28JVJch-kDA"
      },
      "source": [
        "### TQ2"
      ]
    },
    {
      "cell_type": "markdown",
      "metadata": {
        "id": "3pBRlXql-nYH"
      },
      "source": [
        "1) The computational cost of the function swapList is O(n/2) \n",
        "and the cost of each call at the function splitSwap is T(n/2)\n",
        "So the total computational cost will be: T(n/2) + T(n/2) + O(n/2) + 1\n",
        "\n",
        "2) This algorithm reverses the position of \"n\" elements, skipping the first \"l\" ones.\n",
        "In the case proposed in the previous exercise (l = 0), the algorithm simply reverse the order of the first \"n\" elements.\n",
        "The values choose for \"l\" and \"n\" have to follow this condition: l + n <= len(a)\n",
        "If the previous condition is not followed, the algorithm will raise an \"out of range\" error.\n",
        "\n",
        "Example of execution:\n",
        "a=[1,3,5,7]\n",
        "l=0\n",
        "n=4\n",
        "- the first call to splitSwap operates on the first half of the list --> [1,3]\n",
        "\t- in this case both calls to splitSwap are executed but won't do anything, because the length of the list will be 1\n",
        "\t- apply swapList that reverse the order --> [3,1]\n",
        "- the second call to splitSwap operates on the second half of the list --> [5,7]\n",
        "\t- in this case both calls to splitSwap are executed but won't do anything, because the length of the list will be 1\n",
        "\t- apply swapList that reverse the order --> [7,5]\n",
        "- apply swapList on the complete list that has been modified by the previous recursion call\n",
        "\tthe list is now [3,1,5,7] and applying the function will be --> [7,5,3,1]"
      ]
    }
  ]
}