{
  "nbformat": 4,
  "nbformat_minor": 0,
  "metadata": {
    "application/vnd.databricks.v1+notebook": {
      "dashboards": [],
      "language": "python",
      "notebookMetadata": {
        "pythonIndentUnit": 2
      },
      "notebookName": "Classification",
      "notebookOrigID": 3966539020232142,
      "widgets": {}
    },
    "colab": {
      "name": "main.ipynb",
      "provenance": [],
      "collapsed_sections": [],
      "machine_shape": "hm"
    },
    "interpreter": {
      "hash": "9d3bae0a0f66551680ef8a166f6b92cc2774d5d7901f027deb7bb883ed06d5ae"
    },
    "kernelspec": {
      "display_name": "Python 3",
      "language": "python",
      "name": "python3"
    },
    "language_info": {
      "codemirror_mode": {
        "name": "ipython",
        "version": 3
      },
      "file_extension": ".py",
      "mimetype": "text/x-python",
      "name": "python",
      "nbconvert_exporter": "python",
      "pygments_lexer": "ipython3",
      "version": "3.8.8"
    }
  },
  "cells": [
    {
      "cell_type": "markdown",
      "metadata": {
        "id": "Hx932cVxi7x5",
        "outputId": "9219a9cc-356e-43fc-da53-e5ee6278bf71"
      },
      "source": [
        "# Homework 2 - Algorithmic Methods of Data Mining\n",
        "### Giorgia Fontana - 2020290\n",
        "### Alex Onofri - 1795982\n",
        "### Braulio Villalobos - 1999250"
      ]
    },
    {
      "cell_type": "code",
      "metadata": {
        "id": "ipO76k5jPuru"
      },
      "source": [
        "# Package Import\n",
        "import pandas as pd\n",
        "import numpy as np\n",
        "import os\n",
        "from datetime import datetime\n",
        "import matplotlib.pyplot as plt"
      ],
      "execution_count": null,
      "outputs": []
    },
    {
      "cell_type": "code",
      "metadata": {
        "colab": {
          "base_uri": "https://localhost:8080/"
        },
        "id": "h7NIT22mPurz",
        "outputId": "437af8ba-0ba0-4c3d-c3c4-79095a0faeaf"
      },
      "source": [
        "from google.colab import drive\n",
        "drive.mount('/content/drive/')"
      ],
      "execution_count": null,
      "outputs": [
        {
          "name": "stdout",
          "output_type": "stream",
          "text": [
            "Mounted at /content/drive/\n"
          ]
        }
      ]
    },
    {
      "cell_type": "code",
      "metadata": {
        "colab": {
          "base_uri": "https://localhost:8080/",
          "height": 984
        },
        "id": "446r2kFYjNab",
        "outputId": "958ad96a-35ea-4575-a272-88ee37049c68"
      },
      "source": [
        "df = pd.read_csv(\"/content/drive/MyDrive/steam_reviews.csv\")\n",
        "df.head(10)"
      ],
      "execution_count": null,
      "outputs": [
        {
          "data": {
            "text/html": [
              "<div>\n",
              "<style scoped>\n",
              "    .dataframe tbody tr th:only-of-type {\n",
              "        vertical-align: middle;\n",
              "    }\n",
              "\n",
              "    .dataframe tbody tr th {\n",
              "        vertical-align: top;\n",
              "    }\n",
              "\n",
              "    .dataframe thead th {\n",
              "        text-align: right;\n",
              "    }\n",
              "</style>\n",
              "<table border=\"1\" class=\"dataframe\">\n",
              "  <thead>\n",
              "    <tr style=\"text-align: right;\">\n",
              "      <th></th>\n",
              "      <th>Unnamed: 0</th>\n",
              "      <th>app_id</th>\n",
              "      <th>app_name</th>\n",
              "      <th>review_id</th>\n",
              "      <th>language</th>\n",
              "      <th>review</th>\n",
              "      <th>timestamp_created</th>\n",
              "      <th>timestamp_updated</th>\n",
              "      <th>recommended</th>\n",
              "      <th>votes_helpful</th>\n",
              "      <th>votes_funny</th>\n",
              "      <th>weighted_vote_score</th>\n",
              "      <th>comment_count</th>\n",
              "      <th>steam_purchase</th>\n",
              "      <th>received_for_free</th>\n",
              "      <th>written_during_early_access</th>\n",
              "      <th>author.steamid</th>\n",
              "      <th>author.num_games_owned</th>\n",
              "      <th>author.num_reviews</th>\n",
              "      <th>author.playtime_forever</th>\n",
              "      <th>author.playtime_last_two_weeks</th>\n",
              "      <th>author.playtime_at_review</th>\n",
              "      <th>author.last_played</th>\n",
              "    </tr>\n",
              "  </thead>\n",
              "  <tbody>\n",
              "    <tr>\n",
              "      <th>0</th>\n",
              "      <td>0</td>\n",
              "      <td>292030</td>\n",
              "      <td>The Witcher 3: Wild Hunt</td>\n",
              "      <td>85185598</td>\n",
              "      <td>schinese</td>\n",
              "      <td>不玩此生遗憾，RPG游戏里的天花板，太吸引人了</td>\n",
              "      <td>1611381629</td>\n",
              "      <td>1611381629</td>\n",
              "      <td>True</td>\n",
              "      <td>0</td>\n",
              "      <td>0</td>\n",
              "      <td>0.0</td>\n",
              "      <td>0</td>\n",
              "      <td>True</td>\n",
              "      <td>False</td>\n",
              "      <td>False</td>\n",
              "      <td>76561199095369542</td>\n",
              "      <td>6</td>\n",
              "      <td>2</td>\n",
              "      <td>1909.0</td>\n",
              "      <td>1448.0</td>\n",
              "      <td>1909.0</td>\n",
              "      <td>1.611343e+09</td>\n",
              "    </tr>\n",
              "    <tr>\n",
              "      <th>1</th>\n",
              "      <td>1</td>\n",
              "      <td>292030</td>\n",
              "      <td>The Witcher 3: Wild Hunt</td>\n",
              "      <td>85185250</td>\n",
              "      <td>schinese</td>\n",
              "      <td>拔DIAO无情打桩机--杰洛特!!!</td>\n",
              "      <td>1611381030</td>\n",
              "      <td>1611381030</td>\n",
              "      <td>True</td>\n",
              "      <td>0</td>\n",
              "      <td>0</td>\n",
              "      <td>0.0</td>\n",
              "      <td>0</td>\n",
              "      <td>True</td>\n",
              "      <td>False</td>\n",
              "      <td>False</td>\n",
              "      <td>76561198949504115</td>\n",
              "      <td>30</td>\n",
              "      <td>10</td>\n",
              "      <td>2764.0</td>\n",
              "      <td>2743.0</td>\n",
              "      <td>2674.0</td>\n",
              "      <td>1.611386e+09</td>\n",
              "    </tr>\n",
              "    <tr>\n",
              "      <th>2</th>\n",
              "      <td>2</td>\n",
              "      <td>292030</td>\n",
              "      <td>The Witcher 3: Wild Hunt</td>\n",
              "      <td>85185111</td>\n",
              "      <td>schinese</td>\n",
              "      <td>巫师3NB</td>\n",
              "      <td>1611380800</td>\n",
              "      <td>1611380800</td>\n",
              "      <td>True</td>\n",
              "      <td>0</td>\n",
              "      <td>0</td>\n",
              "      <td>0.0</td>\n",
              "      <td>0</td>\n",
              "      <td>True</td>\n",
              "      <td>False</td>\n",
              "      <td>False</td>\n",
              "      <td>76561199090098988</td>\n",
              "      <td>5</td>\n",
              "      <td>1</td>\n",
              "      <td>1061.0</td>\n",
              "      <td>1061.0</td>\n",
              "      <td>1060.0</td>\n",
              "      <td>1.611384e+09</td>\n",
              "    </tr>\n",
              "    <tr>\n",
              "      <th>3</th>\n",
              "      <td>3</td>\n",
              "      <td>292030</td>\n",
              "      <td>The Witcher 3: Wild Hunt</td>\n",
              "      <td>85184605</td>\n",
              "      <td>english</td>\n",
              "      <td>One of the best RPG's of all time, worthy of a...</td>\n",
              "      <td>1611379970</td>\n",
              "      <td>1611379970</td>\n",
              "      <td>True</td>\n",
              "      <td>0</td>\n",
              "      <td>0</td>\n",
              "      <td>0.0</td>\n",
              "      <td>0</td>\n",
              "      <td>True</td>\n",
              "      <td>False</td>\n",
              "      <td>False</td>\n",
              "      <td>76561199054755373</td>\n",
              "      <td>5</td>\n",
              "      <td>3</td>\n",
              "      <td>5587.0</td>\n",
              "      <td>3200.0</td>\n",
              "      <td>5524.0</td>\n",
              "      <td>1.611384e+09</td>\n",
              "    </tr>\n",
              "    <tr>\n",
              "      <th>4</th>\n",
              "      <td>4</td>\n",
              "      <td>292030</td>\n",
              "      <td>The Witcher 3: Wild Hunt</td>\n",
              "      <td>85184287</td>\n",
              "      <td>schinese</td>\n",
              "      <td>大作</td>\n",
              "      <td>1611379427</td>\n",
              "      <td>1611379427</td>\n",
              "      <td>True</td>\n",
              "      <td>0</td>\n",
              "      <td>0</td>\n",
              "      <td>0.0</td>\n",
              "      <td>0</td>\n",
              "      <td>True</td>\n",
              "      <td>False</td>\n",
              "      <td>False</td>\n",
              "      <td>76561199028326951</td>\n",
              "      <td>7</td>\n",
              "      <td>4</td>\n",
              "      <td>217.0</td>\n",
              "      <td>42.0</td>\n",
              "      <td>217.0</td>\n",
              "      <td>1.610788e+09</td>\n",
              "    </tr>\n",
              "    <tr>\n",
              "      <th>5</th>\n",
              "      <td>5</td>\n",
              "      <td>292030</td>\n",
              "      <td>The Witcher 3: Wild Hunt</td>\n",
              "      <td>85184171</td>\n",
              "      <td>english</td>\n",
              "      <td>good story, good graphics. lots to do.</td>\n",
              "      <td>1611379264</td>\n",
              "      <td>1611379264</td>\n",
              "      <td>True</td>\n",
              "      <td>0</td>\n",
              "      <td>0</td>\n",
              "      <td>0.0</td>\n",
              "      <td>0</td>\n",
              "      <td>True</td>\n",
              "      <td>False</td>\n",
              "      <td>False</td>\n",
              "      <td>76561198170193529</td>\n",
              "      <td>11</td>\n",
              "      <td>1</td>\n",
              "      <td>823.0</td>\n",
              "      <td>823.0</td>\n",
              "      <td>823.0</td>\n",
              "      <td>1.611379e+09</td>\n",
              "    </tr>\n",
              "    <tr>\n",
              "      <th>6</th>\n",
              "      <td>6</td>\n",
              "      <td>292030</td>\n",
              "      <td>The Witcher 3: Wild Hunt</td>\n",
              "      <td>85184064</td>\n",
              "      <td>english</td>\n",
              "      <td>dis gud,</td>\n",
              "      <td>1611379091</td>\n",
              "      <td>1611379091</td>\n",
              "      <td>True</td>\n",
              "      <td>0</td>\n",
              "      <td>0</td>\n",
              "      <td>0.0</td>\n",
              "      <td>0</td>\n",
              "      <td>True</td>\n",
              "      <td>False</td>\n",
              "      <td>False</td>\n",
              "      <td>76561198119302812</td>\n",
              "      <td>27</td>\n",
              "      <td>2</td>\n",
              "      <td>4192.0</td>\n",
              "      <td>3398.0</td>\n",
              "      <td>4192.0</td>\n",
              "      <td>1.611352e+09</td>\n",
              "    </tr>\n",
              "    <tr>\n",
              "      <th>7</th>\n",
              "      <td>7</td>\n",
              "      <td>292030</td>\n",
              "      <td>The Witcher 3: Wild Hunt</td>\n",
              "      <td>85183602</td>\n",
              "      <td>turkish</td>\n",
              "      <td>.\\n</td>\n",
              "      <td>1611378312</td>\n",
              "      <td>1611378312</td>\n",
              "      <td>True</td>\n",
              "      <td>0</td>\n",
              "      <td>0</td>\n",
              "      <td>0.0</td>\n",
              "      <td>0</td>\n",
              "      <td>True</td>\n",
              "      <td>False</td>\n",
              "      <td>False</td>\n",
              "      <td>76561199084188849</td>\n",
              "      <td>9</td>\n",
              "      <td>1</td>\n",
              "      <td>2701.0</td>\n",
              "      <td>0.0</td>\n",
              "      <td>2701.0</td>\n",
              "      <td>1.609671e+09</td>\n",
              "    </tr>\n",
              "    <tr>\n",
              "      <th>8</th>\n",
              "      <td>8</td>\n",
              "      <td>292030</td>\n",
              "      <td>The Witcher 3: Wild Hunt</td>\n",
              "      <td>85183227</td>\n",
              "      <td>schinese</td>\n",
              "      <td>年度最佳的作品，没啥好夸的，神作</td>\n",
              "      <td>1611377703</td>\n",
              "      <td>1611377703</td>\n",
              "      <td>True</td>\n",
              "      <td>0</td>\n",
              "      <td>0</td>\n",
              "      <td>0.0</td>\n",
              "      <td>0</td>\n",
              "      <td>True</td>\n",
              "      <td>False</td>\n",
              "      <td>False</td>\n",
              "      <td>76561198130808993</td>\n",
              "      <td>581</td>\n",
              "      <td>17</td>\n",
              "      <td>6921.0</td>\n",
              "      <td>222.0</td>\n",
              "      <td>6921.0</td>\n",
              "      <td>1.611317e+09</td>\n",
              "    </tr>\n",
              "    <tr>\n",
              "      <th>9</th>\n",
              "      <td>9</td>\n",
              "      <td>292030</td>\n",
              "      <td>The Witcher 3: Wild Hunt</td>\n",
              "      <td>85182785</td>\n",
              "      <td>spanish</td>\n",
              "      <td>great game</td>\n",
              "      <td>1611377005</td>\n",
              "      <td>1611377005</td>\n",
              "      <td>True</td>\n",
              "      <td>0</td>\n",
              "      <td>0</td>\n",
              "      <td>0.0</td>\n",
              "      <td>0</td>\n",
              "      <td>True</td>\n",
              "      <td>False</td>\n",
              "      <td>False</td>\n",
              "      <td>76561198301724112</td>\n",
              "      <td>38</td>\n",
              "      <td>5</td>\n",
              "      <td>2399.0</td>\n",
              "      <td>333.0</td>\n",
              "      <td>2364.0</td>\n",
              "      <td>1.611379e+09</td>\n",
              "    </tr>\n",
              "  </tbody>\n",
              "</table>\n",
              "</div>"
            ],
            "text/plain": [
              "   Unnamed: 0  app_id  ... author.playtime_at_review  author.last_played\n",
              "0           0  292030  ...                    1909.0        1.611343e+09\n",
              "1           1  292030  ...                    2674.0        1.611386e+09\n",
              "2           2  292030  ...                    1060.0        1.611384e+09\n",
              "3           3  292030  ...                    5524.0        1.611384e+09\n",
              "4           4  292030  ...                     217.0        1.610788e+09\n",
              "5           5  292030  ...                     823.0        1.611379e+09\n",
              "6           6  292030  ...                    4192.0        1.611352e+09\n",
              "7           7  292030  ...                    2701.0        1.609671e+09\n",
              "8           8  292030  ...                    6921.0        1.611317e+09\n",
              "9           9  292030  ...                    2364.0        1.611379e+09\n",
              "\n",
              "[10 rows x 23 columns]"
            ]
          },
          "execution_count": 7,
          "metadata": {},
          "output_type": "execute_result"
        }
      ]
    },
    {
      "cell_type": "markdown",
      "metadata": {
        "id": "E_fm46uFPur2"
      },
      "source": [
        "# [RQ1]: Exploratory Data Analysis (EDA)"
      ]
    },
    {
      "cell_type": "markdown",
      "metadata": {
        "id": "HTGI_9_sPur2"
      },
      "source": [
        "Our dataset to analyze is composed of 23 columns or features and 21.747.371 observations. "
      ]
    },
    {
      "cell_type": "code",
      "metadata": {
        "colab": {
          "base_uri": "https://localhost:8080/"
        },
        "id": "JbkmyWf1P6uI",
        "outputId": "4ac1cbd6-b01f-4080-9703-33cabe0bacac"
      },
      "source": [
        "df.shape"
      ],
      "execution_count": null,
      "outputs": [
        {
          "data": {
            "text/plain": [
              "(21747371, 23)"
            ]
          },
          "execution_count": 5,
          "metadata": {},
          "output_type": "execute_result"
        }
      ]
    },
    {
      "cell_type": "markdown",
      "metadata": {
        "id": "DvPJudwDPur5"
      },
      "source": [
        "With the info command we identify the types of variables. \n",
        "\n",
        "\n",
        "Integer variables:\n",
        "*   app_id, review_id, timestamp_created, timestamp_updated, votes_helpful, votes_funny, comment_count, author.steamid, author.num_gaes_owned, author.num_reviews\n",
        "\n",
        "String variables:\n",
        "*   app_name, language, review\n",
        "\n",
        "Float variables:\n",
        "*   weighted_vote_score, author.playtime_forever, author.playtime_last_two_weeks, author.playtime_at_review, author.last_played\n",
        "\n",
        "Boolean variables:\n",
        "\n",
        "*   recommended, steam_purchase, received_for_free, written_during_early_access,"
      ]
    },
    {
      "cell_type": "code",
      "metadata": {
        "colab": {
          "base_uri": "https://localhost:8080/"
        },
        "id": "KNRvFiKtPur7",
        "outputId": "aea71bba-2951-4b54-df47-0532bd178c24"
      },
      "source": [
        "df.info()"
      ],
      "execution_count": null,
      "outputs": [
        {
          "name": "stdout",
          "output_type": "stream",
          "text": [
            "<class 'pandas.core.frame.DataFrame'>\n",
            "RangeIndex: 21747371 entries, 0 to 21747370\n",
            "Data columns (total 23 columns):\n",
            " #   Column                          Dtype  \n",
            "---  ------                          -----  \n",
            " 0   Unnamed: 0                      int64  \n",
            " 1   app_id                          int64  \n",
            " 2   app_name                        object \n",
            " 3   review_id                       int64  \n",
            " 4   language                        object \n",
            " 5   review                          object \n",
            " 6   timestamp_created               int64  \n",
            " 7   timestamp_updated               int64  \n",
            " 8   recommended                     bool   \n",
            " 9   votes_helpful                   int64  \n",
            " 10  votes_funny                     int64  \n",
            " 11  weighted_vote_score             float64\n",
            " 12  comment_count                   int64  \n",
            " 13  steam_purchase                  bool   \n",
            " 14  received_for_free               bool   \n",
            " 15  written_during_early_access     bool   \n",
            " 16  author.steamid                  int64  \n",
            " 17  author.num_games_owned          int64  \n",
            " 18  author.num_reviews              int64  \n",
            " 19  author.playtime_forever         float64\n",
            " 20  author.playtime_last_two_weeks  float64\n",
            " 21  author.playtime_at_review       float64\n",
            " 22  author.last_played              float64\n",
            "dtypes: bool(4), float64(5), int64(11), object(3)\n",
            "memory usage: 3.2+ GB\n"
          ]
        }
      ]
    },
    {
      "cell_type": "markdown",
      "metadata": {
        "id": "ytM0AOqnPusA"
      },
      "source": [
        "Description of the numerical values: "
      ]
    },
    {
      "cell_type": "code",
      "metadata": {
        "colab": {
          "base_uri": "https://localhost:8080/",
          "height": 331
        },
        "id": "c-iO4QS1PusA",
        "outputId": "f62067de-75f5-4af7-b5ab-1e4601571bc3"
      },
      "source": [
        "df[:1:].describe()"
      ],
      "execution_count": null,
      "outputs": [
        {
          "data": {
            "text/html": [
              "<div>\n",
              "<style scoped>\n",
              "    .dataframe tbody tr th:only-of-type {\n",
              "        vertical-align: middle;\n",
              "    }\n",
              "\n",
              "    .dataframe tbody tr th {\n",
              "        vertical-align: top;\n",
              "    }\n",
              "\n",
              "    .dataframe thead th {\n",
              "        text-align: right;\n",
              "    }\n",
              "</style>\n",
              "<table border=\"1\" class=\"dataframe\">\n",
              "  <thead>\n",
              "    <tr style=\"text-align: right;\">\n",
              "      <th></th>\n",
              "      <th>Unnamed: 0</th>\n",
              "      <th>review_id</th>\n",
              "      <th>votes_helpful</th>\n",
              "      <th>votes_funny</th>\n",
              "      <th>weighted_vote_score</th>\n",
              "      <th>comment_count</th>\n",
              "      <th>author.steamid</th>\n",
              "      <th>author.num_games_owned</th>\n",
              "      <th>author.num_reviews</th>\n",
              "      <th>author.playtime_forever</th>\n",
              "      <th>author.playtime_last_two_weeks</th>\n",
              "      <th>author.playtime_at_review</th>\n",
              "      <th>author.last_played</th>\n",
              "    </tr>\n",
              "  </thead>\n",
              "  <tbody>\n",
              "    <tr>\n",
              "      <th>count</th>\n",
              "      <td>1.0</td>\n",
              "      <td>1.0</td>\n",
              "      <td>1.0</td>\n",
              "      <td>1.0</td>\n",
              "      <td>1.0</td>\n",
              "      <td>1.0</td>\n",
              "      <td>1.000000e+00</td>\n",
              "      <td>1.0</td>\n",
              "      <td>1.0</td>\n",
              "      <td>1.0</td>\n",
              "      <td>1.0</td>\n",
              "      <td>1.0</td>\n",
              "      <td>1.000000e+00</td>\n",
              "    </tr>\n",
              "    <tr>\n",
              "      <th>mean</th>\n",
              "      <td>0.0</td>\n",
              "      <td>85185598.0</td>\n",
              "      <td>0.0</td>\n",
              "      <td>0.0</td>\n",
              "      <td>0.0</td>\n",
              "      <td>0.0</td>\n",
              "      <td>7.656120e+16</td>\n",
              "      <td>6.0</td>\n",
              "      <td>2.0</td>\n",
              "      <td>1909.0</td>\n",
              "      <td>1448.0</td>\n",
              "      <td>1909.0</td>\n",
              "      <td>1.611343e+09</td>\n",
              "    </tr>\n",
              "    <tr>\n",
              "      <th>std</th>\n",
              "      <td>NaN</td>\n",
              "      <td>NaN</td>\n",
              "      <td>NaN</td>\n",
              "      <td>NaN</td>\n",
              "      <td>NaN</td>\n",
              "      <td>NaN</td>\n",
              "      <td>NaN</td>\n",
              "      <td>NaN</td>\n",
              "      <td>NaN</td>\n",
              "      <td>NaN</td>\n",
              "      <td>NaN</td>\n",
              "      <td>NaN</td>\n",
              "      <td>NaN</td>\n",
              "    </tr>\n",
              "    <tr>\n",
              "      <th>min</th>\n",
              "      <td>0.0</td>\n",
              "      <td>85185598.0</td>\n",
              "      <td>0.0</td>\n",
              "      <td>0.0</td>\n",
              "      <td>0.0</td>\n",
              "      <td>0.0</td>\n",
              "      <td>7.656120e+16</td>\n",
              "      <td>6.0</td>\n",
              "      <td>2.0</td>\n",
              "      <td>1909.0</td>\n",
              "      <td>1448.0</td>\n",
              "      <td>1909.0</td>\n",
              "      <td>1.611343e+09</td>\n",
              "    </tr>\n",
              "    <tr>\n",
              "      <th>25%</th>\n",
              "      <td>0.0</td>\n",
              "      <td>85185598.0</td>\n",
              "      <td>0.0</td>\n",
              "      <td>0.0</td>\n",
              "      <td>0.0</td>\n",
              "      <td>0.0</td>\n",
              "      <td>7.656120e+16</td>\n",
              "      <td>6.0</td>\n",
              "      <td>2.0</td>\n",
              "      <td>1909.0</td>\n",
              "      <td>1448.0</td>\n",
              "      <td>1909.0</td>\n",
              "      <td>1.611343e+09</td>\n",
              "    </tr>\n",
              "    <tr>\n",
              "      <th>50%</th>\n",
              "      <td>0.0</td>\n",
              "      <td>85185598.0</td>\n",
              "      <td>0.0</td>\n",
              "      <td>0.0</td>\n",
              "      <td>0.0</td>\n",
              "      <td>0.0</td>\n",
              "      <td>7.656120e+16</td>\n",
              "      <td>6.0</td>\n",
              "      <td>2.0</td>\n",
              "      <td>1909.0</td>\n",
              "      <td>1448.0</td>\n",
              "      <td>1909.0</td>\n",
              "      <td>1.611343e+09</td>\n",
              "    </tr>\n",
              "    <tr>\n",
              "      <th>75%</th>\n",
              "      <td>0.0</td>\n",
              "      <td>85185598.0</td>\n",
              "      <td>0.0</td>\n",
              "      <td>0.0</td>\n",
              "      <td>0.0</td>\n",
              "      <td>0.0</td>\n",
              "      <td>7.656120e+16</td>\n",
              "      <td>6.0</td>\n",
              "      <td>2.0</td>\n",
              "      <td>1909.0</td>\n",
              "      <td>1448.0</td>\n",
              "      <td>1909.0</td>\n",
              "      <td>1.611343e+09</td>\n",
              "    </tr>\n",
              "    <tr>\n",
              "      <th>max</th>\n",
              "      <td>0.0</td>\n",
              "      <td>85185598.0</td>\n",
              "      <td>0.0</td>\n",
              "      <td>0.0</td>\n",
              "      <td>0.0</td>\n",
              "      <td>0.0</td>\n",
              "      <td>7.656120e+16</td>\n",
              "      <td>6.0</td>\n",
              "      <td>2.0</td>\n",
              "      <td>1909.0</td>\n",
              "      <td>1448.0</td>\n",
              "      <td>1909.0</td>\n",
              "      <td>1.611343e+09</td>\n",
              "    </tr>\n",
              "  </tbody>\n",
              "</table>\n",
              "</div>"
            ],
            "text/plain": [
              "       Unnamed: 0   review_id  ...  author.playtime_at_review  author.last_played\n",
              "count         1.0         1.0  ...                        1.0        1.000000e+00\n",
              "mean          0.0  85185598.0  ...                     1909.0        1.611343e+09\n",
              "std           NaN         NaN  ...                        NaN                 NaN\n",
              "min           0.0  85185598.0  ...                     1909.0        1.611343e+09\n",
              "25%           0.0  85185598.0  ...                     1909.0        1.611343e+09\n",
              "50%           0.0  85185598.0  ...                     1909.0        1.611343e+09\n",
              "75%           0.0  85185598.0  ...                     1909.0        1.611343e+09\n",
              "max           0.0  85185598.0  ...                     1909.0        1.611343e+09\n",
              "\n",
              "[8 rows x 13 columns]"
            ]
          },
          "execution_count": 10,
          "metadata": {},
          "output_type": "execute_result"
        }
      ]
    },
    {
      "cell_type": "markdown",
      "metadata": {
        "id": "PnnJ6dBuPusA"
      },
      "source": [
        "### Null Values"
      ]
    },
    {
      "cell_type": "markdown",
      "metadata": {
        "id": "Dn3bXA6mPusB"
      },
      "source": [
        "* The field \"review\" is the one that has the biggest number of null values with a total count of 33.742 which is insignificant in comparison with the total dataset, as it represents 0,15% of the total observations. Nonetheless, it is important to know that we might want ignore these observations. \n",
        "\n",
        "* The feature \"author.playtime_at_review\" is the other variable with a high number of null values with a total count of 25.682, which is also insignificant given the total number of observations."
      ]
    },
    {
      "cell_type": "markdown",
      "metadata": {
        "id": "-iPtdkSfPusC"
      },
      "source": [
        "### Analysis one-by-one variable"
      ]
    },
    {
      "cell_type": "markdown",
      "metadata": {
        "id": "1TREw59-PusE"
      },
      "source": [
        "#### 1) App_id: \n",
        "It refers to the unique identifier of the reviewed applications. "
      ]
    },
    {
      "cell_type": "code",
      "metadata": {
        "colab": {
          "base_uri": "https://localhost:8080/"
        },
        "id": "E9hq8eF6PusF",
        "outputId": "fbda4d39-4c44-491c-fe5e-b8be0093c46f"
      },
      "source": [
        "# We have 315 different apps\n",
        "df.app_id.nunique()"
      ],
      "execution_count": null,
      "outputs": [
        {
          "data": {
            "text/plain": [
              "315"
            ]
          },
          "execution_count": 11,
          "metadata": {},
          "output_type": "execute_result"
        }
      ]
    },
    {
      "cell_type": "markdown",
      "metadata": {
        "id": "92QsF4byPusG"
      },
      "source": [
        "The application with the most reviews is the application 578080 which has 1.644.255 (7.5% of the total reviews). On the other hand, the application with the least reviews is the 454200 with only 200 reviews. "
      ]
    },
    {
      "cell_type": "code",
      "metadata": {
        "id": "pJod7l5FPusH"
      },
      "source": [
        "# The application with the most reviews \n",
        "most_reviews = pd.DataFrame(df['app_id'].value_counts()).reset_index()\n",
        "most_reviews = most_reviews.rename(columns={'index': 'app_id', 0: 'number_reviews'})"
      ],
      "execution_count": null,
      "outputs": []
    },
    {
      "cell_type": "code",
      "metadata": {
        "colab": {
          "base_uri": "https://localhost:8080/",
          "height": 202
        },
        "id": "9tM4yVRdPusH",
        "outputId": "e9d0dd93-aa6c-4208-ce7d-57cc6b8a0510"
      },
      "source": [
        "most_reviews.head(5)"
      ],
      "execution_count": null,
      "outputs": [
        {
          "data": {
            "text/html": [
              "<div>\n",
              "<style scoped>\n",
              "    .dataframe tbody tr th:only-of-type {\n",
              "        vertical-align: middle;\n",
              "    }\n",
              "\n",
              "    .dataframe tbody tr th {\n",
              "        vertical-align: top;\n",
              "    }\n",
              "\n",
              "    .dataframe thead th {\n",
              "        text-align: right;\n",
              "    }\n",
              "</style>\n",
              "<table border=\"1\" class=\"dataframe\">\n",
              "  <thead>\n",
              "    <tr style=\"text-align: right;\">\n",
              "      <th></th>\n",
              "      <th>app_id</th>\n",
              "      <th>app_id</th>\n",
              "    </tr>\n",
              "  </thead>\n",
              "  <tbody>\n",
              "    <tr>\n",
              "      <th>0</th>\n",
              "      <td>578080</td>\n",
              "      <td>1644255</td>\n",
              "    </tr>\n",
              "    <tr>\n",
              "      <th>1</th>\n",
              "      <td>271590</td>\n",
              "      <td>1019116</td>\n",
              "    </tr>\n",
              "    <tr>\n",
              "      <th>2</th>\n",
              "      <td>359550</td>\n",
              "      <td>841918</td>\n",
              "    </tr>\n",
              "    <tr>\n",
              "      <th>3</th>\n",
              "      <td>105600</td>\n",
              "      <td>672815</td>\n",
              "    </tr>\n",
              "    <tr>\n",
              "      <th>4</th>\n",
              "      <td>4000</td>\n",
              "      <td>655524</td>\n",
              "    </tr>\n",
              "  </tbody>\n",
              "</table>\n",
              "</div>"
            ],
            "text/plain": [
              "   app_id   app_id\n",
              "0  578080  1644255\n",
              "1  271590  1019116\n",
              "2  359550   841918\n",
              "3  105600   672815\n",
              "4    4000   655524"
            ]
          },
          "execution_count": 13,
          "metadata": {},
          "output_type": "execute_result"
        }
      ]
    },
    {
      "cell_type": "code",
      "metadata": {
        "colab": {
          "base_uri": "https://localhost:8080/",
          "height": 202
        },
        "id": "MASW2i3bPusI",
        "outputId": "c0eac814-91c2-40d7-8c97-48d165ff8747"
      },
      "source": [
        "most_reviews.tail(5)"
      ],
      "execution_count": null,
      "outputs": [
        {
          "data": {
            "text/html": [
              "<div>\n",
              "<style scoped>\n",
              "    .dataframe tbody tr th:only-of-type {\n",
              "        vertical-align: middle;\n",
              "    }\n",
              "\n",
              "    .dataframe tbody tr th {\n",
              "        vertical-align: top;\n",
              "    }\n",
              "\n",
              "    .dataframe thead th {\n",
              "        text-align: right;\n",
              "    }\n",
              "</style>\n",
              "<table border=\"1\" class=\"dataframe\">\n",
              "  <thead>\n",
              "    <tr style=\"text-align: right;\">\n",
              "      <th></th>\n",
              "      <th>app_id</th>\n",
              "      <th>app_id</th>\n",
              "    </tr>\n",
              "  </thead>\n",
              "  <tbody>\n",
              "    <tr>\n",
              "      <th>310</th>\n",
              "      <td>611760</td>\n",
              "      <td>1013</td>\n",
              "    </tr>\n",
              "    <tr>\n",
              "      <th>311</th>\n",
              "      <td>619290</td>\n",
              "      <td>700</td>\n",
              "    </tr>\n",
              "    <tr>\n",
              "      <th>312</th>\n",
              "      <td>385560</td>\n",
              "      <td>700</td>\n",
              "    </tr>\n",
              "    <tr>\n",
              "      <th>313</th>\n",
              "      <td>574050</td>\n",
              "      <td>600</td>\n",
              "    </tr>\n",
              "    <tr>\n",
              "      <th>314</th>\n",
              "      <td>454200</td>\n",
              "      <td>200</td>\n",
              "    </tr>\n",
              "  </tbody>\n",
              "</table>\n",
              "</div>"
            ],
            "text/plain": [
              "     app_id  app_id\n",
              "310  611760    1013\n",
              "311  619290     700\n",
              "312  385560     700\n",
              "313  574050     600\n",
              "314  454200     200"
            ]
          },
          "execution_count": 15,
          "metadata": {},
          "output_type": "execute_result"
        }
      ]
    },
    {
      "cell_type": "markdown",
      "metadata": {
        "id": "njiG_tXqPusI"
      },
      "source": [
        "#### 2) App_name: \n",
        "It refers to the name of each application reviewed. If we count the number of unique app names, we validate that it's the same number of unique application id. This means we can work either with the app_id or the app_name, since there're not different names for a single application_id. "
      ]
    },
    {
      "cell_type": "code",
      "metadata": {
        "colab": {
          "base_uri": "https://localhost:8080/"
        },
        "id": "8wadImFMPusJ",
        "outputId": "3a3b0598-424f-48a4-8e0e-a5329008ffb2"
      },
      "source": [
        "df.app_name.nunique()"
      ],
      "execution_count": null,
      "outputs": [
        {
          "data": {
            "text/plain": [
              "315"
            ]
          },
          "execution_count": 16,
          "metadata": {},
          "output_type": "execute_result"
        }
      ]
    },
    {
      "cell_type": "markdown",
      "metadata": {
        "id": "BaUtxM-WPusJ"
      },
      "source": [
        "We can identify the names of the 5 most/least reviewed applications"
      ]
    },
    {
      "cell_type": "code",
      "metadata": {
        "colab": {
          "base_uri": "https://localhost:8080/",
          "height": 202
        },
        "id": "IcdNjQLgPusJ",
        "outputId": "3b18afdc-bc90-4b96-e424-006a9ae9930b"
      },
      "source": [
        "most_reviews_name = pd.DataFrame(df['app_name'].value_counts()).reset_index().rename(columns={'index': 'app_name', 0: 'number_reviews'})\n",
        "most_reviews_name.head()"
      ],
      "execution_count": null,
      "outputs": [
        {
          "data": {
            "text/html": [
              "<div>\n",
              "<style scoped>\n",
              "    .dataframe tbody tr th:only-of-type {\n",
              "        vertical-align: middle;\n",
              "    }\n",
              "\n",
              "    .dataframe tbody tr th {\n",
              "        vertical-align: top;\n",
              "    }\n",
              "\n",
              "    .dataframe thead th {\n",
              "        text-align: right;\n",
              "    }\n",
              "</style>\n",
              "<table border=\"1\" class=\"dataframe\">\n",
              "  <thead>\n",
              "    <tr style=\"text-align: right;\">\n",
              "      <th></th>\n",
              "      <th>app_name</th>\n",
              "      <th>app_name</th>\n",
              "    </tr>\n",
              "  </thead>\n",
              "  <tbody>\n",
              "    <tr>\n",
              "      <th>0</th>\n",
              "      <td>PLAYERUNKNOWN'S BATTLEGROUNDS</td>\n",
              "      <td>1644255</td>\n",
              "    </tr>\n",
              "    <tr>\n",
              "      <th>1</th>\n",
              "      <td>Grand Theft Auto V</td>\n",
              "      <td>1019116</td>\n",
              "    </tr>\n",
              "    <tr>\n",
              "      <th>2</th>\n",
              "      <td>Tom Clancy's Rainbow Six Siege</td>\n",
              "      <td>841918</td>\n",
              "    </tr>\n",
              "    <tr>\n",
              "      <th>3</th>\n",
              "      <td>Terraria</td>\n",
              "      <td>672815</td>\n",
              "    </tr>\n",
              "    <tr>\n",
              "      <th>4</th>\n",
              "      <td>Garry's Mod</td>\n",
              "      <td>655524</td>\n",
              "    </tr>\n",
              "  </tbody>\n",
              "</table>\n",
              "</div>"
            ],
            "text/plain": [
              "                         app_name  app_name\n",
              "0   PLAYERUNKNOWN'S BATTLEGROUNDS   1644255\n",
              "1              Grand Theft Auto V   1019116\n",
              "2  Tom Clancy's Rainbow Six Siege    841918\n",
              "3                        Terraria    672815\n",
              "4                     Garry's Mod    655524"
            ]
          },
          "execution_count": 17,
          "metadata": {},
          "output_type": "execute_result"
        }
      ]
    },
    {
      "cell_type": "code",
      "metadata": {
        "colab": {
          "base_uri": "https://localhost:8080/",
          "height": 202
        },
        "id": "odc8NCkYPusK",
        "outputId": "aebffed5-55b1-4043-b8c7-d1de50b35009"
      },
      "source": [
        "most_reviews_name.tail()"
      ],
      "execution_count": null,
      "outputs": [
        {
          "data": {
            "text/html": [
              "<div>\n",
              "<style scoped>\n",
              "    .dataframe tbody tr th:only-of-type {\n",
              "        vertical-align: middle;\n",
              "    }\n",
              "\n",
              "    .dataframe tbody tr th {\n",
              "        vertical-align: top;\n",
              "    }\n",
              "\n",
              "    .dataframe thead th {\n",
              "        text-align: right;\n",
              "    }\n",
              "</style>\n",
              "<table border=\"1\" class=\"dataframe\">\n",
              "  <thead>\n",
              "    <tr style=\"text-align: right;\">\n",
              "      <th></th>\n",
              "      <th>app_name</th>\n",
              "      <th>app_name</th>\n",
              "    </tr>\n",
              "  </thead>\n",
              "  <tbody>\n",
              "    <tr>\n",
              "      <th>310</th>\n",
              "      <td>Don't Escape: 4 Days to Survive</td>\n",
              "      <td>1013</td>\n",
              "    </tr>\n",
              "    <tr>\n",
              "      <th>311</th>\n",
              "      <td>Out of the Park Baseball 19</td>\n",
              "      <td>700</td>\n",
              "    </tr>\n",
              "    <tr>\n",
              "      <th>312</th>\n",
              "      <td>Shadow Complex Remastered</td>\n",
              "      <td>700</td>\n",
              "    </tr>\n",
              "    <tr>\n",
              "      <th>313</th>\n",
              "      <td>DRAGON QUEST HEROES™ II</td>\n",
              "      <td>600</td>\n",
              "    </tr>\n",
              "    <tr>\n",
              "      <th>314</th>\n",
              "      <td>Neon Hardcorps</td>\n",
              "      <td>200</td>\n",
              "    </tr>\n",
              "  </tbody>\n",
              "</table>\n",
              "</div>"
            ],
            "text/plain": [
              "                            app_name  app_name\n",
              "310  Don't Escape: 4 Days to Survive      1013\n",
              "311      Out of the Park Baseball 19       700\n",
              "312        Shadow Complex Remastered       700\n",
              "313          DRAGON QUEST HEROES™ II       600\n",
              "314                   Neon Hardcorps       200"
            ]
          },
          "execution_count": 18,
          "metadata": {},
          "output_type": "execute_result"
        }
      ]
    },
    {
      "cell_type": "markdown",
      "metadata": {
        "id": "gzWrJq1wPusK"
      },
      "source": [
        "Something that might be important is that we can notice that the app_names do not necessarily follow the same way of naming. This means some of them might have their names just in upper case letters (like PlayerUnknown Battleground) or include some strange simbols (like Dragon Quest Heroes Tm). We should take this into consideration if we plan to do an analysis based on the application names and therefore consider some type of standardization. For this reason, it's easier to work with the app_id, since this feature is standard and doesn't have the described problems. "
      ]
    },
    {
      "cell_type": "markdown",
      "metadata": {
        "id": "Q2m0V3RdPusK"
      },
      "source": [
        "#### 3) Review_id: \n",
        "\n",
        "It is apparentely the unique identifier of each review. If it is in fact a unique identifier, it should match the total number of reviews, which would mean that there're not more than 1 reviews with the same review_id"
      ]
    },
    {
      "cell_type": "code",
      "metadata": {
        "colab": {
          "base_uri": "https://localhost:8080/"
        },
        "id": "Pcyyma-xPusL",
        "outputId": "ad400e34-d474-4252-8bcf-2802a2d4b5ef"
      },
      "source": [
        "df.review_id.nunique()"
      ],
      "execution_count": null,
      "outputs": [
        {
          "data": {
            "text/plain": [
              "21612444"
            ]
          },
          "execution_count": 19,
          "metadata": {},
          "output_type": "execute_result"
        }
      ]
    },
    {
      "cell_type": "code",
      "metadata": {
        "id": "9O_dIR8APusL"
      },
      "source": [
        "reviews_ids = df['review_id'].to_frame().reset_index()\n",
        "reviews_ids = reviews_ids.rename(columns = {'index':'index',0:'review_id'})"
      ],
      "execution_count": null,
      "outputs": []
    },
    {
      "cell_type": "code",
      "metadata": {
        "colab": {
          "base_uri": "https://localhost:8080/",
          "height": 414
        },
        "id": "4iEJ6TLRPusL",
        "outputId": "9cc446a9-13f5-49f4-8153-f751086c7800"
      },
      "source": [
        "duplicate_reviews_ids = reviews_ids[reviews_ids.duplicated(['review_id'])]\n",
        "duplicate_reviews_ids"
      ],
      "execution_count": null,
      "outputs": [
        {
          "data": {
            "text/html": [
              "<div>\n",
              "<style scoped>\n",
              "    .dataframe tbody tr th:only-of-type {\n",
              "        vertical-align: middle;\n",
              "    }\n",
              "\n",
              "    .dataframe tbody tr th {\n",
              "        vertical-align: top;\n",
              "    }\n",
              "\n",
              "    .dataframe thead th {\n",
              "        text-align: right;\n",
              "    }\n",
              "</style>\n",
              "<table border=\"1\" class=\"dataframe\">\n",
              "  <thead>\n",
              "    <tr style=\"text-align: right;\">\n",
              "      <th></th>\n",
              "      <th>index</th>\n",
              "      <th>review_id</th>\n",
              "    </tr>\n",
              "  </thead>\n",
              "  <tbody>\n",
              "    <tr>\n",
              "      <th>21471076</th>\n",
              "      <td>21471076</td>\n",
              "      <td>84774500</td>\n",
              "    </tr>\n",
              "    <tr>\n",
              "      <th>21471077</th>\n",
              "      <td>21471077</td>\n",
              "      <td>84774347</td>\n",
              "    </tr>\n",
              "    <tr>\n",
              "      <th>21471078</th>\n",
              "      <td>21471078</td>\n",
              "      <td>84774076</td>\n",
              "    </tr>\n",
              "    <tr>\n",
              "      <th>21471079</th>\n",
              "      <td>21471079</td>\n",
              "      <td>84773959</td>\n",
              "    </tr>\n",
              "    <tr>\n",
              "      <th>21471080</th>\n",
              "      <td>21471080</td>\n",
              "      <td>84773690</td>\n",
              "    </tr>\n",
              "    <tr>\n",
              "      <th>...</th>\n",
              "      <td>...</td>\n",
              "      <td>...</td>\n",
              "    </tr>\n",
              "    <tr>\n",
              "      <th>21605998</th>\n",
              "      <td>21605998</td>\n",
              "      <td>85173193</td>\n",
              "    </tr>\n",
              "    <tr>\n",
              "      <th>21605999</th>\n",
              "      <td>21605999</td>\n",
              "      <td>85173033</td>\n",
              "    </tr>\n",
              "    <tr>\n",
              "      <th>21606000</th>\n",
              "      <td>21606000</td>\n",
              "      <td>85172460</td>\n",
              "    </tr>\n",
              "    <tr>\n",
              "      <th>21606001</th>\n",
              "      <td>21606001</td>\n",
              "      <td>85172260</td>\n",
              "    </tr>\n",
              "    <tr>\n",
              "      <th>21606002</th>\n",
              "      <td>21606002</td>\n",
              "      <td>85171647</td>\n",
              "    </tr>\n",
              "  </tbody>\n",
              "</table>\n",
              "<p>134927 rows × 2 columns</p>\n",
              "</div>"
            ],
            "text/plain": [
              "             index  review_id\n",
              "21471076  21471076   84774500\n",
              "21471077  21471077   84774347\n",
              "21471078  21471078   84774076\n",
              "21471079  21471079   84773959\n",
              "21471080  21471080   84773690\n",
              "...            ...        ...\n",
              "21605998  21605998   85173193\n",
              "21605999  21605999   85173033\n",
              "21606000  21606000   85172460\n",
              "21606001  21606001   85172260\n",
              "21606002  21606002   85171647\n",
              "\n",
              "[134927 rows x 2 columns]"
            ]
          },
          "execution_count": 22,
          "metadata": {},
          "output_type": "execute_result"
        }
      ]
    },
    {
      "cell_type": "code",
      "metadata": {
        "colab": {
          "base_uri": "https://localhost:8080/"
        },
        "id": "BCv7iOgoPusM",
        "outputId": "594bea08-093d-4da5-f201-963bf0ed9199"
      },
      "source": [
        "duplicate_reviews_ids['review_id'].unique()"
      ],
      "execution_count": null,
      "outputs": [
        {
          "data": {
            "text/plain": [
              "array([84774500, 84774347, 84774076, ..., 85172460, 85172260, 85171647])"
            ]
          },
          "execution_count": 24,
          "metadata": {},
          "output_type": "execute_result"
        }
      ]
    },
    {
      "cell_type": "markdown",
      "metadata": {
        "id": "b3D9AYqf90np"
      },
      "source": [
        "However, apparently the review_id is not a perfect unique identifier since there are some reviews with the same review_id. "
      ]
    },
    {
      "cell_type": "markdown",
      "metadata": {
        "id": "eumO9-vPPusR"
      },
      "source": [
        "#### 4) Language: \n",
        "\n",
        "Language in which the review was written. We have 28 different languages. "
      ]
    },
    {
      "cell_type": "code",
      "metadata": {
        "colab": {
          "base_uri": "https://localhost:8080/"
        },
        "id": "vT34UmaXPusS",
        "outputId": "ce435260-db22-4bdb-ae06-b97c9c709537"
      },
      "source": [
        "import matplotlib.pyplot as plt\n",
        "df.language.nunique()"
      ],
      "execution_count": null,
      "outputs": [
        {
          "data": {
            "text/plain": [
              "28"
            ]
          },
          "execution_count": 25,
          "metadata": {},
          "output_type": "execute_result"
        }
      ]
    },
    {
      "cell_type": "code",
      "metadata": {
        "colab": {
          "base_uri": "https://localhost:8080/",
          "height": 907
        },
        "id": "RMDq9R4QPusT",
        "outputId": "b36ac313-db7c-4b43-951b-0fdda516eba8"
      },
      "source": [
        "top_languages = pd.DataFrame(df['language'].value_counts()).reset_index()\n",
        "top_languages = top_languages.rename(columns={'index': 'languages', \"language\": 'number_reviews'})\n",
        "top_languages"
      ],
      "execution_count": null,
      "outputs": [
        {
          "data": {
            "text/html": [
              "<div>\n",
              "<style scoped>\n",
              "    .dataframe tbody tr th:only-of-type {\n",
              "        vertical-align: middle;\n",
              "    }\n",
              "\n",
              "    .dataframe tbody tr th {\n",
              "        vertical-align: top;\n",
              "    }\n",
              "\n",
              "    .dataframe thead th {\n",
              "        text-align: right;\n",
              "    }\n",
              "</style>\n",
              "<table border=\"1\" class=\"dataframe\">\n",
              "  <thead>\n",
              "    <tr style=\"text-align: right;\">\n",
              "      <th></th>\n",
              "      <th>languages</th>\n",
              "      <th>number_reviews</th>\n",
              "    </tr>\n",
              "  </thead>\n",
              "  <tbody>\n",
              "    <tr>\n",
              "      <th>0</th>\n",
              "      <td>english</td>\n",
              "      <td>9635437</td>\n",
              "    </tr>\n",
              "    <tr>\n",
              "      <th>1</th>\n",
              "      <td>schinese</td>\n",
              "      <td>3764967</td>\n",
              "    </tr>\n",
              "    <tr>\n",
              "      <th>2</th>\n",
              "      <td>russian</td>\n",
              "      <td>2348900</td>\n",
              "    </tr>\n",
              "    <tr>\n",
              "      <th>3</th>\n",
              "      <td>brazilian</td>\n",
              "      <td>837524</td>\n",
              "    </tr>\n",
              "    <tr>\n",
              "      <th>4</th>\n",
              "      <td>spanish</td>\n",
              "      <td>813320</td>\n",
              "    </tr>\n",
              "    <tr>\n",
              "      <th>5</th>\n",
              "      <td>german</td>\n",
              "      <td>752596</td>\n",
              "    </tr>\n",
              "    <tr>\n",
              "      <th>6</th>\n",
              "      <td>turkish</td>\n",
              "      <td>635868</td>\n",
              "    </tr>\n",
              "    <tr>\n",
              "      <th>7</th>\n",
              "      <td>koreana</td>\n",
              "      <td>613632</td>\n",
              "    </tr>\n",
              "    <tr>\n",
              "      <th>8</th>\n",
              "      <td>french</td>\n",
              "      <td>541751</td>\n",
              "    </tr>\n",
              "    <tr>\n",
              "      <th>9</th>\n",
              "      <td>polish</td>\n",
              "      <td>495529</td>\n",
              "    </tr>\n",
              "    <tr>\n",
              "      <th>10</th>\n",
              "      <td>tchinese</td>\n",
              "      <td>218203</td>\n",
              "    </tr>\n",
              "    <tr>\n",
              "      <th>11</th>\n",
              "      <td>czech</td>\n",
              "      <td>133980</td>\n",
              "    </tr>\n",
              "    <tr>\n",
              "      <th>12</th>\n",
              "      <td>italian</td>\n",
              "      <td>133307</td>\n",
              "    </tr>\n",
              "    <tr>\n",
              "      <th>13</th>\n",
              "      <td>thai</td>\n",
              "      <td>127503</td>\n",
              "    </tr>\n",
              "    <tr>\n",
              "      <th>14</th>\n",
              "      <td>japanese</td>\n",
              "      <td>81754</td>\n",
              "    </tr>\n",
              "    <tr>\n",
              "      <th>15</th>\n",
              "      <td>portuguese</td>\n",
              "      <td>81386</td>\n",
              "    </tr>\n",
              "    <tr>\n",
              "      <th>16</th>\n",
              "      <td>swedish</td>\n",
              "      <td>80226</td>\n",
              "    </tr>\n",
              "    <tr>\n",
              "      <th>17</th>\n",
              "      <td>dutch</td>\n",
              "      <td>77555</td>\n",
              "    </tr>\n",
              "    <tr>\n",
              "      <th>18</th>\n",
              "      <td>hungarian</td>\n",
              "      <td>71001</td>\n",
              "    </tr>\n",
              "    <tr>\n",
              "      <th>19</th>\n",
              "      <td>latam</td>\n",
              "      <td>70103</td>\n",
              "    </tr>\n",
              "    <tr>\n",
              "      <th>20</th>\n",
              "      <td>danish</td>\n",
              "      <td>55915</td>\n",
              "    </tr>\n",
              "    <tr>\n",
              "      <th>21</th>\n",
              "      <td>finnish</td>\n",
              "      <td>54712</td>\n",
              "    </tr>\n",
              "    <tr>\n",
              "      <th>22</th>\n",
              "      <td>norwegian</td>\n",
              "      <td>36797</td>\n",
              "    </tr>\n",
              "    <tr>\n",
              "      <th>23</th>\n",
              "      <td>romanian</td>\n",
              "      <td>32730</td>\n",
              "    </tr>\n",
              "    <tr>\n",
              "      <th>24</th>\n",
              "      <td>ukrainian</td>\n",
              "      <td>21169</td>\n",
              "    </tr>\n",
              "    <tr>\n",
              "      <th>25</th>\n",
              "      <td>greek</td>\n",
              "      <td>14472</td>\n",
              "    </tr>\n",
              "    <tr>\n",
              "      <th>26</th>\n",
              "      <td>bulgarian</td>\n",
              "      <td>10454</td>\n",
              "    </tr>\n",
              "    <tr>\n",
              "      <th>27</th>\n",
              "      <td>vietnamese</td>\n",
              "      <td>6580</td>\n",
              "    </tr>\n",
              "  </tbody>\n",
              "</table>\n",
              "</div>"
            ],
            "text/plain": [
              "     languages  number_reviews\n",
              "0      english         9635437\n",
              "1     schinese         3764967\n",
              "2      russian         2348900\n",
              "3    brazilian          837524\n",
              "4      spanish          813320\n",
              "5       german          752596\n",
              "6      turkish          635868\n",
              "7      koreana          613632\n",
              "8       french          541751\n",
              "9       polish          495529\n",
              "10    tchinese          218203\n",
              "11       czech          133980\n",
              "12     italian          133307\n",
              "13        thai          127503\n",
              "14    japanese           81754\n",
              "15  portuguese           81386\n",
              "16     swedish           80226\n",
              "17       dutch           77555\n",
              "18   hungarian           71001\n",
              "19       latam           70103\n",
              "20      danish           55915\n",
              "21     finnish           54712\n",
              "22   norwegian           36797\n",
              "23    romanian           32730\n",
              "24   ukrainian           21169\n",
              "25       greek           14472\n",
              "26   bulgarian           10454\n",
              "27  vietnamese            6580"
            ]
          },
          "execution_count": 31,
          "metadata": {},
          "output_type": "execute_result"
        }
      ]
    },
    {
      "cell_type": "markdown",
      "metadata": {
        "id": "Ftr1MlxVPusT"
      },
      "source": [
        "The next graph allows us to visualize which are the most and least common languages among the reviews. We can clearly identify how the number of reviews made in english are more than twice the number of reviews in chinese (which is the second most common language). We can also visually identify at least 3 different groups of reviews by language: \n",
        "\n",
        "* The most common languages: composed by english, chinese and russian\n",
        "* Languages with a significant amount of reviews but considerably less than the top 3: brazilian, spanish, german, turkish, koreana, french and polish. \n",
        "* The least common languages which represent: tchinese, czech, italian..."
      ]
    },
    {
      "cell_type": "code",
      "metadata": {
        "colab": {
          "base_uri": "https://localhost:8080/",
          "height": 344
        },
        "id": "kr8kZKj9PusU",
        "outputId": "5dfcaba7-57c3-4646-95d3-8ab975ed7012"
      },
      "source": [
        "diff_languages = top_languages['languages']\n",
        "number_reviews = top_languages['number_reviews']\n",
        "width = 0.8\n",
        "\n",
        "fig, ax = plt.subplots()\n",
        "rects1 = ax.bar(diff_languages, number_reviews, width)\n",
        "\n",
        "ax.set_ylim(0,10000000)\n",
        "ax.set_ylabel(\"Frequency (Millions)\")\n",
        "ax.set_xlabel(\"Language of Review\")\n",
        "ax.set_title(\"Total number of reviews by Language\")\n",
        "\n",
        "plt.xticks(rotation = 90)\n",
        "plt.show()"
      ],
      "execution_count": null,
      "outputs": [
        {
          "data": {
            "image/png": "[encoded data removed]",
            "text/plain": [
              "<Figure size 432x288 with 1 Axes>"
            ]
          },
          "metadata": {
            "needs_background": "light"
          },
          "output_type": "display_data"
        }
      ]
    },
    {
      "cell_type": "markdown",
      "metadata": {
        "id": "FOUoKW37PusV"
      },
      "source": [
        "#### 5) Review: \n",
        "\n",
        "It's the given review, therefore a chain of strings. This field could be used to do a sentiment analysis over the reviews given for each application. "
      ]
    },
    {
      "cell_type": "markdown",
      "metadata": {
        "id": "uczHnl-CPusV"
      },
      "source": [
        "#### 6) Timestamp_created: \n",
        "\n",
        "Refers to the time when the review was created. This was given in unix format but transformed into a readable timestamp. "
      ]
    },
    {
      "cell_type": "code",
      "metadata": {
        "id": "xOTYOQRMPusV"
      },
      "source": [
        "creation_time = df['timestamp_created'].to_frame().reset_index()\n",
        "creation_time = creation_time.rename(columns = {'index':'index','timestamp_created':'timestamp_created'})"
      ],
      "execution_count": null,
      "outputs": []
    },
    {
      "cell_type": "code",
      "metadata": {
        "colab": {
          "base_uri": "https://localhost:8080/"
        },
        "id": "StmuqmzyPusW",
        "outputId": "fa7819fd-527a-4e23-cecd-0f1106108fb2"
      },
      "source": [
        "creation_time[['timestamp_created']].min(), creation_time[['timestamp_created']].max()"
      ],
      "execution_count": null,
      "outputs": [
        {
          "data": {
            "text/plain": [
              "(timestamp_created    2010-11-19 20:17:16\n",
              " dtype: object, timestamp_created    2021-01-23 18:24:47\n",
              " dtype: object)"
            ]
          },
          "execution_count": 39,
          "metadata": {},
          "output_type": "execute_result"
        }
      ]
    },
    {
      "cell_type": "markdown",
      "metadata": {
        "id": "8nJ3KgijPusW"
      },
      "source": [
        "The oldest review of the dataset was made on 2010-11-19 while the most recent one was made on 2021-03-23. \n",
        "\n",
        "On the other hand,  we can see the majority of the reviews were created on 2020 and the number of reviews given each year has experimented an increasing trend. It is worth mentioning that visually we can appreciate that the increase in 2020 was greater than the previous increases that the platform has experimented. One hypothesis is that this happened because of the COVID19 lockdown, which made many people to stay home and be more active on the internet. \n",
        "\n",
        "We can't analyze any trend on 2021 since don't even have one complete month of data"
      ]
    },
    {
      "cell_type": "code",
      "metadata": {
        "id": "iqaKsolhPusX"
      },
      "source": [
        "creation_time['year'] = pd.DatetimeIndex(creation_time['timestamp_created']).year"
      ],
      "execution_count": null,
      "outputs": []
    },
    {
      "cell_type": "code",
      "metadata": {
        "id": "12d7UyQzPusX"
      },
      "source": [
        "reviews_by_year = creation_time.groupby(['year']).size().reset_index(name = 'number_reviews')"
      ],
      "execution_count": null,
      "outputs": []
    },
    {
      "cell_type": "code",
      "metadata": {
        "colab": {
          "base_uri": "https://localhost:8080/",
          "height": 311
        },
        "id": "KQTcnTk3PusX",
        "outputId": "a59a11eb-e52d-4dfb-bb71-d5a7ba5c2fa0"
      },
      "source": [
        "years_to_picture = reviews_by_year['year']\n",
        "number_reviews = reviews_by_year['number_reviews']\n",
        "width = 0.8\n",
        "\n",
        "fig, ax = plt.subplots()\n",
        "rects1 = ax.bar(years_to_picture, number_reviews, width)\n",
        "ax.set_ylim(0,8000000)\n",
        "ax.set_ylabel(\"Number of Reviews (Millions)\")\n",
        "ax.set_xlabel(\"Year\")\n",
        "ax.set_title(\"Total number of reviews by Year of Creation\")\n",
        "plt.xticks(rotation = 90)\n",
        "plt.show()"
      ],
      "execution_count": null,
      "outputs": [
        {
          "data": {
            "image/png": "[encoded data removed]",
            "text/plain": [
              "<Figure size 432x288 with 1 Axes>"
            ]
          },
          "metadata": {
            "needs_background": "light"
          },
          "output_type": "display_data"
        }
      ]
    },
    {
      "cell_type": "markdown",
      "metadata": {
        "id": "baoFZTqcPusY"
      },
      "source": [
        "#### Timestamp_updated: \n",
        "\n",
        "It refers to the date and hour on which the review was last updated"
      ]
    },
    {
      "cell_type": "markdown",
      "metadata": {
        "id": "UPsobE9IPusY"
      },
      "source": [
        "#### Recommended: \n",
        "\n",
        "It is a boolean feature and tells if the review recommends or not the app. "
      ]
    },
    {
      "cell_type": "code",
      "metadata": {
        "id": "KOn0Z1LpPusY"
      },
      "source": [
        "recomm = pd.DataFrame(df['recommended'].value_counts()).reset_index()\n",
        "recomm = recomm.rename(columns = {'index':'recommended','recommended':'number_reviews'})"
      ],
      "execution_count": null,
      "outputs": []
    },
    {
      "cell_type": "code",
      "metadata": {
        "colab": {
          "base_uri": "https://localhost:8080/",
          "height": 110
        },
        "id": "7lWJNhylPusY",
        "outputId": "b2467798-43ae-4f59-c341-14282ed252d6"
      },
      "source": [
        "recomm['perc']= round((recomm['number_reviews']/sum(recomm['number_reviews']))*100,1)\n",
        "recomm"
      ],
      "execution_count": null,
      "outputs": [
        {
          "data": {
            "text/html": [
              "<div>\n",
              "<style scoped>\n",
              "    .dataframe tbody tr th:only-of-type {\n",
              "        vertical-align: middle;\n",
              "    }\n",
              "\n",
              "    .dataframe tbody tr th {\n",
              "        vertical-align: top;\n",
              "    }\n",
              "\n",
              "    .dataframe thead th {\n",
              "        text-align: right;\n",
              "    }\n",
              "</style>\n",
              "<table border=\"1\" class=\"dataframe\">\n",
              "  <thead>\n",
              "    <tr style=\"text-align: right;\">\n",
              "      <th></th>\n",
              "      <th>recommended</th>\n",
              "      <th>number_reviews</th>\n",
              "      <th>perc</th>\n",
              "    </tr>\n",
              "  </thead>\n",
              "  <tbody>\n",
              "    <tr>\n",
              "      <th>0</th>\n",
              "      <td>True</td>\n",
              "      <td>19022610</td>\n",
              "      <td>87.5</td>\n",
              "    </tr>\n",
              "    <tr>\n",
              "      <th>1</th>\n",
              "      <td>False</td>\n",
              "      <td>2724761</td>\n",
              "      <td>12.5</td>\n",
              "    </tr>\n",
              "  </tbody>\n",
              "</table>\n",
              "</div>"
            ],
            "text/plain": [
              "   recommended  number_reviews  perc\n",
              "0         True        19022610  87.5\n",
              "1        False         2724761  12.5"
            ]
          },
          "execution_count": 50,
          "metadata": {},
          "output_type": "execute_result"
        }
      ]
    },
    {
      "cell_type": "markdown",
      "metadata": {
        "id": "KAi9jt7vPusY"
      },
      "source": [
        "The vast majority of the reviews recommend the application they are reviewing."
      ]
    },
    {
      "cell_type": "markdown",
      "metadata": {
        "id": "7RTE-se_PusZ"
      },
      "source": [
        "#### Votes_helpful: \n",
        "\n",
        "It indicates the number of votes that have classified the review as \"helpful\"."
      ]
    },
    {
      "cell_type": "code",
      "metadata": {
        "id": "Bq269IQlPusZ"
      },
      "source": [
        "helpful_votes = pd.DataFrame(df['votes_helpful'].value_counts()).reset_index()"
      ],
      "execution_count": null,
      "outputs": []
    },
    {
      "cell_type": "code",
      "metadata": {
        "colab": {
          "base_uri": "https://localhost:8080/",
          "height": 414
        },
        "id": "xajhBJFQPusZ",
        "outputId": "692511e2-e5f1-4794-84a3-52a5625773e8"
      },
      "source": [
        "helpful_votes.sort_values(['index'])"
      ],
      "execution_count": null,
      "outputs": [
        {
          "data": {
            "text/html": [
              "<div>\n",
              "<style scoped>\n",
              "    .dataframe tbody tr th:only-of-type {\n",
              "        vertical-align: middle;\n",
              "    }\n",
              "\n",
              "    .dataframe tbody tr th {\n",
              "        vertical-align: top;\n",
              "    }\n",
              "\n",
              "    .dataframe thead th {\n",
              "        text-align: right;\n",
              "    }\n",
              "</style>\n",
              "<table border=\"1\" class=\"dataframe\">\n",
              "  <thead>\n",
              "    <tr style=\"text-align: right;\">\n",
              "      <th></th>\n",
              "      <th>index</th>\n",
              "      <th>votes_helpful</th>\n",
              "    </tr>\n",
              "  </thead>\n",
              "  <tbody>\n",
              "    <tr>\n",
              "      <th>0</th>\n",
              "      <td>0</td>\n",
              "      <td>15642127</td>\n",
              "    </tr>\n",
              "    <tr>\n",
              "      <th>1</th>\n",
              "      <td>1</td>\n",
              "      <td>3478106</td>\n",
              "    </tr>\n",
              "    <tr>\n",
              "      <th>2</th>\n",
              "      <td>2</td>\n",
              "      <td>1083373</td>\n",
              "    </tr>\n",
              "    <tr>\n",
              "      <th>3</th>\n",
              "      <td>3</td>\n",
              "      <td>449848</td>\n",
              "    </tr>\n",
              "    <tr>\n",
              "      <th>4</th>\n",
              "      <td>4</td>\n",
              "      <td>235425</td>\n",
              "    </tr>\n",
              "    <tr>\n",
              "      <th>...</th>\n",
              "      <td>...</td>\n",
              "      <td>...</td>\n",
              "    </tr>\n",
              "    <tr>\n",
              "      <th>2030</th>\n",
              "      <td>26149</td>\n",
              "      <td>1</td>\n",
              "    </tr>\n",
              "    <tr>\n",
              "      <th>1977</th>\n",
              "      <td>28211</td>\n",
              "      <td>1</td>\n",
              "    </tr>\n",
              "    <tr>\n",
              "      <th>1990</th>\n",
              "      <td>29608</td>\n",
              "      <td>1</td>\n",
              "    </tr>\n",
              "    <tr>\n",
              "      <th>1993</th>\n",
              "      <td>4398046511104</td>\n",
              "      <td>1</td>\n",
              "    </tr>\n",
              "    <tr>\n",
              "      <th>1996</th>\n",
              "      <td>4398046511106</td>\n",
              "      <td>1</td>\n",
              "    </tr>\n",
              "  </tbody>\n",
              "</table>\n",
              "<p>2716 rows × 2 columns</p>\n",
              "</div>"
            ],
            "text/plain": [
              "              index  votes_helpful\n",
              "0                 0       15642127\n",
              "1                 1        3478106\n",
              "2                 2        1083373\n",
              "3                 3         449848\n",
              "4                 4         235425\n",
              "...             ...            ...\n",
              "2030          26149              1\n",
              "1977          28211              1\n",
              "1990          29608              1\n",
              "1993  4398046511104              1\n",
              "1996  4398046511106              1\n",
              "\n",
              "[2716 rows x 2 columns]"
            ]
          },
          "execution_count": 52,
          "metadata": {},
          "output_type": "execute_result"
        }
      ]
    },
    {
      "cell_type": "markdown",
      "metadata": {
        "id": "nPBcm77B90oA"
      },
      "source": [
        "Approximately 30% of the total reviews have received at least one vote as helpful. "
      ]
    },
    {
      "cell_type": "markdown",
      "metadata": {
        "id": "GG_CJSjqPusZ"
      },
      "source": [
        "#### Votes_funny: \n",
        "\n",
        "It indicates the number of votes that have classified the review as \"funny\""
      ]
    },
    {
      "cell_type": "code",
      "metadata": {
        "colab": {
          "base_uri": "https://localhost:8080/",
          "height": 414
        },
        "id": "KRFk7DHGPusZ",
        "outputId": "16071713-f1f9-44be-f3a1-437e62dc0f77"
      },
      "source": [
        "funny_votes = pd.DataFrame(df['votes_funny'].value_counts()).reset_index()\n",
        "funny_votes.sort_values(['index'])"
      ],
      "execution_count": null,
      "outputs": [
        {
          "data": {
            "text/html": [
              "<div>\n",
              "<style scoped>\n",
              "    .dataframe tbody tr th:only-of-type {\n",
              "        vertical-align: middle;\n",
              "    }\n",
              "\n",
              "    .dataframe tbody tr th {\n",
              "        vertical-align: top;\n",
              "    }\n",
              "\n",
              "    .dataframe thead th {\n",
              "        text-align: right;\n",
              "    }\n",
              "</style>\n",
              "<table border=\"1\" class=\"dataframe\">\n",
              "  <thead>\n",
              "    <tr style=\"text-align: right;\">\n",
              "      <th></th>\n",
              "      <th>index</th>\n",
              "      <th>votes_funny</th>\n",
              "    </tr>\n",
              "  </thead>\n",
              "  <tbody>\n",
              "    <tr>\n",
              "      <th>0</th>\n",
              "      <td>0</td>\n",
              "      <td>19144299</td>\n",
              "    </tr>\n",
              "    <tr>\n",
              "      <th>1</th>\n",
              "      <td>1</td>\n",
              "      <td>1719903</td>\n",
              "    </tr>\n",
              "    <tr>\n",
              "      <th>2</th>\n",
              "      <td>2</td>\n",
              "      <td>381143</td>\n",
              "    </tr>\n",
              "    <tr>\n",
              "      <th>3</th>\n",
              "      <td>3</td>\n",
              "      <td>144356</td>\n",
              "    </tr>\n",
              "    <tr>\n",
              "      <th>4</th>\n",
              "      <td>4</td>\n",
              "      <td>74835</td>\n",
              "    </tr>\n",
              "    <tr>\n",
              "      <th>...</th>\n",
              "      <td>...</td>\n",
              "      <td>...</td>\n",
              "    </tr>\n",
              "    <tr>\n",
              "      <th>786</th>\n",
              "      <td>4294967291</td>\n",
              "      <td>5</td>\n",
              "    </tr>\n",
              "    <tr>\n",
              "      <th>529</th>\n",
              "      <td>4294967292</td>\n",
              "      <td>10</td>\n",
              "    </tr>\n",
              "    <tr>\n",
              "      <th>381</th>\n",
              "      <td>4294967293</td>\n",
              "      <td>20</td>\n",
              "    </tr>\n",
              "    <tr>\n",
              "      <th>215</th>\n",
              "      <td>4294967294</td>\n",
              "      <td>58</td>\n",
              "    </tr>\n",
              "    <tr>\n",
              "      <th>59</th>\n",
              "      <td>4294967295</td>\n",
              "      <td>543</td>\n",
              "    </tr>\n",
              "  </tbody>\n",
              "</table>\n",
              "<p>2215 rows × 2 columns</p>\n",
              "</div>"
            ],
            "text/plain": [
              "          index  votes_funny\n",
              "0             0     19144299\n",
              "1             1      1719903\n",
              "2             2       381143\n",
              "3             3       144356\n",
              "4             4        74835\n",
              "..          ...          ...\n",
              "786  4294967291            5\n",
              "529  4294967292           10\n",
              "381  4294967293           20\n",
              "215  4294967294           58\n",
              "59   4294967295          543\n",
              "\n",
              "[2215 rows x 2 columns]"
            ]
          },
          "execution_count": 53,
          "metadata": {},
          "output_type": "execute_result"
        }
      ]
    },
    {
      "cell_type": "markdown",
      "metadata": {
        "id": "JxkU_Pdj90oF"
      },
      "source": [
        "Approximately 8% of the total reviews were voted as funny at least 1 time. "
      ]
    },
    {
      "cell_type": "markdown",
      "metadata": {
        "id": "Ktgv-OFjPusa"
      },
      "source": [
        "#### Weighted_vote_score: \n",
        "The weighted score is a weighted measure based on the number of helpful votes each review has received. The variable takes values from 0 to 1. "
      ]
    },
    {
      "cell_type": "code",
      "metadata": {
        "id": "spQYVKPBPusa"
      },
      "source": [
        "weighted_score_df = pd.DataFrame(df['weighted_vote_score'].value_counts()).reset_index()\n",
        "weighted_score_df = weighted_score_df.rename(columns = {'index':'weighted_score',0:'reviews'})"
      ],
      "execution_count": null,
      "outputs": []
    },
    {
      "cell_type": "code",
      "metadata": {
        "colab": {
          "base_uri": "https://localhost:8080/"
        },
        "id": "X-GGw9tePusa",
        "outputId": "9463be84-2c99-43ce-a73c-8052463ac87b"
      },
      "source": [
        "weighted_score_df.weighted_score.max()"
      ],
      "execution_count": null,
      "outputs": [
        {
          "data": {
            "text/plain": [
              "0.9959867596626278"
            ]
          },
          "execution_count": 55,
          "metadata": {},
          "output_type": "execute_result"
        }
      ]
    },
    {
      "cell_type": "markdown",
      "metadata": {
        "id": "B5cYRIUFPusa"
      },
      "source": [
        "#### Comment_count: \n",
        "It indicates the number of comments that each review has received. Only approximately 5% of the total reviews received at least one comment. In a hypothetical case, if Steam would be interested into implementing an strategy to increase the interaction of the users throught the reviews, this could be an important variable to measure the impact of the said strategy. "
      ]
    },
    {
      "cell_type": "code",
      "metadata": {
        "colab": {
          "base_uri": "https://localhost:8080/",
          "height": 355
        },
        "id": "R7vcYRaaPusa",
        "outputId": "949b8e66-081d-4dbb-ce4b-c086558193ec"
      },
      "source": [
        "count_comment = pd.DataFrame(df['comment_count'].value_counts()).reset_index()\n",
        "count_comment = count_comment.rename(columns = {'index':'number_comments',0:'number_reviews'})\n",
        "count_comment.head(10)"
      ],
      "execution_count": null,
      "outputs": [
        {
          "data": {
            "text/html": [
              "<div>\n",
              "<style scoped>\n",
              "    .dataframe tbody tr th:only-of-type {\n",
              "        vertical-align: middle;\n",
              "    }\n",
              "\n",
              "    .dataframe tbody tr th {\n",
              "        vertical-align: top;\n",
              "    }\n",
              "\n",
              "    .dataframe thead th {\n",
              "        text-align: right;\n",
              "    }\n",
              "</style>\n",
              "<table border=\"1\" class=\"dataframe\">\n",
              "  <thead>\n",
              "    <tr style=\"text-align: right;\">\n",
              "      <th></th>\n",
              "      <th>number_comments</th>\n",
              "      <th>comment_count</th>\n",
              "    </tr>\n",
              "  </thead>\n",
              "  <tbody>\n",
              "    <tr>\n",
              "      <th>0</th>\n",
              "      <td>0</td>\n",
              "      <td>20765523</td>\n",
              "    </tr>\n",
              "    <tr>\n",
              "      <th>1</th>\n",
              "      <td>1</td>\n",
              "      <td>560995</td>\n",
              "    </tr>\n",
              "    <tr>\n",
              "      <th>2</th>\n",
              "      <td>2</td>\n",
              "      <td>181151</td>\n",
              "    </tr>\n",
              "    <tr>\n",
              "      <th>3</th>\n",
              "      <td>3</td>\n",
              "      <td>77637</td>\n",
              "    </tr>\n",
              "    <tr>\n",
              "      <th>4</th>\n",
              "      <td>4</td>\n",
              "      <td>43725</td>\n",
              "    </tr>\n",
              "    <tr>\n",
              "      <th>5</th>\n",
              "      <td>5</td>\n",
              "      <td>27162</td>\n",
              "    </tr>\n",
              "    <tr>\n",
              "      <th>6</th>\n",
              "      <td>6</td>\n",
              "      <td>18335</td>\n",
              "    </tr>\n",
              "    <tr>\n",
              "      <th>7</th>\n",
              "      <td>7</td>\n",
              "      <td>13056</td>\n",
              "    </tr>\n",
              "    <tr>\n",
              "      <th>8</th>\n",
              "      <td>8</td>\n",
              "      <td>9650</td>\n",
              "    </tr>\n",
              "    <tr>\n",
              "      <th>9</th>\n",
              "      <td>9</td>\n",
              "      <td>7186</td>\n",
              "    </tr>\n",
              "  </tbody>\n",
              "</table>\n",
              "</div>"
            ],
            "text/plain": [
              "   number_comments  comment_count\n",
              "0                0       20765523\n",
              "1                1         560995\n",
              "2                2         181151\n",
              "3                3          77637\n",
              "4                4          43725\n",
              "5                5          27162\n",
              "6                6          18335\n",
              "7                7          13056\n",
              "8                8           9650\n",
              "9                9           7186"
            ]
          },
          "execution_count": 56,
          "metadata": {},
          "output_type": "execute_result"
        }
      ]
    },
    {
      "cell_type": "markdown",
      "metadata": {
        "id": "0FEfQJIkPusb"
      },
      "source": [
        "#### Steam_purchase: \n",
        "This variable is of boolean type and indicates if the author of the review purchased the app (true) or not (false). In this case, 77.4% (more than 3/4) of the authors of the reviews said that they have purchased the app. "
      ]
    },
    {
      "cell_type": "code",
      "metadata": {
        "colab": {
          "base_uri": "https://localhost:8080/",
          "height": 110
        },
        "id": "8W0Iig24Pusb",
        "outputId": "5e41f625-6f59-4fa9-f9cb-60f67578d084"
      },
      "source": [
        "purchased_steam = pd.DataFrame(df['steam_purchase'].value_counts()).reset_index()\n",
        "purchased_steam = purchased_steam.rename(columns = {'index':'purchased_app',\"steam_purchase\":'number_reviews'})\n",
        "purchased_steam['perc'] = round((purchased_steam['number_reviews']/len(df))*100,1)\n",
        "purchased_steam"
      ],
      "execution_count": null,
      "outputs": [
        {
          "data": {
            "text/html": [
              "<div>\n",
              "<style scoped>\n",
              "    .dataframe tbody tr th:only-of-type {\n",
              "        vertical-align: middle;\n",
              "    }\n",
              "\n",
              "    .dataframe tbody tr th {\n",
              "        vertical-align: top;\n",
              "    }\n",
              "\n",
              "    .dataframe thead th {\n",
              "        text-align: right;\n",
              "    }\n",
              "</style>\n",
              "<table border=\"1\" class=\"dataframe\">\n",
              "  <thead>\n",
              "    <tr style=\"text-align: right;\">\n",
              "      <th></th>\n",
              "      <th>purchased_app</th>\n",
              "      <th>number_reviews</th>\n",
              "      <th>perc</th>\n",
              "    </tr>\n",
              "  </thead>\n",
              "  <tbody>\n",
              "    <tr>\n",
              "      <th>0</th>\n",
              "      <td>True</td>\n",
              "      <td>16842432</td>\n",
              "      <td>77.4</td>\n",
              "    </tr>\n",
              "    <tr>\n",
              "      <th>1</th>\n",
              "      <td>False</td>\n",
              "      <td>4904939</td>\n",
              "      <td>22.6</td>\n",
              "    </tr>\n",
              "  </tbody>\n",
              "</table>\n",
              "</div>"
            ],
            "text/plain": [
              "   purchased_app  number_reviews  perc\n",
              "0           True        16842432  77.4\n",
              "1          False         4904939  22.6"
            ]
          },
          "execution_count": 60,
          "metadata": {},
          "output_type": "execute_result"
        }
      ]
    },
    {
      "cell_type": "markdown",
      "metadata": {
        "id": "yAJD5oOFPusb"
      },
      "source": [
        "#### Received_for_free: \n",
        "This variable indicates if the author of the review received the app for free or not. Just 3.2% of the total reviewers said they had received the app for free. "
      ]
    },
    {
      "cell_type": "code",
      "metadata": {
        "colab": {
          "base_uri": "https://localhost:8080/",
          "height": 110
        },
        "id": "A2HreIZXPusb",
        "outputId": "3845efc9-842b-47a8-fa8f-696c0330b493"
      },
      "source": [
        "for_free = pd.DataFrame(df['received_for_free'].value_counts()).reset_index()\n",
        "for_free = for_free.rename(columns = {'index':'free_received',\"received_for_free\":'number_reviews'})\n",
        "for_free['perc'] = round((for_free['number_reviews']/len(df))*100,1)\n",
        "for_free"
      ],
      "execution_count": null,
      "outputs": [
        {
          "data": {
            "text/html": [
              "<div>\n",
              "<style scoped>\n",
              "    .dataframe tbody tr th:only-of-type {\n",
              "        vertical-align: middle;\n",
              "    }\n",
              "\n",
              "    .dataframe tbody tr th {\n",
              "        vertical-align: top;\n",
              "    }\n",
              "\n",
              "    .dataframe thead th {\n",
              "        text-align: right;\n",
              "    }\n",
              "</style>\n",
              "<table border=\"1\" class=\"dataframe\">\n",
              "  <thead>\n",
              "    <tr style=\"text-align: right;\">\n",
              "      <th></th>\n",
              "      <th>free_received</th>\n",
              "      <th>number_reviews</th>\n",
              "      <th>perc</th>\n",
              "    </tr>\n",
              "  </thead>\n",
              "  <tbody>\n",
              "    <tr>\n",
              "      <th>0</th>\n",
              "      <td>False</td>\n",
              "      <td>21059310</td>\n",
              "      <td>96.8</td>\n",
              "    </tr>\n",
              "    <tr>\n",
              "      <th>1</th>\n",
              "      <td>True</td>\n",
              "      <td>688061</td>\n",
              "      <td>3.2</td>\n",
              "    </tr>\n",
              "  </tbody>\n",
              "</table>\n",
              "</div>"
            ],
            "text/plain": [
              "   free_received  number_reviews  perc\n",
              "0          False        21059310  96.8\n",
              "1           True          688061   3.2"
            ]
          },
          "execution_count": 61,
          "metadata": {},
          "output_type": "execute_result"
        }
      ]
    },
    {
      "cell_type": "markdown",
      "metadata": {
        "id": "gyqqKLwvPusb"
      },
      "source": [
        "#### Written_during_early_access: \n",
        "This variable indicates if the review was written during early access or not. As the last two variables, this is also of boolean type. Early access refers to a funding model in the videogames environment in which players are allowed to play preliminary versions of the final game in exchange for money, which is used by the creater of the videograme to continue developing the game until its final version. \n",
        "\n",
        "That being said, almost 91% of the reviewers responded negatively to this question, which means they wrote the review while playing the final version of the videogame. "
      ]
    },
    {
      "cell_type": "code",
      "metadata": {
        "colab": {
          "base_uri": "https://localhost:8080/",
          "height": 110
        },
        "id": "fqXs0dKqPusb",
        "outputId": "f3966f46-b27e-499e-aef9-f633ede371bb"
      },
      "source": [
        "early_access = pd.DataFrame(df['written_during_early_access'].value_counts()).reset_index()\n",
        "early_access = early_access.rename(columns = {'index':'early_access',\"written_during_early_access\":'number_reviews'})\n",
        "early_access['perc'] = round((early_access['number_reviews']/len(df))*100,1)\n",
        "early_access"
      ],
      "execution_count": null,
      "outputs": [
        {
          "data": {
            "text/html": [
              "<div>\n",
              "<style scoped>\n",
              "    .dataframe tbody tr th:only-of-type {\n",
              "        vertical-align: middle;\n",
              "    }\n",
              "\n",
              "    .dataframe tbody tr th {\n",
              "        vertical-align: top;\n",
              "    }\n",
              "\n",
              "    .dataframe thead th {\n",
              "        text-align: right;\n",
              "    }\n",
              "</style>\n",
              "<table border=\"1\" class=\"dataframe\">\n",
              "  <thead>\n",
              "    <tr style=\"text-align: right;\">\n",
              "      <th></th>\n",
              "      <th>early_access</th>\n",
              "      <th>number_reviews</th>\n",
              "      <th>perc</th>\n",
              "    </tr>\n",
              "  </thead>\n",
              "  <tbody>\n",
              "    <tr>\n",
              "      <th>0</th>\n",
              "      <td>False</td>\n",
              "      <td>19730986</td>\n",
              "      <td>90.7</td>\n",
              "    </tr>\n",
              "    <tr>\n",
              "      <th>1</th>\n",
              "      <td>True</td>\n",
              "      <td>2016385</td>\n",
              "      <td>9.3</td>\n",
              "    </tr>\n",
              "  </tbody>\n",
              "</table>\n",
              "</div>"
            ],
            "text/plain": [
              "   early_access  number_reviews  perc\n",
              "0         False        19730986  90.7\n",
              "1          True         2016385   9.3"
            ]
          },
          "execution_count": 62,
          "metadata": {},
          "output_type": "execute_result"
        }
      ]
    },
    {
      "cell_type": "markdown",
      "metadata": {
        "id": "yfP17yYSPusc"
      },
      "source": [
        "#### Author.steamid: \n",
        "This is a unique identificator of the author of the review. We have 12.4 million unique authors of reviews. "
      ]
    },
    {
      "cell_type": "code",
      "metadata": {
        "colab": {
          "base_uri": "https://localhost:8080/"
        },
        "id": "nK9SmgkkPusc",
        "outputId": "899f332b-bbc7-4c78-cac3-db2b560ccc38"
      },
      "source": [
        "df['author.steamid'].nunique()"
      ],
      "execution_count": null,
      "outputs": [
        {
          "data": {
            "text/plain": [
              "12406560"
            ]
          },
          "execution_count": 65,
          "metadata": {},
          "output_type": "execute_result"
        }
      ]
    },
    {
      "cell_type": "markdown",
      "metadata": {
        "id": "OpOC3i7NPusc"
      },
      "source": [
        "#### Author.num_games_owned: \n",
        "The variable indicates the quantity of games that the author of each review owns. "
      ]
    },
    {
      "cell_type": "code",
      "metadata": {
        "id": "0XD2H3jkPusd"
      },
      "source": [
        "num_games = df['author.num_games_owned'].to_frame().reset_index()\n",
        "num_games = num_games.rename(columns = {'author.num_games_owned':'num_games_owned'})"
      ],
      "execution_count": null,
      "outputs": []
    },
    {
      "cell_type": "markdown",
      "metadata": {
        "id": "eBkv0h20Pusd"
      },
      "source": [
        "The max number of games owned by the author of a review appears to be incorrect since it is a considerable big number."
      ]
    },
    {
      "cell_type": "code",
      "metadata": {
        "colab": {
          "base_uri": "https://localhost:8080/"
        },
        "id": "37LBWZm5Puse",
        "outputId": "c1f86d64-c9d5-4a05-bf13-a672af4d4173"
      },
      "source": [
        "num_games.num_games_owned.max(),num_games.num_games_owned.min()"
      ],
      "execution_count": null,
      "outputs": [
        {
          "data": {
            "text/plain": [
              "(4398046511619, 0)"
            ]
          },
          "execution_count": 11,
          "metadata": {},
          "output_type": "execute_result"
        }
      ]
    },
    {
      "cell_type": "markdown",
      "metadata": {
        "id": "pDn-7LKEPuse"
      },
      "source": [
        "At the beginning of this EDA we found that there were 315 unique games that were reviewed in the dataset. Therefore, if this variable refers to the number of games *within the Steam platform* that were owned by the author of each review, there shouldn't be authors with more than 315 games owned. "
      ]
    },
    {
      "cell_type": "code",
      "metadata": {
        "colab": {
          "base_uri": "https://localhost:8080/",
          "height": 414
        },
        "id": "LL3L0OfFPuse",
        "outputId": "a366585b-4fe9-4ecc-ba7c-8e63f326e536"
      },
      "source": [
        "num_games[num_games.num_games_owned > 315]"
      ],
      "execution_count": null,
      "outputs": [
        {
          "data": {
            "text/html": [
              "<div>\n",
              "<style scoped>\n",
              "    .dataframe tbody tr th:only-of-type {\n",
              "        vertical-align: middle;\n",
              "    }\n",
              "\n",
              "    .dataframe tbody tr th {\n",
              "        vertical-align: top;\n",
              "    }\n",
              "\n",
              "    .dataframe thead th {\n",
              "        text-align: right;\n",
              "    }\n",
              "</style>\n",
              "<table border=\"1\" class=\"dataframe\">\n",
              "  <thead>\n",
              "    <tr style=\"text-align: right;\">\n",
              "      <th></th>\n",
              "      <th>index</th>\n",
              "      <th>num_games_owned</th>\n",
              "    </tr>\n",
              "  </thead>\n",
              "  <tbody>\n",
              "    <tr>\n",
              "      <th>8</th>\n",
              "      <td>8</td>\n",
              "      <td>581</td>\n",
              "    </tr>\n",
              "    <tr>\n",
              "      <th>13</th>\n",
              "      <td>13</td>\n",
              "      <td>501</td>\n",
              "    </tr>\n",
              "    <tr>\n",
              "      <th>119</th>\n",
              "      <td>119</td>\n",
              "      <td>1284</td>\n",
              "    </tr>\n",
              "    <tr>\n",
              "      <th>125</th>\n",
              "      <td>125</td>\n",
              "      <td>500</td>\n",
              "    </tr>\n",
              "    <tr>\n",
              "      <th>128</th>\n",
              "      <td>128</td>\n",
              "      <td>379</td>\n",
              "    </tr>\n",
              "    <tr>\n",
              "      <th>...</th>\n",
              "      <td>...</td>\n",
              "      <td>...</td>\n",
              "    </tr>\n",
              "    <tr>\n",
              "      <th>21747355</th>\n",
              "      <td>21747355</td>\n",
              "      <td>461</td>\n",
              "    </tr>\n",
              "    <tr>\n",
              "      <th>21747357</th>\n",
              "      <td>21747357</td>\n",
              "      <td>383</td>\n",
              "    </tr>\n",
              "    <tr>\n",
              "      <th>21747361</th>\n",
              "      <td>21747361</td>\n",
              "      <td>363</td>\n",
              "    </tr>\n",
              "    <tr>\n",
              "      <th>21747362</th>\n",
              "      <td>21747362</td>\n",
              "      <td>958</td>\n",
              "    </tr>\n",
              "    <tr>\n",
              "      <th>21747366</th>\n",
              "      <td>21747366</td>\n",
              "      <td>431</td>\n",
              "    </tr>\n",
              "  </tbody>\n",
              "</table>\n",
              "<p>2027670 rows × 2 columns</p>\n",
              "</div>"
            ],
            "text/plain": [
              "             index  num_games_owned\n",
              "8                8              581\n",
              "13              13              501\n",
              "119            119             1284\n",
              "125            125              500\n",
              "128            128              379\n",
              "...            ...              ...\n",
              "21747355  21747355              461\n",
              "21747357  21747357              383\n",
              "21747361  21747361              363\n",
              "21747362  21747362              958\n",
              "21747366  21747366              431\n",
              "\n",
              "[2027670 rows x 2 columns]"
            ]
          },
          "execution_count": 12,
          "metadata": {},
          "output_type": "execute_result"
        }
      ]
    },
    {
      "cell_type": "markdown",
      "metadata": {
        "id": "O3jChup1Puse"
      },
      "source": [
        "If we count the number of reviews made by authors that claimed they owned more than 315 games, this gives us a result of 2,027,670 reviews. This means that the variable author.num_games is incorrect in a significant number of reviews or it doesn't refer to the number of only Steam apps owned by the author of the review but to the total number of games that the author owns, regardless if they're on Steam. Still the max number of videogames doesn't make sense so this variable might not be realiable to further analyses. "
      ]
    },
    {
      "cell_type": "code",
      "metadata": {
        "colab": {
          "base_uri": "https://localhost:8080/",
          "height": 132
        },
        "id": "nQawbLolPusf",
        "outputId": "e536d52c-7806-497e-80eb-1ca9bb2b48e5"
      },
      "source": [
        "df[df[\"author.num_games_owned\"] == 4398046511619]"
      ],
      "execution_count": null,
      "outputs": [
        {
          "data": {
            "text/html": [
              "<div>\n",
              "<style scoped>\n",
              "    .dataframe tbody tr th:only-of-type {\n",
              "        vertical-align: middle;\n",
              "    }\n",
              "\n",
              "    .dataframe tbody tr th {\n",
              "        vertical-align: top;\n",
              "    }\n",
              "\n",
              "    .dataframe thead th {\n",
              "        text-align: right;\n",
              "    }\n",
              "</style>\n",
              "<table border=\"1\" class=\"dataframe\">\n",
              "  <thead>\n",
              "    <tr style=\"text-align: right;\">\n",
              "      <th></th>\n",
              "      <th>Unnamed: 0</th>\n",
              "      <th>app_id</th>\n",
              "      <th>app_name</th>\n",
              "      <th>review_id</th>\n",
              "      <th>language</th>\n",
              "      <th>review</th>\n",
              "      <th>timestamp_created</th>\n",
              "      <th>timestamp_updated</th>\n",
              "      <th>recommended</th>\n",
              "      <th>votes_helpful</th>\n",
              "      <th>votes_funny</th>\n",
              "      <th>weighted_vote_score</th>\n",
              "      <th>comment_count</th>\n",
              "      <th>steam_purchase</th>\n",
              "      <th>received_for_free</th>\n",
              "      <th>written_during_early_access</th>\n",
              "      <th>author.steamid</th>\n",
              "      <th>author.num_games_owned</th>\n",
              "      <th>author.num_reviews</th>\n",
              "      <th>author.playtime_forever</th>\n",
              "      <th>author.playtime_last_two_weeks</th>\n",
              "      <th>author.playtime_at_review</th>\n",
              "      <th>author.last_played</th>\n",
              "    </tr>\n",
              "  </thead>\n",
              "  <tbody>\n",
              "    <tr>\n",
              "      <th>5502449</th>\n",
              "      <td>5502450</td>\n",
              "      <td>1158310</td>\n",
              "      <td>Crusader Kings III</td>\n",
              "      <td>80957958</td>\n",
              "      <td>english</td>\n",
              "      <td>noice</td>\n",
              "      <td>1606605891</td>\n",
              "      <td>1606605891</td>\n",
              "      <td>True</td>\n",
              "      <td>0</td>\n",
              "      <td>0</td>\n",
              "      <td>0.0</td>\n",
              "      <td>0</td>\n",
              "      <td>False</td>\n",
              "      <td>False</td>\n",
              "      <td>False</td>\n",
              "      <td>76561198039421205</td>\n",
              "      <td>4398046511619</td>\n",
              "      <td>5</td>\n",
              "      <td>2728.0</td>\n",
              "      <td>546.0</td>\n",
              "      <td>2157.0</td>\n",
              "      <td>1.609966e+09</td>\n",
              "    </tr>\n",
              "  </tbody>\n",
              "</table>\n",
              "</div>"
            ],
            "text/plain": [
              "         Unnamed: 0   app_id  ... author.playtime_at_review  author.last_played\n",
              "5502449     5502450  1158310  ...                    2157.0        1.609966e+09\n",
              "\n",
              "[1 rows x 23 columns]"
            ]
          },
          "execution_count": 16,
          "metadata": {},
          "output_type": "execute_result"
        }
      ]
    },
    {
      "cell_type": "markdown",
      "metadata": {
        "id": "Cnf00MvCPush"
      },
      "source": [
        "#### Author.num_reviews: \n",
        "It refers to the total number of lifetime app reviews made by the author. "
      ]
    },
    {
      "cell_type": "markdown",
      "metadata": {
        "id": "kaZ_YnPGPush"
      },
      "source": [
        "#### Author.playtime_forever: \n",
        "Refers to the lifetime playtime of the reviewed app by the author. It is not clear if this variable is expressed in minutes, hours or which time measure. "
      ]
    },
    {
      "cell_type": "markdown",
      "metadata": {
        "id": "wGH2zCaxPusi"
      },
      "source": [
        "#### Author.playtime_last_two_weeks\n",
        "If refers to how much time (again without clarity on which measure the variable is in) the author has spent playing the app on the last two weeks."
      ]
    },
    {
      "cell_type": "markdown",
      "metadata": {
        "id": "wCS1ms9lPusi"
      },
      "source": [
        "#### Author.playtime_at_review\n",
        "It refers to how much time the author has spent playing the app at the moment the review was made. "
      ]
    },
    {
      "cell_type": "markdown",
      "metadata": {
        "id": "qvO2-qaaPusi"
      },
      "source": [
        "#### Author.last_played\n",
        "It refers to when was the last day the author played the reviewed app. "
      ]
    },
    {
      "cell_type": "markdown",
      "metadata": {
        "id": "A7sTTiXrPOzL"
      },
      "source": [
        "# [RQ2]"
      ]
    },
    {
      "cell_type": "markdown",
      "metadata": {
        "id": "Bm3KXViJPSBH"
      },
      "source": [
        "### Plot the number of reviews for each application in descending order."
      ]
    },
    {
      "cell_type": "code",
      "metadata": {
        "colab": {
          "base_uri": "https://localhost:8080/",
          "height": 855
        },
        "id": "_PT4p0s04aTD",
        "outputId": "248b2e74-5775-4eef-eea7-ed82ed27cf05"
      },
      "source": [
        "number_reviews = df['app_id'].value_counts()[:30] #number of reviews for the first 30 applications, sort in descending order\n",
        "ax = number_reviews.plot.bar()\n",
        "print(number_reviews) "
      ],
      "execution_count": null,
      "outputs": [
        {
          "name": "stdout",
          "output_type": "stream",
          "text": [
            "578080    1644255\n",
            "271590    1019116\n",
            "359550     841918\n",
            "105600     672815\n",
            "4000       655524\n",
            "252490     549074\n",
            "252950     498565\n",
            "218620     487747\n",
            "945360     485293\n",
            "292030     469395\n",
            "381210     418897\n",
            "346110     400009\n",
            "227300     387553\n",
            "413150     315717\n",
            "72850      294966\n",
            "431960     292790\n",
            "582010     290946\n",
            "367520     269854\n",
            "242760     239734\n",
            "322330     238636\n",
            "374320     235422\n",
            "620        232329\n",
            "377160     228957\n",
            "739630     219090\n",
            "239140     214431\n",
            "107410     182348\n",
            "275850     182045\n",
            "203160     181054\n",
            "8930       171404\n",
            "264710     152414\n",
            "Name: app_id, dtype: int64\n"
          ]
        },
        {
          "data": {
            "image/png": "[encoded data removed]",
            "text/plain": [
              "<Figure size 432x288 with 1 Axes>"
            ]
          },
          "metadata": {
            "needs_background": "light"
          },
          "output_type": "display_data"
        }
      ]
    },
    {
      "cell_type": "markdown",
      "metadata": {
        "id": "BJCHwGiU6L3b"
      },
      "source": [
        "Above we can see the number of reviews for the first 30 applications, sort in descending order. In particular, in the left column we have the id for the first 30 applications and in the right column we have the number of reviews associated to the corresponding application. In the graph we can see these values plotted with a vertical bar plot."
      ]
    },
    {
      "cell_type": "markdown",
      "metadata": {
        "id": "eHdp_nUdPZqg"
      },
      "source": [
        "### What applications have the best Weighted Vote Score?"
      ]
    },
    {
      "cell_type": "code",
      "metadata": {
        "colab": {
          "base_uri": "https://localhost:8080/"
        },
        "id": "Upfgy8zK_tgV",
        "outputId": "1289903a-e348-4519-fb00-ed7d826e8109"
      },
      "source": [
        "weighted_score_df= df.groupby('app_name')['weighted_vote_score'].max() #best weighted vote score for each application\n",
        "s=weighted_score_df.sort_values(ascending=False) #sort the values in descending order\n",
        "print(s.head(5)) #the first 5 applications with the best weighted vote score\n"
      ],
      "execution_count": null,
      "outputs": [
        {
          "name": "stdout",
          "output_type": "stream",
          "text": [
            "app_name\n",
            "Stardew Valley              0.995987\n",
            "Divinity: Original Sin 2    0.995245\n",
            "Subnautica                  0.994453\n",
            "Mirror                      0.994038\n",
            "Wallpaper Engine            0.993540\n",
            "Name: weighted_vote_score, dtype: float64\n"
          ]
        }
      ]
    },
    {
      "cell_type": "markdown",
      "metadata": {
        "id": "Qmh0zRgeBVMY"
      },
      "source": [
        "As we can see, in this exercise I take the best weighted vote score for each application and then I print the first 5 application (in the left column) with their best weighted vote score (in the right column) "
      ]
    },
    {
      "cell_type": "markdown",
      "metadata": {
        "id": "fOl_z8P-Pgpq"
      },
      "source": [
        "### Which applications have the most and the least recommendations?"
      ]
    },
    {
      "cell_type": "code",
      "metadata": {
        "colab": {
          "base_uri": "https://localhost:8080/"
        },
        "id": "JqCr2O_PMxC7",
        "outputId": "a74298f0-6c77-4d4b-89ad-f871b295d597"
      },
      "source": [
        "app=df.groupby('app_name',as_index=False)['recommended'].sum() #count of the recommendations for each app\n",
        "s = app.sort_values(by=\"recommended\",ascending=False) #sort the values in descending order\n",
        "print(\"app with the most recommendations\\n\")\n",
        "print(s.head(1)) #app with the most recommendations\n",
        "print(\"\\napp with the least recommendations\\n\")\n",
        "print(s.tail(1)) #app with the least recommendations"
      ],
      "execution_count": null,
      "outputs": [
        {
          "name": "stdout",
          "output_type": "stream",
          "text": [
            "app with the most recommendations\n",
            "\n",
            "                          app_name  recommended\n",
            "182  PLAYERUNKNOWN'S BATTLEGROUNDS       886417\n",
            "\n",
            "app with the least recommendations\n",
            "\n",
            "           app_name  recommended\n",
            "164  Neon Hardcorps           89\n"
          ]
        }
      ]
    },
    {
      "cell_type": "markdown",
      "metadata": {
        "id": "mBbqkpXsCTiF"
      },
      "source": [
        "As we can see, the application with the most recommendations is PLAYERUNKNOWN'S BATTLEGROUNDS, with 886417 of recommendations. Instead the application with the least recommendations is Neon Hardcorps, with only 89 recommendations."
      ]
    },
    {
      "cell_type": "markdown",
      "metadata": {
        "id": "HG_4HmRHPnpY"
      },
      "source": [
        "### How many of these applications were purchased, and how many were given for free?"
      ]
    },
    {
      "cell_type": "code",
      "metadata": {
        "colab": {
          "base_uri": "https://localhost:8080/"
        },
        "id": "egSZOE8ON8nZ",
        "outputId": "f7ce8f4c-c97a-45d1-a2dc-b378ea7a5486"
      },
      "source": [
        "#get only the columns \"app_name\" and \"received_for_free\"\n",
        "df_free = df[['app_name', 'received_for_free']]\n",
        "df_purch = df[['app_name', 'steam_purchase']]\n",
        "print('data for the applications that have the most recommendations:\\n')\n",
        "# get the name of the most and least recommendend \n",
        "top=s.head(1).iloc[0,0]\n",
        "last=s.tail(1).iloc[0,0]\n",
        "#print how many copy of \"top app\" are given for free\n",
        "print(\"given for free:\")\n",
        "print(df.loc[df_free['app_name'] ==\ttop ]['received_for_free'].value_counts())\n",
        "print('\\n')\n",
        "#print how many copy of \"top app\" are purchased\n",
        "print(\"purchased:\")\n",
        "print(df.loc[df_purch['app_name'] ==\ttop ]['steam_purchase'].value_counts())\n",
        "print('\\n')\n",
        "\n",
        "print('data for the applications that have the least recommendations:\\n')\n",
        "#print how many copy of \"last app\" are given for free\n",
        "print(\"given for free:\")\n",
        "print(df.loc[df_free['app_name'] ==\tlast ]['received_for_free'].value_counts())\n",
        "print('\\n')\n",
        "#print how many copy of \"last app\" are purchased\n",
        "print(\"purchased:\")\n",
        "print(df.loc[df_purch['app_name'] ==\tlast ]['steam_purchase'].value_counts())\n",
        "print('\\n')\n"
      ],
      "execution_count": null,
      "outputs": [
        {
          "name": "stdout",
          "output_type": "stream",
          "text": [
            "data for the applications that have the most recommendations:\n",
            "\n",
            "given for free:\n",
            "False    1582812\n",
            "True       61443\n",
            "Name: received_for_free, dtype: int64\n",
            "\n",
            "\n",
            "purchased:\n",
            "True     1372721\n",
            "False     271534\n",
            "Name: steam_purchase, dtype: int64\n",
            "\n",
            "\n",
            "data for the applications that have the least recommendations:\n",
            "\n",
            "given for free:\n",
            "False    173\n",
            "True      27\n",
            "Name: received_for_free, dtype: int64\n",
            "\n",
            "\n",
            "purchased:\n",
            "False    171\n",
            "True      29\n",
            "Name: steam_purchase, dtype: int64\n",
            "\n",
            "\n"
          ]
        }
      ]
    },
    {
      "cell_type": "markdown",
      "metadata": {
        "id": "my8G_cuyDLiq"
      },
      "source": [
        "In this exercise we can see the data for the applications that have the most and the least recommendations (mentioned in the previous question). In particular, we can see how many copy of \"top app\" are given for free, how many are purchased, and the same for the \"last app\"."
      ]
    },
    {
      "cell_type": "markdown",
      "metadata": {
        "id": "hvkLjQ1OPuso"
      },
      "source": [
        "# [RQ3]\n",
        "### RQ3 - What is the most common time that authors review an application? For example, authors usually write a review at 17:44."
      ]
    },
    {
      "cell_type": "code",
      "metadata": {
        "colab": {
          "base_uri": "https://localhost:8080/",
          "height": 35
        },
        "id": "Ixeg7mQVPuso",
        "outputId": "2457fe4c-8d7f-44ed-fc47-aab3ca12a244"
      },
      "source": [
        "# apply a lambda on \"timestamp_created\" column values that convert them in the corresponding strings of hours and minutes\n",
        "# use these values to create a new column called \"time_creation\"\n",
        "df['time_creation']= df.timestamp_created.apply(lambda x: datetime.fromtimestamp(x).strftime((\"%H:%M\")))\n",
        "# group by 'time_creation' values\n",
        "# for each of that values count the number of reviews that has that hours and minutes as a creation time\n",
        "# sort that values in descending order an take the first value that corresponds to the most commont\n",
        "df.groupby('time_creation', as_index=False).app_id.count().sort_values(\"app_id\",ascending=False).head(1)[\"time_creation\"].iloc[0]"
      ],
      "execution_count": null,
      "outputs": [
        {
          "data": {
            "application/vnd.google.colaboratory.intrinsic+json": {
              "type": "string"
            },
            "text/plain": [
              "'14:50'"
            ]
          },
          "execution_count": 40,
          "metadata": {},
          "output_type": "execute_result"
        }
      ]
    },
    {
      "cell_type": "markdown",
      "metadata": {
        "id": "iIjqw5uVenG7"
      },
      "source": [
        "As we can see the most common time when authors review an application is \"14:50\""
      ]
    },
    {
      "cell_type": "markdown",
      "metadata": {
        "id": "T377ygOwPuso"
      },
      "source": [
        "### RQ3 - Create a function that receives as a parameter a list of time intervals and returns the plot the number of reviews for each of the intervals."
      ]
    },
    {
      "cell_type": "code",
      "metadata": {
        "id": "agZUAZ9xPusq"
      },
      "source": [
        "def intervals_reviews(intervals):\n",
        "  # list that will contains the results for each interval\"\n",
        "  reviews=[]\n",
        "  # apply a lambda on \"timestamp_created\" column values that convert them in the corresponding strings of hours, minutes and seconds\n",
        "  # use these values to create a new column called \"time_creation\"\n",
        "  df['time_creation']= df.timestamp_created.apply(lambda x: datetime.fromtimestamp(x).strftime((\"%H:%M:%S\")))\n",
        "  # for each interval received in input count the number of reviews that have been created in that interval\n",
        "  for i in intervals:\n",
        "    reviews.append(df.loc[(df[\"time_creation\"] >= i[0]) & (df[\"time_creation\"] <= i[1])]['time_creation'].count())\n",
        "  # convert the intervals in string to use them in the plot\n",
        "  intervals=list(map(str,intervals))\n",
        "  # plot the results on a bar plot\n",
        "  plt.bar(intervals, reviews, color ='red',\n",
        "        width = 0.4)\n",
        "  plt.xticks(rotation='vertical')\n",
        "  plt.xlabel(\"Intervals\")\n",
        "  plt.ylabel(\"Number of reviews\")\n",
        "  plt.title(\"Number of reviews for different time intervals\")\n",
        "  plt.show()"
      ],
      "execution_count": null,
      "outputs": []
    },
    {
      "cell_type": "markdown",
      "metadata": {
        "id": "txPMvj-4Pusr"
      },
      "source": [
        "### RQ3 - Use the function that you created in the previous literal to plot the number of reviews between the following time intervals\n",
        "\n"
      ]
    },
    {
      "cell_type": "code",
      "metadata": {
        "colab": {
          "base_uri": "https://localhost:8080/",
          "height": 400
        },
        "id": "NqIqhFYNPusr",
        "outputId": "9dedaf1b-2ba4-4298-e9b2-36c5e9d6f3e6"
      },
      "source": [
        "#apply the funcion previously created using the intervals given in the table as input\n",
        "intervals_reviews([(\"06:00:00\",\"10:59:59\"),(\"11:00:00\",\"13:59:59\"),(\"14:00:00\",\"16:59:59\"),(\"17:00:00\",\"19:59:59\"),(\"20:00:00\",\"23:59:59\"),(\"00:00:00\",\"02:59:59\")\n",
        ",(\"03:00:00\",\"05:59:59\")])"
      ],
      "execution_count": null,
      "outputs": [
        {
          "data": {
            "image/png": "[encoded data removed]",
            "text/plain": [
              "<Figure size 432x288 with 1 Axes>"
            ]
          },
          "metadata": {
            "needs_background": "light"
          },
          "output_type": "display_data"
        }
      ]
    },
    {
      "cell_type": "markdown",
      "metadata": {
        "id": "CRzjXF8kfEw_"
      },
      "source": [
        "As we can see from the graph, the time interval more \"popular\" to do a review is between 6 am and 11 am. On the other hand, the time interval when is less common doing a review is from 3 am to 6 am.\n",
        "\n",
        "It's curious to compare the results obtained here and the ones obtained on the first point of this exercise. In fact, even if the most common time for doing a review resulted to be \"14:50\", the time intervals that contain it is not the most popular one but rather the third one."
      ]
    },
    {
      "cell_type": "markdown",
      "metadata": {
        "id": "84b2arvXPusr"
      },
      "source": [
        "# [RQ4]\n",
        "### RQ4 - What are the top 3 languages used to review applications?"
      ]
    },
    {
      "cell_type": "code",
      "metadata": {
        "id": "sZ3ukmk3Pust"
      },
      "source": [
        "top_languages = pd.DataFrame(df['language'].value_counts()).reset_index()\n",
        "top_languages = top_languages.rename(columns={'index': 'languages', 'language': 'number_reviews'})"
      ],
      "execution_count": null,
      "outputs": []
    },
    {
      "cell_type": "code",
      "metadata": {
        "colab": {
          "base_uri": "https://localhost:8080/",
          "height": 141
        },
        "id": "BpsgeY2kPusu",
        "outputId": "34e3826b-3b34-40fd-8d6f-83d56c42bc8c"
      },
      "source": [
        "top_languages.head(3)"
      ],
      "execution_count": null,
      "outputs": [
        {
          "data": {
            "text/html": [
              "<div>\n",
              "<style scoped>\n",
              "    .dataframe tbody tr th:only-of-type {\n",
              "        vertical-align: middle;\n",
              "    }\n",
              "\n",
              "    .dataframe tbody tr th {\n",
              "        vertical-align: top;\n",
              "    }\n",
              "\n",
              "    .dataframe thead th {\n",
              "        text-align: right;\n",
              "    }\n",
              "</style>\n",
              "<table border=\"1\" class=\"dataframe\">\n",
              "  <thead>\n",
              "    <tr style=\"text-align: right;\">\n",
              "      <th></th>\n",
              "      <th>languages</th>\n",
              "      <th>number_reviews</th>\n",
              "    </tr>\n",
              "  </thead>\n",
              "  <tbody>\n",
              "    <tr>\n",
              "      <th>0</th>\n",
              "      <td>english</td>\n",
              "      <td>9635437</td>\n",
              "    </tr>\n",
              "    <tr>\n",
              "      <th>1</th>\n",
              "      <td>schinese</td>\n",
              "      <td>3764967</td>\n",
              "    </tr>\n",
              "    <tr>\n",
              "      <th>2</th>\n",
              "      <td>russian</td>\n",
              "      <td>2348900</td>\n",
              "    </tr>\n",
              "  </tbody>\n",
              "</table>\n",
              "</div>"
            ],
            "text/plain": [
              "  languages  number_reviews\n",
              "0   english         9635437\n",
              "1  schinese         3764967\n",
              "2   russian         2348900"
            ]
          },
          "execution_count": 47,
          "metadata": {},
          "output_type": "execute_result"
        }
      ]
    },
    {
      "cell_type": "markdown",
      "metadata": {
        "id": "Wl5Yp9XXPusu"
      },
      "source": [
        "The top 3 languages used to review applications are english, chinese and russian. "
      ]
    },
    {
      "cell_type": "markdown",
      "metadata": {
        "id": "tQlx5DLJPusu"
      },
      "source": [
        "### RQ4 - Create a function that receives as parameters both the name of a data set and a list of languages’ names and returns a data frame filtered only with the reviews written in the provided languages."
      ]
    },
    {
      "cell_type": "code",
      "metadata": {
        "id": "ICcwVAG5Pusu"
      },
      "source": [
        "def filter_languages_f(dataset_name, languages_to_filter):\n",
        "    #check if languages_to_filter parameter is actually a list\n",
        "    if(isinstance(languages_to_filter,list)):\n",
        "        filtered_dataset = dataset_name[dataset_name['language'].isin(languages_to_filter)]\n",
        "    else:\n",
        "        print('Must enter the desired languages to be filtered in a list format')\n",
        "    \n",
        "    return filtered_dataset"
      ],
      "execution_count": null,
      "outputs": []
    },
    {
      "cell_type": "code",
      "metadata": {
        "colab": {
          "base_uri": "https://localhost:8080/",
          "height": 488
        },
        "id": "dUIi3mYRPusv",
        "outputId": "3d995aca-22d1-4fed-e757-fcbbbb7f5699"
      },
      "source": [
        "filter_languages_f(df,['english','russian']).head(5)"
      ],
      "execution_count": null,
      "outputs": [
        {
          "data": {
            "text/html": [
              "<div>\n",
              "<style scoped>\n",
              "    .dataframe tbody tr th:only-of-type {\n",
              "        vertical-align: middle;\n",
              "    }\n",
              "\n",
              "    .dataframe tbody tr th {\n",
              "        vertical-align: top;\n",
              "    }\n",
              "\n",
              "    .dataframe thead th {\n",
              "        text-align: right;\n",
              "    }\n",
              "</style>\n",
              "<table border=\"1\" class=\"dataframe\">\n",
              "  <thead>\n",
              "    <tr style=\"text-align: right;\">\n",
              "      <th></th>\n",
              "      <th>Unnamed: 0</th>\n",
              "      <th>app_id</th>\n",
              "      <th>app_name</th>\n",
              "      <th>review_id</th>\n",
              "      <th>language</th>\n",
              "      <th>review</th>\n",
              "      <th>timestamp_created</th>\n",
              "      <th>timestamp_updated</th>\n",
              "      <th>recommended</th>\n",
              "      <th>votes_helpful</th>\n",
              "      <th>votes_funny</th>\n",
              "      <th>weighted_vote_score</th>\n",
              "      <th>comment_count</th>\n",
              "      <th>steam_purchase</th>\n",
              "      <th>received_for_free</th>\n",
              "      <th>written_during_early_access</th>\n",
              "      <th>author.steamid</th>\n",
              "      <th>author.num_games_owned</th>\n",
              "      <th>author.num_reviews</th>\n",
              "      <th>author.playtime_forever</th>\n",
              "      <th>author.playtime_last_two_weeks</th>\n",
              "      <th>author.playtime_at_review</th>\n",
              "      <th>author.last_played</th>\n",
              "    </tr>\n",
              "  </thead>\n",
              "  <tbody>\n",
              "    <tr>\n",
              "      <th>3</th>\n",
              "      <td>3</td>\n",
              "      <td>292030</td>\n",
              "      <td>The Witcher 3: Wild Hunt</td>\n",
              "      <td>85184605</td>\n",
              "      <td>english</td>\n",
              "      <td>One of the best RPG's of all time, worthy of a...</td>\n",
              "      <td>1611379970</td>\n",
              "      <td>1611379970</td>\n",
              "      <td>True</td>\n",
              "      <td>0</td>\n",
              "      <td>0</td>\n",
              "      <td>0.0</td>\n",
              "      <td>0</td>\n",
              "      <td>True</td>\n",
              "      <td>False</td>\n",
              "      <td>False</td>\n",
              "      <td>76561199054755373</td>\n",
              "      <td>5</td>\n",
              "      <td>3</td>\n",
              "      <td>5587.0</td>\n",
              "      <td>3200.0</td>\n",
              "      <td>5524.0</td>\n",
              "      <td>1.611384e+09</td>\n",
              "    </tr>\n",
              "    <tr>\n",
              "      <th>5</th>\n",
              "      <td>5</td>\n",
              "      <td>292030</td>\n",
              "      <td>The Witcher 3: Wild Hunt</td>\n",
              "      <td>85184171</td>\n",
              "      <td>english</td>\n",
              "      <td>good story, good graphics. lots to do.</td>\n",
              "      <td>1611379264</td>\n",
              "      <td>1611379264</td>\n",
              "      <td>True</td>\n",
              "      <td>0</td>\n",
              "      <td>0</td>\n",
              "      <td>0.0</td>\n",
              "      <td>0</td>\n",
              "      <td>True</td>\n",
              "      <td>False</td>\n",
              "      <td>False</td>\n",
              "      <td>76561198170193529</td>\n",
              "      <td>11</td>\n",
              "      <td>1</td>\n",
              "      <td>823.0</td>\n",
              "      <td>823.0</td>\n",
              "      <td>823.0</td>\n",
              "      <td>1.611379e+09</td>\n",
              "    </tr>\n",
              "    <tr>\n",
              "      <th>6</th>\n",
              "      <td>6</td>\n",
              "      <td>292030</td>\n",
              "      <td>The Witcher 3: Wild Hunt</td>\n",
              "      <td>85184064</td>\n",
              "      <td>english</td>\n",
              "      <td>dis gud,</td>\n",
              "      <td>1611379091</td>\n",
              "      <td>1611379091</td>\n",
              "      <td>True</td>\n",
              "      <td>0</td>\n",
              "      <td>0</td>\n",
              "      <td>0.0</td>\n",
              "      <td>0</td>\n",
              "      <td>True</td>\n",
              "      <td>False</td>\n",
              "      <td>False</td>\n",
              "      <td>76561198119302812</td>\n",
              "      <td>27</td>\n",
              "      <td>2</td>\n",
              "      <td>4192.0</td>\n",
              "      <td>3398.0</td>\n",
              "      <td>4192.0</td>\n",
              "      <td>1.611352e+09</td>\n",
              "    </tr>\n",
              "    <tr>\n",
              "      <th>11</th>\n",
              "      <td>11</td>\n",
              "      <td>292030</td>\n",
              "      <td>The Witcher 3: Wild Hunt</td>\n",
              "      <td>85182372</td>\n",
              "      <td>russian</td>\n",
              "      <td>Шикарная игра с отличным сюжетом, неплохой гра...</td>\n",
              "      <td>1611376281</td>\n",
              "      <td>1611376281</td>\n",
              "      <td>True</td>\n",
              "      <td>0</td>\n",
              "      <td>0</td>\n",
              "      <td>0.0</td>\n",
              "      <td>0</td>\n",
              "      <td>True</td>\n",
              "      <td>False</td>\n",
              "      <td>False</td>\n",
              "      <td>76561198257031328</td>\n",
              "      <td>11</td>\n",
              "      <td>2</td>\n",
              "      <td>508.0</td>\n",
              "      <td>508.0</td>\n",
              "      <td>348.0</td>\n",
              "      <td>1.611387e+09</td>\n",
              "    </tr>\n",
              "    <tr>\n",
              "      <th>13</th>\n",
              "      <td>13</td>\n",
              "      <td>292030</td>\n",
              "      <td>The Witcher 3: Wild Hunt</td>\n",
              "      <td>85181146</td>\n",
              "      <td>russian</td>\n",
              "      <td>Замечательная карточная игра в антураже фэнтез...</td>\n",
              "      <td>1611374238</td>\n",
              "      <td>1611374309</td>\n",
              "      <td>True</td>\n",
              "      <td>0</td>\n",
              "      <td>0</td>\n",
              "      <td>0.0</td>\n",
              "      <td>0</td>\n",
              "      <td>True</td>\n",
              "      <td>False</td>\n",
              "      <td>False</td>\n",
              "      <td>76561197987104694</td>\n",
              "      <td>501</td>\n",
              "      <td>23</td>\n",
              "      <td>7310.0</td>\n",
              "      <td>0.0</td>\n",
              "      <td>7310.0</td>\n",
              "      <td>1.525555e+09</td>\n",
              "    </tr>\n",
              "  </tbody>\n",
              "</table>\n",
              "</div>"
            ],
            "text/plain": [
              "    Unnamed: 0  app_id  ... author.playtime_at_review  author.last_played\n",
              "3            3  292030  ...                    5524.0        1.611384e+09\n",
              "5            5  292030  ...                     823.0        1.611379e+09\n",
              "6            6  292030  ...                    4192.0        1.611352e+09\n",
              "11          11  292030  ...                     348.0        1.611387e+09\n",
              "13          13  292030  ...                    7310.0        1.525555e+09\n",
              "\n",
              "[5 rows x 23 columns]"
            ]
          },
          "execution_count": 7,
          "metadata": {},
          "output_type": "execute_result"
        }
      ]
    },
    {
      "cell_type": "markdown",
      "metadata": {
        "id": "WuvkCuZuPusv"
      },
      "source": [
        "### RQ4 - Use the function created in the previous literal to find what percentage of these reviews (associated with the top 3 languages) were voted as funny?"
      ]
    },
    {
      "cell_type": "code",
      "metadata": {
        "id": "NZWslWSlPusv"
      },
      "source": [
        "filtered_languages = filter_languages_f(df,['english','russian','schinese'])\n",
        "filtered_languages_funny = filtered_languages[filtered_languages['votes_funny'] != 0]\n",
        "filtered_languages_funny = pd.DataFrame(filtered_languages_funny['language'].value_counts()).reset_index()\n",
        "filtered_languages_funny = filtered_languages_funny.rename(columns={'index':'languages','language':'number_funny_reviews'})"
      ],
      "execution_count": null,
      "outputs": []
    },
    {
      "cell_type": "code",
      "metadata": {
        "colab": {
          "base_uri": "https://localhost:8080/",
          "height": 141
        },
        "id": "JJyElaE-Pusv",
        "outputId": "929ce5ca-a749-4642-ed82-5c9834c8ca14"
      },
      "source": [
        "filtered_languages_funny.head()"
      ],
      "execution_count": null,
      "outputs": [
        {
          "data": {
            "text/html": [
              "<div>\n",
              "<style scoped>\n",
              "    .dataframe tbody tr th:only-of-type {\n",
              "        vertical-align: middle;\n",
              "    }\n",
              "\n",
              "    .dataframe tbody tr th {\n",
              "        vertical-align: top;\n",
              "    }\n",
              "\n",
              "    .dataframe thead th {\n",
              "        text-align: right;\n",
              "    }\n",
              "</style>\n",
              "<table border=\"1\" class=\"dataframe\">\n",
              "  <thead>\n",
              "    <tr style=\"text-align: right;\">\n",
              "      <th></th>\n",
              "      <th>languages</th>\n",
              "      <th>number_funny_reviews</th>\n",
              "    </tr>\n",
              "  </thead>\n",
              "  <tbody>\n",
              "    <tr>\n",
              "      <th>0</th>\n",
              "      <td>english</td>\n",
              "      <td>1085997</td>\n",
              "    </tr>\n",
              "    <tr>\n",
              "      <th>1</th>\n",
              "      <td>schinese</td>\n",
              "      <td>444945</td>\n",
              "    </tr>\n",
              "    <tr>\n",
              "      <th>2</th>\n",
              "      <td>russian</td>\n",
              "      <td>391784</td>\n",
              "    </tr>\n",
              "  </tbody>\n",
              "</table>\n",
              "</div>"
            ],
            "text/plain": [
              "  languages  number_funny_reviews\n",
              "0   english               1085997\n",
              "1  schinese                444945\n",
              "2   russian                391784"
            ]
          },
          "execution_count": 9,
          "metadata": {},
          "output_type": "execute_result"
        }
      ]
    },
    {
      "cell_type": "code",
      "metadata": {
        "colab": {
          "base_uri": "https://localhost:8080/",
          "height": 141
        },
        "id": "mvXv9o0yPusv",
        "outputId": "fd6d8f49-7e5b-442a-d427-5af50903d353"
      },
      "source": [
        "percent_funny = top_languages.merge(filtered_languages_funny)\n",
        "percent_funny['percent_funny'] = round((percent_funny['number_funny_reviews']/percent_funny['number_reviews'])*100,1)\n",
        "percent_funny"
      ],
      "execution_count": null,
      "outputs": [
        {
          "data": {
            "text/html": [
              "<div>\n",
              "<style scoped>\n",
              "    .dataframe tbody tr th:only-of-type {\n",
              "        vertical-align: middle;\n",
              "    }\n",
              "\n",
              "    .dataframe tbody tr th {\n",
              "        vertical-align: top;\n",
              "    }\n",
              "\n",
              "    .dataframe thead th {\n",
              "        text-align: right;\n",
              "    }\n",
              "</style>\n",
              "<table border=\"1\" class=\"dataframe\">\n",
              "  <thead>\n",
              "    <tr style=\"text-align: right;\">\n",
              "      <th></th>\n",
              "      <th>languages</th>\n",
              "      <th>number_reviews</th>\n",
              "      <th>number_funny_reviews</th>\n",
              "      <th>percent_funny</th>\n",
              "    </tr>\n",
              "  </thead>\n",
              "  <tbody>\n",
              "    <tr>\n",
              "      <th>0</th>\n",
              "      <td>english</td>\n",
              "      <td>9635437</td>\n",
              "      <td>1085997</td>\n",
              "      <td>11.3</td>\n",
              "    </tr>\n",
              "    <tr>\n",
              "      <th>1</th>\n",
              "      <td>schinese</td>\n",
              "      <td>3764967</td>\n",
              "      <td>444945</td>\n",
              "      <td>11.8</td>\n",
              "    </tr>\n",
              "    <tr>\n",
              "      <th>2</th>\n",
              "      <td>russian</td>\n",
              "      <td>2348900</td>\n",
              "      <td>391784</td>\n",
              "      <td>16.7</td>\n",
              "    </tr>\n",
              "  </tbody>\n",
              "</table>\n",
              "</div>"
            ],
            "text/plain": [
              "  languages  number_reviews  number_funny_reviews  percent_funny\n",
              "0   english         9635437               1085997           11.3\n",
              "1  schinese         3764967                444945           11.8\n",
              "2   russian         2348900                391784           16.7"
            ]
          },
          "execution_count": 13,
          "metadata": {},
          "output_type": "execute_result"
        }
      ]
    },
    {
      "cell_type": "markdown",
      "metadata": {
        "id": "UYneCxpjPusv"
      },
      "source": [
        "* Based on the last table, we can affirm that from the top 3 languages in terms of total number of reviews, the language with the most reviews categorized as funny is Russian, where 16.7% of the total reviews made in Russian were classified as funny at least once. \n",
        "* In the case of the reviews made in chinese and english language, 11.8% and 11.3% of the total reviews made in each language were classified as funny. \n",
        "* Based on this we could affirm that apparently even though russian reviews are not as numerous as the ones made in english, they in relative means funnier than those made in english. "
      ]
    },
    {
      "cell_type": "markdown",
      "metadata": {
        "id": "zL3ZewhxPusw"
      },
      "source": [
        "### RQ4 - Use the function created in the literal “a” to find what percentage of these reviews (associated with the top 3 languages) were voted as helpful?"
      ]
    },
    {
      "cell_type": "code",
      "metadata": {
        "colab": {
          "base_uri": "https://localhost:8080/"
        },
        "id": "bVOikdYkPusw",
        "outputId": "e93f1731-0cd3-422c-821a-e0b9e1ed09be"
      },
      "source": [
        "filtered_languages_helpful = filtered_languages[filtered_languages['votes_helpful'] != 0]\n",
        "filtered_languages_helpful = pd.DataFrame(filtered_languages_helpful['language'].value_counts()).reset_index()\n",
        "filtered_languages_helpful = filtered_languages_helpful.rename(columns={'index':'languages','language':'number_helpful_reviews'})"
      ],
      "execution_count": null,
      "outputs": [
        {
          "name": "stdout",
          "output_type": "stream",
          "text": [
            "      index  language\n",
            "0   english   2813873\n",
            "1  schinese    945157\n",
            "2   russian    833896\n"
          ]
        }
      ]
    },
    {
      "cell_type": "code",
      "metadata": {
        "colab": {
          "base_uri": "https://localhost:8080/",
          "height": 141
        },
        "id": "kCS0J1MCPusw",
        "outputId": "4434bc37-9587-4a0d-e82e-8237e93bed69"
      },
      "source": [
        "percent_helpful = top_languages.merge(filtered_languages_helpful)\n",
        "percent_helpful['percent_helpful'] = round((percent_helpful['number_helpful_reviews']/percent_helpful['number_reviews'])*100,1)\n",
        "percent_helpful"
      ],
      "execution_count": null,
      "outputs": [
        {
          "data": {
            "text/html": [
              "<div>\n",
              "<style scoped>\n",
              "    .dataframe tbody tr th:only-of-type {\n",
              "        vertical-align: middle;\n",
              "    }\n",
              "\n",
              "    .dataframe tbody tr th {\n",
              "        vertical-align: top;\n",
              "    }\n",
              "\n",
              "    .dataframe thead th {\n",
              "        text-align: right;\n",
              "    }\n",
              "</style>\n",
              "<table border=\"1\" class=\"dataframe\">\n",
              "  <thead>\n",
              "    <tr style=\"text-align: right;\">\n",
              "      <th></th>\n",
              "      <th>languages</th>\n",
              "      <th>number_reviews</th>\n",
              "      <th>number_helpful_reviews</th>\n",
              "      <th>percent_helpful</th>\n",
              "    </tr>\n",
              "  </thead>\n",
              "  <tbody>\n",
              "    <tr>\n",
              "      <th>0</th>\n",
              "      <td>english</td>\n",
              "      <td>9635437</td>\n",
              "      <td>2813873</td>\n",
              "      <td>29.2</td>\n",
              "    </tr>\n",
              "    <tr>\n",
              "      <th>1</th>\n",
              "      <td>schinese</td>\n",
              "      <td>3764967</td>\n",
              "      <td>945157</td>\n",
              "      <td>25.1</td>\n",
              "    </tr>\n",
              "    <tr>\n",
              "      <th>2</th>\n",
              "      <td>russian</td>\n",
              "      <td>2348900</td>\n",
              "      <td>833896</td>\n",
              "      <td>35.5</td>\n",
              "    </tr>\n",
              "  </tbody>\n",
              "</table>\n",
              "</div>"
            ],
            "text/plain": [
              "  languages  number_reviews  number_helpful_reviews  percent_helpful\n",
              "0   english         9635437                 2813873             29.2\n",
              "1  schinese         3764967                  945157             25.1\n",
              "2   russian         2348900                  833896             35.5"
            ]
          },
          "execution_count": 15,
          "metadata": {},
          "output_type": "execute_result"
        }
      ]
    },
    {
      "cell_type": "markdown",
      "metadata": {
        "id": "fp-9UtRuPusw"
      },
      "source": [
        "If we analyze the top 3 languages as one, approximately 12% of the comments were voted as helpful. However if we analyze each language independently, we find that by percent the russian comments are the the most helpful reviews, while the chinese ones are the least helpful ones. Actually, there's a difference of 10 percentual points between the number of reviews made in chinese and russian that were voted as helpful. "
      ]
    },
    {
      "cell_type": "markdown",
      "metadata": {
        "id": "Ac51MGuIPt1R"
      },
      "source": [
        "# [RQ5]"
      ]
    },
    {
      "cell_type": "markdown",
      "metadata": {
        "id": "YmBqN9YHPwys"
      },
      "source": [
        "### RQ5 - Plot the top 10 most popular reviewers and the number of reviews."
      ]
    },
    {
      "cell_type": "code",
      "metadata": {
        "colab": {
          "base_uri": "https://localhost:8080/",
          "height": 558
        },
        "id": "waEf1pNNVpN8",
        "outputId": "51258293-1ed8-4bca-afdf-aa3717a44ba7"
      },
      "source": [
        "top_10_authors=df['author.steamid'].value_counts()[:10]#count of the number of reviews for each reviewers, sort in descending order\n",
        "ax = top_10_authors.plot.bar()\n",
        "most_popular = top_10_authors.index.tolist()[0]\n",
        "print(top_10_authors)"
      ],
      "execution_count": null,
      "outputs": [
        {
          "name": "stdout",
          "output_type": "stream",
          "text": [
            "76561198062813911    149\n",
            "76561198315585536    132\n",
            "76561198192166873    107\n",
            "76561198239163744    106\n",
            "76561198045381877    103\n",
            "76561198064946151    100\n",
            "76561198013146396     99\n",
            "76561198027973295     96\n",
            "76561197969749884     88\n",
            "76561197989746995     86\n",
            "Name: author.steamid, dtype: int64\n"
          ]
        },
        {
          "data": {
            "image/png": "[encoded data removed]",
            "text/plain": [
              "<Figure size 432x288 with 1 Axes>"
            ]
          },
          "metadata": {
            "needs_background": "light"
          },
          "output_type": "display_data"
        }
      ]
    },
    {
      "cell_type": "markdown",
      "metadata": {
        "id": "9-yrcLYDEZTe"
      },
      "source": [
        "Above we can see the top 10 most popular reviewers and the number of reviews sort in descending order. In particular, in the left column we have the author steam id and in the right column we have the number of reviews associated to the corresponding reviewers. In the graph we can see these values plotted with a vertical bar plot."
      ]
    },
    {
      "cell_type": "markdown",
      "metadata": {
        "id": "tBP78imAP4pQ"
      },
      "source": [
        "### RQ5 - What applications did the most popular author review?"
      ]
    },
    {
      "cell_type": "code",
      "metadata": {
        "colab": {
          "base_uri": "https://localhost:8080/"
        },
        "id": "D_6AZWmhX4Np",
        "outputId": "c075bdc8-b673-4ec2-a715-218aea197120"
      },
      "source": [
        "df_pop =df[['author.steamid', 'app_name']]\n",
        "c=df_pop.loc[df_pop['author.steamid']==\tmost_popular] #select rows from df based on values in some column\n",
        "print(c.groupby('app_name').groups.keys())"
      ],
      "execution_count": null,
      "outputs": [
        {
          "name": "stdout",
          "output_type": "stream",
          "text": [
            "dict_keys(['A Hat in Time', 'ARK: Survival Evolved', 'Age of Empires II (2013)', 'Age of Empires: Definitive Edition', 'American Truck Simulator', 'Among Us', 'Ancestors Legacy', 'Axiom Verge', 'Banished', 'BattleBlock Theater', 'BioShock Infinite', 'Black Desert Online', 'Black Mesa', 'Blackwake', 'Bomber Crew', 'Broforce', 'Castle Crashers', 'Cave Story+', 'Celeste', 'Cities: Skylines', 'Conan Exiles', 'Counter-Strike: Source', 'Cuphead', 'DARK SOULS™ III', 'DOOM', 'DOOM Eternal', 'DUSK', 'Darksiders III', 'Day of Infamy', 'Dead Cells', 'Dead Rising 4', 'Dead by Daylight', 'Deep Rock Galactic', 'Devil May Cry HD Collection', 'Dishonored', \"Don't Escape: 4 Days to Survive\", \"Don't Starve\", 'Duck Game', 'Dying Light', 'Enter the Gungeon', 'Euro Truck Simulator 2', 'Europa Universalis IV', 'FAR: Lone Sails', 'FTL: Faster Than Light', 'Factorio', 'Fallout 4', 'Finding Paradise', 'Foundation', 'Frostpunk', 'GRIS', \"Garry's Mod\", 'Getting Over It with Bennett Foddy', 'Ghost of a Tale', 'Gunpoint', 'HITMAN™ 2', 'Half-Life', 'Half-Life 2: Episode Two', 'Hearts of Iron IV', 'Heroes of Hammerwatch', 'Hollow Knight', 'Hotline Miami', 'House Flipper', 'Human: Fall Flat', 'Hunt: Showdown', 'Insurgency: Sandstorm', 'Into the Breach', 'Jurassic World Evolution', 'Just Cause 3', 'Just Cause 4', 'Keep Talking and Nobody Explodes', 'Kenshi', 'Kingdom Come: Deliverance', 'Little Nightmares', 'Mark of the Ninja', 'Middle-earth™: Shadow of War™', 'Monster Hunter: World', 'Mount & Blade: Warband', 'Mutant Year Zero: Road to Eden', 'Ni no Kuni™ II: Revenant Kingdom', 'NieR:Automata™', 'Night in the Woods', 'Nioh: Complete Edition', \"No Man's Sky\", 'Northgard', 'One Finger Death Punch', 'Outlast', 'Oxygen Not Included', 'PAYDAY 2', \"PLAYERUNKNOWN'S BATTLEGROUNDS\", 'Papers, Please', 'Phasmophobia', 'Phoenix Wright: Ace Attorney Trilogy', 'Planet Coaster', 'Portal 2', 'Railway Empire', 'Resident Evil 2', 'Resident Evil 7 Biohazard', 'RimWorld', 'Rise of Industry', 'Rise of the Tomb Raider', 'Rocket League', 'Rust', 'STAR WARS™ Empire at War: Gold Pack', 'Saints Row: The Third', 'Salt and Sanctuary', \"Sid Meier's Civilization V\", \"Sid Meier's Civilization VI\", 'SimAirport', 'Slime Rancher', 'Sniper Elite 4', 'South Park™: The Stick of Truth™', 'Stardew Valley', 'Stellaris', 'Styx: Shards of Darkness', 'Subnautica', 'Super Hexagon', 'Super Meat Boy', 'Surviving Mars', 'Terraria', 'The Binding of Isaac: Rebirth', 'The Elder Scrolls Online', 'The Elder Scrolls V: Skyrim Special Edition', 'The End Is Nigh', 'The Forest', 'The Walking Dead', 'The Wolf Among Us', 'They Are Billions', 'Thief Simulator', 'Titan Souls', 'To the Moon', 'Tomb Raider', 'Total War Saga: Thrones of Britannia', 'Total War: ROME II - Emperor Edition', 'Total War: WARHAMMER', 'Total War: WARHAMMER II', 'Totally Accurate Battlegrounds', 'Townscaper', 'Two Point Hospital', 'ULTRAKILL', 'Undertale', 'Urban Empire', 'Vampyr', 'Void Bastards', 'Volgarr the Viking', 'Warhammer: Vermintide 2', 'XCOM 2', 'Yakuza 0', 'Youtubers Life'])\n"
          ]
        }
      ]
    },
    {
      "cell_type": "markdown",
      "metadata": {
        "id": "23cqpmsTE9Cd"
      },
      "source": [
        "Above we can see the name of the applications that did the most popular author"
      ]
    },
    {
      "cell_type": "markdown",
      "metadata": {
        "id": "8rWMrIRYP-Qc"
      },
      "source": [
        "### RQ5 - How many applications did he purchase, and how many did he get as free? Provide the number (count) and the percentage."
      ]
    },
    {
      "cell_type": "code",
      "metadata": {
        "colab": {
          "base_uri": "https://localhost:8080/"
        },
        "id": "ICFFq8pOMviK",
        "outputId": "dbdca862-f7e4-4d1f-c79b-aaeabe626f65"
      },
      "source": [
        "df_free = df[['author.steamid', 'steam_purchase']]\n",
        "tot_p=df_free.loc[df_free['author.steamid'] ==\tmost_popular].value_counts()\n",
        "perc_p=df_free.loc[df_free['author.steamid'] ==\tmost_popular].value_counts(normalize=True)#By setting normalize=True, the object returned will contain the relative frequencies of the unique values. The normalize parameter is set to False by default.\n",
        "print(tot_p)\n",
        "print(perc_p)\n",
        "df_free = df[['author.steamid', 'received_for_free']]\n",
        "tot_f=df_free.loc[df_free['author.steamid'] ==\tmost_popular].value_counts()\n",
        "perc_f=df_free.loc[df_free['author.steamid'] ==\tmost_popular].value_counts(normalize=True)\n",
        "print(tot_f)\n",
        "print(perc_f)"
      ],
      "execution_count": null,
      "outputs": [
        {
          "name": "stdout",
          "output_type": "stream",
          "text": [
            "author.steamid     steam_purchase\n",
            "76561198062813911  True              110\n",
            "                   False              39\n",
            "dtype: int64\n",
            "author.steamid     steam_purchase\n",
            "76561198062813911  True              0.738255\n",
            "                   False             0.261745\n",
            "dtype: float64\n",
            "author.steamid     received_for_free\n",
            "76561198062813911  False                145\n",
            "                   True                   4\n",
            "dtype: int64\n",
            "author.steamid     received_for_free\n",
            "76561198062813911  False                0.973154\n",
            "                   True                 0.026846\n",
            "dtype: float64\n"
          ]
        }
      ]
    },
    {
      "cell_type": "markdown",
      "metadata": {
        "id": "6pWPp3aWFNZE"
      },
      "source": [
        "Above we can see how many applications the most popular author purchased and how many he received for free (in particular we can see the number of applications and the percentage)."
      ]
    },
    {
      "cell_type": "markdown",
      "metadata": {
        "id": "t_AtC-hxQDgE"
      },
      "source": [
        "### RQ5 - How many of the applications he purchased reviewed positively, and how many negatively? How about the applications he received for free?"
      ]
    },
    {
      "cell_type": "code",
      "metadata": {
        "colab": {
          "base_uri": "https://localhost:8080/"
        },
        "id": "HQJmuEE6RO8G",
        "outputId": "6cfb98fb-18b1-4afc-b49c-fec2b1198951"
      },
      "source": [
        "df_rev = df[['author.steamid', 'received_for_free', 'recommended']]\n",
        "a=df_rev.loc[((df_rev['author.steamid'] ==\tmost_popular) & (df_rev['received_for_free']==False))].value_counts()\n",
        "print('applications reviewed positively purchased by the most popular author\\n{}.'.format(a))\n",
        "b=df_rev.loc[((df_rev['author.steamid'] ==\tmost_popular) & (df_rev['received_for_free']==True))].value_counts()\n",
        "print('\\napplications reviewed positively that the most popular author received for free\\n{}.'.format(b))"
      ],
      "execution_count": null,
      "outputs": [
        {
          "name": "stdout",
          "output_type": "stream",
          "text": [
            "applications reviewed positively purchased by the most popular author\n",
            "author.steamid     received_for_free  recommended\n",
            "76561198062813911  False              True           142\n",
            "                                      False            3\n",
            "dtype: int64.\n",
            "\n",
            "applications reviewed positively that the most popular author received for free\n",
            "author.steamid     received_for_free  recommended\n",
            "76561198062813911  True               True           4\n",
            "dtype: int64.\n"
          ]
        }
      ]
    },
    {
      "cell_type": "markdown",
      "metadata": {
        "id": "Pp1gUVxBG6MT"
      },
      "source": [
        "Above we can see the number of applications reviewed positively purchased by the most popular author and then the number of applications reviewed positively that the most popular author received for free."
      ]
    },
    {
      "cell_type": "markdown",
      "metadata": {
        "id": "PZE0nozLPus3"
      },
      "source": [
        "# [RQ6]"
      ]
    },
    {
      "cell_type": "markdown",
      "metadata": {
        "id": "UZiUt0UBPus3"
      },
      "source": [
        "### RQ6 - What is the average time (days and minutes) a user lets pass before he updates a review?"
      ]
    },
    {
      "cell_type": "code",
      "metadata": {
        "colab": {
          "base_uri": "https://localhost:8080/"
        },
        "id": "mzzq-3WBPus4",
        "outputId": "cc65a2fa-6046-494b-debe-61894dabe4d0"
      },
      "source": [
        "import math\n",
        "# create a new column that contains the absolute value of the difference between the values of \"timestamp_created\" and \"timestamp_updated\"\n",
        "df['time_before_update']= abs(df.timestamp_created- df.timestamp_updated)\n",
        "# mean of the values in the column\n",
        "mean=df.time_before_update.mean()\n",
        "# calculation of the corresponding number of days (the timestamp is expressed in seconds and in a day there are 86400 seconds )\n",
        "days=math.floor(mean/86400)\n",
        "# calculation of the corresponding minutes of the remaning time\n",
        "minutes=int((mean-(86400*days))/60)\n",
        "print(\"the average time a user lets pass before he updates a review is: \"+str(days)+\" days and \"+str(minutes)+\" minutes\")"
      ],
      "execution_count": null,
      "outputs": [
        {
          "name": "stdout",
          "output_type": "stream",
          "text": [
            "the average time a user lets pass before he updates a review is: 36 days and 213 minutes\n"
          ]
        }
      ]
    },
    {
      "cell_type": "markdown",
      "metadata": {
        "id": "_rsJIb0_Pus4"
      },
      "source": [
        "### RQ6 - Plot the top 3 authors that usually update their reviews."
      ]
    },
    {
      "cell_type": "code",
      "metadata": {
        "colab": {
          "base_uri": "https://localhost:8080/",
          "height": 383
        },
        "id": "2lUQ1EIOPus4",
        "outputId": "5878b8ee-2e1e-498d-d302-6240b64b83b5"
      },
      "source": [
        "# get only the rows of the reviews that have the timestamp of the creation different to the timestamp of the update\n",
        "# group by the authors and count the number of reviews updated by each author\n",
        "# sort the values in descending order and get the top 3\n",
        "top3=df.loc[df.timestamp_created != df.timestamp_updated].groupby(\"author.steamid\")[\"review_id\"].count().nlargest(3)\n",
        "print(top3)\n",
        "# plot the result\n",
        "plt.bar(list(map(str,top3.keys())), top3, color ='green',\n",
        "        width = 0.4)\n",
        "plt.xlabel(\"Authors\")\n",
        "plt.ylabel(\"Number of updates\")\n",
        "plt.title(\"Top 3 authors that updated their reviews the most\")\n",
        "plt.show()"
      ],
      "execution_count": null,
      "outputs": [
        {
          "name": "stdout",
          "output_type": "stream",
          "text": [
            "author.steamid\n",
            "76561198192166873    95\n",
            "76561198206999976    61\n",
            "76561198072450805    60\n",
            "Name: review_id, dtype: int64\n"
          ]
        },
        {
          "data": {
            "image/png": "[encoded data removed]",
            "text/plain": [
              "<Figure size 432x288 with 1 Axes>"
            ]
          },
          "metadata": {
            "needs_background": "light"
          },
          "output_type": "display_data"
        }
      ]
    },
    {
      "cell_type": "markdown",
      "metadata": {
        "id": "_ky6-NACgyVw"
      },
      "source": [
        "The ones showed above are the top 3 authors that updated the reviews the most and, as we can see, the first one is strongly higher than the others (around 1/3 more) while the second and third are almost the same and differ just of 1 review."
      ]
    },
    {
      "cell_type": "markdown",
      "metadata": {
        "id": "a4wr_NFLPus4"
      },
      "source": [
        "# [RQ7]"
      ]
    },
    {
      "cell_type": "markdown",
      "metadata": {
        "id": "rtE9P9muPus4"
      },
      "source": [
        "### RQ7 - What’s the probability that a review has a Weighted Vote Score equal to or bigger than 0.5?"
      ]
    },
    {
      "cell_type": "code",
      "metadata": {
        "colab": {
          "base_uri": "https://localhost:8080/"
        },
        "id": "YrRuUXdwPus5",
        "outputId": "37e093bc-453d-403a-ed2c-f1b8c6eafa22"
      },
      "source": [
        "www = df['weighted_vote_score'].to_frame().reset_index()\n",
        "www = www.rename(columns = {\"weighted_vote_score\":'weighted_score'})\n",
        "(len(www[www['weighted_score']>=0.5])/len(www))"
      ],
      "execution_count": null,
      "outputs": [
        {
          "data": {
            "text/plain": [
              "0.21998484322541792"
            ]
          },
          "execution_count": 37,
          "metadata": {},
          "output_type": "execute_result"
        }
      ]
    },
    {
      "cell_type": "markdown",
      "metadata": {
        "id": "sdrCAgIFPus5"
      },
      "source": [
        "The probability that a review has a weighted vote score equal or bigger than 0.5 is 22%. This is given by dividing the total number of reviews with a weighted_score greater or equal than 0.5 (the total number of successful occurences of the event we are studying) by the total number of reviews (the total number of possible outcomes). "
      ]
    },
    {
      "cell_type": "markdown",
      "metadata": {
        "id": "epxsaGdVPus5"
      },
      "source": [
        "### RQ7 - What’s the probability that a review has at least one vote as funny given that the Weighted Vote Score is bigger than 0.5?"
      ]
    },
    {
      "cell_type": "markdown",
      "metadata": {
        "id": "OQ1n7IsSPus5"
      },
      "source": [
        "This is a conditional probability where we can define:\n",
        "* Event A: as the probability that a review has at least one vote as funny\n",
        "* Event B: as the probability that a review has a Weighted vote score bigger than 0.5\n",
        "\n",
        "The probability of A given B, P(A|B), can be computed as the probability of A and B, P(A intersection B), divided by the Probability of B. "
      ]
    },
    {
      "cell_type": "code",
      "metadata": {
        "colab": {
          "base_uri": "https://localhost:8080/"
        },
        "id": "FZgYpcyMPus5",
        "outputId": "0de9a8d2-040e-4c8a-9dd1-7084a570ba73"
      },
      "source": [
        "prob_event_b = round((len(www[www['weighted_score']>0.5])/len(www))*100,1)\n",
        "prob_event_b"
      ],
      "execution_count": null,
      "outputs": [
        {
          "data": {
            "text/plain": [
              "21.4"
            ]
          },
          "execution_count": 78,
          "metadata": {},
          "output_type": "execute_result"
        }
      ]
    },
    {
      "cell_type": "code",
      "metadata": {
        "colab": {
          "base_uri": "https://localhost:8080/"
        },
        "id": "TWUohpiQPus5",
        "outputId": "ffeed7e9-4ad4-4510-9a0c-92b9c9411c1e"
      },
      "source": [
        "prob_event_a_b = round((len(df[(df.weighted_vote_score > 0.5) & (df.votes_funny >= 1)])/len(df))*100,1)\n",
        "prob_event_a_b"
      ],
      "execution_count": null,
      "outputs": [
        {
          "data": {
            "text/plain": [
              "5.3"
            ]
          },
          "execution_count": 79,
          "metadata": {},
          "output_type": "execute_result"
        }
      ]
    },
    {
      "cell_type": "code",
      "metadata": {
        "colab": {
          "base_uri": "https://localhost:8080/"
        },
        "id": "QTcu7IcGPus6",
        "outputId": "8935fdb7-7dcb-4482-a627-a51275d99909"
      },
      "source": [
        "prob_event_a_b/prob_event_b"
      ],
      "execution_count": null,
      "outputs": [
        {
          "data": {
            "text/plain": [
              "0.24766355140186916"
            ]
          },
          "execution_count": 80,
          "metadata": {},
          "output_type": "execute_result"
        }
      ]
    },
    {
      "cell_type": "markdown",
      "metadata": {
        "id": "dtOmoBiwPus6"
      },
      "source": [
        "The probability that a review has at least one vote as funny, given that the weighted vote score is strictly bigger than 0.5 is 0.248. "
      ]
    },
    {
      "cell_type": "markdown",
      "metadata": {
        "id": "TqhDBFZgPus6"
      },
      "source": [
        "### RQ7 - Is the probability that “a review has at least one vote as funny” independent of the “probability that a review has a Weighted Vote Score equal or bigger than 0.5”?"
      ]
    },
    {
      "cell_type": "code",
      "metadata": {
        "colab": {
          "base_uri": "https://localhost:8080/"
        },
        "id": "6R32iVrlPus6",
        "outputId": "1543a0c7-e1a8-4b89-a565-6f81bfa161a0"
      },
      "source": [
        "len(df[df.votes_funny >= 1]) /len(df)"
      ],
      "execution_count": null,
      "outputs": [
        {
          "data": {
            "text/plain": [
              "0.1196959393390585"
            ]
          },
          "execution_count": 81,
          "metadata": {},
          "output_type": "execute_result"
        }
      ]
    },
    {
      "cell_type": "markdown",
      "metadata": {
        "id": "LA5LA0H1Pus6"
      },
      "source": [
        "If an Event A is independent of the Event B, this means that the P(A|B) = P(A). In this case this is not the case since the probability of P(A|B) is 24.7% and the P(A) is 11.9%. Therefore, the events are not independent. "
      ]
    },
    {
      "cell_type": "markdown",
      "metadata": {
        "id": "OKnZMZNGPus6"
      },
      "source": [
        "# [RQ8]"
      ]
    },
    {
      "cell_type": "markdown",
      "metadata": {
        "id": "C-3lZORqPus7"
      },
      "source": [
        "### Is there a significant difference in the Weighted Vote Score of reviews made in Chinese vs the ones made in Russian? Use an appropriate statistical test or technique and support your choice."
      ]
    },
    {
      "cell_type": "code",
      "metadata": {
        "id": "TjbDCvCzPus7"
      },
      "source": [
        "chinese_reviews = filter_languages_f(df,['schinese'])\n",
        "russian_reviews = filter_languages_f(df,['russian'])"
      ],
      "execution_count": null,
      "outputs": []
    },
    {
      "cell_type": "code",
      "metadata": {
        "id": "GIcAKzqdPus7"
      },
      "source": [
        "chinese_reviews = chinese_reviews['weighted_vote_score'].to_frame().reset_index()\n",
        "chinese_reviews = chinese_reviews.rename(columns = {'weighted_vote_score':'weighted_score'})\n",
        "russian_reviews = russian_reviews['weighted_vote_score'].to_frame().reset_index()\n",
        "russian_reviews = russian_reviews.rename(columns = {'weighted_vote_score':'weighted_score'})"
      ],
      "execution_count": null,
      "outputs": []
    },
    {
      "cell_type": "code",
      "metadata": {
        "colab": {
          "base_uri": "https://localhost:8080/",
          "height": 275
        },
        "id": "2oqlrRM-Pus7",
        "outputId": "c0ec9f8e-a6d2-4b51-8f55-a6c3d78b82a7"
      },
      "source": [
        "from matplotlib import pyplot\n",
        "\n",
        "chinese_score = chinese_reviews.weighted_score\n",
        "russian_score = russian_reviews.weighted_score\n",
        "#plt.hist(x, bins = 30)\n",
        "\n",
        "pyplot.hist(chinese_score, 30, alpha=0.5, label='chinese_score')\n",
        "pyplot.hist(russian_score, 30, alpha=0.5, label='russian_score')\n",
        "pyplot.legend(loc='upper right')\n",
        "pyplot.show()"
      ],
      "execution_count": null,
      "outputs": [
        {
          "data": {
            "image/png": "[encoded data removed]",
            "text/plain": [
              "<Figure size 432x288 with 1 Axes>"
            ]
          },
          "metadata": {
            "needs_background": "light"
          },
          "output_type": "display_data"
        }
      ]
    },
    {
      "cell_type": "markdown",
      "metadata": {
        "id": "kJYo4eG7Pus8"
      },
      "source": [
        "One of the tests that we can carry out in order to evaluate if there's a significant difference of the weighted score between reviews made in Chinese and Russian is the t test. However, one of the assumptions this test has is that the data is normally distributed, as it is sensible to outliers. In the histogram we can appreciate how the data is not normally distributed as it has a significant amount of reviews with weighted_score equal to zero. Therefore, we shouldn't carry out a T test and we must search for other options. \n",
        "\n",
        "Therefore we carry out a Mann-Whitney U Test which is a non parametric test used to evaluate if means are statistically different or not. "
      ]
    },
    {
      "cell_type": "code",
      "metadata": {
        "colab": {
          "base_uri": "https://localhost:8080/"
        },
        "id": "rSbVbNb4Pus8",
        "outputId": "b1451fcc-037f-4c83-9995-e8230a0f1a8e"
      },
      "source": [
        "# Mann-Whitney U test\n",
        "from numpy.random import seed\n",
        "from numpy.random import randn\n",
        "from scipy.stats import mannwhitneyu\n",
        "\n",
        "stat, p = mannwhitneyu(chinese_score, russian_score)\n",
        "print('Statistics=%.3f, p=%.3f' % (stat, p))\n",
        "# interpret\n",
        "alpha = 0.05\n",
        "if p > alpha:\n",
        "\tprint('Same distribution (fail to reject H0)')\n",
        "else:\n",
        "\tprint('Different distribution (reject H0)')"
      ],
      "execution_count": null,
      "outputs": [
        {
          "name": "stdout",
          "output_type": "stream",
          "text": [
            "Statistics=3856768317304.500, p=0.000\n",
            "Different distribution (reject H0)\n"
          ]
        }
      ]
    },
    {
      "cell_type": "markdown",
      "metadata": {
        "id": "G59P77oh90pj"
      },
      "source": [
        "The histogram is the simplest non parametric method used to compare means. In this case the histogram appears not to show any significant difference between the weighted score of the reviews made in russian from the ones made in chinese. However,  the Mann-Whitney test shows there's a significant difference and therefore we confirm there's a significant difference between these two groups."
      ]
    },
    {
      "cell_type": "markdown",
      "metadata": {
        "id": "hn8TgPQQPus8"
      },
      "source": [
        "### Can you find any significant relationship between the time that a user lets pass before he updates the review and the Weighted Vote Score? Use an appropriate statistical test or technique and support your choice."
      ]
    },
    {
      "cell_type": "code",
      "metadata": {
        "colab": {
          "base_uri": "https://localhost:8080/",
          "height": 277
        },
        "id": "QBGncVVL_qqd",
        "outputId": "308fb0e3-7bd3-4aba-c4b5-18dcedf673b5"
      },
      "source": [
        "import numpy as np\n",
        "import matplotlib.pyplot as plt\n",
        "from sklearn.linear_model import LinearRegression\n",
        "\n",
        "x = np.array(df['time_before_update']).reshape((-1, 1))\n",
        "y = np.array(df['weighted_vote_score'])\n",
        "model = LinearRegression().fit(x, y)\n",
        "y_pred = model.predict(x) \n",
        "plt.scatter(x, y)\n",
        "plt.plot(x, y_pred, color='red')\n",
        "plt.show()\n",
        "\n",
        "\n"
      ],
      "execution_count": null,
      "outputs": [
        {
          "data": {
            "image/png": "[encoded data removed]",
            "text/plain": [
              "<Figure size 432x288 with 1 Axes>"
            ]
          },
          "metadata": {
            "needs_background": "light"
          },
          "output_type": "display_data"
        }
      ]
    },
    {
      "cell_type": "markdown",
      "metadata": {
        "id": "HZFtGK9aPus8"
      },
      "source": [
        "### Is there any change in the relationship of the variables mentioned in the previous literal if you include whether an application is recommended or not in the review? Use an appropriate statistical test or technique and support your choice."
      ]
    },
    {
      "cell_type": "markdown",
      "metadata": {
        "id": "9Sc7jA6KPus8"
      },
      "source": [
        "### What are histograms, bar plots, scatterplots and pie charts used for?"
      ]
    },
    {
      "cell_type": "markdown",
      "metadata": {
        "id": "pIK2RgOI6G1f"
      },
      "source": [
        "\n",
        "- Histograms are used when in a dataset there are values in a defined range and it's a graph used to show graphically the distribution of this values (frequency of values).\n",
        "In it, the values are usually divided in groups called bins and for each bins will correspond the rectangle high as much as we find observation that are in that interval of values.\n",
        "In this way we will be able also to identify possible outliers or gaps in the distribution.\n",
        "- Bar plots are used when we can divide the dataset in categories and we have a value for each of them, in this way we can use this type of graph to compare them visually.\n",
        "So, even if it can look similar to histogram, has a compleatly different meaning and goal. \n",
        "- Scatter plots show points in the graph in relation to two different variables (one in the x-axis and one in the y-axis). For this reason it's used to find possibile correlations between that variables used. Furthermore, it can be a way to identify possible patterns in data or the presence of gap or outliers.\n",
        "- Pie charts are used to analyze a single variable of the dataset. \n",
        "A pie chart groups the values in categories and shows for each of them the correspondent section of the pie, that represent the percentage of the total.\n",
        "Thus, we use it to compare the different sizes of the categories in the dataset"
      ]
    },
    {
      "cell_type": "markdown",
      "metadata": {
        "id": "Kn3tknmlPus8"
      },
      "source": [
        "### What insights can you extract from a Box Plot?\n",
        "\n",
        "The Box Plot is used to check the distribution of values in a dataset, in fact it tells us information about Mean, superior and inferior quartile and max and min value.\n",
        "The insights that we can extrat from box plot are:\n",
        "\n",
        "-- any possible comparison between dataset using the values previously mentioned\n",
        "\n",
        "-- information about the distribution of the values \n",
        "\n",
        "-- check if there are outliers "
      ]
    },
    {
      "cell_type": "markdown",
      "metadata": {
        "id": "Hca-O5QT90pu"
      },
      "source": [
        "# TQ1\n",
        "\n",
        "1) This algorithm gets the k-ith element of the ordered list \n",
        "(at every iteration you do the ordering of the new list using the random value \"s\")\n",
        "\n",
        "2) We have the worst case of this algorithm when at every iteration when:\n",
        "  \n",
        "  s: is always the second maximum value of the list\n",
        "\n",
        "  k: is 1\n",
        "\n",
        "  In this case, every time, the list will be reduced of 1 length until it will reach the length of 1.\n",
        "  \n",
        "  In this way the computational cost will be equal to the length of the list at each iteration\n",
        "  \n",
        "  O(n)+O(n-1)+O(n-2)..... = O(n^2)\n",
        "\n",
        "3) We have the best case of this algorithm when k = r at the first iteration.\n",
        "\tin this case the computational cost correspond to the length of the list: n\n",
        "\tso is O(n)"
      ]
    },
    {
      "cell_type": "markdown",
      "metadata": {
        "id": "NIfb4OaMPus9"
      },
      "source": [
        "# TQ2\n",
        "1- The computational cost of the function swapList is O(4*n/2) because on each execution of the for (n/2 times) we are executing 4 instructions (the for itself and the 3 instructions inside it).\n",
        "\n",
        "The cost of each call at the function splitSwap is T(n/2) because every time i will operate on one half of the list.\n",
        "\n",
        "So the total computational cost will be: T(n) = T(n/2) + T(n/2) + O(4*n/2) \n",
        "\n",
        "We can now solve this to obtain the big O analysis:\n",
        "T(n) = 2T(n/2) + O(4*n/2)\n",
        "\n",
        "Substituting each time the T we can obtain:\n",
        "\n",
        "\t= 4T(n/4) + (8n/4) + (4n/2)\n",
        "\t= 8T(n/8) + (16n/8) + (8n/4) + (4n/2)\n",
        "\t= 16T(n/16) + (32n/16) + (16n/8) + (8n/4) + (4n/2)\n",
        "\n",
        "\t...\n",
        "\n",
        "We can generalize it as : 2^(k)T(n/2^k) + cn\n",
        "where c is a constant\n",
        "that is: 2^log(n) + n*log(n)\n",
        "\n",
        "Since this two are two costs that are added together, we have to take the one that grows faster, so nlog(n).\n",
        "For this reason the final cost in big O analysis is O(nlog(n))\n",
        " \n",
        "\n",
        "2- This algorithm reverses the position of \"n\" elements, skipping the first \"l\" ones.\n",
        "In the case proposed in the previous exercise (l = 0), the algorithm simply reverse the order of the first \"n\" elements.\n",
        "The values choose for \"l\" and \"n\" have to follow this condition: l + n <= len(a)\n",
        "If the previous condition is not followed, the algorithm will raise an \"out of range\" error.\n",
        "\n",
        "Example of execution:\n",
        "a=[1,3,5,7]\n",
        "l=0\n",
        "n=4\n",
        "- the first call to splitSwap operates on the first half of the list --> [1,3]\n",
        "\t- in this case both calls to splitSwap are executed but won't do anything, because the length of the list will be 1\n",
        "\t- apply swapList that reverse the order --> [3,1]\n",
        "- the second call to splitSwap operates on the second half of the list --> [5,7]\n",
        "\t- in this case both calls to splitSwap are executed but won't do anything, because the length of the list will be 1\n",
        "\t- apply swapList that reverse the order --> [7,5]\n",
        "- apply swapList on the complete list that has been modified by the previous recursion call\n",
        "\tthe list is now [3,1,5,7] and applying the function will be --> [7,5,3,1]"
      ]
    },
    {
      "cell_type": "markdown",
      "metadata": {
        "id": "eSS0s928QKHE"
      },
      "source": [
        "# TQ3\n",
        "In the knapsack problem we are given n objects and each object i has a weight w_i and a value v_i. We are also given a weight budget W. The problem is to select a set of objects with total weight bounded by W that maximized the sum of their values. The following are three natural heuristics:\n",
        "\n",
        "1-Order them in increasing order of weight and then visit them sequentially, adding them to the solution as long as the budget is not exceeded.\n",
        "\n",
        "2-Order them in decreasing order of values, and then visit them sequentially, adding them to the solution if the budget is not exceeded.\n",
        "\n",
        "3-Order them in decreasing relative value (v_i / w_i), and then visit them sequentially, adding them to the solution if the budget is not exceeded.\n",
        "\n",
        "For each of the heuristics, provide a counterexample, that is, an example of a problem instance in which the heuristic fails to provide the optimal solution."
      ]
    },
    {
      "cell_type": "markdown",
      "metadata": {
        "id": "H926wpjeQPwt"
      },
      "source": [
        "### Solution\n",
        "\n",
        "1.\n",
        "\n",
        "n=6, W=100.\n",
        "\n",
        "w_1=10, v_1=4\n",
        "\n",
        "w_2=30, v_2=1\n",
        "\n",
        "w_3=20, v_3=2\n",
        "\n",
        "w_4=50, v_4=9\n",
        "\n",
        "w_5=15, v_5=7\n",
        "\n",
        "w_6=35, v_6=8\n",
        "\n",
        "\n",
        "\n",
        "> If I order them in increasing order of weight and then visit them sequentially, adding them to the solution as long as the budget is not exceeded, I take obj1+obj5+obj3+obj2 getting W=75 and V=14,  but the optimal solution takes obj4+obj5+obj6 getting W=100 and V=24\n",
        "\n",
        "\n",
        "2.\n",
        "\n",
        "n=4, W=10.\n",
        "\n",
        "w_1=8, v_1=8\n",
        "\n",
        "w_2=4, v_2=5\n",
        "\n",
        "w_3=3, v_3=3\n",
        "\n",
        "w_4=3, v_4=1 \n",
        "\n",
        "\n",
        "\n",
        "> If I order them in decreasing order of values, and then visit them sequentially, adding them to the solution if the budget is not exceeded, I take only obj1 getting W=8 and V=8 but the optimal solution takes obj2+obj3+obj4 getting W=10 and V=9 \n",
        "\n",
        "\n",
        "\n",
        "3.\n",
        "\n",
        "n=3, W=50.\n",
        "\n",
        "w_1=10, v_1=60 --> v_1/w_1=6\n",
        "\n",
        "w_2=20, v_1=100 --> v_2/w_2=5\n",
        "\n",
        "w_3=30, v_1=120 --> v_3/w_3=4\n",
        "\n",
        "\n",
        "\n",
        "> If I order them in decreasing relative value (v_i / w_i), and then visit them sequentially, adding them to the solution if the budget is not exceeded, I take object 1 first, but the optimal solution takes object 2 and 3 leaving 1 behind. In fact obj1+obj2 give W=30 and V=160, obj2+obj3 give W=50 and V=220, obj1+obj3 give W=40 and V=180"
      ]
    }
  ]
}