{
 "cells": [
  {
   "cell_type": "markdown",
   "metadata": {
    "colab": {
     "base_uri": "https://localhost:8080/"
    },
    "id": "Hx932cVxi7x5",
    "outputId": "9219a9cc-356e-43fc-da53-e5ee6278bf71"
   },
   "source": [
    "# Homework 2 - Algorithmic Methods of Data Mining\n",
    "### Giorgia Fontana - \n",
    "### Alex - \n",
    "### Braulio Villalobos - "
   ]
  },
  {
   "cell_type": "code",
   "execution_count": null,
   "metadata": {},
   "outputs": [],
   "source": [
    "# Package Import\n",
    "import pandas as pd\n",
    "import numpy as np\n",
    "import vaex\n",
    "import os\n",
    "from datetime import datetime\n",
    "import matplotlib.pyplot as plt\n",
    "#import datetime"
   ]
  },
  {
   "cell_type": "code",
   "execution_count": null,
   "metadata": {},
   "outputs": [],
   "source": [
    "from google.colab import drive\n",
    "drive.mount('/content/drive/')"
   ]
  },
  {
   "cell_type": "code",
   "execution_count": 14,
   "metadata": {
    "colab": {
     "base_uri": "https://localhost:8080/",
     "height": 984
    },
    "id": "446r2kFYjNab",
    "outputId": "f9f57df8-0f9e-4023-b044-5b222ec82d3b"
   },
   "outputs": [
    {
     "data": {
      "text/html": [
       "<div>\n",
       "<style scoped>\n",
       "    .dataframe tbody tr th:only-of-type {\n",
       "        vertical-align: middle;\n",
       "    }\n",
       "\n",
       "    .dataframe tbody tr th {\n",
       "        vertical-align: top;\n",
       "    }\n",
       "\n",
       "    .dataframe thead th {\n",
       "        text-align: right;\n",
       "    }\n",
       "</style>\n",
       "<table border=\"1\" class=\"dataframe\">\n",
       "  <thead>\n",
       "    <tr style=\"text-align: right;\">\n",
       "      <th></th>\n",
       "      <th>Unnamed: 0</th>\n",
       "      <th>app_id</th>\n",
       "      <th>app_name</th>\n",
       "      <th>review_id</th>\n",
       "      <th>language</th>\n",
       "      <th>review</th>\n",
       "      <th>timestamp_created</th>\n",
       "      <th>timestamp_updated</th>\n",
       "      <th>recommended</th>\n",
       "      <th>votes_helpful</th>\n",
       "      <th>votes_funny</th>\n",
       "      <th>weighted_vote_score</th>\n",
       "      <th>comment_count</th>\n",
       "      <th>steam_purchase</th>\n",
       "      <th>received_for_free</th>\n",
       "      <th>written_during_early_access</th>\n",
       "      <th>author.steamid</th>\n",
       "      <th>author.num_games_owned</th>\n",
       "      <th>author.num_reviews</th>\n",
       "      <th>author.playtime_forever</th>\n",
       "      <th>author.playtime_last_two_weeks</th>\n",
       "      <th>author.playtime_at_review</th>\n",
       "      <th>author.last_played</th>\n",
       "    </tr>\n",
       "  </thead>\n",
       "  <tbody>\n",
       "    <tr>\n",
       "      <th>0</th>\n",
       "      <td>0</td>\n",
       "      <td>292030</td>\n",
       "      <td>The Witcher 3: Wild Hunt</td>\n",
       "      <td>85185598</td>\n",
       "      <td>schinese</td>\n",
       "      <td>不玩此生遗憾，RPG游戏里的天花板，太吸引人了</td>\n",
       "      <td>1611381629</td>\n",
       "      <td>1611381629</td>\n",
       "      <td>True</td>\n",
       "      <td>0</td>\n",
       "      <td>0</td>\n",
       "      <td>0.0</td>\n",
       "      <td>0</td>\n",
       "      <td>True</td>\n",
       "      <td>False</td>\n",
       "      <td>False</td>\n",
       "      <td>76561199095369542</td>\n",
       "      <td>6</td>\n",
       "      <td>2</td>\n",
       "      <td>1909.0</td>\n",
       "      <td>1448.0</td>\n",
       "      <td>1909.0</td>\n",
       "      <td>1.611343e+09</td>\n",
       "    </tr>\n",
       "    <tr>\n",
       "      <th>1</th>\n",
       "      <td>1</td>\n",
       "      <td>292030</td>\n",
       "      <td>The Witcher 3: Wild Hunt</td>\n",
       "      <td>85185250</td>\n",
       "      <td>schinese</td>\n",
       "      <td>拔DIAO无情打桩机--杰洛特!!!</td>\n",
       "      <td>1611381030</td>\n",
       "      <td>1611381030</td>\n",
       "      <td>True</td>\n",
       "      <td>0</td>\n",
       "      <td>0</td>\n",
       "      <td>0.0</td>\n",
       "      <td>0</td>\n",
       "      <td>True</td>\n",
       "      <td>False</td>\n",
       "      <td>False</td>\n",
       "      <td>76561198949504115</td>\n",
       "      <td>30</td>\n",
       "      <td>10</td>\n",
       "      <td>2764.0</td>\n",
       "      <td>2743.0</td>\n",
       "      <td>2674.0</td>\n",
       "      <td>1.611386e+09</td>\n",
       "    </tr>\n",
       "    <tr>\n",
       "      <th>2</th>\n",
       "      <td>2</td>\n",
       "      <td>292030</td>\n",
       "      <td>The Witcher 3: Wild Hunt</td>\n",
       "      <td>85185111</td>\n",
       "      <td>schinese</td>\n",
       "      <td>巫师3NB</td>\n",
       "      <td>1611380800</td>\n",
       "      <td>1611380800</td>\n",
       "      <td>True</td>\n",
       "      <td>0</td>\n",
       "      <td>0</td>\n",
       "      <td>0.0</td>\n",
       "      <td>0</td>\n",
       "      <td>True</td>\n",
       "      <td>False</td>\n",
       "      <td>False</td>\n",
       "      <td>76561199090098988</td>\n",
       "      <td>5</td>\n",
       "      <td>1</td>\n",
       "      <td>1061.0</td>\n",
       "      <td>1061.0</td>\n",
       "      <td>1060.0</td>\n",
       "      <td>1.611384e+09</td>\n",
       "    </tr>\n",
       "    <tr>\n",
       "      <th>3</th>\n",
       "      <td>3</td>\n",
       "      <td>292030</td>\n",
       "      <td>The Witcher 3: Wild Hunt</td>\n",
       "      <td>85184605</td>\n",
       "      <td>english</td>\n",
       "      <td>One of the best RPG's of all time, worthy of a...</td>\n",
       "      <td>1611379970</td>\n",
       "      <td>1611379970</td>\n",
       "      <td>True</td>\n",
       "      <td>0</td>\n",
       "      <td>0</td>\n",
       "      <td>0.0</td>\n",
       "      <td>0</td>\n",
       "      <td>True</td>\n",
       "      <td>False</td>\n",
       "      <td>False</td>\n",
       "      <td>76561199054755373</td>\n",
       "      <td>5</td>\n",
       "      <td>3</td>\n",
       "      <td>5587.0</td>\n",
       "      <td>3200.0</td>\n",
       "      <td>5524.0</td>\n",
       "      <td>1.611384e+09</td>\n",
       "    </tr>\n",
       "    <tr>\n",
       "      <th>4</th>\n",
       "      <td>4</td>\n",
       "      <td>292030</td>\n",
       "      <td>The Witcher 3: Wild Hunt</td>\n",
       "      <td>85184287</td>\n",
       "      <td>schinese</td>\n",
       "      <td>大作</td>\n",
       "      <td>1611379427</td>\n",
       "      <td>1611379427</td>\n",
       "      <td>True</td>\n",
       "      <td>0</td>\n",
       "      <td>0</td>\n",
       "      <td>0.0</td>\n",
       "      <td>0</td>\n",
       "      <td>True</td>\n",
       "      <td>False</td>\n",
       "      <td>False</td>\n",
       "      <td>76561199028326951</td>\n",
       "      <td>7</td>\n",
       "      <td>4</td>\n",
       "      <td>217.0</td>\n",
       "      <td>42.0</td>\n",
       "      <td>217.0</td>\n",
       "      <td>1.610788e+09</td>\n",
       "    </tr>\n",
       "    <tr>\n",
       "      <th>5</th>\n",
       "      <td>5</td>\n",
       "      <td>292030</td>\n",
       "      <td>The Witcher 3: Wild Hunt</td>\n",
       "      <td>85184171</td>\n",
       "      <td>english</td>\n",
       "      <td>good story, good graphics. lots to do.</td>\n",
       "      <td>1611379264</td>\n",
       "      <td>1611379264</td>\n",
       "      <td>True</td>\n",
       "      <td>0</td>\n",
       "      <td>0</td>\n",
       "      <td>0.0</td>\n",
       "      <td>0</td>\n",
       "      <td>True</td>\n",
       "      <td>False</td>\n",
       "      <td>False</td>\n",
       "      <td>76561198170193529</td>\n",
       "      <td>11</td>\n",
       "      <td>1</td>\n",
       "      <td>823.0</td>\n",
       "      <td>823.0</td>\n",
       "      <td>823.0</td>\n",
       "      <td>1.611379e+09</td>\n",
       "    </tr>\n",
       "    <tr>\n",
       "      <th>6</th>\n",
       "      <td>6</td>\n",
       "      <td>292030</td>\n",
       "      <td>The Witcher 3: Wild Hunt</td>\n",
       "      <td>85184064</td>\n",
       "      <td>english</td>\n",
       "      <td>dis gud,</td>\n",
       "      <td>1611379091</td>\n",
       "      <td>1611379091</td>\n",
       "      <td>True</td>\n",
       "      <td>0</td>\n",
       "      <td>0</td>\n",
       "      <td>0.0</td>\n",
       "      <td>0</td>\n",
       "      <td>True</td>\n",
       "      <td>False</td>\n",
       "      <td>False</td>\n",
       "      <td>76561198119302812</td>\n",
       "      <td>27</td>\n",
       "      <td>2</td>\n",
       "      <td>4192.0</td>\n",
       "      <td>3398.0</td>\n",
       "      <td>4192.0</td>\n",
       "      <td>1.611352e+09</td>\n",
       "    </tr>\n",
       "    <tr>\n",
       "      <th>7</th>\n",
       "      <td>7</td>\n",
       "      <td>292030</td>\n",
       "      <td>The Witcher 3: Wild Hunt</td>\n",
       "      <td>85183602</td>\n",
       "      <td>turkish</td>\n",
       "      <td>.\\n</td>\n",
       "      <td>1611378312</td>\n",
       "      <td>1611378312</td>\n",
       "      <td>True</td>\n",
       "      <td>0</td>\n",
       "      <td>0</td>\n",
       "      <td>0.0</td>\n",
       "      <td>0</td>\n",
       "      <td>True</td>\n",
       "      <td>False</td>\n",
       "      <td>False</td>\n",
       "      <td>76561199084188849</td>\n",
       "      <td>9</td>\n",
       "      <td>1</td>\n",
       "      <td>2701.0</td>\n",
       "      <td>0.0</td>\n",
       "      <td>2701.0</td>\n",
       "      <td>1.609671e+09</td>\n",
       "    </tr>\n",
       "    <tr>\n",
       "      <th>8</th>\n",
       "      <td>8</td>\n",
       "      <td>292030</td>\n",
       "      <td>The Witcher 3: Wild Hunt</td>\n",
       "      <td>85183227</td>\n",
       "      <td>schinese</td>\n",
       "      <td>年度最佳的作品，没啥好夸的，神作</td>\n",
       "      <td>1611377703</td>\n",
       "      <td>1611377703</td>\n",
       "      <td>True</td>\n",
       "      <td>0</td>\n",
       "      <td>0</td>\n",
       "      <td>0.0</td>\n",
       "      <td>0</td>\n",
       "      <td>True</td>\n",
       "      <td>False</td>\n",
       "      <td>False</td>\n",
       "      <td>76561198130808993</td>\n",
       "      <td>581</td>\n",
       "      <td>17</td>\n",
       "      <td>6921.0</td>\n",
       "      <td>222.0</td>\n",
       "      <td>6921.0</td>\n",
       "      <td>1.611317e+09</td>\n",
       "    </tr>\n",
       "    <tr>\n",
       "      <th>9</th>\n",
       "      <td>9</td>\n",
       "      <td>292030</td>\n",
       "      <td>The Witcher 3: Wild Hunt</td>\n",
       "      <td>85182785</td>\n",
       "      <td>spanish</td>\n",
       "      <td>great game</td>\n",
       "      <td>1611377005</td>\n",
       "      <td>1611377005</td>\n",
       "      <td>True</td>\n",
       "      <td>0</td>\n",
       "      <td>0</td>\n",
       "      <td>0.0</td>\n",
       "      <td>0</td>\n",
       "      <td>True</td>\n",
       "      <td>False</td>\n",
       "      <td>False</td>\n",
       "      <td>76561198301724112</td>\n",
       "      <td>38</td>\n",
       "      <td>5</td>\n",
       "      <td>2399.0</td>\n",
       "      <td>333.0</td>\n",
       "      <td>2364.0</td>\n",
       "      <td>1.611379e+09</td>\n",
       "    </tr>\n",
       "  </tbody>\n",
       "</table>\n",
       "</div>"
      ],
      "text/plain": [
       "   Unnamed: 0  app_id  ... author.playtime_at_review  author.last_played\n",
       "0           0  292030  ...                    1909.0        1.611343e+09\n",
       "1           1  292030  ...                    2674.0        1.611386e+09\n",
       "2           2  292030  ...                    1060.0        1.611384e+09\n",
       "3           3  292030  ...                    5524.0        1.611384e+09\n",
       "4           4  292030  ...                     217.0        1.610788e+09\n",
       "5           5  292030  ...                     823.0        1.611379e+09\n",
       "6           6  292030  ...                    4192.0        1.611352e+09\n",
       "7           7  292030  ...                    2701.0        1.609671e+09\n",
       "8           8  292030  ...                    6921.0        1.611317e+09\n",
       "9           9  292030  ...                    2364.0        1.611379e+09\n",
       "\n",
       "[10 rows x 23 columns]"
      ]
     },
     "execution_count": 14,
     "metadata": {},
     "output_type": "execute_result"
    }
   ],
   "source": [
    "df = pd.read_csv(\"/content/drive/MyDrive/steam_reviews.csv\")\n",
    "df.head(10)"
   ]
  },
  {
   "cell_type": "markdown",
   "metadata": {},
   "source": [
    "# [RQ1]: Exploratory Data Analysis (EDA)"
   ]
  },
  {
   "cell_type": "markdown",
   "metadata": {},
   "source": [
    "Our dataset to analyze is composed of 23 columns or features and 21.747.371 observations. "
   ]
  },
  {
   "cell_type": "code",
   "execution_count": null,
   "metadata": {
    "id": "JbkmyWf1P6uI"
   },
   "outputs": [],
   "source": [
    "df.shape"
   ]
  },
  {
   "cell_type": "markdown",
   "metadata": {},
   "source": [
    "With the info command we identify the types of variables. \n",
    "\n",
    "\n",
    "Integer variables:\n",
    "*   app_id, review_id, timestamp_created, timestamp_updated, votes_helpful, votes_funny, comment_count, author.steamid, author.num_gaes_owned, author.num_reviews\n",
    "\n",
    "String variables:\n",
    "*   app_name, language, review\n",
    "\n",
    "Float variables:\n",
    "*   weighted_vote_score, author.playtime_forever, author.playtime_last_two_weeks, author.playtime_at_review, author.last_played\n",
    "\n",
    "Boolean variables:\n",
    "\n",
    "*   recommended, steam_purchase, received_for_free, written_during_early_access,"
   ]
  },
  {
   "cell_type": "code",
   "execution_count": null,
   "metadata": {},
   "outputs": [],
   "source": [
    "df.info()"
   ]
  },
  {
   "cell_type": "markdown",
   "metadata": {},
   "source": [
    "Based on this, we should convert the types of some variables, since they aren't been correctly read.\n",
    "\n",
    "* app_id: is currently interpreted as an int, but it should be treated as a string, since this is the unique number identification of each app. \n",
    "* review_id: is currently interpreted as an int, but is should also be treated as a string. \n",
    "* timestamp_created, timestamp_updated & author.last_played: currently interpreted as int, but they should be treated as datetime objects. \n",
    "* author.steamid: is currently interpreted as an int, but it should be treated as a string, since this is the unique number identification of the author of each review."
   ]
  },
  {
   "cell_type": "code",
   "execution_count": null,
   "metadata": {},
   "outputs": [],
   "source": [
    "def column_to_datetime(datetime_str):\n",
    "    #return np.datetime64(datetime.strptime(datetime_str, date_format))\n",
    "    return datetime.utcfromtimestamp(datetime_str).strftime('%Y-%m-%d %H:%M:%S')\n",
    "\n",
    "df['timestamp_created'] = df['timestamp_created'].apply(column_to_datetime)\n",
    "df['timestamp_updated'] = df['timestamp_updated'].apply(column_to_datetime)\n",
    "df['author.last_played'] = df['author.last_played'].apply(column_to_datetime)"
   ]
  },
  {
   "cell_type": "code",
   "execution_count": null,
   "metadata": {},
   "outputs": [],
   "source": [
    "df['app_id']= df.app_id.astype('str')\n",
    "df['review_id']= df.review_id.astype('str')\n",
    "df['author.steamid'] = df['author.steamid'].astype('str')"
   ]
  },
  {
   "cell_type": "code",
   "execution_count": null,
   "metadata": {},
   "outputs": [],
   "source": [
    "df.info()"
   ]
  },
  {
   "cell_type": "markdown",
   "metadata": {},
   "source": [
    "Description of the numerical values: "
   ]
  },
  {
   "cell_type": "code",
   "execution_count": null,
   "metadata": {},
   "outputs": [],
   "source": [
    "df[:,1:].describe()"
   ]
  },
  {
   "cell_type": "markdown",
   "metadata": {},
   "source": [
    "### Null Values"
   ]
  },
  {
   "cell_type": "markdown",
   "metadata": {},
   "source": [
    "* The field \"review\" is the one that has the biggest number of null values with a total count of 33.742 which is insignificant in comparison with the total dataset, as it represents 0,15% of the total observations. Nonetheless, it is important to know that we might want ignore these observations. \n",
    "\n",
    "* The feature \"author.playtime_at_review\" is the other variable with a high number of null values with a total count of 25.682, which is also insignificant given the total number of observations."
   ]
  },
  {
   "cell_type": "markdown",
   "metadata": {},
   "source": [
    "### Analysis one-by-one variable"
   ]
  },
  {
   "cell_type": "markdown",
   "metadata": {},
   "source": [
    "#### 1) App_id: \n",
    "It refers to the unique identifier of the reviewed applications. "
   ]
  },
  {
   "cell_type": "code",
   "execution_count": null,
   "metadata": {},
   "outputs": [],
   "source": [
    "# We have 315 different apps\n",
    "df.app_id.nunique()"
   ]
  },
  {
   "cell_type": "markdown",
   "metadata": {},
   "source": [
    "The application with the most reviews is the application 578080 which has 1.644.255 (7.5% of the total reviews). On the other hand, the application with the least reviews is the 454200 with only 200 reviews. "
   ]
  },
  {
   "cell_type": "code",
   "execution_count": null,
   "metadata": {},
   "outputs": [],
   "source": [
    "# The application with the most reviews \n",
    "most_reviews = pd.DataFrame(df['app_id'].value_counts()).reset_index()\n",
    "most_reviews = most_reviews.rename(columns={'index': 'app_id', 0: 'number_reviews'})"
   ]
  },
  {
   "cell_type": "code",
   "execution_count": null,
   "metadata": {},
   "outputs": [],
   "source": [
    "most_reviews.head(5)"
   ]
  },
  {
   "cell_type": "code",
   "execution_count": null,
   "metadata": {},
   "outputs": [],
   "source": [
    "most_reviews.tail(5)"
   ]
  },
  {
   "cell_type": "markdown",
   "metadata": {},
   "source": [
    "#### 2) App_name: \n",
    "It refers to the name of each application reviewed. If we count the number of unique app names, we validate that it's the same number of unique application id. This means we can work either with the app_id or the app_name, since there're not different names for a single application_id. "
   ]
  },
  {
   "cell_type": "code",
   "execution_count": null,
   "metadata": {},
   "outputs": [],
   "source": [
    "df.app_name.nunique()"
   ]
  },
  {
   "cell_type": "markdown",
   "metadata": {},
   "source": [
    "We can identify the names of the 5 most/least reviewed applications"
   ]
  },
  {
   "cell_type": "code",
   "execution_count": null,
   "metadata": {},
   "outputs": [],
   "source": [
    "most_reviews_name = pd.DataFrame(df['app_name'].value_counts()).reset_index().rename(columns={'index': 'app_name', 0: 'number_reviews'})\n",
    "most_reviews_name.head()"
   ]
  },
  {
   "cell_type": "code",
   "execution_count": null,
   "metadata": {},
   "outputs": [],
   "source": [
    "most_reviews_name.tail()"
   ]
  },
  {
   "cell_type": "markdown",
   "metadata": {},
   "source": [
    "Something that might be important is that we can notice that the app_names do not necessarily follow the same way of naming. This means some of them might have their names just in upper case letters (like PlayerUnknown Battleground) or include some strange simbols (like Dragon Quest Heroes Tm). We should take this into consideration if we plan to do an analysis based on the application names and therefore consider some type of standardization. For this reason, it's easier to work with the app_id, since this feature is standard and doesn't have the described problems. "
   ]
  },
  {
   "cell_type": "markdown",
   "metadata": {},
   "source": [
    "#### 3) Review_id: \n",
    "\n",
    "It is apparentely the unique identifier of each review. If it is in fact a unique identifier, it should match the total number of reviews, which would mean that there're not more than 1 reviews with the same review_id"
   ]
  },
  {
   "cell_type": "code",
   "execution_count": null,
   "metadata": {},
   "outputs": [],
   "source": [
    "df.review_id.nunique()"
   ]
  },
  {
   "cell_type": "code",
   "execution_count": null,
   "metadata": {},
   "outputs": [],
   "source": [
    "reviews_ids = df['review_id'].to_pandas_series().to_frame().reset_index()\n",
    "reviews_ids = reviews_ids.rename(columns = {'index':'index',0:'review_id'})"
   ]
  },
  {
   "cell_type": "code",
   "execution_count": null,
   "metadata": {},
   "outputs": [],
   "source": [
    "duplicate_reviews_ids = reviews_ids[reviews_ids.duplicated(['review_id'])]\n",
    "duplicate_reviews_ids"
   ]
  },
  {
   "cell_type": "code",
   "execution_count": null,
   "metadata": {},
   "outputs": [],
   "source": [
    "duplicate_reviews_ids['review_id'].unique()"
   ]
  },
  {
   "cell_type": "markdown",
   "metadata": {},
   "source": [
    "#### 4) Language: \n",
    "\n",
    "Language in which the review was written. We have 28 different languages. "
   ]
  },
  {
   "cell_type": "code",
   "execution_count": null,
   "metadata": {},
   "outputs": [],
   "source": [
    "import matplotlib.pyplot as plt\n",
    "df.language.nunique()"
   ]
  },
  {
   "cell_type": "code",
   "execution_count": null,
   "metadata": {},
   "outputs": [],
   "source": [
    "top_languages = pd.DataFrame(df['language'].value_counts()).reset_index()\n",
    "top_languages = top_languages.rename(columns={'index': 'languages', 0: 'number_reviews'})"
   ]
  },
  {
   "cell_type": "markdown",
   "metadata": {},
   "source": [
    "The next graph allows us to visualize which are the most and least common languages among the reviews. We can clearly identify how the number of reviews made in english are more than twice the number of reviews in chinese (which is the second most common language). We can also visually identify at least 3 different groups of reviews by language: \n",
    "\n",
    "* The most common languages: composed by english, chinese and russian\n",
    "* Languages with a significant amount of reviews but considerably less than the top 3: brazilian, spanish, german, turkish, koreana, french and polish. \n",
    "* The least common languages which represent: tchinese, czech, italian..."
   ]
  },
  {
   "cell_type": "code",
   "execution_count": null,
   "metadata": {},
   "outputs": [],
   "source": [
    "diff_languages = top_languages['languages']\n",
    "number_reviews = top_languages['number_reviews']\n",
    "width = 0.8\n",
    "\n",
    "fig, ax = plt.subplots()\n",
    "rects1 = ax.bar(diff_languages, number_reviews, width)\n",
    "\n",
    "ax.set_ylim(0,10000000)\n",
    "ax.set_ylabel(\"Frequency (Millions)\")\n",
    "ax.set_xlabel(\"Language of Review\")\n",
    "ax.set_title(\"Total number of reviews by Language\")\n",
    "\n",
    "plt.xticks(rotation = 90)\n",
    "plt.show()"
   ]
  },
  {
   "cell_type": "markdown",
   "metadata": {},
   "source": [
    "#### 5) Review: \n",
    "\n",
    "It's the given review, therefore a chain of strings. This field could be used to do a sentiment analysis over the reviews given for each application. "
   ]
  },
  {
   "cell_type": "markdown",
   "metadata": {},
   "source": [
    "#### 6) Timestamp_created: \n",
    "\n",
    "Refers to the time when the review was created. This was given in unix format but transformed into a readable timestamp. "
   ]
  },
  {
   "cell_type": "code",
   "execution_count": null,
   "metadata": {},
   "outputs": [],
   "source": [
    "creation_time = df['timestamp_created'].to_pandas_series().to_frame().reset_index()\n",
    "creation_time = creation_time.rename(columns = {'index':'index',0:'timestamp'})"
   ]
  },
  {
   "cell_type": "code",
   "execution_count": null,
   "metadata": {},
   "outputs": [],
   "source": [
    "creation_time[['timestamp']].min(), creation_time[['timestamp']].max()"
   ]
  },
  {
   "cell_type": "markdown",
   "metadata": {},
   "source": [
    "The oldest review of the dataset was made on 2010-11-19 while the most recent one was made on 2021-03-23. \n",
    "\n",
    "On the other hand,  we can see the majority of the reviews were created on 2020 and the number of reviews given each year has experimented an increasing trend. It is worth mentioning that visually we can appreciate that the increase in 2020 was greater than the previous increases that the platform has experimented. One hypothesis is that this happened because of the COVID19 lockdown, which made many people to stay home and be more active on the internet. \n",
    "\n",
    "We can't analyze any trend on 2021 since don't even have one complete month of data"
   ]
  },
  {
   "cell_type": "code",
   "execution_count": null,
   "metadata": {},
   "outputs": [],
   "source": [
    "creation_time['year'] = pd.DatetimeIndex(creation_time['timestamp']).year"
   ]
  },
  {
   "cell_type": "code",
   "execution_count": null,
   "metadata": {},
   "outputs": [],
   "source": [
    "reviews_by_year = creation_time.groupby(['year']).size().reset_index(name = 'number_reviews')"
   ]
  },
  {
   "cell_type": "code",
   "execution_count": null,
   "metadata": {},
   "outputs": [],
   "source": [
    "years_to_picture = reviews_by_year['year']\n",
    "number_reviews = reviews_by_year['number_reviews']\n",
    "width = 0.8\n",
    "\n",
    "fig, ax = plt.subplots()\n",
    "rects1 = ax.bar(years_to_picture, number_reviews, width)\n",
    "ax.set_ylim(0,8000000)\n",
    "ax.set_ylabel(\"Number of Reviews (Millions)\")\n",
    "ax.set_xlabel(\"Year\")\n",
    "ax.set_title(\"Total number of reviews by Year of Creation\")\n",
    "plt.xticks(rotation = 90)\n",
    "plt.show()"
   ]
  },
  {
   "cell_type": "markdown",
   "metadata": {},
   "source": [
    "#### Timestamp_updated: \n",
    "\n",
    "It refers to the date and hour on which the review was last updated"
   ]
  },
  {
   "cell_type": "markdown",
   "metadata": {},
   "source": [
    "#### Recommended: \n",
    "\n",
    "It is a boolean feature and tells if the review recommends or not the app. "
   ]
  },
  {
   "cell_type": "code",
   "execution_count": null,
   "metadata": {},
   "outputs": [],
   "source": [
    "recomm = pd.DataFrame(df['recommended'].value_counts()).reset_index()\n",
    "recomm = recomm.rename(columns = {'index':'recommended',0:'number_reviews'})"
   ]
  },
  {
   "cell_type": "code",
   "execution_count": null,
   "metadata": {},
   "outputs": [],
   "source": [
    "recomm['perc']= round((recomm['number_reviews']/sum(recomm['number_reviews']))*100,1)\n",
    "recomm"
   ]
  },
  {
   "cell_type": "markdown",
   "metadata": {},
   "source": [
    "The vast majority of the reviews recommend the application they are reviewing."
   ]
  },
  {
   "cell_type": "markdown",
   "metadata": {},
   "source": [
    "#### Votes_helpful: \n",
    "\n",
    "It indicates the number of votes that have classified the review as \"helpful\"."
   ]
  },
  {
   "cell_type": "code",
   "execution_count": null,
   "metadata": {},
   "outputs": [],
   "source": [
    "helpful_votes = pd.DataFrame(df['votes_helpful'].value_counts()).reset_index()"
   ]
  },
  {
   "cell_type": "code",
   "execution_count": null,
   "metadata": {},
   "outputs": [],
   "source": [
    "helpful_votes.sort_values(['index'])"
   ]
  },
  {
   "cell_type": "markdown",
   "metadata": {},
   "source": [
    "#### Votes_funny: \n",
    "\n",
    "It indicates the number of votes that have classified the review as \"funny\""
   ]
  },
  {
   "cell_type": "code",
   "execution_count": null,
   "metadata": {},
   "outputs": [],
   "source": [
    "funny_votes = pd.DataFrame(df['votes_funny'].value_counts()).reset_index()\n",
    "funny_votes.sort_values(['index'])"
   ]
  },
  {
   "cell_type": "markdown",
   "metadata": {},
   "source": [
    "#### Weighted_vote_score: \n",
    "The weighted score is a weighted measure based on the number of helpful votes each review has received. The variable takes values from 0 to 1. "
   ]
  },
  {
   "cell_type": "code",
   "execution_count": null,
   "metadata": {},
   "outputs": [],
   "source": [
    "weighted_score_df = pd.DataFrame(df['weighted_vote_score'].value_counts()).reset_index()\n",
    "weighted_score_df = weighted_score_df.rename(columns = {'index':'weighted_score',0:'reviews'})"
   ]
  },
  {
   "cell_type": "code",
   "execution_count": null,
   "metadata": {},
   "outputs": [],
   "source": [
    "weighted_score_df.weighted_score.max()"
   ]
  },
  {
   "cell_type": "markdown",
   "metadata": {},
   "source": [
    "#### Comment_count: \n",
    "It indicates the number of comments that each review has received. Only approximately 5% of the total reviews received at least one comment. In a hypothetical case, if Steam would be interested into implementing an strategy to increase the interaction of the users throught the reviews, this could be an important variable to measure the impact of the said strategy. "
   ]
  },
  {
   "cell_type": "code",
   "execution_count": null,
   "metadata": {},
   "outputs": [],
   "source": [
    "count_comment = pd.DataFrame(df['comment_count'].value_counts()).reset_index()\n",
    "count_comment = count_comment.rename(columns = {'index':'number_comments',0:'number_reviews'})\n",
    "count_comment.head(10)"
   ]
  },
  {
   "cell_type": "markdown",
   "metadata": {},
   "source": [
    "#### Steam_purchase: \n",
    "This variable is of boolean type and indicates if the author of the review purchased the app (true) or not (false). In this case, 77.4% (more than 3/4) of the authors of the reviews said that they have purchased the app. "
   ]
  },
  {
   "cell_type": "code",
   "execution_count": null,
   "metadata": {},
   "outputs": [],
   "source": [
    "purchased_steam = pd.DataFrame(df['steam_purchase'].value_counts()).reset_index()\n",
    "purchased_steam = purchased_steam.rename(columns = {'index':'purchased_app',0:'number_reviews'})\n",
    "purchased_steam['perc'] = round((purchased_steam['number_reviews']/len(df))*100,1)\n",
    "purchased_steam"
   ]
  },
  {
   "cell_type": "markdown",
   "metadata": {},
   "source": [
    "#### Received_for_free: \n",
    "This variable indicates if the author of the review received the app for free or not. Just 3.2% of the total reviewers said they had received the app for free. "
   ]
  },
  {
   "cell_type": "code",
   "execution_count": null,
   "metadata": {},
   "outputs": [],
   "source": [
    "for_free = pd.DataFrame(df['received_for_free'].value_counts()).reset_index()\n",
    "for_free = for_free.rename(columns = {'index':'free_received',0:'number_reviews'})\n",
    "for_free['perc'] = round((for_free['number_reviews']/len(df))*100,1)\n",
    "for_free"
   ]
  },
  {
   "cell_type": "markdown",
   "metadata": {},
   "source": [
    "#### Written_during_early_access: \n",
    "This variable indicates if the review was written during early access or not. As the last two variables, this is also of boolean type. Early access refers to a funding model in the videogames environment in which players are allowed to play preliminary versions of the final game in exchange for money, which is used by the creater of the videograme to continue developing the game until its final version. \n",
    "\n",
    "That being said, almost 91% of the reviewers responded negatively to this question, which means they wrote the review while playing the final version of the videogame. "
   ]
  },
  {
   "cell_type": "code",
   "execution_count": null,
   "metadata": {},
   "outputs": [],
   "source": [
    "early_access = pd.DataFrame(df['written_during_early_access'].value_counts()).reset_index()\n",
    "early_access = early_access.rename(columns = {'index':'early_access',0:'number_reviews'})\n",
    "early_access['perc'] = round((early_access['number_reviews']/len(df))*100,1)\n",
    "early_access"
   ]
  },
  {
   "cell_type": "code",
   "execution_count": null,
   "metadata": {},
   "outputs": [],
   "source": [
    "#Group by with two variables\n",
    "df_result1 = df.groupby(['c1','c2']).sum()"
   ]
  },
  {
   "cell_type": "markdown",
   "metadata": {},
   "source": [
    "#### Author.steamid: \n",
    "This is a unique identificator of the author of the review. We have 12.4 million unique authors of reviews. "
   ]
  },
  {
   "cell_type": "code",
   "execution_count": null,
   "metadata": {},
   "outputs": [],
   "source": [
    "df['author.steamid'].nunique()\n",
    "#df.author.steamid.nunique()"
   ]
  },
  {
   "cell_type": "markdown",
   "metadata": {},
   "source": [
    "#### Author.num_games: \n",
    "The variable indicates the quantity of games that the author of each review owns. "
   ]
  },
  {
   "cell_type": "code",
   "execution_count": null,
   "metadata": {},
   "outputs": [],
   "source": [
    "df.rename('author.num_games_owned','author_num_games')"
   ]
  },
  {
   "cell_type": "code",
   "execution_count": null,
   "metadata": {},
   "outputs": [],
   "source": [
    "num_games = df['author_num_games'].to_pandas_series().to_frame().reset_index()\n",
    "num_games = num_games.rename(columns = {0:'num_games_owned'})"
   ]
  },
  {
   "cell_type": "markdown",
   "metadata": {},
   "source": [
    "The max number of games owned by the author of a review appears to be incorrect since it is a considerable big number."
   ]
  },
  {
   "cell_type": "code",
   "execution_count": null,
   "metadata": {},
   "outputs": [],
   "source": [
    "num_games.num_games_owned.max(),num_games.num_games_owned.min()"
   ]
  },
  {
   "cell_type": "markdown",
   "metadata": {},
   "source": [
    "At the beginning of this EDA we found that there were 315 unique games that were reviewed in the dataset. Therefore, if this variable refers to the number of games *within the Steam platform* that were owned by the author of each review, there shouldn't be authors with more than 315 games owned. "
   ]
  },
  {
   "cell_type": "code",
   "execution_count": null,
   "metadata": {},
   "outputs": [],
   "source": [
    "num_games[num_games.num_games_owned > 315]"
   ]
  },
  {
   "cell_type": "markdown",
   "metadata": {},
   "source": [
    "If we count the number of reviews made by authors that claimed they owned more than 315 games, this gives us a result of 2,027,670 reviews. This means that the variable author.num_games is incorrect in a significant number of reviews or it doesn't refer to the number of only Steam apps owned by the author of the review but to the total number of games that the author owns, regardless if they're on Steam. Still the max number of videogames doesn't make sense so this variable might not be realiable to further analyses. "
   ]
  },
  {
   "cell_type": "code",
   "execution_count": null,
   "metadata": {},
   "outputs": [],
   "source": [
    "df[df.author_num_games == 4398046511619]"
   ]
  },
  {
   "cell_type": "markdown",
   "metadata": {},
   "source": [
    "#### Author.num_reviews: \n",
    "It refers to the total number of lifetime app reviews made by the author. "
   ]
  },
  {
   "cell_type": "code",
   "execution_count": null,
   "metadata": {},
   "outputs": [],
   "source": []
  },
  {
   "cell_type": "markdown",
   "metadata": {},
   "source": [
    "#### Author.playtime_forever: \n",
    "Refers to the lifetime playtime of the reviewed app by the author. It is not clear if this variable is expressed in minutes, hours or which time measure. "
   ]
  },
  {
   "cell_type": "code",
   "execution_count": null,
   "metadata": {},
   "outputs": [],
   "source": []
  },
  {
   "cell_type": "markdown",
   "metadata": {},
   "source": [
    "#### Author.playtime_last_two_weeks\n",
    "If refers to how much time (again without clarity on which measure the variable is in) the author has spent playing the app on the last two weeks."
   ]
  },
  {
   "cell_type": "markdown",
   "metadata": {},
   "source": [
    "#### Author.playtime_at_review\n",
    "It refers to how much time the author has spent playing the app at the moment the review was made. "
   ]
  },
  {
   "cell_type": "markdown",
   "metadata": {},
   "source": [
    "#### Author.last_played\n",
    "It refers to when was the last day the author played the reviewed app. "
   ]
  },
  {
   "cell_type": "markdown",
   "metadata": {
    "id": "A7sTTiXrPOzL"
   },
   "source": [
    "# [RQ2]"
   ]
  },
  {
   "cell_type": "markdown",
   "metadata": {
    "id": "Bm3KXViJPSBH"
   },
   "source": [
    "### Plot the number of reviews for each application in descending order."
   ]
  },
  {
   "cell_type": "code",
   "execution_count": 4,
   "metadata": {
    "colab": {
     "base_uri": "https://localhost:8080/",
     "height": 862
    },
    "id": "_PT4p0s04aTD",
    "outputId": "464f717e-064d-4325-cb20-0b91c74d8f1f"
   },
   "outputs": [
    {
     "name": "stdout",
     "output_type": "stream",
     "text": [
      "578080    1644255\n",
      "271590    1019116\n",
      "359550     841918\n",
      "105600     672815\n",
      "4000       655524\n",
      "252490     549074\n",
      "252950     498565\n",
      "218620     487747\n",
      "945360     485293\n",
      "292030     469395\n",
      "381210     418897\n",
      "346110     400009\n",
      "227300     387553\n",
      "413150     315717\n",
      "72850      294966\n",
      "431960     292790\n",
      "582010     290946\n",
      "367520     269854\n",
      "242760     239734\n",
      "322330     238636\n",
      "374320     235422\n",
      "620        232329\n",
      "377160     228957\n",
      "739630     219090\n",
      "239140     214431\n",
      "107410     182348\n",
      "275850     182045\n",
      "203160     181054\n",
      "8930       171404\n",
      "264710     152414\n",
      "Name: app_id, dtype: int64\n"
     ]
    },
    {
     "data": {
      "image/png": "[encoded data removed]",
      "text/plain": [
       "<Figure size 432x288 with 1 Axes>"
      ]
     },
     "metadata": {
      "needs_background": "light"
     },
     "output_type": "display_data"
    }
   ],
   "source": [
    "number_reviews = df['app_id'].value_counts()[:30] #number of reviews for the first 30 applications, sort in descending order\n",
    "ax = number_reviews.plot.bar()\n",
    "print(number_reviews) "
   ]
  },
  {
   "cell_type": "markdown",
   "metadata": {
    "id": "eHdp_nUdPZqg"
   },
   "source": [
    "### What applications have the best Weighted Vote Score?"
   ]
  },
  {
   "cell_type": "code",
   "execution_count": 5,
   "metadata": {
    "colab": {
     "base_uri": "https://localhost:8080/"
    },
    "id": "Upfgy8zK_tgV",
    "outputId": "ea3edfed-b6a6-4e64-a479-3b3c4de87c24"
   },
   "outputs": [
    {
     "name": "stdout",
     "output_type": "stream",
     "text": [
      "app_name\n",
      "Stardew Valley              0.995987\n",
      "Divinity: Original Sin 2    0.995245\n",
      "Subnautica                  0.994453\n",
      "Mirror                      0.994038\n",
      "Wallpaper Engine            0.993540\n",
      "Name: weighted_vote_score, dtype: float64\n"
     ]
    }
   ],
   "source": [
    "weighted_score_df= df.groupby('app_name')['weighted_vote_score'].max() #best weighted vote score for each application\n",
    "s=weighted_score_df.sort_values(ascending=False) #sort the values in descending order\n",
    "print(s.head(5)) #the five applications with the best weighted vote score\n"
   ]
  },
  {
   "cell_type": "markdown",
   "metadata": {
    "id": "fOl_z8P-Pgpq"
   },
   "source": [
    "### Which applications have the most and the least recommendations?"
   ]
  },
  {
   "cell_type": "code",
   "execution_count": 9,
   "metadata": {
    "colab": {
     "base_uri": "https://localhost:8080/"
    },
    "id": "JqCr2O_PMxC7",
    "outputId": "4c2e4666-d988-4338-af9a-e98c3165d176"
   },
   "outputs": [
    {
     "name": "stdout",
     "output_type": "stream",
     "text": [
      "                                recommended\n",
      "app_name                                   \n",
      "PLAYERUNKNOWN'S BATTLEGROUNDS        886417\n",
      "Grand Theft Auto V                   831311\n",
      "Tom Clancy's Rainbow Six Siege       742397\n",
      "Terraria                             658741\n",
      "Garry's Mod                          632558\n",
      "                             recommended\n",
      "app_name                                \n",
      "Out of the Park Baseball 19          594\n",
      "Shadow Complex Remastered            587\n",
      "Identity                             439\n",
      "DRAGON QUEST HEROES™ II              423\n",
      "Neon Hardcorps                        89\n"
     ]
    }
   ],
   "source": [
    "app=df.groupby('app_name')['recommended'].sum() #count of the recommendations for each app\n",
    "s = app.sort_values(ascending=False).to_frame() #sort the values in descending order\n",
    "top5 = s.index.tolist()[:5]\n",
    "last5= s.index.tolist()[-5:]\n",
    "print(s.head(5)) #top 5 with the most recommendations\n",
    "print(s.tail(5)) #top 5 with the least recommendations"
   ]
  },
  {
   "cell_type": "markdown",
   "metadata": {
    "id": "HG_4HmRHPnpY"
   },
   "source": [
    "### How many of these applications were purchased, and how many were given for free?"
   ]
  },
  {
   "cell_type": "code",
   "execution_count": 10,
   "metadata": {
    "colab": {
     "base_uri": "https://localhost:8080/"
    },
    "id": "egSZOE8ON8nZ",
    "outputId": "bbeed1c2-2018-495e-9365-ee6478e482d5"
   },
   "outputs": [
    {
     "name": "stdout",
     "output_type": "stream",
     "text": [
      "data for the applications that have the most recommendations:\n",
      "\n",
      "app_name                       received_for_free\n",
      "PLAYERUNKNOWN'S BATTLEGROUNDS  False                1582812\n",
      "                               True                   61443\n",
      "dtype: int64\n",
      "app_name            received_for_free\n",
      "Grand Theft Auto V  False                980492\n",
      "                    True                  38624\n",
      "dtype: int64\n",
      "app_name                        received_for_free\n",
      "Tom Clancy's Rainbow Six Siege  False                805618\n",
      "                                True                  36300\n",
      "dtype: int64\n",
      "app_name  received_for_free\n",
      "Terraria  False                652661\n",
      "          True                  20154\n",
      "dtype: int64\n",
      "app_name     received_for_free\n",
      "Garry's Mod  False                630759\n",
      "             True                  24765\n",
      "dtype: int64\n",
      "\n",
      "\n",
      "data for the applications that have the least recommendations:\n",
      "\n",
      "app_name                     received_for_free\n",
      "Out of the Park Baseball 19  False                689\n",
      "                             True                  11\n",
      "dtype: int64\n",
      "app_name                   received_for_free\n",
      "Shadow Complex Remastered  False                679\n",
      "                           True                  21\n",
      "dtype: int64\n",
      "app_name  received_for_free\n",
      "Identity  False                1764\n",
      "          True                   40\n",
      "dtype: int64\n",
      "app_name                 received_for_free\n",
      "DRAGON QUEST HEROES™ II  False                593\n",
      "                         True                   7\n",
      "dtype: int64\n",
      "app_name        received_for_free\n",
      "Neon Hardcorps  False                173\n",
      "                True                  27\n",
      "dtype: int64\n"
     ]
    }
   ],
   "source": [
    "df = pd.read_csv(\"/content/drive/MyDrive/steam_reviews.csv\", usecols=['app_name', 'received_for_free'])\n",
    "print('data for the applications that have the most recommendations:\\n')\n",
    "for i in top5:\n",
    "  s=df.loc[df['app_name'] ==\ti ].value_counts()\n",
    "  print(s)\n",
    "print('\\n')\n",
    "print('data for the applications that have the least recommendations:\\n')\n",
    "for i in last5:\n",
    "  s=df.loc[df['app_name'] ==\ti ].value_counts()\n",
    "  print(s)\n"
   ]
  },
  {
   "cell_type": "markdown",
   "metadata": {},
   "source": [
    "# [RQ3]\n",
    "### RQ3 - What is the most common time that authors review an application? For example, authors usually write a review at 17:44."
   ]
  },
  {
   "cell_type": "code",
   "execution_count": null,
   "metadata": {},
   "outputs": [],
   "source": [
    "# apply a lambda on \"timestamp_created\" column values that convert them in the corresponding strings of hours and minutes\n",
    "# use these values to create a new column called \"time_creation\"\n",
    "df['time_creation']= df.timestamp_created.apply(lambda x: datetime.fromtimestamp(x).strftime((\"%H:%M\")))\n",
    "# group by 'time_creation' values\n",
    "# for each of that values count the number of reviews that has that hours and minutes as a creation time\n",
    "# sort that values in descending order an take the first value that corresponds to the most commont\n",
    "df.groupby('time_creation', as_index=False).app_id.count().sort_values(\"app_id\",ascending=False).head(1)[\"time_creation\"].iloc[0]"
   ]
  },
  {
   "cell_type": "markdown",
   "metadata": {},
   "source": [
    "### RQ3 - Create a function that receives as a parameter a list of time intervals and returns the plot the number of reviews for each of the intervals."
   ]
  },
  {
   "cell_type": "code",
   "execution_count": null,
   "metadata": {},
   "outputs": [],
   "source": [
    "def intervals_reviews(intervals):\n",
    "  # list that will contains the results for each interval\"\n",
    "  reviews=[]\n",
    "  # apply a lambda on \"timestamp_created\" column values that convert them in the corresponding strings of hours, minutes and seconds\n",
    "  # use these values to create a new column called \"time_creation\"\n",
    "  df['time_creation']= df.timestamp_created.apply(lambda x: datetime.fromtimestamp(x).strftime((\"%H:%M:%S\")))\n",
    "  # for each interval received in input count the number of reviews that have been created in that interval\n",
    "  for i in intervals:\n",
    "    reviews.append(df.loc[(df[\"time_creation\"] >= i[0]) & (df[\"time_creation\"] <= i[1])]['time_creation'].count())\n",
    "  # convert the intervals in string to use them in the plot\n",
    "  intervals=list(map(str,intervals))\n",
    "  # plot the results on a bar plot\n",
    "  plt.bar(intervals, reviews, color ='red',\n",
    "        width = 0.4)\n",
    "  plt.xticks(rotation='vertical')\n",
    "  plt.xlabel(\"Intervals\")\n",
    "  plt.ylabel(\"Number of reviews\")\n",
    "  plt.title(\"Number of reviews for different time intervals\")\n",
    "  plt.show()"
   ]
  },
  {
   "cell_type": "markdown",
   "metadata": {},
   "source": [
    "### RQ3 - Use the function that you created in the previous literal to plot the number of reviews between the following time intervals\n",
    "\n"
   ]
  },
  {
   "cell_type": "code",
   "execution_count": null,
   "metadata": {},
   "outputs": [],
   "source": [
    "#apply the funcion previously created using the intervals given in the table as input\n",
    "intervals_reviews([(\"06:00:00\",\"10:59:59\"),(\"11:00:00\",\"13:59:59\"),(\"14:00:00\",\"16:59:59\"),(\"17:00:00\",\"19:59:59\"),(\"20:00:00\",\"23:59:59\"),(\"00:00:00\",\"02:59:59\")\n",
    ",(\"03:00:00\",\"05:59:59\")])"
   ]
  },
  {
   "cell_type": "markdown",
   "metadata": {},
   "source": [
    "# [RQ4]\n",
    "### RQ4 - What are the top 3 languages used to review applications?"
   ]
  },
  {
   "cell_type": "code",
   "execution_count": null,
   "metadata": {},
   "outputs": [],
   "source": [
    "top_languages = pd.DataFrame(df['language'].value_counts()).reset_index()\n",
    "top_languages = top_languages.rename(columns={'index': 'languages', 0: 'number_reviews'})"
   ]
  },
  {
   "cell_type": "code",
   "execution_count": null,
   "metadata": {},
   "outputs": [],
   "source": [
    "top_languages.head(3)"
   ]
  },
  {
   "cell_type": "markdown",
   "metadata": {},
   "source": [
    "The top 3 languages used to review applications are english, chinese and russian. "
   ]
  },
  {
   "cell_type": "markdown",
   "metadata": {},
   "source": [
    "### RQ4 - Create a function that receives as parameters both the name of a data set and a list of languages’ names and returns a data frame filtered only with the reviews written in the provided languages."
   ]
  },
  {
   "cell_type": "code",
   "execution_count": null,
   "metadata": {},
   "outputs": [],
   "source": [
    "def filter_languages_f(dataset_name, languages_to_filter):\n",
    "    #check if languages_to_filter parameter is actually a list\n",
    "    if(isinstance(languages_to_filter,list)):\n",
    "        filtered_dataset = dataset_name[dataset_name['language'].isin(languages_to_filter)]\n",
    "    else:\n",
    "        print('Must enter the desired languages to be filtered in a list format')\n",
    "    \n",
    "    return filtered_dataset"
   ]
  },
  {
   "cell_type": "code",
   "execution_count": null,
   "metadata": {},
   "outputs": [],
   "source": [
    "filter_languages_f(df,['english','russian']).head(5)"
   ]
  },
  {
   "cell_type": "markdown",
   "metadata": {},
   "source": [
    "### RQ4 - Use the function created in the previous literal to find what percentage of these reviews (associated with the top 3 languages) were voted as funny?"
   ]
  },
  {
   "cell_type": "code",
   "execution_count": null,
   "metadata": {},
   "outputs": [],
   "source": [
    "filtered_languages = filter_languages_f(df,['english','russian','schinese'])\n",
    "filtered_languages_funny = filtered_languages[filtered_languages['votes_funny'] != 0]\n",
    "filtered_languages_funny = pd.DataFrame(filtered_languages_funny['language'].value_counts()).reset_index()\n",
    "filtered_languages_funny = filtered_languages_funny.rename(columns={'index':'languages',0:'number_funny_reviews'})"
   ]
  },
  {
   "cell_type": "code",
   "execution_count": null,
   "metadata": {},
   "outputs": [],
   "source": [
    "filtered_languages_funny.head()"
   ]
  },
  {
   "cell_type": "code",
   "execution_count": null,
   "metadata": {},
   "outputs": [],
   "source": [
    "percent_funny = top_languages.merge(filtered_languages_funny)\n",
    "percent_funny['percent_funny'] = round((percent_funny['number_funny_reviews']/percent_funny['number_reviews'])*100,1)\n",
    "percent_funny"
   ]
  },
  {
   "cell_type": "markdown",
   "metadata": {},
   "source": [
    "* Based on the last table, we can affirm that from the top 3 languages in terms of total number of reviews, the language with the most reviews categorized as funny is Russian, where 16.7% of the total reviews made in Russian were classified as funny at least once. \n",
    "* In the case of the reviews made in chinese and english language, 11.8% and 11.3% of the total reviews made in each language were classified as funny. \n",
    "* Based on this we could affirm that apparently even though russian reviews are not as numerous as the ones made in english, they in relative means funnier than those made in english. "
   ]
  },
  {
   "cell_type": "markdown",
   "metadata": {},
   "source": [
    "### RQ4 - Use the function created in the literal “a” to find what percentage of these reviews (associated with the top 3 languages) were voted as helpful?"
   ]
  },
  {
   "cell_type": "code",
   "execution_count": null,
   "metadata": {},
   "outputs": [],
   "source": [
    "filtered_languages_helpful = filtered_languages[filtered_languages['votes_helpful'] != 0]\n",
    "filtered_languages_helpful = pd.DataFrame(filtered_languages_helpful['language'].value_counts()).reset_index()\n",
    "filtered_languages_helpful = filtered_languages_helpful.rename(columns={'index':'languages',0:'number_helpful_reviews'})"
   ]
  },
  {
   "cell_type": "code",
   "execution_count": null,
   "metadata": {},
   "outputs": [],
   "source": [
    "percent_helpful = top_languages.merge(filtered_languages_helpful)\n",
    "percent_helpful['percent_helpful'] = round((percent_helpful['number_helpful_reviews']/percent_funny['number_reviews'])*100,1)\n",
    "percent_helpful"
   ]
  },
  {
   "cell_type": "markdown",
   "metadata": {},
   "source": [
    "## **************Missing interpretation!!"
   ]
  },
  {
   "cell_type": "markdown",
   "metadata": {
    "id": "Ac51MGuIPt1R"
   },
   "source": [
    "# [RQ5]"
   ]
  },
  {
   "cell_type": "markdown",
   "metadata": {
    "id": "YmBqN9YHPwys"
   },
   "source": [
    "### RQ5 - Plot the top 10 most popular reviewers and the number of reviews."
   ]
  },
  {
   "cell_type": "code",
   "execution_count": 16,
   "metadata": {
    "colab": {
     "base_uri": "https://localhost:8080/",
     "height": 561
    },
    "id": "waEf1pNNVpN8",
    "outputId": "9075a9a6-a0b4-4cfb-c85c-f7a90d4b4996"
   },
   "outputs": [
    {
     "name": "stdout",
     "output_type": "stream",
     "text": [
      "76561198062813911    149\n",
      "76561198315585536    132\n",
      "76561198192166873    107\n",
      "76561198239163744    106\n",
      "76561198045381877    103\n",
      "76561198064946151    100\n",
      "76561198013146396     99\n",
      "76561198027973295     96\n",
      "76561197969749884     88\n",
      "76561197989746995     86\n",
      "Name: author.steamid, dtype: int64\n"
     ]
    },
    {
     "data": {
      "image/png": "[encoded data removed]",
      "text/plain": [
       "<Figure size 432x288 with 1 Axes>"
      ]
     },
     "metadata": {
      "needs_background": "light"
     },
     "output_type": "display_data"
    }
   ],
   "source": [
    "top_10_authors=df['author.steamid'].value_counts()[:10]#count of the number of reviews for each reviewers, sort in descending order\n",
    "ax = top_10_authors.plot.bar()\n",
    "most_popular = top_10_authors.index.tolist()[0]\n",
    "print(top_10_authors)"
   ]
  },
  {
   "cell_type": "markdown",
   "metadata": {
    "id": "tBP78imAP4pQ"
   },
   "source": [
    "### RQ5 - What applications did the most popular author review?"
   ]
  },
  {
   "cell_type": "code",
   "execution_count": null,
   "metadata": {
    "colab": {
     "background_save": true
    },
    "id": "D_6AZWmhX4Np",
    "outputId": "0ac1d2a2-0b00-4913-e19c-398c440f4d82"
   },
   "outputs": [
    {
     "name": "stdout",
     "output_type": "stream",
     "text": [
      "                          app_name     author.steamid\n",
      "512675                   Half-Life  76561198062813911\n",
      "539037      Counter-Strike: Source  76561198062813911\n",
      "658130    Half-Life 2: Episode Two  76561198062813911\n",
      "849477                    Portal 2  76561198062813911\n",
      "1549581                Garry's Mod  76561198062813911\n",
      "...                            ...                ...\n",
      "21578107             Hollow Knight  76561198062813911\n",
      "21624890             Day of Infamy  76561198062813911\n",
      "21651066                SimAirport  76561198062813911\n",
      "21656340             Dead Rising 4  76561198062813911\n",
      "21672218  Styx: Shards of Darkness  76561198062813911\n",
      "\n",
      "[149 rows x 2 columns]\n"
     ]
    }
   ],
   "source": [
    "df = pd.read_csv(\"/content/drive/MyDrive/steam_reviews.csv\", usecols=['author.steamid', 'app_name'])\n",
    "c=df.loc[df['author.steamid']==\tmost_popular] #select rows from df based on values in some column\n",
    "print(c)"
   ]
  },
  {
   "cell_type": "markdown",
   "metadata": {
    "id": "8rWMrIRYP-Qc"
   },
   "source": [
    "### RQ5 - How many applications did he purchase, and how many did he get as free? Provide the number (count) and the percentage."
   ]
  },
  {
   "cell_type": "code",
   "execution_count": null,
   "metadata": {
    "colab": {
     "base_uri": "https://localhost:8080/"
    },
    "id": "ICFFq8pOMviK",
    "outputId": "b4e9d7f3-edb8-4668-a29a-cf92a8fc3fb9"
   },
   "outputs": [
    {
     "name": "stdout",
     "output_type": "stream",
     "text": [
      "received_for_free  author.steamid   \n",
      "False              76561198062813911    145\n",
      "True               76561198062813911      4\n",
      "dtype: int64\n",
      "received_for_free  author.steamid   \n",
      "False              76561198062813911    0.973154\n",
      "True               76561198062813911    0.026846\n",
      "dtype: float64\n"
     ]
    }
   ],
   "source": [
    "df = pd.read_csv(\"/content/drive/MyDrive/steam_reviews.csv\", usecols=['author.steamid', 'received_for_free'])\n",
    "tot=df.loc[df['author.steamid'] ==\tmost_popular].value_counts()\n",
    "perc=df.loc[df['author.steamid'] ==\tmost_popular].value_counts(normalize=True)#By setting normalize=True, the object returned will contain the relative frequencies of the unique values. The normalize parameter is set to False by default.\n",
    "print(tot)\n",
    "print(perc)"
   ]
  },
  {
   "cell_type": "markdown",
   "metadata": {
    "id": "t_AtC-hxQDgE"
   },
   "source": [
    "### RQ5 - How many of the applications he purchased reviewed positively, and how many negatively? How about the applications he received for free?"
   ]
  },
  {
   "cell_type": "code",
   "execution_count": null,
   "metadata": {
    "colab": {
     "base_uri": "https://localhost:8080/"
    },
    "id": "HQJmuEE6RO8G",
    "outputId": "177a3c56-28ff-4934-e5b4-701cfad7c9c4"
   },
   "outputs": [
    {
     "name": "stdout",
     "output_type": "stream",
     "text": [
      "applications reviewed positively purchased by the most popular author\n",
      "recommended  received_for_free  author.steamid   \n",
      "True         False              76561198062813911    142\n",
      "                                76561198315585536    130\n",
      "                                76561198027973295     84\n",
      "                                76561197969749884     83\n",
      "                                76561198192166873     82\n",
      "                                                    ... \n",
      "                                76561198153080474      1\n",
      "                                76561198153080432      1\n",
      "                                76561198153080357      1\n",
      "                                76561198153080308      1\n",
      "             True               76561199132297448      1\n",
      "Length: 13635866, dtype: int64.\n",
      "applications reviewed positively that the most popular author received for free\n",
      "recommended  received_for_free  author.steamid   \n",
      "True         True               76561198062813911    4\n",
      "dtype: int64.\n"
     ]
    }
   ],
   "source": [
    "df = pd.read_csv(\"/content/drive/MyDrive/steam_reviews.csv\", usecols=['author.steamid', 'received_for_free', 'recommended'])\n",
    "a=df.loc[(df['author.steamid'] ==\tmost_popular) & df['received_for_free']==False].value_counts()\n",
    "print('applications reviewed positively purchased by the most popular author\\n{}.'.format(a))\n",
    "b=df.loc[(df['author.steamid'] ==\tmost_popular) & df['received_for_free']==True].value_counts()\n",
    "print('applications reviewed positively that the most popular author received for free\\n{}.'.format(b))"
   ]
  },
  {
   "cell_type": "markdown",
   "metadata": {},
   "source": [
    "# [RQ6]"
   ]
  },
  {
   "cell_type": "markdown",
   "metadata": {},
   "source": [
    "### RQ6 - What is the average time (days and minutes) a user lets pass before he updates a review?"
   ]
  },
  {
   "cell_type": "code",
   "execution_count": null,
   "metadata": {},
   "outputs": [],
   "source": [
    "import math\n",
    "# create a new column that contains the absolute value of the difference between the values of \"timestamp_created\" and \"timestamp_updated\"\n",
    "df['time_before_update']= abs(df.timestamp_created- df.timestamp_updated)\n",
    "# mean of the values in the column\n",
    "mean=df.time_before_update.mean()\n",
    "# calculation of the corresponding number of days (the timestamp is expressed in seconds and in a day there are 86400 seconds )\n",
    "days=math.floor(mean/86400)\n",
    "# calculation of the corresponding minutes of the remaning time\n",
    "minutes=int((mean-(86400*days))/60)\n",
    "print(\"the average time a user lets pass before he updates a review is: \"+str(days)+\" days and \"+str(minutes)+\" minutes\")"
   ]
  },
  {
   "cell_type": "markdown",
   "metadata": {},
   "source": [
    "### RQ6 - Plot the top 3 authors that usually update their reviews."
   ]
  },
  {
   "cell_type": "code",
   "execution_count": null,
   "metadata": {},
   "outputs": [],
   "source": [
    "# get only the rows of the reviews that have the timestamp of the creation different to the timestamp of the update\n",
    "# group by the authors and count the number of reviews updated by each author\n",
    "# sort the values in descending order and get the top 3\n",
    "top3=df.loc[df.timestamp_created != df.timestamp_updated].groupby(\"author.steamid\")[\"review_id\"].count().sort_values(ascending=False)[0:3]\n",
    "# plot the result\n",
    "plt.bar(list(map(str,top3.keys())), top3, color ='green',\n",
    "        width = 0.4)\n",
    "plt.xlabel(\"Authors\")\n",
    "plt.ylabel(\"Number of updates\")\n",
    "plt.title(\"Top 3 authors that updated their reviews the most\")\n",
    "plt.show()"
   ]
  },
  {
   "cell_type": "markdown",
   "metadata": {},
   "source": [
    "# [RQ7]"
   ]
  },
  {
   "cell_type": "markdown",
   "metadata": {},
   "source": [
    "### RQ7 - What’s the probability that a review has a Weighted Vote Score equal to or bigger than 0.5?"
   ]
  },
  {
   "cell_type": "code",
   "execution_count": null,
   "metadata": {},
   "outputs": [],
   "source": [
    "www = df['weighted_vote_score'].to_pandas_series().to_frame().reset_index()\n",
    "www = www.rename(columns = {0:'weighted_score'})\n",
    "round((len(www[www['weighted_score']>=0.5])/len(www))*100,1)"
   ]
  },
  {
   "cell_type": "markdown",
   "metadata": {},
   "source": [
    "The probability that a review has a weighted vote score equal or bigger than 0.5 is 22%. This is given by dividing the total number of reviews with a weighted_score greater or equal than 0.5 (the total number of successful occurences of the event we are studying) by the total number of reviews (the total number of possible outcomes). "
   ]
  },
  {
   "cell_type": "markdown",
   "metadata": {},
   "source": [
    "### RQ7 - What’s the probability that a review has at least one vote as funny given that the Weighted Vote Score is bigger than 0.5?"
   ]
  },
  {
   "cell_type": "markdown",
   "metadata": {},
   "source": [
    "This is a conditional probability where we can define:\n",
    "* Event A: as the probability that a review has at least one vote as funny\n",
    "* Event B: as the probability that a review has a Weighted vote score bigger than 0.5\n",
    "\n",
    "The probability of A given B, P(A|B), can be computed as the probability of A and B, P(A intersection B), divided by the Probability of B. "
   ]
  },
  {
   "cell_type": "code",
   "execution_count": null,
   "metadata": {},
   "outputs": [],
   "source": [
    "prob_event_b = round((len(www[www['weighted_score']>0.5])/len(www))*100,1)\n",
    "prob_event_b"
   ]
  },
  {
   "cell_type": "code",
   "execution_count": null,
   "metadata": {},
   "outputs": [],
   "source": [
    "prob_event_a_b = round((len(df[(df.weighted_vote_score > 0.5) & (df.votes_funny >= 1)])/len(df))*100,1)\n",
    "prob_event_a_b"
   ]
  },
  {
   "cell_type": "code",
   "execution_count": null,
   "metadata": {},
   "outputs": [],
   "source": [
    "prob_event_a_b/prob_event_b"
   ]
  },
  {
   "cell_type": "markdown",
   "metadata": {},
   "source": [
    "## Missing Interpretation!!"
   ]
  },
  {
   "cell_type": "markdown",
   "metadata": {},
   "source": [
    "### RQ7 - Is the probability that “a review has at least one vote as funny” independent of the “probability that a review has a Weighted Vote Score equal or bigger than 0.5”?"
   ]
  },
  {
   "cell_type": "code",
   "execution_count": null,
   "metadata": {},
   "outputs": [],
   "source": [
    "len(df[df.votes_funny >= 1]) /len(df)"
   ]
  },
  {
   "cell_type": "markdown",
   "metadata": {},
   "source": [
    "If an Event A is independent of the Event B, this means that the P(A|B) = P(A). In this case this is not the case since the probability of P(A|B) is 24.7% and the P(A) is 11.9%. Therefore, the events are not independent. "
   ]
  },
  {
   "cell_type": "markdown",
   "metadata": {},
   "source": [
    "# [RQ8]"
   ]
  },
  {
   "cell_type": "markdown",
   "metadata": {},
   "source": [
    "### Is there a significant difference in the Weighted Vote Score of reviews made in Chinese vs the ones made in Russian? Use an appropriate statistical test or technique and support your choice."
   ]
  },
  {
   "cell_type": "code",
   "execution_count": null,
   "metadata": {},
   "outputs": [],
   "source": [
    "chinese_reviews = filter_languages_f(df,['schinese'])\n",
    "russian_reviews = filter_languages_f(df,['russian'])"
   ]
  },
  {
   "cell_type": "code",
   "execution_count": null,
   "metadata": {},
   "outputs": [],
   "source": [
    "chinese_reviews = chinese_reviews['weighted_vote_score'].to_pandas_series().to_frame().reset_index()\n",
    "chinese_reviews = chinese_reviews.rename(columns = {0:'weighted_score'})\n",
    "russian_reviews = russian_reviews['weighted_vote_score'].to_pandas_series().to_frame().reset_index()\n",
    "russian_reviews = russian_reviews.rename(columns = {0:'weighted_score'})"
   ]
  },
  {
   "cell_type": "code",
   "execution_count": null,
   "metadata": {},
   "outputs": [],
   "source": [
    "from matplotlib import pyplot\n",
    "\n",
    "chinese_score = chinese_reviews.weighted_score\n",
    "russian_score = russian_reviews.weighted_score\n",
    "#plt.hist(x, bins = 30)\n",
    "\n",
    "pyplot.hist(chinese_score, 30, alpha=0.5, label='chinese_score')\n",
    "pyplot.hist(russian_score, 30, alpha=0.5, label='russian_score')\n",
    "pyplot.legend(loc='upper right')\n",
    "pyplot.show()"
   ]
  },
  {
   "cell_type": "markdown",
   "metadata": {},
   "source": [
    "One of the tests that we can carry out in order to evaluate if there's a significant difference of the weighted score between reviews made in Chinese and Russian is the t test. However, one of the assumptions this test has is that the data is normally distributed, as it is sensible to outliers. In the two last graphs we can appreciate how the data is not normally distributed as it has a significant amount of reviews with weighted_score equal to zero. Therefore, we shouldn't carry out a T test and we must search for other options. "
   ]
  },
  {
   "cell_type": "code",
   "execution_count": null,
   "metadata": {},
   "outputs": [],
   "source": [
    "# Mann-Whitney U test\n",
    "from numpy.random import seed\n",
    "from numpy.random import randn\n",
    "from scipy.stats import mannwhitneyu\n",
    "\n",
    "# generate two independent samples\n",
    "#data1 = 5 * randn(100) + 50\n",
    "#data2 = 5 * randn(100) + 51\n",
    "# compare samples\n",
    "stat, p = mannwhitneyu(chinese_score, russian_score)\n",
    "print('Statistics=%.3f, p=%.3f' % (stat, p))\n",
    "# interpret\n",
    "alpha = 0.05\n",
    "if p > alpha:\n",
    "\tprint('Same distribution (fail to reject H0)')\n",
    "else:\n",
    "\tprint('Different distribution (reject H0)')"
   ]
  },
  {
   "cell_type": "markdown",
   "metadata": {},
   "source": [
    "### Can you find any significant relationship between the time that a user lets pass before he updates the review and the Weighted Vote Score? Use an appropriate statistical test or technique and support your choice."
   ]
  },
  {
   "cell_type": "markdown",
   "metadata": {},
   "source": [
    "### Is there any change in the relationship of the variables mentioned in the previous literal if you include whether an application is recommended or not in the review? Use an appropriate statistical test or technique and support your choice."
   ]
  },
  {
   "cell_type": "markdown",
   "metadata": {},
   "source": [
    "### What are histograms, bar plots, scatterplots and pie charts used for?"
   ]
  },
  {
   "cell_type": "markdown",
   "metadata": {},
   "source": [
    "### What insights can you extract from a Box Plot?\n",
    "\n",
    "The Box Plot is used to check the distribution of values in a dataset, in fact it tells us information about Mean, superior and inferior quartile and max and min value.\n",
    "The insights that we can extrat from box plot are:\n",
    "\n",
    "-- any possible comparison between dataset using the values previously mentioned\n",
    "\n",
    "-- information about the distribution of the values \n",
    "\n",
    "-- check if there are outliers "
   ]
  },
  {
   "cell_type": "markdown",
   "metadata": {},
   "source": [
    "# TQ1\n",
    "\n",
    "1) This algorithm gets the k-ith element of the ordered list \n",
    "(at every iteration you do the ordering of the new list using the random value \"s\")\n",
    "\n",
    "2) We have the worst case of this algorithm when at every iteration when:\n",
    "  \n",
    "  s: is always the second maximum value of the list\n",
    "\n",
    "  k: is 1\n",
    "\n",
    "  In this case, every time, the list will be reduced of 1 length until it will reach the length of 1.\n",
    "  \n",
    "  In this way the computational cost will be equal to the length of the list at each iteration\n",
    "  \n",
    "  O(n)+O(n-1)+O(n-2)..... = O(n^2)\n",
    "\n",
    "3) We have the best case of this algorithm when k = r at the first iteration.\n",
    "\tin this case the computational cost correspond to the length of the list: n\n",
    "\tso is O(n)"
   ]
  },
  {
   "cell_type": "markdown",
   "metadata": {},
   "source": [
    "# TQ2\n",
    "\n",
    "1) The computational cost of the function swapList is O(n/2) \n",
    "and the cost of each call at the function splitSwap is T(n/2)\n",
    "So the total computational cost will be: T(n/2) + T(n/2) + O(n/2) + 1\n",
    "\n",
    "2) This algorithm reverses the position of \"n\" elements, skipping the first \"l\" ones.\n",
    "In the case proposed in the previous exercise (l = 0), the algorithm simply reverse the order of the first \"n\" elements.\n",
    "The values choose for \"l\" and \"n\" have to follow this condition: l + n <= len(a)\n",
    "If the previous condition is not followed, the algorithm will raise an \"out of range\" error.\n",
    "\n",
    "Example of execution:\n",
    "a=[1,3,5,7]\n",
    "l=0\n",
    "n=4\n",
    "- the first call to splitSwap operates on the first half of the list --> [1,3]\n",
    "\t- in this case both calls to splitSwap are executed but won't do anything, because the length of the list will be 1\n",
    "\t- apply swapList that reverse the order --> [3,1]\n",
    "- the second call to splitSwap operates on the second half of the list --> [5,7]\n",
    "\t- in this case both calls to splitSwap are executed but won't do anything, because the length of the list will be 1\n",
    "\t- apply swapList that reverse the order --> [7,5]\n",
    "- apply swapList on the complete list that has been modified by the previous recursion call\n",
    "\tthe list is now [3,1,5,7] and applying the function will be --> [7,5,3,1]"
   ]
  },
  {
   "cell_type": "markdown",
   "metadata": {
    "id": "eSS0s928QKHE"
   },
   "source": [
    "# TQ3\n",
    "In the knapsack problem we are given n objects and each object i has a weight w_i and a value v_i. We are also given a weight budget W. The problem is to select a set of objects with total weight bounded by W that maximized the sum of their values. The following are three natural heuristics:\n",
    "\n",
    "1-Order them in increasing order of weight and then visit them sequentially, adding them to the solution as long as the budget is not exceeded.\n",
    "\n",
    "2-Order them in decreasing order of values, and then visit them sequentially, adding them to the solution if the budget is not exceeded.\n",
    "\n",
    "3-Order them in decreasing relative value (v_i / w_i), and then visit them sequentially, adding them to the solution if the budget is not exceeded.\n",
    "\n",
    "For each of the heuristics, provide a counterexample, that is, an example of a problem instance in which the heuristic fails to provide the optimal solution."
   ]
  },
  {
   "cell_type": "markdown",
   "metadata": {
    "id": "H926wpjeQPwt"
   },
   "source": [
    "### Solution\n",
    "\n",
    "1.\n",
    "\n",
    "n=6, W=100.\n",
    "\n",
    "w_1=10, v_1=4\n",
    "\n",
    "w_2=30, v_2=1\n",
    "\n",
    "w_3=20, v_3=2\n",
    "\n",
    "w_4=50, v_4=9\n",
    "\n",
    "w_5=15, v_5=7\n",
    "\n",
    "w_6=35, v_6=8\n",
    "\n",
    "\n",
    "\n",
    "> If I order them in increasing order of weight and then visit them sequentially, adding them to the solution as long as the budget is not exceeded, I take obj1+obj5+obj3+obj2 getting W=75 and V=14,  but the optimal solution takes obj4+obj5+obj6 getting W=100 and V=24\n",
    "\n",
    "\n",
    "2.\n",
    "\n",
    "n=4, W=10.\n",
    "\n",
    "w_1=8, v_1=8\n",
    "\n",
    "w_2=4, v_2=5\n",
    "\n",
    "w_3=3, v_3=3\n",
    "\n",
    "w_4=3, v_4=1 \n",
    "\n",
    "\n",
    "\n",
    "> If I order them in decreasing order of values, and then visit them sequentially, adding them to the solution if the budget is not exceeded, I take only obj1 getting W=8 and V=8 but the optimal solution takes obj2+obj3+obj4 getting W=10 and V=9 \n",
    "\n",
    "\n",
    "\n",
    "3.\n",
    "\n",
    "n=3, W=50.\n",
    "\n",
    "w_1=10, v_1=60 --> v_1/w_1=6\n",
    "\n",
    "w_2=20, v_1=100 --> v_2/w_2=5\n",
    "\n",
    "w_3=30, v_1=120 --> v_3/w_3=4\n",
    "\n",
    "\n",
    "\n",
    "> If I order them in decreasing relative value (v_i / w_i), and then visit them sequentially, adding them to the solution if the budget is not exceeded, I take object 1 first, but the optimal solution takes object 2 and 3 leaving 1 behind. In fact obj1+obj2 give W=30 and V=160, obj2+obj3 give W=50 and V=220, obj1+obj3 give W=40 and V=180"
   ]
  }
 ],
 "metadata": {
  "application/vnd.databricks.v1+notebook": {
   "dashboards": [],
   "language": "python",
   "notebookMetadata": {
    "pythonIndentUnit": 2
   },
   "notebookName": "Classification",
   "notebookOrigID": 3966539020232142,
   "widgets": {}
  },
  "colab": {
   "collapsed_sections": [],
   "machine_shape": "hm",
   "name": "HW2_Giorgia_ ADM.ipynb",
   "provenance": []
  },
  "kernelspec": {
   "display_name": "Python 3",
   "language": "python",
   "name": "python3"
  },
  "language_info": {
   "codemirror_mode": {
    "name": "ipython",
    "version": 3
   },
   "file_extension": ".py",
   "mimetype": "text/x-python",
   "name": "python",
   "nbconvert_exporter": "python",
   "pygments_lexer": "ipython3",
   "version": "3.8.8"
  }
 },
 "nbformat": 4,
 "nbformat_minor": 1
}
